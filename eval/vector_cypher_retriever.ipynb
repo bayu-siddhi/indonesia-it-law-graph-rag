{
 "cells": [
  {
   "cell_type": "code",
   "execution_count": null,
   "id": "6a9cfc3f",
   "metadata": {},
   "outputs": [],
   "source": [
    "import os\n",
    "import sys\n",
    "from ast import literal_eval\n",
    "from typing import Any, Dict, List\n",
    "\n",
    "\n",
    "sys.path.append(os.path.join(os.getcwd(), \"..\"))\n",
    "\n",
    "\n",
    "import pandas as pd\n",
    "from pprint import pprint\n",
    "from dotenv import load_dotenv\n",
    "from langchain_neo4j import Neo4jGraph\n",
    "from langchain_huggingface import HuggingFaceEmbeddings\n",
    "from ragas.dataset_schema import EvaluationDataset, EvaluationResult\n",
    "from src.grag import run_vector_cypher_workflow, evaluate_retriever\n",
    "\n",
    "\n",
    "load_dotenv()"
   ]
  },
  {
   "cell_type": "markdown",
   "id": "249845be",
   "metadata": {},
   "source": [
    "# **Preparation**"
   ]
  },
  {
   "cell_type": "code",
   "execution_count": null,
   "id": "92412944",
   "metadata": {},
   "outputs": [],
   "source": [
    "OUTPUT_PATH = os.path.join(\"results\", \"vector_cypher_retriever\")\n",
    "DATASET_PATH = os.path.join(\"data\", \"testing_dataset.xlsx\")\n",
    "\n",
    "os.makedirs(OUTPUT_PATH, exist_ok=True)\n",
    "\n",
    "df: pd.DataFrame = pd.read_excel(DATASET_PATH)\n",
    "dataset: List[Dict[str, Any]] = []\n",
    "\n",
    "for idx, row in df.iterrows():\n",
    "    if row[\"is_valid\"]:\n",
    "        dataset.append(\n",
    "            {\n",
    "                \"user_input\": str(row[\"user_input\"]),\n",
    "                \"reference_contexts\": literal_eval(row[\"reference_contexts_1\"])\n",
    "            }\n",
    "        )\n",
    "\n",
    "evaluation_dataset = EvaluationDataset.from_list(dataset)\n",
    "\n",
    "len(evaluation_dataset)"
   ]
  },
  {
   "cell_type": "markdown",
   "id": "8f40f0bb",
   "metadata": {},
   "source": [
    "# **Evaluation**"
   ]
  },
  {
   "cell_type": "code",
   "execution_count": null,
   "id": "b519ad2d",
   "metadata": {},
   "outputs": [],
   "source": [
    "URI = os.environ[\"NEO4J_HOST\"]\n",
    "USERNAME = os.environ[\"NEO4J_USERNAME\"]\n",
    "PASSWORD = os.environ[\"NEO4J_PASSWORD\"]\n",
    "\n",
    "\n",
    "def save_experiment_result(\n",
    "    evaluation_result: EvaluationResult, experiment_name: str\n",
    ") -> None:\n",
    "    evaluation_result.to_pandas().to_json(\n",
    "        os.path.join(OUTPUT_PATH, f\"{experiment_name}.json\"),\n",
    "        orient=\"records\",\n",
    "    )\n",
    "\n",
    "\n",
    "def run_test_case(test_case: Dict[str, Any]) -> List[Dict[str, Any]]:\n",
    "    test_result = []\n",
    "\n",
    "    neo4j_graph = Neo4jGraph(\n",
    "        url=URI,\n",
    "        username=USERNAME,\n",
    "        password=PASSWORD,\n",
    "        database=test_case[\"database_name\"],\n",
    "        enhanced_schema=True\n",
    "    )\n",
    "\n",
    "    embedding_model = HuggingFaceEmbeddings(\n",
    "        model_name=test_case[\"embedding_model_name\"]\n",
    "    )\n",
    "\n",
    "    for k in range(3, 16):\n",
    "        experiment_name = (\n",
    "            f\"{test_case['database_name']}_{test_case['embedding_model_name']}\"\n",
    "            f\"_init-{k}\".replace(\"/\", \"-\")\n",
    "        )\n",
    "\n",
    "        evaluation_dataset_completed = run_vector_cypher_workflow(\n",
    "            evaluation_dataset,\n",
    "            experiment_name,\n",
    "            neo4j_graph=neo4j_graph,\n",
    "            embedder_model=embedding_model,\n",
    "            top_k_initial_article=k,\n",
    "        )\n",
    "\n",
    "        evaluation_result = evaluate_retriever(\n",
    "            evaluation_dataset_completed,\n",
    "            experiment_name=experiment_name,\n",
    "        )\n",
    "\n",
    "        # Checkpoint\n",
    "        save_experiment_result(evaluation_result, experiment_name=experiment_name)\n",
    "\n",
    "        test_result.append(\n",
    "            {\n",
    "                \"experiment_name\": experiment_name,\n",
    "                \"args\": {\n",
    "                    \"database\": test_case[\"database_name\"],\n",
    "                    \"embedding_model\": test_case[\"embedding_model_name\"],\n",
    "                    \"k\": k,\n",
    "                },\n",
    "                \"evaluation_result\": evaluation_result,\n",
    "            }\n",
    "        )\n",
    "\n",
    "    return test_result"
   ]
  },
  {
   "cell_type": "code",
   "execution_count": null,
   "id": "6554ceaf",
   "metadata": {},
   "outputs": [],
   "source": [
    "test_cases = [\n",
    "    {\n",
    "        \"database_name\": \"db-small\",\n",
    "        \"embedding_model_name\": \"all-MiniLM-L6-v2\"\n",
    "    },\n",
    "    {\n",
    "        \"database_name\": \"db-large\",\n",
    "        \"embedding_model_name\": \"intfloat/multilingual-e5-large\"\n",
    "    },\n",
    "    {\n",
    "        \"database_name\": \"test\",\n",
    "        \"embedding_model_name\": \"archi-ai/Indo-LegalBERT\"\n",
    "    }\n",
    "]"
   ]
  },
  {
   "cell_type": "markdown",
   "id": "fd91b278",
   "metadata": {},
   "source": [
    "## **Test Case 1**\n",
    "\n",
    "- db-small\n",
    "- all-MiniLM-L6-v2"
   ]
  },
  {
   "cell_type": "code",
   "execution_count": null,
   "id": "5938e315",
   "metadata": {},
   "outputs": [],
   "source": [
    "test_result_1 = run_test_case(test_cases[0])"
   ]
  },
  {
   "cell_type": "code",
   "execution_count": null,
   "id": "eefe1bf3",
   "metadata": {},
   "outputs": [],
   "source": [
    "pprint(test_result_1)"
   ]
  },
  {
   "cell_type": "markdown",
   "id": "2518c73b",
   "metadata": {},
   "source": [
    "## **Test Case 2**\n",
    "\n",
    "- db-large\n",
    "- intfloat/multilingual-e5-large"
   ]
  },
  {
   "cell_type": "code",
   "execution_count": null,
   "id": "d55158c5",
   "metadata": {},
   "outputs": [],
   "source": [
    "test_result_2 = run_test_case(test_cases[1])"
   ]
  },
  {
   "cell_type": "code",
   "execution_count": null,
   "id": "569302d1",
   "metadata": {},
   "outputs": [],
   "source": [
    "pprint(test_result_2)"
   ]
  },
  {
   "cell_type": "markdown",
   "id": "b3a8333a",
   "metadata": {},
   "source": [
    "## **Test Case 3**\n",
    "\n",
    "- db-domain-specific\n",
    "- archi-ai/Indo-LegalBERT"
   ]
  },
  {
   "cell_type": "code",
   "execution_count": null,
   "id": "8c1e6fcb",
   "metadata": {},
   "outputs": [],
   "source": [
    "test_result_3 = run_test_case(test_cases[2])"
   ]
  },
  {
   "cell_type": "code",
   "execution_count": null,
   "id": "a0e1659a",
   "metadata": {},
   "outputs": [],
   "source": [
    "pprint(test_result_3)"
   ]
  }
 ],
 "metadata": {
  "kernelspec": {
   "display_name": ".venv",
   "language": "python",
   "name": "python3"
  },
  "language_info": {
   "codemirror_mode": {
    "name": "ipython",
    "version": 3
   },
   "file_extension": ".py",
   "mimetype": "text/x-python",
   "name": "python",
   "nbconvert_exporter": "python",
   "pygments_lexer": "ipython3",
   "version": "3.11.4"
  }
 },
 "nbformat": 4,
 "nbformat_minor": 5
}
