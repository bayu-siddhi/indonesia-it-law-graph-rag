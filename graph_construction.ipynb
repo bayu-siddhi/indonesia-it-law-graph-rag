{
 "cells": [
  {
   "cell_type": "code",
   "execution_count": null,
   "metadata": {},
   "outputs": [],
   "source": [
    "import os\n",
    "import dotenv\n",
    "from preparation_tools import graph_builder\n",
    "\n",
    "dotenv.load_dotenv(\".env\")"
   ]
  },
  {
   "cell_type": "code",
   "execution_count": null,
   "metadata": {},
   "outputs": [],
   "source": [
    "json_input = os.path.join(\"data\", \"json\", \"regulation_data_final.json\")\n",
    "    \n",
    "graph_builder_1 = graph_builder.RegulationGraphBuilder(\n",
    "    uri=os.environ[\"DATABASE_HOST\"],\n",
    "    auth=(os.environ[\"DATABASE_USERNAME\"], os.environ[\"DATABASE_PASSWORD\"]),\n",
    "    database=os.environ[\"DATABASE_SMALL\"],\n",
    "    embedding_model=\"all-MiniLM-L6-v2\"\n",
    "    # embedding model: pakai 3 yang mini, large, fokus hukum\n",
    "    # https://github.com/Jeryi-Sun/LLM-and-Law Cek mereka pakai embedding/llm apa saja\n",
    "    # Cek ini juga https://huggingface.co/nlpaueb/legal-bert-base-uncased\n",
    ")\n",
    "\n",
    "graph_builder_1.detach_delete_all()\n",
    "\n",
    "summary = graph_builder_1.build_regulation_graph(\n",
    "    json_input=json_input,\n",
    "    batch_size=64,\n",
    "    verbose=True\n",
    ")"
   ]
  },
  {
   "cell_type": "code",
   "execution_count": null,
   "metadata": {},
   "outputs": [],
   "source": [
    "json_input = os.path.join(\"data\", \"json\", \"regulation_data_final.json\")\n",
    "    \n",
    "graph_builder_2 = graph_builder.RegulationGraphBuilder(\n",
    "    uri=os.environ[\"DATABASE_HOST\"],\n",
    "    auth=(os.environ[\"DATABASE_USERNAME\"], os.environ[\"DATABASE_PASSWORD\"]),\n",
    "    database=os.environ[\"DATABASE_LARGE\"],\n",
    "    embedding_model=\"all-distilroberta-v1\"\n",
    ")\n",
    "\n",
    "graph_builder_2.detach_delete_all()\n",
    "\n",
    "summary = graph_builder_2.build_regulation_graph(\n",
    "    json_input=json_input,\n",
    "    batch_size=64,\n",
    "    verbose=True\n",
    ")"
   ]
  },
  {
   "cell_type": "code",
   "execution_count": null,
   "metadata": {},
   "outputs": [],
   "source": [
    "json_input = os.path.join(\"data\", \"json\", \"regulation_data_final.json\")\n",
    "    \n",
    "graph_builder_3 = graph_builder.RegulationGraphBuilder(\n",
    "    uri=os.environ[\"DATABASE_HOST\"],\n",
    "    auth=(os.environ[\"DATABASE_USERNAME\"], os.environ[\"DATABASE_PASSWORD\"]),\n",
    "    database=os.environ[\"DATABASE_DOMAIN_SPECIFIC\"],\n",
    "    embedding_model=\"intfloat/multilingual-e5-large-instruct\"\n",
    ")\n",
    "\n",
    "graph_builder_3.detach_delete_all()\n",
    "\n",
    "summary = graph_builder_3.build_regulation_graph(\n",
    "    json_input=json_input,\n",
    "    batch_size=64,\n",
    "    verbose=True\n",
    ")"
   ]
  },
  {
   "cell_type": "code",
   "execution_count": null,
   "metadata": {},
   "outputs": [],
   "source": [
    "graph_builder.visualize_graph(\"graph_visualization.html\")"
   ]
  }
 ],
 "metadata": {
  "kernelspec": {
   "display_name": ".venv",
   "language": "python",
   "name": "python3"
  },
  "language_info": {
   "codemirror_mode": {
    "name": "ipython",
    "version": 3
   },
   "file_extension": ".py",
   "mimetype": "text/x-python",
   "name": "python",
   "nbconvert_exporter": "python",
   "pygments_lexer": "ipython3",
   "version": "3.11.4"
  }
 },
 "nbformat": 4,
 "nbformat_minor": 2
}
