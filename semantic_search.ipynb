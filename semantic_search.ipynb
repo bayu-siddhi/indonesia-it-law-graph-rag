{
 "cells": [
  {
   "cell_type": "code",
   "execution_count": 1,
   "metadata": {},
   "outputs": [
    {
     "data": {
      "text/plain": [
       "True"
      ]
     },
     "execution_count": 1,
     "metadata": {},
     "output_type": "execute_result"
    }
   ],
   "source": [
    "import os\n",
    "import dotenv\n",
    "import langchain_neo4j\n",
    "import langchain_huggingface\n",
    "\n",
    "# import time\n",
    "# import neo4j\n",
    "\n",
    "from IPython import display\n",
    "\n",
    "from langchain import chains\n",
    "import langchain_google_genai\n",
    "import langchain_ollama\n",
    "\n",
    "# from langchain.chains import RetrievalQA  # Deprecated, use `create_retrieval_chain` instead\n",
    "# from langchain.chains import RetrievalQAWithSourcesChain\n",
    "# from langchain_google_genai import ChatGoogleGenerativeAI\n",
    "\n",
    "# https://python.langchain.com/docs/versions/migrating_chains/retrieval_qa/\n",
    "\n",
    "dotenv.load_dotenv(\".env\")"
   ]
  },
  {
   "cell_type": "code",
   "execution_count": 2,
   "metadata": {},
   "outputs": [
    {
     "name": "stderr",
     "output_type": "stream",
     "text": [
      "d:\\Kuliah Semester 7\\Docling\\.venv\\Lib\\site-packages\\tqdm\\auto.py:21: TqdmWarning: IProgress not found. Please update jupyter and ipywidgets. See https://ipywidgets.readthedocs.io/en/stable/user_install.html\n",
      "  from .autonotebook import tqdm as notebook_tqdm\n"
     ]
    }
   ],
   "source": [
    "embeddings = langchain_huggingface.HuggingFaceEmbeddings(model_name=\"all-MiniLM-L6-v2\")"
   ]
  },
  {
   "cell_type": "code",
   "execution_count": 3,
   "metadata": {},
   "outputs": [
    {
     "name": "stdout",
     "output_type": "stream",
     "text": [
      "[-0.016636021435260773, 0.07482326775789261, -0.09838518500328064, -0.06209137290716171, -0.12543356...\n"
     ]
    }
   ],
   "source": [
    "text = \"Apa kewajiban prosesor data pribadi?\"\n",
    "query_result = embeddings.embed_query(text)\n",
    "\n",
    "# show only the first 100 characters of the stringified vector\n",
    "print(str(query_result)[:100] + \"...\")\n",
    "# query_result"
   ]
  },
  {
   "cell_type": "code",
   "execution_count": 4,
   "metadata": {},
   "outputs": [
    {
     "name": "stdout",
     "output_type": "stream",
     "text": [
      "[-0.01663600467145443, 0.07482324540615082, -0.09838520735502243, -0.06209135428071022, -0.125433579...\n",
      "[-0.018281754106283188, 0.11222248524427414, -0.014233257621526718, 0.023113159462809563, 0.01809122...\n"
     ]
    }
   ],
   "source": [
    "doc_result = embeddings.embed_documents([text, \"This is not a test document.\"])\n",
    "for result in doc_result:\n",
    "    print(str(result)[:100] + \"...\")"
   ]
  },
  {
   "cell_type": "markdown",
   "metadata": {},
   "source": [
    "You can also customize responses by using a custom Cypher snippet that can fetch other information from the graph. Under the hood, the final Cypher statement is constructed like so:\n",
    "\n",
    "```python\n",
    "read_query = (\n",
    "  \"CALL db.index.vector.queryNodes($index, $k, $embedding) \"\n",
    "  \"YIELD node, score \"\n",
    ") + retrieval_query\n",
    "```\n",
    "\n",
    "The retrieval query must return the following three columns:\n",
    "- `text`: Union[str, Dict] = Value used to populate `page_content` of a document\n",
    "- `score`: Float = Similarity score\n",
    "- `metadata`: Dict = Additional metadata of a document\n"
   ]
  },
  {
   "cell_type": "code",
   "execution_count": 5,
   "metadata": {},
   "outputs": [
    {
     "data": {
      "text/plain": [
       "[(Document(metadata={'chapter': '6', 'paragraph': '', 'name': 'UU No. 27 Tahun 2022 Pasal 52', 'number': '52', 'part': '3'}, page_content='\\ntext: Undang-undang (UU) Nomor 27 Tahun 2022 tentang Pelindungan Data Pribadi, BAB VI - KEWAJIBAN PENGENDALI DATA PRIBADI DAN PROSESOR DATA PRIBADI DALAM PEMROSESAN DATA PRIBADI, Bagian Ketiga - Kewajiban Prosesor Data Pribadi, Pasal 52:\\nKetentuan mengenai kewajiban Pengendali Data Pribadi sebagaimana dimaksud dalam Pasal 29, Pasal 31, Pasal 35, Pasal 36, Pasal 37, Pasal 38, dan Pasal 39 berlaku juga terhadap Prosesor Data Pribadi.'),\n",
       "  1.0),\n",
       " (Document(metadata={'chapter': '6', 'paragraph': '', 'name': 'UU No. 27 Tahun 2022 Pasal 51', 'number': '51', 'part': '3'}, page_content='\\ntext: Undang-undang (UU) Nomor 27 Tahun 2022 tentang Pelindungan Data Pribadi, BAB VI - KEWAJIBAN PENGENDALI DATA PRIBADI DAN PROSESOR DATA PRIBADI DALAM PEMROSESAN DATA PRIBADI, Bagian Ketiga - Kewajiban Prosesor Data Pribadi, Pasal 51:\\n(1) Dalam hal Pengendali Data Pribadi menunjuk Prosesor Data Pribadi, Prosesor Data Pribadi wajib melakukan pemrosesan Data Pribadi berdasarkan perintah Pengendali Data Pribadi.\\n(2) Pemrosesan Data Pribadi sebagaimana dimaksud pada ayat (1), dilaksanakan sesuai ketentuan yang diatur dalam Undang-Undang ini.\\n(3) Pemrosesan Data Pribadi sebagaimana dimaksud pada ayat (1) termasuk dalam tanggung jawab Pengendali Data Pribadi.\\n(4) Prosesor Data Pribadi dapat melibatkan Prosesor Data Pribadi lain dalam melakukan pemrosesan Data Pribadi.\\n(5) Prosesor Data Pribadi wajib mendapatkan persetujuan tertulis dan Pengendali Data Pribadi sebelum melibatkan Prosesor Data Pribadi lain sebagaimana dimaksud pada ayat (4).\\n(6) Dalam hal Prosesor Data Pribadi melakukan pemrosesan Data Pribadi di luar perintah dan tujuan yang ditetapkan Pengendali Data Pribadi, pemrosesan Data Pribadi menjadi tanggung jawab Prosesor Data Pribadi.'),\n",
       "  1.0),\n",
       " (Document(metadata={'chapter': '6', 'paragraph': '', 'name': 'UU No. 27 Tahun 2022 Pasal 49', 'number': '49', 'part': '2'}, page_content='\\ntext: Undang-undang (UU) Nomor 27 Tahun 2022 tentang Pelindungan Data Pribadi, BAB VI - KEWAJIBAN PENGENDALI DATA PRIBADI DAN PROSESOR DATA PRIBADI DALAM PEMROSESAN DATA PRIBADI, Bagian Kedua - Kewajiban Pengendali Data Pribadi, Pasal 49:\\nPengendali Data Pribadi dan/atau Prosesor Data Pribadi wajib melaksanakan perintah lembaga dalam rangka penyelenggaraan Pelindungan Data Pribadi sesuai dengan Undang-Undang ini.'),\n",
       "  0.9992923858774123),\n",
       " (Document(metadata={'chapter': '6', 'paragraph': '', 'name': 'UU No. 27 Tahun 2022 Pasal 19', 'number': '19', 'part': '1'}, page_content='\\ntext: Undang-undang (UU) Nomor 27 Tahun 2022 tentang Pelindungan Data Pribadi, BAB VI - KEWAJIBAN PENGENDALI DATA PRIBADI DAN PROSESOR DATA PRIBADI DALAM PEMROSESAN DATA PRIBADI, Bagian Kesatu - Umum, Pasal 19:\\nPengendali Data Pribadi dan Prosesor Data Pribadi meliputi:\\na. Setiap Orang;\\nb. Badan Publik; dan\\nc. Organisasi Internasional.'),\n",
       "  0.9799343434188967),\n",
       " (Document(metadata={'chapter': '6', 'paragraph': '', 'name': 'UU No. 27 Tahun 2022 Pasal 25', 'number': '25', 'part': '2'}, page_content='\\ntext: Undang-undang (UU) Nomor 27 Tahun 2022 tentang Pelindungan Data Pribadi, BAB VI - KEWAJIBAN PENGENDALI DATA PRIBADI DAN PROSESOR DATA PRIBADI DALAM PEMROSESAN DATA PRIBADI, Bagian Kedua - Kewajiban Pengendali Data Pribadi, Pasal 25:\\n(1) Pemrosesan Data Pribadi anak diselenggarakan secara khusus.\\n(2) Pemrosesan Data Pribadi anak sebagaimana dimaksud pada ayat (1) wajib mendapat persetujuan dari orang tua anak dan/ atau wali anak sesuai dengan ketentuan peraturan perundang-undangan.'),\n",
       "  0.9747169056938052)]"
      ]
     },
     "execution_count": 5,
     "metadata": {},
     "output_type": "execute_result"
    }
   ],
   "source": [
    "# NODE_VECTOR_INDEX_QUERY = (\n",
    "#     \"CALL db.index.vector.queryNodes\"\n",
    "#     \"($vector_index_name, $top_k * $effective_search_ratio, $query_vector) \"\n",
    "#     \"YIELD node, score \"\n",
    "#     \"WITH node, score LIMIT $top_k\"\n",
    "# ) + retrieval_query\n",
    "\n",
    "# retrieval_query = \"\"\"\n",
    "# RETURN node {.text} AS text, score, {id: node.id} AS metadata\n",
    "# \"\"\"\n",
    "\n",
    "# CARA DI BAWAH INI MENGAMBIL SEMUA NODE AWAL + NODE HASIL RELATED_TO DAN REFER_TO,\n",
    "# LALU MENGURUTKANNYA DARI SKOR COSINE SIMILARITY TERBESAR KE TERKECIL,\n",
    "# DAN TERAKHIR HASILNYA DI-LIMIT HANYA 10 ATAU 15\n",
    "\n",
    "# TODO: AKU KEPIKIRAN GINI, NODE AWAL + NODE REFER_TO HARUS DIAMBIL SEMUA.\n",
    "# JIKA TOTAL AKHIRNYA KURANG DARI 10 ATAU 15, MAKA SISANYA DIAMBIL DARI NODE RELATED_TO.\n",
    "# YANG DIURUTKAN DARI SKOR COSINE SIMILARITY TERBESAR KE TERKECIL,\n",
    "# LALU DIAMBIL SEBANYAK JUMLAH SISA NODE YANG KURANG\n",
    "\n",
    "# CARANYA BISA PAKAI 1 CYPHER PANJANG, ATAU BEBERAPA CYPHER.\n",
    "# JIKA PAKAI BEBERAPA CYPHER, MAKA SUDAH PASTI AKU HARUS MEMBUAT RETRIEVER INI\n",
    "# SEBAGAI SEBUAH NODE SENDIRI DI LANGGRAPH. JADI TIDAK BISA PAKAI chains.RetrievalQA.from_chain_type\n",
    "# SEPERTI CONTOH DI BAWAH\n",
    "\n",
    "# ATAU PAKAI CARA RETRIEVER SEKARANG INI BISA AJA SEBENARNYA SUDAH CUKUP\n",
    "\n",
    "retrieval_query = \"\"\"\n",
    "WITH collect(node) AS init_nodes\n",
    "UNWIND init_nodes AS init_node\n",
    "\n",
    "// 2. Cari node yang terhubung melalui RELATED_TO atau REFER_TO\n",
    "OPTIONAL MATCH (init_node)-[:RELATED_TO|REFER_TO]-(related_node)\n",
    "WITH init_nodes, collect(DISTINCT related_node) AS related_nodes\n",
    "\n",
    "// 3. Gabungkan hasil init_nodes + related_nodes\n",
    "WITH init_nodes + related_nodes AS all_nodes\n",
    "UNWIND all_nodes AS candidate_node\n",
    "WITH DISTINCT candidate_node\n",
    "// WHERE candidate_node IS NOT NULL\n",
    "\n",
    "// 4. Hitung ulang cosine similarity (jika fungsi tersedia)\n",
    "WITH candidate_node, vector.similarity.cosine(\n",
    "    $query_vector, candidate_node.embedding\n",
    ") AS similarity_score\n",
    "ORDER BY similarity_score DESC\n",
    "LIMIT $limit\n",
    "\n",
    "RETURN \n",
    "    candidate_node {.text} AS text,\n",
    "    similarity_score AS score,\n",
    "    candidate_node {.id, .name} AS metadata\n",
    "\"\"\"\n",
    "\n",
    "import neo4j_vector_mod\n",
    "from neo4j_graphrag.types import HybridSearchRanker\n",
    "\n",
    "\n",
    "db_1 = neo4j_vector_mod.Neo4jVectorMod.from_existing_graph(\n",
    "    embedding=embeddings,\n",
    "    node_label=\"Effective\",\n",
    "    text_node_properties=[\"text\"],\n",
    "    embedding_node_property=\"embedding\",\n",
    "    index_name=\"effective_vector_index\",\n",
    "    keyword_index_name=\"effective_fulltext_index\",  # Fulltext Index\n",
    "    search_type=\"hybrid\",                           # Fulltext + Vector\n",
    "    # retrieval_query=retrieval_query,                # Custom retrieval query\n",
    "    \n",
    "    url=os.environ[\"DATABASE_HOST\"],\n",
    "    username=os.environ[\"DATABASE_USERNAME\"],\n",
    "    password=os.environ[\"DATABASE_PASSWORD\"],\n",
    "    database=os.environ[\"DATABASE_SMALL\"],\n",
    ")\n",
    "\n",
    "query = \"Apa definisi dari prosesor data pribadi?\"\n",
    "docs_with_score = db_1.similarity_search_with_score(query, k=5, params={\"limit\": 15}, ranker=HybridSearchRanker.NAIVE)\n",
    "docs_with_score\n",
    "# Pasal 29, Pasal 31, Pasal 35, Pasal 36, Pasal 37, Pasal 38, dan Pasal 39"
   ]
  },
  {
   "cell_type": "code",
   "execution_count": 7,
   "metadata": {},
   "outputs": [
    {
     "data": {
      "text/plain": [
       "[(Document(metadata={'chapter': '6', 'paragraph': '', 'name': 'UU No. 27 Tahun 2022 Pasal 52', 'number': '52', 'part': '3'}, page_content='\\ntext: Undang-undang (UU) Nomor 27 Tahun 2022 tentang Pelindungan Data Pribadi, BAB VI - KEWAJIBAN PENGENDALI DATA PRIBADI DAN PROSESOR DATA PRIBADI DALAM PEMROSESAN DATA PRIBADI, Bagian Ketiga - Kewajiban Prosesor Data Pribadi, Pasal 52:\\nKetentuan mengenai kewajiban Pengendali Data Pribadi sebagaimana dimaksud dalam Pasal 29, Pasal 31, Pasal 35, Pasal 36, Pasal 37, Pasal 38, dan Pasal 39 berlaku juga terhadap Prosesor Data Pribadi.'),\n",
       "  0.9690952616079891),\n",
       " (Document(metadata={'chapter': '6', 'paragraph': '', 'name': 'UU No. 27 Tahun 2022 Pasal 51', 'number': '51', 'part': '3'}, page_content='\\ntext: Undang-undang (UU) Nomor 27 Tahun 2022 tentang Pelindungan Data Pribadi, BAB VI - KEWAJIBAN PENGENDALI DATA PRIBADI DAN PROSESOR DATA PRIBADI DALAM PEMROSESAN DATA PRIBADI, Bagian Ketiga - Kewajiban Prosesor Data Pribadi, Pasal 51:\\n(1) Dalam hal Pengendali Data Pribadi menunjuk Prosesor Data Pribadi, Prosesor Data Pribadi wajib melakukan pemrosesan Data Pribadi berdasarkan perintah Pengendali Data Pribadi.\\n(2) Pemrosesan Data Pribadi sebagaimana dimaksud pada ayat (1), dilaksanakan sesuai ketentuan yang diatur dalam Undang-Undang ini.\\n(3) Pemrosesan Data Pribadi sebagaimana dimaksud pada ayat (1) termasuk dalam tanggung jawab Pengendali Data Pribadi.\\n(4) Prosesor Data Pribadi dapat melibatkan Prosesor Data Pribadi lain dalam melakukan pemrosesan Data Pribadi.\\n(5) Prosesor Data Pribadi wajib mendapatkan persetujuan tertulis dan Pengendali Data Pribadi sebelum melibatkan Prosesor Data Pribadi lain sebagaimana dimaksud pada ayat (4).\\n(6) Dalam hal Prosesor Data Pribadi melakukan pemrosesan Data Pribadi di luar perintah dan tujuan yang ditetapkan Pengendali Data Pribadi, pemrosesan Data Pribadi menjadi tanggung jawab Prosesor Data Pribadi.'),\n",
       "  0.5),\n",
       " (Document(metadata={'chapter': '6', 'paragraph': '', 'name': 'UU No. 27 Tahun 2022 Pasal 49', 'number': '49', 'part': '2'}, page_content='\\ntext: Undang-undang (UU) Nomor 27 Tahun 2022 tentang Pelindungan Data Pribadi, BAB VI - KEWAJIBAN PENGENDALI DATA PRIBADI DAN PROSESOR DATA PRIBADI DALAM PEMROSESAN DATA PRIBADI, Bagian Kedua - Kewajiban Pengendali Data Pribadi, Pasal 49:\\nPengendali Data Pribadi dan/atau Prosesor Data Pribadi wajib melaksanakan perintah lembaga dalam rangka penyelenggaraan Pelindungan Data Pribadi sesuai dengan Undang-Undang ini.'),\n",
       "  0.49964619293870616),\n",
       " (Document(metadata={'chapter': '6', 'paragraph': '', 'name': 'UU No. 27 Tahun 2022 Pasal 19', 'number': '19', 'part': '1'}, page_content='\\ntext: Undang-undang (UU) Nomor 27 Tahun 2022 tentang Pelindungan Data Pribadi, BAB VI - KEWAJIBAN PENGENDALI DATA PRIBADI DAN PROSESOR DATA PRIBADI DALAM PEMROSESAN DATA PRIBADI, Bagian Kesatu - Umum, Pasal 19:\\nPengendali Data Pribadi dan Prosesor Data Pribadi meliputi:\\na. Setiap Orang;\\nb. Badan Publik; dan\\nc. Organisasi Internasional.'),\n",
       "  0.48996717170944837),\n",
       " (Document(metadata={'chapter': '6', 'paragraph': '', 'name': 'UU No. 27 Tahun 2022 Pasal 25', 'number': '25', 'part': '2'}, page_content='\\ntext: Undang-undang (UU) Nomor 27 Tahun 2022 tentang Pelindungan Data Pribadi, BAB VI - KEWAJIBAN PENGENDALI DATA PRIBADI DAN PROSESOR DATA PRIBADI DALAM PEMROSESAN DATA PRIBADI, Bagian Kedua - Kewajiban Pengendali Data Pribadi, Pasal 25:\\n(1) Pemrosesan Data Pribadi anak diselenggarakan secara khusus.\\n(2) Pemrosesan Data Pribadi anak sebagaimana dimaksud pada ayat (1) wajib mendapat persetujuan dari orang tua anak dan/ atau wali anak sesuai dengan ketentuan peraturan perundang-undangan.'),\n",
       "  0.4873584528469026)]"
      ]
     },
     "execution_count": 7,
     "metadata": {},
     "output_type": "execute_result"
    }
   ],
   "source": [
    "retrieval_query = \"\"\"\n",
    "WITH collect(node) AS init_nodes\n",
    "UNWIND init_nodes AS init_node\n",
    "\n",
    "// 2. Cari node yang terhubung melalui RELATED_TO atau REFER_TO\n",
    "OPTIONAL MATCH (init_node)-[:RELATED_TO|REFER_TO]-(related_node)\n",
    "WITH init_nodes, collect(DISTINCT related_node) AS related_nodes\n",
    "\n",
    "// 3. Gabungkan hasil init_nodes + related_nodes\n",
    "WITH init_nodes + related_nodes AS all_nodes\n",
    "UNWIND all_nodes AS candidate_node\n",
    "WITH DISTINCT candidate_node\n",
    "// WHERE candidate_node IS NOT NULL\n",
    "\n",
    "// 4. Hitung ulang cosine similarity (jika fungsi tersedia)\n",
    "WITH candidate_node, vector.similarity.cosine(\n",
    "    $query_vector, candidate_node.embedding\n",
    ") AS similarity_score\n",
    "ORDER BY similarity_score DESC\n",
    "LIMIT $limit\n",
    "\n",
    "RETURN \n",
    "    candidate_node {.text} AS text,\n",
    "    similarity_score AS score,\n",
    "    candidate_node {.id, .name} AS metadata\n",
    "\"\"\"\n",
    "\n",
    "import neo4j_vector_mod\n",
    "\n",
    "\n",
    "db_1 = neo4j_vector_mod.Neo4jVectorMod.from_existing_graph(\n",
    "    embedding=embeddings,\n",
    "    node_label=\"Effective\",\n",
    "    text_node_properties=[\"text\"],\n",
    "    embedding_node_property=\"embedding\",\n",
    "    index_name=\"effective_vector_index\",\n",
    "    keyword_index_name=\"effective_fulltext_index\",  # Fulltext Index\n",
    "    search_type=\"hybrid\",                           # Fulltext + Vector\n",
    "    # retrieval_query=retrieval_query,                # Custom retrieval query\n",
    "    \n",
    "    url=os.environ[\"DATABASE_HOST\"],\n",
    "    username=os.environ[\"DATABASE_USERNAME\"],\n",
    "    password=os.environ[\"DATABASE_PASSWORD\"],\n",
    "    database=os.environ[\"DATABASE_SMALL\"],\n",
    ")\n",
    "\n",
    "query = \"Apa definisi dari prosesor data pribadi?\"\n",
    "docs_with_score = db_1.similarity_search_with_score(query, k=5, params={\"limit\": 15}, ranker=HybridSearchRanker.LINEAR, alpha=0.5)\n",
    "docs_with_score\n",
    "# Pasal 29, Pasal 31, Pasal 35, Pasal 36, Pasal 37, Pasal 38, dan Pasal 39"
   ]
  },
  {
   "cell_type": "code",
   "execution_count": 9,
   "metadata": {},
   "outputs": [
    {
     "ename": "KeyError",
     "evalue": "'text'",
     "output_type": "error",
     "traceback": [
      "\u001b[1;31m---------------------------------------------------------------------------\u001b[0m",
      "\u001b[1;31mKeyError\u001b[0m                                  Traceback (most recent call last)",
      "Cell \u001b[1;32mIn[9], line 63\u001b[0m\n\u001b[0;32m     46\u001b[0m db_2 \u001b[38;5;241m=\u001b[39m langchain_neo4j\u001b[38;5;241m.\u001b[39mNeo4jVector\u001b[38;5;241m.\u001b[39mfrom_existing_graph(\n\u001b[0;32m     47\u001b[0m     embedding\u001b[38;5;241m=\u001b[39membeddings,\n\u001b[0;32m     48\u001b[0m     node_label\u001b[38;5;241m=\u001b[39m\u001b[38;5;124m\"\u001b[39m\u001b[38;5;124mEffective\u001b[39m\u001b[38;5;124m\"\u001b[39m,\n\u001b[1;32m   (...)\u001b[0m\n\u001b[0;32m     59\u001b[0m     database\u001b[38;5;241m=\u001b[39mos\u001b[38;5;241m.\u001b[39menviron[\u001b[38;5;124m\"\u001b[39m\u001b[38;5;124mDATABASE_SMALL\u001b[39m\u001b[38;5;124m\"\u001b[39m],\n\u001b[0;32m     60\u001b[0m )\n\u001b[0;32m     62\u001b[0m query \u001b[38;5;241m=\u001b[39m \u001b[38;5;124m\"\u001b[39m\u001b[38;5;124mApa kewajiban prosesor data pribadi?\u001b[39m\u001b[38;5;124m\"\u001b[39m\n\u001b[1;32m---> 63\u001b[0m docs_with_score \u001b[38;5;241m=\u001b[39m \u001b[43mdb_2\u001b[49m\u001b[38;5;241;43m.\u001b[39;49m\u001b[43msimilarity_search_with_score\u001b[49m\u001b[43m(\u001b[49m\u001b[43mquery\u001b[49m\u001b[43m,\u001b[49m\u001b[43m \u001b[49m\u001b[43mk\u001b[49m\u001b[38;5;241;43m=\u001b[39;49m\u001b[38;5;241;43m5\u001b[39;49m\u001b[43m)\u001b[49m\n\u001b[0;32m     64\u001b[0m docs_with_score\n\u001b[0;32m     65\u001b[0m \u001b[38;5;66;03m# Pasal 29, Pasal 31, Pasal 35, Pasal 36, Pasal 37, Pasal 38, dan Pasal 39\u001b[39;00m\n",
      "File \u001b[1;32md:\\Kuliah Semester 7\\Docling\\.venv\\Lib\\site-packages\\langchain_neo4j\\vectorstores\\neo4j_vector.py:698\u001b[0m, in \u001b[0;36mNeo4jVector.similarity_search_with_score\u001b[1;34m(self, query, k, params, filter, effective_search_ratio, **kwargs)\u001b[0m\n\u001b[0;32m    680\u001b[0m \u001b[38;5;250m\u001b[39m\u001b[38;5;124;03m\"\"\"Return docs most similar to query.\u001b[39;00m\n\u001b[0;32m    681\u001b[0m \n\u001b[0;32m    682\u001b[0m \u001b[38;5;124;03mArgs:\u001b[39;00m\n\u001b[1;32m   (...)\u001b[0m\n\u001b[0;32m    695\u001b[0m \u001b[38;5;124;03m    List of Documents most similar to the query and score for each\u001b[39;00m\n\u001b[0;32m    696\u001b[0m \u001b[38;5;124;03m\"\"\"\u001b[39;00m\n\u001b[0;32m    697\u001b[0m embedding \u001b[38;5;241m=\u001b[39m \u001b[38;5;28mself\u001b[39m\u001b[38;5;241m.\u001b[39membedding\u001b[38;5;241m.\u001b[39membed_query(query)\n\u001b[1;32m--> 698\u001b[0m docs \u001b[38;5;241m=\u001b[39m \u001b[38;5;28;43mself\u001b[39;49m\u001b[38;5;241;43m.\u001b[39;49m\u001b[43msimilarity_search_with_score_by_vector\u001b[49m\u001b[43m(\u001b[49m\n\u001b[0;32m    699\u001b[0m \u001b[43m    \u001b[49m\u001b[43membedding\u001b[49m\u001b[38;5;241;43m=\u001b[39;49m\u001b[43membedding\u001b[49m\u001b[43m,\u001b[49m\n\u001b[0;32m    700\u001b[0m \u001b[43m    \u001b[49m\u001b[43mk\u001b[49m\u001b[38;5;241;43m=\u001b[39;49m\u001b[43mk\u001b[49m\u001b[43m,\u001b[49m\n\u001b[0;32m    701\u001b[0m \u001b[43m    \u001b[49m\u001b[43mquery\u001b[49m\u001b[38;5;241;43m=\u001b[39;49m\u001b[43mquery\u001b[49m\u001b[43m,\u001b[49m\n\u001b[0;32m    702\u001b[0m \u001b[43m    \u001b[49m\u001b[43mparams\u001b[49m\u001b[38;5;241;43m=\u001b[39;49m\u001b[43mparams\u001b[49m\u001b[43m,\u001b[49m\n\u001b[0;32m    703\u001b[0m \u001b[43m    \u001b[49m\u001b[38;5;28;43mfilter\u001b[39;49m\u001b[38;5;241;43m=\u001b[39;49m\u001b[38;5;28;43mfilter\u001b[39;49m\u001b[43m,\u001b[49m\n\u001b[0;32m    704\u001b[0m \u001b[43m    \u001b[49m\u001b[43meffective_search_ratio\u001b[49m\u001b[38;5;241;43m=\u001b[39;49m\u001b[43meffective_search_ratio\u001b[49m\u001b[43m,\u001b[49m\n\u001b[0;32m    705\u001b[0m \u001b[43m    \u001b[49m\u001b[38;5;241;43m*\u001b[39;49m\u001b[38;5;241;43m*\u001b[39;49m\u001b[43mkwargs\u001b[49m\u001b[43m,\u001b[49m\n\u001b[0;32m    706\u001b[0m \u001b[43m\u001b[49m\u001b[43m)\u001b[49m\n\u001b[0;32m    707\u001b[0m \u001b[38;5;28;01mreturn\u001b[39;00m docs\n",
      "File \u001b[1;32md:\\Kuliah Semester 7\\Docling\\.venv\\Lib\\site-packages\\langchain_neo4j\\vectorstores\\neo4j_vector.py:792\u001b[0m, in \u001b[0;36mNeo4jVector.similarity_search_with_score_by_vector\u001b[1;34m(self, embedding, k, filter, params, effective_search_ratio, **kwargs)\u001b[0m\n\u001b[0;32m    779\u001b[0m parameters \u001b[38;5;241m=\u001b[39m {\n\u001b[0;32m    780\u001b[0m     \u001b[38;5;124m\"\u001b[39m\u001b[38;5;124mvector_index_name\u001b[39m\u001b[38;5;124m\"\u001b[39m: \u001b[38;5;28mself\u001b[39m\u001b[38;5;241m.\u001b[39mindex_name,\n\u001b[0;32m    781\u001b[0m     \u001b[38;5;124m\"\u001b[39m\u001b[38;5;124mtop_k\u001b[39m\u001b[38;5;124m\"\u001b[39m: k,\n\u001b[1;32m   (...)\u001b[0m\n\u001b[0;32m    787\u001b[0m     \u001b[38;5;241m*\u001b[39m\u001b[38;5;241m*\u001b[39mfilter_params,\n\u001b[0;32m    788\u001b[0m }\n\u001b[0;32m    790\u001b[0m results \u001b[38;5;241m=\u001b[39m \u001b[38;5;28mself\u001b[39m\u001b[38;5;241m.\u001b[39mquery(read_query, params\u001b[38;5;241m=\u001b[39mparameters)\n\u001b[1;32m--> 792\u001b[0m \u001b[38;5;28;01mif\u001b[39;00m \u001b[38;5;28;43many\u001b[39;49m\u001b[43m(\u001b[49m\u001b[43mresult\u001b[49m\u001b[43m[\u001b[49m\u001b[38;5;124;43m\"\u001b[39;49m\u001b[38;5;124;43mtext\u001b[39;49m\u001b[38;5;124;43m\"\u001b[39;49m\u001b[43m]\u001b[49m\u001b[43m \u001b[49m\u001b[38;5;129;43;01mis\u001b[39;49;00m\u001b[43m \u001b[49m\u001b[38;5;28;43;01mNone\u001b[39;49;00m\u001b[43m \u001b[49m\u001b[38;5;28;43;01mfor\u001b[39;49;00m\u001b[43m \u001b[49m\u001b[43mresult\u001b[49m\u001b[43m \u001b[49m\u001b[38;5;129;43;01min\u001b[39;49;00m\u001b[43m \u001b[49m\u001b[43mresults\u001b[49m\u001b[43m)\u001b[49m:\n\u001b[0;32m    793\u001b[0m     \u001b[38;5;28;01mif\u001b[39;00m \u001b[38;5;129;01mnot\u001b[39;00m \u001b[38;5;28mself\u001b[39m\u001b[38;5;241m.\u001b[39mretrieval_query:\n\u001b[0;32m    794\u001b[0m         \u001b[38;5;28;01mraise\u001b[39;00m \u001b[38;5;167;01mValueError\u001b[39;00m(\n\u001b[0;32m    795\u001b[0m             \u001b[38;5;124mf\u001b[39m\u001b[38;5;124m\"\u001b[39m\u001b[38;5;124mMake sure that none of the `\u001b[39m\u001b[38;5;132;01m{\u001b[39;00m\u001b[38;5;28mself\u001b[39m\u001b[38;5;241m.\u001b[39mtext_node_property\u001b[38;5;132;01m}\u001b[39;00m\u001b[38;5;124m` \u001b[39m\u001b[38;5;124m\"\u001b[39m\n\u001b[0;32m    796\u001b[0m             \u001b[38;5;124mf\u001b[39m\u001b[38;5;124m\"\u001b[39m\u001b[38;5;124mproperties on nodes with label `\u001b[39m\u001b[38;5;132;01m{\u001b[39;00m\u001b[38;5;28mself\u001b[39m\u001b[38;5;241m.\u001b[39mnode_label\u001b[38;5;132;01m}\u001b[39;00m\u001b[38;5;124m` \u001b[39m\u001b[38;5;124m\"\u001b[39m\n\u001b[0;32m    797\u001b[0m             \u001b[38;5;124m\"\u001b[39m\u001b[38;5;124mare missing or empty\u001b[39m\u001b[38;5;124m\"\u001b[39m\n\u001b[0;32m    798\u001b[0m         )\n",
      "File \u001b[1;32md:\\Kuliah Semester 7\\Docling\\.venv\\Lib\\site-packages\\langchain_neo4j\\vectorstores\\neo4j_vector.py:792\u001b[0m, in \u001b[0;36m<genexpr>\u001b[1;34m(.0)\u001b[0m\n\u001b[0;32m    779\u001b[0m parameters \u001b[38;5;241m=\u001b[39m {\n\u001b[0;32m    780\u001b[0m     \u001b[38;5;124m\"\u001b[39m\u001b[38;5;124mvector_index_name\u001b[39m\u001b[38;5;124m\"\u001b[39m: \u001b[38;5;28mself\u001b[39m\u001b[38;5;241m.\u001b[39mindex_name,\n\u001b[0;32m    781\u001b[0m     \u001b[38;5;124m\"\u001b[39m\u001b[38;5;124mtop_k\u001b[39m\u001b[38;5;124m\"\u001b[39m: k,\n\u001b[1;32m   (...)\u001b[0m\n\u001b[0;32m    787\u001b[0m     \u001b[38;5;241m*\u001b[39m\u001b[38;5;241m*\u001b[39mfilter_params,\n\u001b[0;32m    788\u001b[0m }\n\u001b[0;32m    790\u001b[0m results \u001b[38;5;241m=\u001b[39m \u001b[38;5;28mself\u001b[39m\u001b[38;5;241m.\u001b[39mquery(read_query, params\u001b[38;5;241m=\u001b[39mparameters)\n\u001b[1;32m--> 792\u001b[0m \u001b[38;5;28;01mif\u001b[39;00m \u001b[38;5;28many\u001b[39m(\u001b[43mresult\u001b[49m\u001b[43m[\u001b[49m\u001b[38;5;124;43m\"\u001b[39;49m\u001b[38;5;124;43mtext\u001b[39;49m\u001b[38;5;124;43m\"\u001b[39;49m\u001b[43m]\u001b[49m \u001b[38;5;129;01mis\u001b[39;00m \u001b[38;5;28;01mNone\u001b[39;00m \u001b[38;5;28;01mfor\u001b[39;00m result \u001b[38;5;129;01min\u001b[39;00m results):\n\u001b[0;32m    793\u001b[0m     \u001b[38;5;28;01mif\u001b[39;00m \u001b[38;5;129;01mnot\u001b[39;00m \u001b[38;5;28mself\u001b[39m\u001b[38;5;241m.\u001b[39mretrieval_query:\n\u001b[0;32m    794\u001b[0m         \u001b[38;5;28;01mraise\u001b[39;00m \u001b[38;5;167;01mValueError\u001b[39;00m(\n\u001b[0;32m    795\u001b[0m             \u001b[38;5;124mf\u001b[39m\u001b[38;5;124m\"\u001b[39m\u001b[38;5;124mMake sure that none of the `\u001b[39m\u001b[38;5;132;01m{\u001b[39;00m\u001b[38;5;28mself\u001b[39m\u001b[38;5;241m.\u001b[39mtext_node_property\u001b[38;5;132;01m}\u001b[39;00m\u001b[38;5;124m` \u001b[39m\u001b[38;5;124m\"\u001b[39m\n\u001b[0;32m    796\u001b[0m             \u001b[38;5;124mf\u001b[39m\u001b[38;5;124m\"\u001b[39m\u001b[38;5;124mproperties on nodes with label `\u001b[39m\u001b[38;5;132;01m{\u001b[39;00m\u001b[38;5;28mself\u001b[39m\u001b[38;5;241m.\u001b[39mnode_label\u001b[38;5;132;01m}\u001b[39;00m\u001b[38;5;124m` \u001b[39m\u001b[38;5;124m\"\u001b[39m\n\u001b[0;32m    797\u001b[0m             \u001b[38;5;124m\"\u001b[39m\u001b[38;5;124mare missing or empty\u001b[39m\u001b[38;5;124m\"\u001b[39m\n\u001b[0;32m    798\u001b[0m         )\n",
      "\u001b[1;31mKeyError\u001b[0m: 'text'"
     ]
    }
   ],
   "source": [
    "# NODE_VECTOR_INDEX_QUERY = (\n",
    "#     \"CALL db.index.vector.queryNodes\"\n",
    "#     \"($vector_index_name, $top_k * $effective_search_ratio, $query_vector) \"\n",
    "#     \"YIELD node, score \"\n",
    "#     \"WITH node, score LIMIT $top_k\"\n",
    "# ) + retrieval_query\n",
    "\n",
    "# retrieval_query = \"\"\"\n",
    "# RETURN node {.text} AS text, score, {id: node.id} AS metadata\n",
    "# \"\"\"\n",
    "\n",
    "# CARA DI BAWAH INI MENGAMBIL SEMUA NODE AWAL + NODE HASIL RELATED_TO DAN REFER_TO,\n",
    "# LALU MENGURUTKANNYA DARI SKOR COSINE SIMILARITY TERBESAR KE TERKECIL,\n",
    "# DAN TERAKHIR HASILNYA DI-LIMIT HANYA 10 ATAU 15\n",
    "\n",
    "# TODO: AKU KEPIKIRAN GINI, NODE AWAL + NODE REFER_TO HARUS DIAMBIL SEMUA.\n",
    "# JIKA TOTAL AKHIRNYA KURANG DARI 10 ATAU 15, MAKA SISANYA DIAMBIL DARI NODE RELATED_TO.\n",
    "# YANG DIURUTKAN DARI SKOR COSINE SIMILARITY TERBESAR KE TERKECIL,\n",
    "# LALU DIAMBIL SEBANYAK JUMLAH SISA NODE YANG KURANG\n",
    "\n",
    "# CARANYA BISA PAKAI 1 CYPHER PANJANG, ATAU BEBERAPA CYPHER.\n",
    "# JIKA PAKAI BEBERAPA CYPHER, MAKA SUDAH PASTI AKU HARUS MEMBUAT RETRIEVER INI\n",
    "# SEBAGAI SEBUAH NODE SENDIRI DI LANGGRAPH. JADI TIDAK BISA PAKAI chains.RetrievalQA.from_chain_type\n",
    "# SEPERTI CONTOH DI BAWAH\n",
    "\n",
    "# ATAU PAKAI CARA RETRIEVER SEKARANG INI BISA AJA SEBENARNYA SUDAH CUKUP\n",
    "\n",
    "retrieval_query = \"\"\"\n",
    "// CALL db.index.vector.queryNodes(\"effective_vector_index\", 5, $query_vector)\n",
    "// YIELD node AS node, score AS mainScore\n",
    "\n",
    "WITH collect(node) AS init_nodes \n",
    "UNWIND init_nodes AS init\n",
    "\n",
    "OPTIONAL MATCH (init)-[:REFER_TO]-(refer_node)\n",
    "OPTIONAL MATCH (init)-[:RELATED_TO]-(related_node)\n",
    "\n",
    "WITH init_nodes,\n",
    "     [n IN collect(DISTINCT refer_node) WHERE NOT n IN init_nodes] AS refer_nodes,\n",
    "     [n IN collect(DISTINCT related_node) WHERE NOT n IN init_nodes] AS related_nodes\n",
    "\n",
    "RETURN init_nodes, refer_nodes, related_nodes\n",
    "\"\"\"\n",
    "\n",
    "\n",
    "db_2 = langchain_neo4j.Neo4jVector.from_existing_graph(\n",
    "    embedding=embeddings,\n",
    "    node_label=\"Effective\",\n",
    "    text_node_properties=[\"text\"],\n",
    "    embedding_node_property=\"embedding\",\n",
    "    index_name=\"effective_vector_index\",\n",
    "    keyword_index_name=\"effective_fulltext_index\",  # Fulltext Index\n",
    "    search_type=\"hybrid\",                           # Fulltext + Vector\n",
    "    retrieval_query=retrieval_query,                # Custom retrieval query\n",
    "    \n",
    "    url=os.environ[\"DATABASE_HOST\"],\n",
    "    username=os.environ[\"DATABASE_USERNAME\"],\n",
    "    password=os.environ[\"DATABASE_PASSWORD\"],\n",
    "    database=os.environ[\"DATABASE_SMALL\"],\n",
    ")\n",
    "\n",
    "query = \"Apa kewajiban prosesor data pribadi?\"\n",
    "docs_with_score = db_2.similarity_search_with_score(query, k=5)\n",
    "docs_with_score\n",
    "# Pasal 29, Pasal 31, Pasal 35, Pasal 36, Pasal 37, Pasal 38, dan Pasal 39"
   ]
  },
  {
   "cell_type": "code",
   "execution_count": 20,
   "metadata": {},
   "outputs": [
    {
     "data": {
      "text/plain": [
       "[(Document(metadata={'chapter': '6', 'paragraph': '', 'name': 'UU No. 27 Tahun 2022 Pasal 52', 'number': '52', 'part': '3'}, page_content='\\ntext: Undang-undang (UU) Nomor 27 Tahun 2022 tentang Pelindungan Data Pribadi, BAB VI - KEWAJIBAN PENGENDALI DATA PRIBADI DAN PROSESOR DATA PRIBADI DALAM PEMROSESAN DATA PRIBADI, Bagian Ketiga - Kewajiban Prosesor Data Pribadi, Pasal 52:\\nKetentuan mengenai kewajiban Pengendali Data Pribadi sebagaimana dimaksud dalam Pasal 29, Pasal 31, Pasal 35, Pasal 36, Pasal 37, Pasal 38, dan Pasal 39 berlaku juga terhadap Prosesor Data Pribadi.'),\n",
       "  1.0),\n",
       " (Document(metadata={'chapter': '6', 'paragraph': '', 'name': 'UU No. 27 Tahun 2022 Pasal 51', 'number': '51', 'part': '3'}, page_content='\\ntext: Undang-undang (UU) Nomor 27 Tahun 2022 tentang Pelindungan Data Pribadi, BAB VI - KEWAJIBAN PENGENDALI DATA PRIBADI DAN PROSESOR DATA PRIBADI DALAM PEMROSESAN DATA PRIBADI, Bagian Ketiga - Kewajiban Prosesor Data Pribadi, Pasal 51:\\n(1) Dalam hal Pengendali Data Pribadi menunjuk Prosesor Data Pribadi, Prosesor Data Pribadi wajib melakukan pemrosesan Data Pribadi berdasarkan perintah Pengendali Data Pribadi.\\n(2) Pemrosesan Data Pribadi sebagaimana dimaksud pada ayat (1), dilaksanakan sesuai ketentuan yang diatur dalam Undang-Undang ini.\\n(3) Pemrosesan Data Pribadi sebagaimana dimaksud pada ayat (1) termasuk dalam tanggung jawab Pengendali Data Pribadi.\\n(4) Prosesor Data Pribadi dapat melibatkan Prosesor Data Pribadi lain dalam melakukan pemrosesan Data Pribadi.\\n(5) Prosesor Data Pribadi wajib mendapatkan persetujuan tertulis dan Pengendali Data Pribadi sebelum melibatkan Prosesor Data Pribadi lain sebagaimana dimaksud pada ayat (4).\\n(6) Dalam hal Prosesor Data Pribadi melakukan pemrosesan Data Pribadi di luar perintah dan tujuan yang ditetapkan Pengendali Data Pribadi, pemrosesan Data Pribadi menjadi tanggung jawab Prosesor Data Pribadi.'),\n",
       "  1.0),\n",
       " (Document(metadata={'chapter': '6', 'paragraph': '', 'name': 'UU No. 27 Tahun 2022 Pasal 49', 'number': '49', 'part': '2'}, page_content='\\ntext: Undang-undang (UU) Nomor 27 Tahun 2022 tentang Pelindungan Data Pribadi, BAB VI - KEWAJIBAN PENGENDALI DATA PRIBADI DAN PROSESOR DATA PRIBADI DALAM PEMROSESAN DATA PRIBADI, Bagian Kedua - Kewajiban Pengendali Data Pribadi, Pasal 49:\\nPengendali Data Pribadi dan/atau Prosesor Data Pribadi wajib melaksanakan perintah lembaga dalam rangka penyelenggaraan Pelindungan Data Pribadi sesuai dengan Undang-Undang ini.'),\n",
       "  0.9868875649425551),\n",
       " (Document(metadata={'chapter': '6', 'paragraph': '', 'name': 'UU No. 27 Tahun 2022 Pasal 36', 'number': '36', 'part': '2'}, page_content='\\ntext: Undang-undang (UU) Nomor 27 Tahun 2022 tentang Pelindungan Data Pribadi, BAB VI - KEWAJIBAN PENGENDALI DATA PRIBADI DAN PROSESOR DATA PRIBADI DALAM PEMROSESAN DATA PRIBADI, Bagian Kedua - Kewajiban Pengendali Data Pribadi, Pasal 36:\\nDalam melakukan pemrosesan Data Pribadi, Pengendali Data Pribadi wajib menjaga kerahasiaan Data Pribadi.'),\n",
       "  0.9830334722130786),\n",
       " (Document(metadata={'chapter': '6', 'paragraph': '', 'name': 'UU No. 27 Tahun 2022 Pasal 25', 'number': '25', 'part': '2'}, page_content='\\ntext: Undang-undang (UU) Nomor 27 Tahun 2022 tentang Pelindungan Data Pribadi, BAB VI - KEWAJIBAN PENGENDALI DATA PRIBADI DAN PROSESOR DATA PRIBADI DALAM PEMROSESAN DATA PRIBADI, Bagian Kedua - Kewajiban Pengendali Data Pribadi, Pasal 25:\\n(1) Pemrosesan Data Pribadi anak diselenggarakan secara khusus.\\n(2) Pemrosesan Data Pribadi anak sebagaimana dimaksud pada ayat (1) wajib mendapat persetujuan dari orang tua anak dan/ atau wali anak sesuai dengan ketentuan peraturan perundang-undangan.'),\n",
       "  0.9778073634110975),\n",
       " (Document(metadata={'chapter': '2', 'paragraph': '', 'name': 'PERMENKOMINFO No. 20 Tahun 2016 Pasal 16', 'number': '16', 'part': '4'}, page_content='\\ntext: Peraturan Menteri Komunikasi dan Informatika Nomor 20 Tahun 2016 tentang Perlindungan Data Pribadi Dalam Sistem Elektronik, BAB II - PERLINDUNGAN, Bagian Keempat - Penyimpanan Data Pribadi, Pasal 16:\\nJika Pemilik Data Pribadi tidak lagi menjadi Pengguna, Penyelenggara Sistem Elektronik wajib menyimpan Data Pribadi tersebut sesuai batas waktu sebagaimana dimaksud dalam Pasal 15 ayat (2) terhitung sejak tanggal terakhir Pemilik Data Pribadi menjadi Pengguna.'),\n",
       "  0.9735447086374497),\n",
       " (Document(metadata={'chapter': '15', 'paragraph': '', 'name': 'UU No. 27 Tahun 2022 Pasal 74', 'number': '74', 'part': ''}, page_content='\\ntext: Undang-undang (UU) Nomor 27 Tahun 2022 tentang Pelindungan Data Pribadi, BAB XV - KETENTUAN PERALIHAN, Pasal 74:\\nPada saat Undang-Undang ini mulai berlaku, Pengendali Data Pribadi, Prosesor Data Pribadi, dan pihak lain yang terkait dengan pemrosesan Data Pribadi, wajib menyesuaikan dengan ketentuan pemrosesan Data Pribadi berdasarkan Undang-Undang ini paling lama 2 (dua) tahun sejak Undang-Undang ini diundangkan.'),\n",
       "  0.9732094498713458),\n",
       " (Document(metadata={'chapter': '4', 'paragraph': '', 'name': 'UU No. 27 Tahun 2022 Pasal 5', 'number': '5', 'part': ''}, page_content='\\ntext: Undang-undang (UU) Nomor 27 Tahun 2022 tentang Pelindungan Data Pribadi, BAB IV - HAK SUBJEK DATA PRIBADI, Pasal 5:\\nSubjek Data Pribadi berhak mendapatkan Informasi tentang kejelasan identitas, dasar kepentingan hukum, tujuan permintaan dan penggunaan Data Pribadi, dan akuntabilitas pihak yang meminta Data Pribadi.'),\n",
       "  0.9728434867132968),\n",
       " (Document(metadata={'chapter': '6', 'paragraph': '', 'name': 'UU No. 27 Tahun 2022 Pasal 45', 'number': '45', 'part': '2'}, page_content='\\ntext: Undang-undang (UU) Nomor 27 Tahun 2022 tentang Pelindungan Data Pribadi, BAB VI - KEWAJIBAN PENGENDALI DATA PRIBADI DAN PROSESOR DATA PRIBADI DALAM PEMROSESAN DATA PRIBADI, Bagian Kedua - Kewajiban Pengendali Data Pribadi, Pasal 45:\\nPengendali Data Pribadi wajib memberitahukan penghapusan dan/atau pemusnahan Data Pribadi kepada Subjek Data Pribadi.'),\n",
       "  0.9723450244224393),\n",
       " (Document(metadata={'chapter': '3', 'paragraph': '', 'name': 'PERMENKOMINFO No. 4 Tahun 2024 Pasal 42', 'number': '42', 'part': '3'}, page_content='\\ntext: Peraturan Menteri Komunikasi dan Informatika Nomor 4 Tahun 2024 tentang PENYELENGGARAAN URUSAN PEMERINTAHAN KONKUREN BIDANG KOMUNIKASI DAN INFORMATIKA, BAB III - SUB URUSAN APLIKASI INFORMATIKA, Bagian Ketiga - Tata Kelola Sistem Pemerintahan Berbasis Elektronik Pemerintah Daerah, Pasal 42:\\nPemerintah Daerah wajib menerapkan pelindungan Data pribadi sesuai dengan ketentuan peraturan perundang-undangan.'),\n",
       "  0.9706358132708255)]"
      ]
     },
     "metadata": {},
     "output_type": "display_data"
    }
   ],
   "source": [
    "db_3 = langchain_neo4j.Neo4jVector.from_existing_graph(\n",
    "    embedding=embeddings,\n",
    "    node_label=\"Effective\",\n",
    "    text_node_properties=[\"text\"],\n",
    "    embedding_node_property=\"embedding\",\n",
    "    index_name=\"effective_vector_index\",\n",
    "    keyword_index_name=\"effective_fulltext_index\",  # Fulltext Index\n",
    "    search_type=\"hybrid\",                           # Fulltext + Vector\n",
    "    # retrieval_query=retrieval_query,                # Custom retrieval query\n",
    "    \n",
    "    url=os.environ[\"DATABASE_HOST\"],\n",
    "    username=os.environ[\"DATABASE_USERNAME\"],\n",
    "    password=os.environ[\"DATABASE_PASSWORD\"],\n",
    "    database=os.environ[\"DATABASE_SMALL\"],\n",
    ")\n",
    "\n",
    "query = \"Apa kewajiban prosesor data pribadi?\"\n",
    "docs_with_score = db_3.similarity_search_with_score(query, k=10)\n",
    "display(docs_with_score)\n",
    "# Pasal 29, Pasal 31, Pasal 35, Pasal 36, Pasal 37, Pasal 38, dan Pasal 39"
   ]
  },
  {
   "cell_type": "code",
   "execution_count": 11,
   "metadata": {},
   "outputs": [],
   "source": [
    "# for doc, score in docs_with_score:\n",
    "#     print(\"-\" * 80)\n",
    "#     print(\"score: \", score)\n",
    "#     print(\"metadata:\", doc.metadata)\n",
    "#     print(doc.page_content.strip())\n",
    "#     print(\"-\" * 80)"
   ]
  },
  {
   "cell_type": "code",
   "execution_count": 12,
   "metadata": {},
   "outputs": [],
   "source": [
    "# URI = os.environ[\"DATABASE_HOST\"]\n",
    "# USERNAME = os.environ[\"DATABASE_USERNAME\"]\n",
    "# PASSWORD = os.environ[\"DATABASE_PASSWORD\"]\n",
    "# DATABASE = os.environ[\"DATABASE_SMALL\"]\n",
    "\n",
    "# # https://neo4j.com/docs/genai/tutorials/embeddings-vector-indexes/query/search-prompt/\n",
    "# with neo4j.GraphDatabase.driver(URI, auth=(USERNAME, PASSWORD)) as driver:\n",
    "#     driver.verify_connectivity()\n",
    "    \n",
    "#     model = sentence_transformers.SentenceTransformer('all-MiniLM-L6-v2')\n",
    "\n",
    "#     start_time = time.time()\n",
    "#     query_prompt = 'Apa kewajiban penyelenggara sistem elektronik?'\n",
    "#     # DEFINISI MENGGANGGU, AKU MAU NYA AMBIL PASAL? GIMANA SOLUSINYA?\n",
    "#     query_embedding = model.encode(query_prompt)\n",
    "\n",
    "#     retrieval_propotition = {\n",
    "#         \"effective_vector_index\": 10,\n",
    "#         \"definition_vector_index\": 5\n",
    "#     }\n",
    "\n",
    "#     all_related_text = []\n",
    "#     print(f'Text that relate to`{query_prompt}`:')\n",
    "#     for vector_index_name, amount in retrieval_propotition.items():\n",
    "#         related_text, _, _ = driver.execute_query(\n",
    "#             query_='''\n",
    "#             CALL db.index.vector.queryNodes($vector_index_name, $amount, $query_embedding)\n",
    "#             YIELD node, score\n",
    "#             RETURN node.number AS number, score, labels(node) AS labels, node.text AS text\n",
    "#             ''',\n",
    "#             database_=DATABASE,\n",
    "#             parameters_= {\n",
    "#                 \"vector_index_name\": vector_index_name,\n",
    "#                 \"amount\": amount,\n",
    "#                 \"query_embedding\": query_embedding,\n",
    "#             }\n",
    "#         )\n",
    "        \n",
    "#         for record in related_text:\n",
    "#             all_related_text.append(record)\n",
    "#             print(record)\n",
    "    \n",
    "#     print(f'Duration: {round(time.time() - start_time, 3)} seconds')"
   ]
  },
  {
   "cell_type": "code",
   "execution_count": 75,
   "metadata": {},
   "outputs": [
    {
     "name": "stderr",
     "output_type": "stream",
     "text": [
      "C:\\Users\\Bayu Siddhi\\AppData\\Local\\Temp\\ipykernel_21864\\2809359912.py:180: DeprecationWarning: The default returned 'id' field in the search results will be removed. Please switch to using 'elementId' instead.\n",
      "  read_query, filter_params = get_search_query(\n",
      "C:\\Users\\Bayu Siddhi\\AppData\\Local\\Temp\\ipykernel_21864\\2809359912.py:180: DeprecationWarning: The default returned 'id' field in the search results will be removed. Please switch to using 'elementId' instead.\n",
      "  read_query, filter_params = get_search_query(\n"
     ]
    },
    {
     "data": {
      "text/markdown": [
       "Berdasarkan Undang-Undang Nomor 27 Tahun 2022 tentang Pelindungan Data Pribadi, kewajiban Prosesor Data Pribadi meliputi:\n",
       "\n",
       "1.  Melakukan pemrosesan Data Pribadi berdasarkan perintah Pengendali Data Pribadi (Pasal 51 ayat 1).\n",
       "2.  Pemrosesan Data Pribadi dilaksanakan sesuai ketentuan yang diatur dalam Undang-Undang ini (Pasal 51 ayat 2).\n",
       "3.  Wajib mendapatkan persetujuan tertulis dari Pengendali Data Pribadi sebelum melibatkan Prosesor Data Pribadi lain (Pasal 51 ayat 5).\n",
       "4.  Ketentuan mengenai kewajiban Pengendali Data Pribadi sebagaimana dimaksud dalam Pasal 29, Pasal 31, Pasal 35, Pasal 36, Pasal 37, Pasal 38, dan Pasal 39 berlaku juga terhadap Prosesor Data Pribadi (Pasal 52). Ini berarti Prosesor Data Pribadi juga wajib:\n",
       "\n",
       "    *   Memastikan akurasi, kelengkapan, dan konsistensi Data Pribadi (Pasal 29).\n",
       "    *   Melakukan perekaman terhadap seluruh kegiatan pemrosesan Data Pribadi (Pasal 31).\n",
       "    *   Melindungi dan memastikan keamanan Data Pribadi yang diprosesnya (Pasal 35).\n",
       "    *   Menjaga kerahasiaan Data Pribadi (Pasal 36).\n",
       "    *   Melakukan pengawasan terhadap setiap pihak yang terlibat dalam pemrosesan Data Pribadi di bawah kendalinya (Pasal 37).\n",
       "    *   Melindungi Data Pribadi dari pemrosesan yang tidak sah (Pasal 38).\n",
       "    *   Mencegah Data Pribadi diakses secara tidak sah (Pasal 39).\n",
       "5.  Wajib melaksanakan perintah lembaga dalam rangka penyelenggaraan Pelindungan Data Pribadi sesuai dengan Undang-Undang ini (Pasal 49)."
      ],
      "text/plain": [
       "<IPython.core.display.Markdown object>"
      ]
     },
     "metadata": {},
     "output_type": "display_data"
    }
   ],
   "source": [
    "retriever = db_1.as_retriever(search_kwargs={\"k\": 5, \"params\": {\"limit\": 15}, \"ranker\": HybridSearchRanker.LINEAR, \"alpha\": 0.5})\n",
    "retriever.invoke(query)[0]\n",
    "\n",
    "chain = chains.RetrievalQA.from_chain_type(\n",
    "    # langchain_ollama.ChatOllama(model=\"llama3.1:8b-instruct-q4_0\", temperature=0.1),\n",
    "    # langchain_ollama.ChatOllama(model=\"gemma3:4b-it-q4_K_M\", temperature=0.1),\n",
    "    langchain_google_genai.ChatGoogleGenerativeAI(\n",
    "        model=\"gemini-2.0-flash\",\n",
    "        temperature=0.1,\n",
    "        api_key=os.environ[\"GOOGLE_API_KEY\"]\n",
    "    ),\n",
    "    chain_type=\"stuff\",\n",
    "    retriever=retriever\n",
    ")\n",
    "\n",
    "# Vector\n",
    "response = chain.invoke(\n",
    "    {\"query\": \"Apa kewajiban dari prosesor data pribadi?\"},\n",
    "    return_only_outputs=True,\n",
    ")[\"result\"]\n",
    "\n",
    "display.display(display.Markdown(response))"
   ]
  },
  {
   "cell_type": "code",
   "execution_count": null,
   "metadata": {},
   "outputs": [],
   "source": [
    "retriever = db_2.as_retriever()\n",
    "retriever.invoke(query)[0]\n",
    "\n",
    "chain = chains.RetrievalQA.from_chain_type(\n",
    "    # langchain_ollama.ChatOllama(model=\"llama3.1:8b-instruct-q4_0\", temperature=0.1),\n",
    "    # langchain_ollama.ChatOllama(model=\"gemma3:4b-it-q4_K_M\", temperature=0.1),\n",
    "    langchain_google_genai.ChatGoogleGenerativeAI(\n",
    "        model=\"gemini-2.0-flash\",\n",
    "        temperature=0.0,\n",
    "        api_key=os.environ[\"GOOGLE_API_KEY\"]\n",
    "    ),\n",
    "    chain_type=\"stuff\",\n",
    "    retriever=retriever\n",
    ")\n",
    "\n",
    "# Vector\n",
    "response = chain.invoke(\n",
    "    {\"query\": \"Apa kewajiban prosesor data pribadi?\"},\n",
    "    return_only_outputs=True,\n",
    ")[\"result\"]\n",
    "\n",
    "display.display(display.Markdown(response))"
   ]
  },
  {
   "cell_type": "code",
   "execution_count": 30,
   "metadata": {},
   "outputs": [
    {
     "data": {
      "text/markdown": [
       "Kewajiban Prosesor Data Pribadi tercantum dalam UU Nomor 27 Tahun 2022 tentang Pelindungan Data Pribadi, BAB VI, Bagian Ketiga, Pasal 51 dan 52.\n",
       "\n",
       "Pasal 51 menjelaskan bahwa:\n",
       "1. Prosesor Data Pribadi wajib melakukan pemrosesan Data Pribadi berdasarkan perintah Pengendali Data Pribadi.\n",
       "2. Pemrosesan Data Pribadi dilaksanakan sesuai ketentuan yang diatur dalam Undang-Undang ini.\n",
       "3. Pemrosesan Data Pribadi termasuk dalam tanggung jawab Pengendali Data Pribadi.\n",
       "4. Prosesor Data Pribadi dapat melibatkan Prosesor Data Pribadi lain dalam melakukan pemrosesan Data Pribadi.\n",
       "5. Prosesor Data Pribadi wajib mendapatkan persetujuan tertulis dan Pengendali Data Pribadi sebelum melibatkan Prosesor Data Pribadi lain.\n",
       "6. Dalam hal Prosesor Data Pribadi melakukan pemrosesan Data Pribadi di luar perintah dan tujuan yang ditetapkan Pengendali Data Pribadi, pemrosesan Data Pribadi menjadi tanggung jawab Prosesor Data Pribadi.\n",
       "\n",
       "Pasal 52 menjelaskan bahwa ketentuan mengenai kewajiban Pengendali Data Pribadi sebagaimana dimaksud dalam Pasal 29, Pasal 31, Pasal 35, Pasal 36, Pasal 37, Pasal 38, dan Pasal 39 berlaku juga terhadap Prosesor Data Pribadi.\n",
       "\n",
       "Selain itu, Pengendali Data Pribadi dan/atau Prosesor Data Pribadi wajib melaksanakan perintah lembaga dalam rangka penyelenggaraan Pelindungan Data Pribadi sesuai dengan Undang-Undang ini (Pasal 49)."
      ],
      "text/plain": [
       "<IPython.core.display.Markdown object>"
      ]
     },
     "metadata": {},
     "output_type": "display_data"
    }
   ],
   "source": [
    "retriever = db_3.as_retriever()\n",
    "retriever.invoke(query)[0]\n",
    "\n",
    "chain = chains.RetrievalQA.from_chain_type(\n",
    "    # langchain_ollama.ChatOllama(model=\"llama3.1:8b-instruct-q4_0\", temperature=0.1),\n",
    "    # langchain_ollama.ChatOllama(model=\"gemma3:4b-it-q4_K_M\", temperature=0.1),\n",
    "    langchain_google_genai.ChatGoogleGenerativeAI(\n",
    "        model=\"gemini-2.0-flash\",\n",
    "        temperature=0.0,\n",
    "        api_key=os.environ[\"GOOGLE_API_KEY\"]\n",
    "    ),\n",
    "    chain_type=\"stuff\",\n",
    "    retriever=retriever\n",
    ")\n",
    "\n",
    "# Vector\n",
    "response = chain.invoke(\n",
    "    {\"query\": \"Apa kewajiban prosesor data pribadi?\"},\n",
    "    return_only_outputs=True,\n",
    ")[\"result\"]\n",
    "\n",
    "display.display(display.Markdown(response))"
   ]
  },
  {
   "cell_type": "code",
   "execution_count": 67,
   "metadata": {},
   "outputs": [
    {
     "data": {
      "text/markdown": [
       "Menurut Peraturan Pemerintah (PP) Nomor 71 Tahun 2019 tentang Penyelenggaraan Sistem dan Transaksi Elektronik, kewajiban penyelenggara sistem elektronik antara lain:\n",
       "\n",
       "1. Menerapkan manajemen risiko terhadap kerusakan atau kerugian yang ditimbulkan (Pasal 12).\n",
       "2. Melakukan edukasi kepada pengguna sistem elektronik tentang hak, kewajiban, dan tanggung jawab seluruh pihak terkait, serta prosedur pengajuan komplain (Pasal 28).\n",
       "3. Melakukan uji kelaikan sistem elektronik terhadap seluruh komponen atau sebagian komponen dalam sistem elektronik sesuai dengan karakteristik kebutuhan pelindungan dan sifat strategis penyelenggaraan sistem elektronik (Pasal 34).\n",
       "\n",
       "Selain itu, juga tidak boleh melakukan perbuatan yang dilarang menurut Undang-undang (UU) Nomor 11 Tahun 2008 tentang Informasi dan Transaksi Elektronik, seperti mengakses komputer dan/atau sistem elektronik milik orang lain dengan cara apa pun tanpa hak atau melawan hukum."
      ],
      "text/plain": [
       "<IPython.core.display.Markdown object>"
      ]
     },
     "metadata": {},
     "output_type": "display_data"
    }
   ],
   "source": [
    "# Hybrid (Llama)\n",
    "response = chain.invoke(\n",
    "    {\"query\": \"Apa kewajiban penyelenggara sistem elektronik?\"},\n",
    "    return_only_outputs=True,\n",
    ")[\"result\"]\n",
    "\n",
    "display.display(display.Markdown(response))"
   ]
  },
  {
   "cell_type": "code",
   "execution_count": 70,
   "metadata": {},
   "outputs": [
    {
     "data": {
      "text/markdown": [
       "Berdasarkan teks yang diberikan, berikut adalah kewajiban penyelenggara sistem elektronik:\n",
       "\n",
       "*   **Menerapkan manajemen risiko:** (PP Nomor 71 Tahun 2019, Pasal 12)\n",
       "*   **Melakukan edukasi kepada Pengguna Sistem Elektronik:** (PP Nomor 71 Tahun 2019, Pasal 28) - Edukasi ini mencakup hak, kewajiban, tanggung jawab, dan prosedur pengajuan komplain.\n",
       "*   **Melakukan Uji Kelayakan Sistem Elektronik:** (PP Nomor 71 Tahun 2019, Pasal 34) - Uji ini dapat dilakukan secara menyeluruh atau sebagian sesuai dengan kebutuhan pelindungan dan sifat strategis penyelenggaraan.\n",
       "\n",
       "Selain itu, penyelenggara sistem elektronik juga dilarang mengakses komputer dan/atau sistem elektronik milik orang lain tanpa hak atau melawan hukum (UU Nomor 11 Tahun 2008, Pasal 30)."
      ],
      "text/plain": [
       "<IPython.core.display.Markdown object>"
      ]
     },
     "metadata": {},
     "output_type": "display_data"
    }
   ],
   "source": [
    "# Hybrid (Gemma)\n",
    "response = chain.invoke(\n",
    "    {\"query\": \"Apa kewajiban penyelenggara sistem elektronik?\"},\n",
    "    return_only_outputs=True,\n",
    ")[\"result\"]\n",
    "\n",
    "display.display(display.Markdown(response))"
   ]
  }
 ],
 "metadata": {
  "kernelspec": {
   "display_name": ".venv",
   "language": "python",
   "name": "python3"
  },
  "language_info": {
   "codemirror_mode": {
    "name": "ipython",
    "version": 3
   },
   "file_extension": ".py",
   "mimetype": "text/x-python",
   "name": "python",
   "nbconvert_exporter": "python",
   "pygments_lexer": "ipython3",
   "version": "3.11.4"
  }
 },
 "nbformat": 4,
 "nbformat_minor": 2
}
