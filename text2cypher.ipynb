{
 "cells": [
  {
   "cell_type": "code",
   "execution_count": 1,
   "metadata": {},
   "outputs": [
    {
     "data": {
      "text/plain": [
       "True"
      ]
     },
     "execution_count": 1,
     "metadata": {},
     "output_type": "execute_result"
    }
   ],
   "source": [
    "import os\n",
    "import time\n",
    "import dotenv\n",
    "import pprint\n",
    "from IPython import display\n",
    "from langchain_neo4j import GraphCypherQAChain, Neo4jGraph\n",
    "from langchain_google_genai import ChatGoogleGenerativeAI\n",
    "from langchain_ollama.chat_models import ChatOllama\n",
    "\n",
    "dotenv.load_dotenv(\".env\")"
   ]
  },
  {
   "cell_type": "code",
   "execution_count": null,
   "metadata": {},
   "outputs": [],
   "source": [
    "graph = Neo4jGraph(\n",
    "    url=os.environ[\"DATABASE_HOST\"],\n",
    "    username=os.environ[\"DATABASE_USERNAME\"],\n",
    "    password=os.environ[\"DATABASE_PASSWORD\"],\n",
    "    database=os.environ[\"DATABASE_LARGE\"],\n",
    "    enhanced_schema=True\n",
    ")"
   ]
  },
  {
   "cell_type": "code",
   "execution_count": 3,
   "metadata": {},
   "outputs": [
    {
     "name": "stdout",
     "output_type": "stream",
     "text": [
      "Node properties:\n",
      "- **Regulation**\n",
      "  - `title`: STRING Example: \"Peraturan Menteri Komunikasi dan Informatika Nomor\"\n",
      "  - `id`: INTEGER Min: 199901036100000, Max: 202403006100000\n",
      "  - `type`: STRING Available options: ['PERMENKOMINFO', 'PP', 'UU']\n",
      "  - `number`: INTEGER Min: 1, Max: 80\n",
      "  - `year`: INTEGER Min: 1999, Max: 2024\n",
      "  - `institution`: STRING Available options: ['Kementerian Komunikasi dan Informatika', 'Pemerintah Pusat']\n",
      "  - `issue_place`: STRING Available options: ['Jakarta']\n",
      "  - `issue_date`: DATE Min: 1999-09-08, Max: 2024-09-30\n",
      "  - `effective_date`: DATE Min: 1999-09-23, Max: 2024-10-03\n",
      "  - `subjects`: LIST Min Size: 1, Max Size: 4\n",
      "  - `is_amendment`: BOOLEAN \n",
      "  - `reference_url`: STRING Example: \"https://peraturan.bpk.go.id/Details/159911/permenk\"\n",
      "  - `download_url`: STRING Example: \"https://peraturan.bpk.go.id/Download/152473/Permen\"\n",
      "  - `download_name`: STRING Example: \"PERMENKOMINFO_2007_011\"\n",
      "- **Definition**\n",
      "  - `name`: STRING Example: \"Telekomunikasi\"\n",
      "  - `id`: INTEGER Min: 199901036400100, Max: 202403006401400\n",
      "  - `text`: STRING Available options: ['Peraturan Menteri Komunikasi dan Informatika Nomor', 'Peraturan Pemerintah (PP) Nomor 52 Tahun 2000 tent', 'Peraturan Pemerintah (PP) Nomor 71 Tahun 2019 tent', 'Peraturan Pemerintah (PP) Nomor 80 Tahun 2019 tent', 'Peraturan Pemerintah (PP) Nomor 46 Tahun 2021 tent', 'Undang-undang (UU) Nomor 36 Tahun 1999 tentang Tel', 'Undang-undang (UU) Nomor 40 Tahun 1999 tentang Per', 'Undang-undang (UU) Nomor 11 Tahun 2008 tentang Inf', 'Undang-undang (UU) Nomor 19 Tahun 2016 tentang Per', 'Undang-undang (UU) Nomor 27 Tahun 2022 tentang Pel']\n",
      "  - `real_text`: STRING Example: \"telekomunikasi adalah setiap pemancaran, pengirima\"\n",
      "- **Article**\n",
      "  - `id`: INTEGER Min: 199901036500100, Max: 202403006507600\n",
      "  - `number`: STRING Example: \"1\"\n",
      "  - `text`: STRING Example: \"Peraturan Menteri Komunikasi dan Informatika Nomor\"\n",
      "  - `chapter`: STRING Example: \"1\"\n",
      "  - `part`: STRING Example: \"\"\n",
      "  - `paragraph`: STRING Example: \"\"\n",
      "  - `real_text`: STRING Example: \"dalam peraturan menteri ini yang dimaksud dengan: \"\n",
      "- **Consideration**\n",
      "  - `id`: INTEGER Min: 199901036200000, Max: 202403006200000\n",
      "  - `text`: STRING Example: \"Peraturan Menteri Komunikasi dan Informatika Nomor\"\n",
      "  - `real_text`: STRING Example: \"a. bahwa telekomunikasi mempunyai peran yang strat\"\n",
      "- **Observation**\n",
      "  - `id`: INTEGER Min: 199901036300000, Max: 202403006300000\n",
      "  - `text`: STRING Example: \"Peraturan Menteri Komunikasi dan Informatika Nomor\"\n",
      "  - `real_text`: STRING Example: \"(1) undang-undang republik indonesia nomor 36 tahu\"\n",
      "- **Effective**\n",
      "  - `id`: INTEGER Min: 199901036500100, Max: 202403006507600\n",
      "  - `number`: STRING Example: \"1\"\n",
      "  - `text`: STRING Example: \"Peraturan Menteri Komunikasi dan Informatika Nomor\"\n",
      "  - `chapter`: STRING Example: \"1\"\n",
      "  - `part`: STRING Example: \"\"\n",
      "  - `paragraph`: STRING Example: \"\"\n",
      "  - `real_text`: STRING Example: \"dalam peraturan menteri ini yang dimaksud dengan: \"\n",
      "- **Ineffective**\n",
      "  - `id`: INTEGER Min: 200703011501000, Max: 202103006509000\n",
      "  - `number`: STRING Example: \"10\"\n",
      "  - `text`: STRING Available options: ['Peraturan Menteri Komunikasi dan Informatika Nomor', 'Undang-undang (UU) Nomor 11 Tahun 2008 tentang Inf', 'Undang-undang (UU) Nomor 19 Tahun 2016 tentang Per']\n",
      "  - `chapter`: STRING Example: \"4\"\n",
      "  - `part`: STRING Available options: ['', '2', '3', '1', '4', '5', '7']\n",
      "  - `paragraph`: STRING Available options: ['', '1', '3', '4', '5', '2']\n",
      "  - `real_text`: STRING Example: \"(1) pemenang seleksi pelaksana penyedia dapat dibe\"\n",
      "Relationship properties:\n",
      "- **AMENDED_BY**\n",
      "  - `order_of_amendment`: INTEGER \n",
      "- **NEXT_ARTICLE**\n",
      "  - `effective`: BOOLEAN \n",
      "  - `order_of_amendment`: INTEGER Min: 0, Max: 4\n",
      "- **PREVIOUS_ARTICLE**\n",
      "  - `effective`: BOOLEAN \n",
      "  - `order_of_amendment`: INTEGER Min: 0, Max: 4\n",
      "The relationships:\n",
      "(:Regulation)-[:AMENDED_BY]->(:Regulation)\n",
      "(:Regulation)-[:HAS_ARTICLE]->(:Article)\n",
      "(:Regulation)-[:HAS_ARTICLE]->(:Effective)\n",
      "(:Regulation)-[:HAS_ARTICLE]->(:Ineffective)\n",
      "(:Regulation)-[:HAS_CONSIDERATION]->(:Consideration)\n",
      "(:Regulation)-[:HAS_OBSERVATION]->(:Observation)\n",
      "(:Regulation)-[:HAS_DEFINITION]->(:Definition)\n",
      "(:Article)-[:PREVIOUS_ARTICLE]->(:Article)\n",
      "(:Article)-[:PREVIOUS_ARTICLE]->(:Effective)\n",
      "(:Article)-[:PREVIOUS_ARTICLE]->(:Ineffective)\n",
      "(:Article)-[:NEXT_ARTICLE]->(:Article)\n",
      "(:Article)-[:NEXT_ARTICLE]->(:Effective)\n",
      "(:Article)-[:NEXT_ARTICLE]->(:Ineffective)\n",
      "(:Article)-[:RELATED_TO]->(:Article)\n",
      "(:Article)-[:RELATED_TO]->(:Effective)\n",
      "(:Article)-[:AMENDED_BY]->(:Article)\n",
      "(:Article)-[:AMENDED_BY]->(:Effective)\n",
      "(:Article)-[:AMENDED_BY]->(:Ineffective)\n",
      "(:Article)-[:REFER_TO]->(:Article)\n",
      "(:Article)-[:REFER_TO]->(:Effective)\n",
      "(:Article)-[:REFER_TO]->(:Ineffective)\n",
      "(:Effective)-[:PREVIOUS_ARTICLE]->(:Article)\n",
      "(:Effective)-[:PREVIOUS_ARTICLE]->(:Effective)\n",
      "(:Effective)-[:PREVIOUS_ARTICLE]->(:Ineffective)\n",
      "(:Effective)-[:NEXT_ARTICLE]->(:Article)\n",
      "(:Effective)-[:NEXT_ARTICLE]->(:Effective)\n",
      "(:Effective)-[:NEXT_ARTICLE]->(:Ineffective)\n",
      "(:Effective)-[:RELATED_TO]->(:Article)\n",
      "(:Effective)-[:RELATED_TO]->(:Effective)\n",
      "(:Effective)-[:REFER_TO]->(:Article)\n",
      "(:Effective)-[:REFER_TO]->(:Effective)\n",
      "(:Effective)-[:REFER_TO]->(:Ineffective)\n",
      "(:Ineffective)-[:AMENDED_BY]->(:Article)\n",
      "(:Ineffective)-[:AMENDED_BY]->(:Effective)\n",
      "(:Ineffective)-[:AMENDED_BY]->(:Ineffective)\n",
      "(:Ineffective)-[:NEXT_ARTICLE]->(:Article)\n",
      "(:Ineffective)-[:NEXT_ARTICLE]->(:Effective)\n",
      "(:Ineffective)-[:NEXT_ARTICLE]->(:Ineffective)\n",
      "(:Ineffective)-[:PREVIOUS_ARTICLE]->(:Article)\n",
      "(:Ineffective)-[:PREVIOUS_ARTICLE]->(:Effective)\n",
      "(:Ineffective)-[:PREVIOUS_ARTICLE]->(:Ineffective)\n",
      "(:Ineffective)-[:REFER_TO]->(:Article)\n",
      "(:Ineffective)-[:REFER_TO]->(:Effective)\n",
      "(:Ineffective)-[:REFER_TO]->(:Ineffective)\n"
     ]
    }
   ],
   "source": [
    "graph.refresh_schema()\n",
    "print(graph.schema)"
   ]
  },
  {
   "cell_type": "code",
   "execution_count": 4,
   "metadata": {},
   "outputs": [],
   "source": [
    "from langchain_core.prompts.prompt import PromptTemplate\n",
    "\n",
    "CYPHER_GENERATION_TEMPLATE = \"\"\"Task:Generate Cypher statement to query a graph database.\n",
    "Instructions:\n",
    "Use only the provided relationship types and properties in the schema.\n",
    "Do not use any other relationship types or properties that are not provided.\n",
    "Schema:\n",
    "{schema}\n",
    "Note: Do not include any explanations or apologies in your responses.\n",
    "Do not respond to any questions that might ask anything else than for you to construct a Cypher statement.\n",
    "Do not include any text except the generated Cypher statement.\n",
    "\n",
    "Following are some examples that you can use as a reference to create Cypher code according to user questions.\n",
    "\n",
    "User query   : Apa isi pasal 100 peraturan pemerintah / PP nomor 90 tahun 2020?\n",
    "Cypher query : MATCH (r:Regulation)-[:HAS_ARTICLE]->(a:Article)\n",
    "WHERE r.type = 'PP' AND r.number = 90 AND r.year = 2020 AND a.number = '100'\n",
    "RETURN a.text AS text\n",
    "\n",
    "User query   : Apa isi pasal selanjutnya dari pasal 100 undang-undang / UU nomor 90 tahun 2020?\n",
    "Cypher query : MATCH (r:Regulation)-[:HAS_ARTICLE]->(a:Article)-[:NEXT_ARTICLE]->(next_article)\n",
    "WHERE r.type = 'UU' AND r.number = 90 AND r.year = 2020 AND a.number = '100'\n",
    "RETURN next_article.text AS text\n",
    "\n",
    "Don't use `real_text` attribute! But use `text` attribute instead.\n",
    "\n",
    "Now, make a cypher code for the following user questions.\n",
    "\n",
    "The question is:\n",
    "{question}\"\"\"\n",
    "\n",
    "CYPHER_GENERATION_PROMPT = PromptTemplate(\n",
    "    input_variables=[\"schema\", \"question\"], template=CYPHER_GENERATION_TEMPLATE\n",
    ")"
   ]
  },
  {
   "cell_type": "code",
   "execution_count": null,
   "metadata": {},
   "outputs": [],
   "source": [
    "chain = GraphCypherQAChain.from_llm(\n",
    "    cypher_llm=ChatGoogleGenerativeAI(model=\"gemini-2.0-flash\", temperature=0.0, api_key=os.environ[\"GOOGLE_API_KEY\"]),\n",
    "    # qa_llm=ChatOllama(model=\"llama3.1:8b-instruct-q4_0\", temperature=0.1),\n",
    "    qa_llm=ChatOllama(model=\"gemma3:4b-it-q4_K_M\", temperature=0.1),\n",
    "    # cypher_llm=ChatOllama(model=\"qwen2.5-coder:7b-instruct-q4_K_M\", temperature=0.1),\n",
    "    graph=graph,\n",
    "    verbose=True,\n",
    "    cypher_prompt=CYPHER_GENERATION_PROMPT,\n",
    "    # return_direct=True,\n",
    "    # return_intermediate_steps=True,\n",
    "    # use_function_response=True,  # Jika pakai ini maka qa_prompt tidak akan digunakan\n",
    "    # function_response_system=\"response like a football commentator!\",  # Hanya jika pakai use_function_response=True\n",
    "    # exclude_types=[\"Ineffective\"],  # Misalnya aja mau exclude sesuatu, tapi kayanya tidak\n",
    "    validate_cypher=True,\n",
    "    allow_dangerous_requests=True\n",
    ")\n",
    "\n",
    "# chain.graph_schema\n",
    "# Bandingkan pakai few shot dan tanpa few shot\n",
    "# Perlihatkan kekuatan knowledge graph, contoh:\n",
    "# 1. Pasal paling banyak direfer oleh pasal lain\n",
    "# 2. Clustering pasal\n",
    "# Pakai yg API dan local, bandingkan mana yang terbaik"
   ]
  },
  {
   "cell_type": "code",
   "execution_count": 20,
   "metadata": {},
   "outputs": [
    {
     "name": "stdout",
     "output_type": "stream",
     "text": [
      "\n",
      "\n",
      "\u001b[1m> Entering new GraphCypherQAChain chain...\u001b[0m\n",
      "Generated Cypher:\n",
      "\u001b[32;1m\u001b[1;3mcypher\n",
      "MATCH (r:Regulation)-[:HAS_ARTICLE]->(a:Article)\n",
      "WHERE r.type = 'UU' AND r.number = 11 AND r.year = 2008 AND a.number = '28'\n",
      "RETURN a.text AS text\n",
      "\u001b[0m\n",
      "Full Context:\n",
      "\u001b[32;1m\u001b[1;3m[{'text': 'Undang-undang (UU) Nomor 11 Tahun 2008 tentang Informasi dan Transaksi Elektronik, BAB VII - PERBUATAN YANG DILARANG, Pasal 28:\\n(1) Setiap Orang dengan sengaja dan tanpa hak menyebarkan berita bohong dan menyesatkan yang mengakibatkan kerugian konsumen dalam Transaksi Elektronik.\\n(2) Setiap Orang dengan sengaja dan tanpa hak menyebarkan informasi yang ditujukan untuk menimbulkan rasa kebencian atau permusuhan individu dan/atau kelompok masyarakat tertentu berdasarkan atas suku, agama, ras, dan antargolongan (SARA).'}]\u001b[0m\n",
      "\n",
      "\u001b[1m> Finished chain.\u001b[0m\n",
      "{'query': 'Apa isi lengkap dari pasal 28 UU Nomor 11 Tahun 2008?',\n",
      " 'result': 'Setiap Orang dengan sengaja dan tanpa hak menyebarkan berita '\n",
      "           'bohong dan menyesatkan yang mengakibatkan kerugian konsumen dalam '\n",
      "           'Transaksi Elektronik. Setiap Orang dengan sengaja dan tanpa hak '\n",
      "           'menyebarkan informasi yang ditujukan untuk menimbulkan rasa '\n",
      "           'kebencian atau permusuhan individu dan/atau kelompok masyarakat '\n",
      "           'tertentu berdasarkan atas suku, agama, ras, dan antargolongan '\n",
      "           '(SARA).'}\n",
      "Execution time: 17.352074146270752 seconds\n"
     ]
    }
   ],
   "source": [
    "start_time = time.time()\n",
    "response = chain.invoke(\n",
    "    \"Apa isi lengkap dari pasal 28 UU Nomor 11 Tahun 2008?\"\n",
    ")\n",
    "\n",
    "pprint.pprint(response)\n",
    "print(f\"Execution time: {time.time() - start_time} seconds\")"
   ]
  },
  {
   "cell_type": "code",
   "execution_count": 21,
   "metadata": {},
   "outputs": [
    {
     "name": "stdout",
     "output_type": "stream",
     "text": [
      "\n",
      "\n",
      "\u001b[1m> Entering new GraphCypherQAChain chain...\u001b[0m\n",
      "Generated Cypher:\n",
      "\u001b[32;1m\u001b[1;3mcypher\n",
      "MATCH (r:Regulation)-[:HAS_ARTICLE]->(a:Article)-[:NEXT_ARTICLE]->(next_article)\n",
      "WHERE r.type = 'UU' AND r.number = 19 AND r.year = 2016 AND a.number = '1'\n",
      "RETURN next_article.number AS number, next_article.text AS text\n",
      "\u001b[0m\n",
      "Full Context:\n",
      "\u001b[32;1m\u001b[1;3m[{'number': '2', 'text': 'Undang-undang (UU) Nomor 11 Tahun 2008 tentang Informasi dan Transaksi Elektronik, BAB I - KETENTUAN UMUM, Pasal 2:\\nUndang-Undang ini berlaku untuk setiap Orang yang melakukan perbuatan hukum sebagaimana diatur dalam Undang-Undang ini, baik yang berada di wilayah hukum Indonesia maupun di luar wilayah hukum Indonesia, yang memiliki akibat hukum di wilayah hukum Indonesia dan/atau di luar wilayah hukum Indonesia dan merugikan kepentingan Indonesia.'}]\u001b[0m\n",
      "\n",
      "\u001b[1m> Finished chain.\u001b[0m\n",
      "{'query': 'Apa nomor pasal setelah pasal 1 UU Nomor 19 Tahun 2016? Dan apa isi '\n",
      "          'lengkapnya?',\n",
      " 'result': 'Undang-undang (UU) Nomor 11 Tahun 2008 tentang Informasi dan '\n",
      "           'Transaksi Elektronik, BAB I - KETENTUAN UMUM, Pasal 2 mengatur '\n",
      "           'bahwa Undang-undang ini berlaku untuk setiap Orang yang melakukan '\n",
      "           'perbuatan hukum sebagaimana diatur dalam Undang-Undang ini, baik '\n",
      "           'yang berada di wilayah hukum Indonesia maupun di luar wilayah '\n",
      "           'hukum Indonesia, yang memiliki akibat hukum di wilayah hukum '\n",
      "           'Indonesia dan/atau di luar wilayah hukum Indonesia dan merugikan '\n",
      "           'kepentingan Indonesia.'}\n",
      "Execution time: 15.062211990356445 seconds\n"
     ]
    }
   ],
   "source": [
    "start_time = time.time()\n",
    "response = chain.invoke(\n",
    "    \"Apa nomor pasal setelah pasal 1 UU Nomor 19 Tahun 2016? Dan apa isi lengkapnya?\"\n",
    ")\n",
    "\n",
    "pprint.pprint(response)\n",
    "print(f\"Execution time: {time.time() - start_time} seconds\")"
   ]
  },
  {
   "cell_type": "code",
   "execution_count": 11,
   "metadata": {},
   "outputs": [
    {
     "name": "stdout",
     "output_type": "stream",
     "text": [
      "\n",
      "\n",
      "\u001b[1m> Entering new GraphCypherQAChain chain...\u001b[0m\n",
      "Generated Cypher:\n",
      "\u001b[32;1m\u001b[1;3mcypher\n",
      "MATCH (r:Regulation {type: 'UU', number: 11, year: 2008})\n",
      "WITH r\n",
      "MATCH (r)-[:HAS_ARTICLE]->(a:Article)\n",
      "WITH r, COUNT(a) AS totalArticles\n",
      "OPTIONAL MATCH (r)-[:HAS_ARTICLE]->(e:Effective)\n",
      "WITH r, totalArticles, COUNT(e) AS effectiveArticles\n",
      "OPTIONAL MATCH (r)-[:HAS_ARTICLE]->(i:Ineffective)\n",
      "WITH r, totalArticles, effectiveArticles, COUNT(i) AS ineffectiveArticles\n",
      "RETURN \n",
      "    effectiveArticles,\n",
      "    ineffectiveArticles,\n",
      "    totalArticles,\n",
      "    (toFloat(effectiveArticles) / totalArticles) * 100 AS effectivePercentage,\n",
      "    (toFloat(ineffectiveArticles) / totalArticles) * 100 AS ineffectivePercentage\n",
      "\u001b[0m\n",
      "Full Context:\n",
      "\u001b[32;1m\u001b[1;3m[{'effectiveArticles': 41, 'ineffectiveArticles': 13, 'totalArticles': 54, 'effectivePercentage': 75.92592592592592, 'ineffectivePercentage': 24.074074074074073}]\u001b[0m\n",
      "\n",
      "\u001b[1m> Finished chain.\u001b[0m\n"
     ]
    },
    {
     "data": {
      "text/markdown": [
       "41 pasal dari UU Nomor 11 Tahun 2008 masih berlaku, dan 13 pasal tidak berlaku. Total pasal adalah 54, dengan 41 pasal masih berlaku (75.93%) dan 13 pasal tidak berlaku (24.07%)."
      ],
      "text/plain": [
       "<IPython.core.display.Markdown object>"
      ]
     },
     "metadata": {},
     "output_type": "display_data"
    },
    {
     "name": "stdout",
     "output_type": "stream",
     "text": [
      "Execution time: 11.277246713638306 seconds\n"
     ]
    }
   ],
   "source": [
    "start_time = time.time()\n",
    "response = chain.invoke(\n",
    "    \"Berapa jumlah pasal yang masih berlaku (effective) di UU Nomor 11 Tahun 2008?\\n\"\n",
    "    \"Berapa yang tidak berlaku?\"\n",
    "    \"Berapa total pasal di sana?\\n\"\n",
    "    \"Dan berapa persentase yang masih berlaku dan tidak berlaku tersebut?\"\n",
    ")\n",
    "\n",
    "# pprint.pprint(response)\n",
    "display.display(display.Markdown(response[\"result\"]))\n",
    "print(f\"Execution time: {time.time() - start_time} seconds\")"
   ]
  },
  {
   "cell_type": "code",
   "execution_count": 12,
   "metadata": {},
   "outputs": [
    {
     "name": "stdout",
     "output_type": "stream",
     "text": [
      "\n",
      "\n",
      "\u001b[1m> Entering new GraphCypherQAChain chain...\u001b[0m\n",
      "Generated Cypher:\n",
      "\u001b[32;1m\u001b[1;3mcypher\n",
      "MATCH (r:Regulation)-[:HAS_ARTICLE]->(i:Ineffective)\n",
      "WHERE r.type = 'UU' AND r.number = 11 AND r.year = 2008\n",
      "RETURN i.number AS NomorPasalTidakBerlaku\n",
      "\u001b[0m\n",
      "Full Context:\n",
      "\u001b[32;1m\u001b[1;3m[{'NomorPasalTidakBerlaku': '1'}, {'NomorPasalTidakBerlaku': '5'}, {'NomorPasalTidakBerlaku': '13'}, {'NomorPasalTidakBerlaku': '17'}, {'NomorPasalTidakBerlaku': '26'}, {'NomorPasalTidakBerlaku': '27'}, {'NomorPasalTidakBerlaku': '28'}, {'NomorPasalTidakBerlaku': '29'}, {'NomorPasalTidakBerlaku': '31'}, {'NomorPasalTidakBerlaku': '36'}]\u001b[0m\n",
      "\n",
      "\u001b[1m> Finished chain.\u001b[0m\n"
     ]
    },
    {
     "data": {
      "text/markdown": [
       "1, 5, 13, 17, 26, 27, 28, 29, 31, 36."
      ],
      "text/plain": [
       "<IPython.core.display.Markdown object>"
      ]
     },
     "metadata": {},
     "output_type": "display_data"
    },
    {
     "name": "stdout",
     "output_type": "stream",
     "text": [
      "Execution time: 9.218703508377075 seconds\n"
     ]
    }
   ],
   "source": [
    "start_time = time.time()\n",
    "response = chain.invoke(\n",
    "    \"Apa saja nomor pasal yang sudah tidak berlaku (effective) di UU Nomor 11 Tahun 2008?\"\n",
    ")\n",
    "\n",
    "# pprint.pprint(response)\n",
    "display.display(display.Markdown(response[\"result\"]))\n",
    "print(f\"Execution time: {time.time() - start_time} seconds\")"
   ]
  },
  {
   "cell_type": "code",
   "execution_count": 13,
   "metadata": {},
   "outputs": [
    {
     "name": "stdout",
     "output_type": "stream",
     "text": [
      "\n",
      "\n",
      "\u001b[1m> Entering new GraphCypherQAChain chain...\u001b[0m\n",
      "Generated Cypher:\n",
      "\u001b[32;1m\u001b[1;3mcypher\n",
      "MATCH (r:Regulation)-[:HAS_ARTICLE]->(a:Article)\n",
      "WHERE r.type = 'UU' AND r.number = 11 AND r.year = 2008 AND a.number = '28'\n",
      "OPTIONAL MATCH (a)-[:AMENDED_BY]->(amended_article)\n",
      "RETURN a.text AS OriginalArticle, amended_article.text AS AmendedArticle\n",
      "\u001b[0m\n",
      "Full Context:\n",
      "\u001b[32;1m\u001b[1;3m[{'OriginalArticle': 'Undang-undang (UU) Nomor 11 Tahun 2008 tentang Informasi dan Transaksi Elektronik, BAB VII - PERBUATAN YANG DILARANG, Pasal 28:\\n(1) Setiap Orang dengan sengaja dan tanpa hak menyebarkan berita bohong dan menyesatkan yang mengakibatkan kerugian konsumen dalam Transaksi Elektronik.\\n(2) Setiap Orang dengan sengaja dan tanpa hak menyebarkan informasi yang ditujukan untuk menimbulkan rasa kebencian atau permusuhan individu dan/atau kelompok masyarakat tertentu berdasarkan atas suku, agama, ras, dan antargolongan (SARA).', 'AmendedArticle': 'Undang-undang (UU) Nomor 1 Tahun 2024 tentang Perubahan Kedua atas Undang-Undang Nomor 11 Tahun 2008 tentang Informasi dan Transaksi Elektronik, BAB VII - PERBUATAN YANG DILARANG, Pasal 28:\\n(1) Setiap Orang dengan sengaja mendistribusikan dan/atau mentransmisikan Informasi Elektronik dan/atau Dokumen Elektronik yang berisi pemberitahuan bohong atau informasi menyesatkan yang mengakibatkan kerugian materiel bagi konsumen dalam Transaksi Elektronik.\\n(2) Setiap Orang dengan sengaja dan tanpa hak mendistribusikan dan/atau mentransmisikan Informasi Elektronik dan/atau Dokumen Elektronik yang sifatnya menghasut, mengajak, atau memengaruhi orang lain sehingga menimbulkan rasa kebencian atau permusuhan terhadap individu dan/atau kelompok masyarakat tertentu berdasarkan ras, kebangsaan, etnis, warna kulit, agama, kepercayaan, jenis kelamin, disabilitas mental, atau disabilitas fisik.\\n(3) Setiap Orang dengan sengaja menyebarkan Informasi Elektronik dan/atau Dokumen Elektronik yang diketahuinya memuat pemberitahuan bohong yang menimbulkan kerusuhan di masyarakat.'}]\u001b[0m\n",
      "\n",
      "\u001b[1m> Finished chain.\u001b[0m\n"
     ]
    },
    {
     "data": {
      "text/markdown": [
       "Sebelum diamandemen, Pasal 28 UU Nomor 11 Tahun 2008 menyatakan bahwa setiap orang dengan sengaja dan tanpa hak menyebarkan berita bohong dan menyesatkan yang mengakibatkan kerugian konsumen dalam Transaksi Elektronik, serta menyebarkan informasi yang ditujukan untuk menimbulkan rasa kebencian atau permusuhan terhadap kelompok tertentu berdasarkan SARA. Setelah diamandemen, pasal tersebut menambahkan bahwa setiap orang dengan sengaja menyebarkan Informasi Elektronik dan/atau Dokumen Elektronik yang diketahui memuat pemberitahuan bohong yang menimbulkan kerusuhan di masyarakat."
      ],
      "text/plain": [
       "<IPython.core.display.Markdown object>"
      ]
     },
     "metadata": {},
     "output_type": "display_data"
    },
    {
     "name": "stdout",
     "output_type": "stream",
     "text": [
      "Execution time: 25.70857548713684 seconds\n"
     ]
    }
   ],
   "source": [
    "start_time = time.time()\n",
    "response = chain.invoke(\n",
    "    \"Jelaskan apa saja perbedaan isi pasal 28 UU nomor 11 tahun 2008 sebelum dan sesudah diamandemen?\"\n",
    ")\n",
    "\n",
    "# pprint.pprint(response)\n",
    "display.display(display.Markdown(response[\"result\"]))\n",
    "print(f\"Execution time: {time.time() - start_time} seconds\")"
   ]
  },
  {
   "cell_type": "code",
   "execution_count": null,
   "metadata": {},
   "outputs": [
    {
     "name": "stdout",
     "output_type": "stream",
     "text": [
      "\n",
      "\n",
      "\u001b[1m> Entering new GraphCypherQAChain chain...\u001b[0m\n",
      "Generated Cypher:\n",
      "\u001b[32;1m\u001b[1;3mcypher\n",
      "MATCH (r:Regulation)-[:HAS_ARTICLE]->(i:Ineffective)\n",
      "WHERE r.type = 'UU' AND r.number = 11 AND r.year = 2008\n",
      "WITH r, i\n",
      "MATCH (i)-[:AMENDED_BY]->(a:Article)\n",
      "RETURN i.number AS IneffectiveArticleNumber,\n",
      "       i.text AS IneffectiveArticleText,\n",
      "       a.text AS AmendedArticleText\n",
      "LIMIT 2\n",
      "\u001b[0m\n",
      "Full Context:\n",
      "\u001b[32;1m\u001b[1;3m[{'IneffectiveArticleNumber': '1', 'IneffectiveArticleText': 'Undang-undang (UU) Nomor 11 Tahun 2008 tentang Informasi dan Transaksi Elektronik, BAB I - KETENTUAN UMUM, Pasal 1:\\nDalam Undang-Undang ini yang dimaksud dengan:\\n(1) Informasi Elektronik adalah satu atau sekumpulan data elektronik, termasuk tetapi tidak terbatas pada tulisan, suara, gambar, peta, rancangan, foto, electronic data interchange (EDI), surat elektronik (electronic mail), telegram, teleks, telecopy atau sejenisnya, huruf, tanda, angka, Kode Akses, simbol, atau perforasi yang telah diolah yang memiliki arti atau dapat dipahami oleh orang yang mampu memahaminya.\\n(2) Transaksi Elektronik adalah perbuatan hukum yang dilakukan dengan menggunakan Komputer, jaringan Komputer, dan/atau media elektronik lainnya.\\n(3) Teknologi Informasi adalah suatu teknik untuk mengumpulkan, menyiapkan, menyimpan, memproses, mengumumkan, menganalisis, dan/atau menyebarkan informasi.\\n(4) Dokumen Elektronik adalah setiap Informasi Elektronik yang dibuat, diteruskan, dikirimkan, diterima, atau disimpan dalam bentuk analog, digital, elektromagnetik, optikal, atau sejenisnya, yang dapat dilihat, ditampilkan, dan/atau didengar melalui Komputer atau Sistem Elektronik, termasuk tetapi tidak terbatas pada tulisan, suara, gambar, peta, rancangan, foto atau sejenisnya, huruf, tanda, angka, Kode Akses, simbol atau perforasi yang memiliki makna atau arti atau dapat dipahami oleh orang yang mampu memahaminya.\\n(5) Sistem Elektronik adalah serangkaian perangkat dan prosedur elektronik yang berfungsi mempersiapkan, mengumpulkan, mengolah, menganalisis, menyimpan, menampilkan, mengumumkan, mengirimkan, dan/atau menyebarkan Informasi Elektronik.\\n(6) Penyelenggaraan Sistem Elektronik adalah pemanfaatan Sistem Elektronik oleh penyelenggara negara, Orang, Badan Usaha, dan/atau masyarakat.\\n(7) Jaringan Sistem Elektronik adalah terhubungnya dua Sistem Elektronik atau lebih, yang bersifat tertutup ataupun terbuka.\\n(8) Agen Elektronik adalah perangkat dari suatu Sistem Elektronik yang dibuat untuk melakukan suatu tindakan terhadap suatu Informasi Elektronik tertentu secara otomatis yang diselenggarakan oleh Orang.\\n(9) Sertifikat Elektronik adalah sertifikat yang bersifat elektronik yang memuat Tanda Tangan Elektronik dan identitas yang menunjukkan status subjek hukum para pihak dalam Transaksi Elektronik yang dikeluarkan oleh Penyelenggara Sertifikasi Elektronik.\\n(10) Penyelenggara Sertifikasi Elektronik adalah badan hukum yang berfungsi sebagai pihak yang layak dipercaya, yang memberikan dan mengaudit Sertifikat Elektronik.\\n(11) Lembaga Sertifikasi Keandalan adalah lembaga independen yang dibentuk oleh profesional yang diakui, disahkan, dan diawasi oleh Pemerintah dengan kewenangan mengaudit dan mengeluarkan sertifikat keandalan dalam Transaksi Elektronik.\\n(12) Tanda Tangan Elektronik adalah tanda tangan yang terdiri atas Informasi Elektronik yang dilekatkan, terasosiasi atau terkait dengan Informasi Elektronik lainnya yang digunakan sebagai alat verifikasi dan autentikasi.\\n(13) Penanda Tangan adalah subjek hukum yang terasosiasikan atau terkait dengan Tanda Tangan Elektronik.\\n(14) Komputer adalah alat untuk memproses data elektronik, magnetik, optik, atau sistem yang melaksanakan fungsi logika, aritmatika, dan penyimpanan.\\n(15) Akses adalah kegiatan melakukan interaksi dengan Sistem Elektronik yang berdiri sendiri atau dalam jaringan.\\n(16) Kode Akses adalah angka, huruf, simbol, karakter lainnya atau kombinasi di antaranya, yang merupakan kunci untuk dapat mengakses Komputer dan/atau Sistem Elektronik lainnya.\\n(17) Kontrak Elektronik adalah perjanjian para pihak yang dibuat melalui Sistem Elektronik.\\n(18) Pengirim adalah subjek hukum yang mengirimkan Informasi Elektronik dan/atau Dokumen Elektronik.\\n(19) Penerima adalah subjek hukum yang menerima Informasi Elektronik dan/atau Dokumen Elektronik dari Pengirim.\\n(20) Nama Domain adalah alamat internet penyelenggara negara, Orang, Badan Usaha, dan/atau masyarakat, yang dapat digunakan dalam berkomunikasi melalui internet, yang berupa kode atau susunan karakter yang bersifat unik untuk menunjukkan lokasi tertentu dalam internet.\\n(21) Orang adalah orang perseorangan, baik warga negara Indonesia, warga negara asing, maupun badan hukum.\\n(22) Badan Usaha adalah perusahaan perseorangan atau perusahaan persekutuan, baik yang berbadan hukum maupun yang tidak berbadan hukum.\\n(23) Pemerintah adalah Menteri atau pejabat lainnya yang ditunjuk oleh Presiden.', 'AmendedArticleText': 'Undang-undang (UU) Nomor 19 Tahun 2016 tentang Perubahan Atas Undang-Undang Nomor 11 Tahun 2008 Tentang Informasi Dan Transaksi Elektronik, BAB I - KETENTUAN UMUM, Pasal 1:\\nDalam Undang-Undang ini yang dimaksud dengan:\\n(1) Informasi Elektronik adalah satu atau sekumpulan data elektronik, termasuk tetapi tidak terbatas pada tulisan, suara, gambar, peta, rancangan, foto, electronic data interchange (EDI), surat elektronik (electronic mail), telegram, teleks, telecopy atau sejenisnya, huruf, tanda, angka, Kode Akses, simbol, atau perforasi yang telah diolah yang memiliki arti atau dapat dipahami oleh orang yang mampu memahaminya.\\n(2) Transaksi Elektronik adalah perbuatan hukum yang dilakukan dengan menggunakan Komputer, jaringan Komputer, dan/atau media elektronik lainnya.\\n(3) Teknologi Informasi adalah suatu teknik untuk mengumpulkan, menyiapkan, menyimpan, memproses, mengumumkan, menganalisis, dan/atau menyebarkan informasi.\\n(4) Dokumen Elektronik adalah setiap Informasi Elektronik yang dibuat, diteruskan, dikirimkan, diterima, atau disimpan dalam bentuk analog, digital, elektromagnetik, optikal, atau sejenisnya, yang dapat dilihat, ditampilkan, dan/atau didengar melalui Komputer atau Sistem Elektronik, termasuk tetapi tidak terbatas pada tulisan, suara, gambar, peta, rancangan, foto atau sejenisnya, huruf, tanda, angka, Kode Akses, simbol atau perforasi yang memiliki makna atau arti atau dapat dipahami oleh orang yang mampu memahaminya.\\n(5) Sistem Elektronik adalah serangkaian perangkat dan prosedur elektronik yang berfungsi mempersiapkan, mengumpulkan, mengolah, menganalisis, menyimpan, menampilkan, mengumumkan, mengirimkan, dan/atau menyebarkan Informasi Elektronik.\\n(6) Penyelenggaraan Sistem Elektronik adalah pemanfaatan Sistem Elektronik oleh penyelenggara negara, Orang, Badan Usaha, dan/atau masyarakat.\\n(6a) Penyelenggara Sistem Elektronik adalah setiap Orang, penyelenggara negara, Badan Usaha, dan masyarakat yang menyediakan, mengelola, dan/atau mengoperasikan Sistem Elektronik, baik secara sendiri-sendiri maupun bersama-sama kepada pengguna Sistem Elektronik untuk keperluan dirinya dan/atau keperluan pihak lain.\\n(7) Jaringan Sistem Elektronik adalah terhubungnya dua Sistem Elektronik atau lebih, yang bersifat tertutup ataupun terbuka.\\n(8) Agen Elektronik adalah perangkat dari suatu Sistem Elektronik yang dibuat untuk melakukan suatu tindakan terhadap suatu Informasi Elektronik tertentu secara otomatis yang diselenggarakan oleh Orang.\\n(9) Sertifikat Elektronik adalah sertifikat yang bersifat elektronik yang memuat Tanda Tangan Elektronik dan identitas yang menunjukkan status subjek hukum para pihak dalam Transaksi Elektronik yang dikeluarkan oleh Penyelenggara Sertifikasi Elektronik.\\n(10) Penyelenggara Sertifikasi Elektronik adalah badan hukum yang berfungsi sebagai pihak yang layak dipercaya, yang memberikan dan mengaudit Sertifikat Elektronik.\\n(11) Lembaga Sertifikasi Keandalan adalah lembaga independen yang dibentuk oleh profesional yang diakui, disahkan, dan diawasi oleh Pemerintah dengan kewenangan mengaudit dan mengeluarkan sertifikat keandalan dalam Transaksi Elektronik.\\n(12) Tanda Tangan Elektronik adalah tanda tangan yang terdiri atas Informasi Elektronik yang dilekatkan, terasosiasi atau terkait dengan Informasi Elektronik lainnya yang digunakan sebagai alat verifikasi dan autentikasi.\\n(13) Penanda Tangan adalah subjek hukum yang terasosiasikan atau terkait dengan Tanda Tangan Elektronik.\\n(14) Komputer adalah alat untuk memproses data elektronik, magnetik, optik, atau sistem yang melaksanakan fungsi logika, aritmatika, dan penyimpanan.\\n(15) Akses adalah kegiatan melakukan interaksi dengan Sistem Elektronik yang berdiri sendiri atau dalam jaringan.\\n(16) Kode Akses adalah angka, huruf, simbol, karakter lainnya atau kombinasi di antaranya, yang merupakan kunci untuk dapat mengakses Komputer dan/atau Sistem Elektronik lainnya.\\n(17) Kontrak Elektronik adalah perjanjian para pihak yang dibuat melalui Sistem Elektronik.\\n(18) Pengirim adalah subjek hukum yang mengirimkan Informasi Elektronik dan/atau Dokumen Elektronik.\\n(19) Penerima adalah subjek hukum yang menerima Informasi Elektronik dan/atau Dokumen Elektronik dari Pengirim.\\n(20) Nama Domain adalah alamat internet penyelenggara negara, Orang, Badan Usaha, dan/atau masyarakat, yang dapat digunakan dalam berkomunikasi melalui internet, yang berupa kode atau susunan karakter yang bersifat unik untuk menunjukkan lokasi tertentu dalam internet.\\n(21) Orang adalah orang perseorangan, baik warga negara Indonesia, warga negara asing, maupun badan hukum.\\n(22) Badan Usaha adalah perusahaan perseorangan atau perusahaan persekutuan, baik yang berbadan hukum maupun yang tidak berbadan hukum.\\n(23) Pemerintah adalah Menteri atau pejabat lainnya yang ditunjuk oleh Presiden.'}, {'IneffectiveArticleNumber': '5', 'IneffectiveArticleText': 'Undang-undang (UU) Nomor 11 Tahun 2008 tentang Informasi dan Transaksi Elektronik, BAB III - INFORMASI DOKUMEN DAN TANDA TANGAN ELEKTRONIK, Pasal 5:\\n(1) Informasi Elektronik dan/atau Dokumen Elektronik dan/atau hasil cetaknya merupakan alat bukti hukum yang sah.\\n(2) Informasi Elektronik dan/atau Dokumen Elektronik dan/atau hasil cetaknya sebagaimana dimaksud pada ayat (1) merupakan perluasan dari alat bukti yang sah sesuai dengan Hukum Acara yang berlaku di Indonesia.\\n(3) Informasi Elektronik dan/atau Dokumen Elektronik dinyatakan sah apabila menggunakan Sistem Elektronik sesuai dengan ketentuan yang diatur dalam Undang-Undang ini.\\n(4) Ketentuan mengenai Informasi Elektronik dan/atau Dokumen Elektronik sebagaimana dimaksud pada ayat (1) tidak berlaku untuk:\\n\\ta. surat yang menurut Undang-Undang harus dibuat dalam bentuk tertulis; dan\\n\\tb. surat beserta dokumennya yang menurut Undang-Undang harus dibuat dalam bentuk akta notaril atau akta yang dibuat oleh pejabat pembuat akta.', 'AmendedArticleText': 'Undang-undang (UU) Nomor 1 Tahun 2024 tentang Perubahan Kedua atas Undang-Undang Nomor 11 Tahun 2008 tentang Informasi dan Transaksi Elektronik, BAB III - INFORMASI DOKUMEN DAN TANDA TANGAN ELEKTRONIK, Pasal 5:\\n(1) Informasi Elektronik dan/atau Dokumen Elektronik dan/ atau hasil cetaknya merupakan alat bukti hukum yang sah.\\n(2) Informasi Elektronik dan/atau Dokumen Elektronik dan/atau hasil cetaknya sebagaimana dimaksud pada ayat (1) merupakan perluasan dari alat bukti yang sah sesuai dengan Hukum Acara yang berlaku di Indonesia.\\n(3) Informasi Elektronik dan/atau Dokumen Elektronik dinyatakan sah apabila menggunakan Sistem Elektronik sesuai dengan ketentuan yang diatur dalam Undang-Undang ini.\\n(4) Ketentuan mengenai Informasi Elektronik dan/atau Dokumen Elektronik sebagaimana dimaksud pada ayat (1) tidak berlaku dalam hal diatur lain dalam Undang-Undang.'}]\u001b[0m\n",
      "\n",
      "\u001b[1m> Finished chain.\u001b[0m\n"
     ]
    },
    {
     "data": {
      "text/markdown": [
       "Oke, mari kita analisis perubahan dalam UU Nomor 11 Tahun 2008 setelah adanya amandemen (UU Nomor 1 Tahun 2024):\n",
       "\n",
       "**Nomor Pasal yang Tidak Berlaku (Effective):**\n",
       "\n",
       "*   Pasal 5 UU Nomor 11 Tahun 2008 (sebelum amandemen)\n",
       "\n",
       "**Isi Pasal Sebelum dan Sesudah Amandemen (dengan 2 Contoh):**\n",
       "\n",
       "**Pasal 5 (Sebelum Amandemen - UU 11 Tahun 2008):**\n",
       "\n",
       "*   (1) Informasi Elektronik dan/atau Dokumen Elektronik dan/atau hasil cetaknya merupakan alat bukti hukum yang sah.\n",
       "*   (2) Informasi Elektronik dan/atau Dokumen Elektronik dan/atau hasil cetaknya sebagaimana dimaksud pada ayat (1) merupakan perluasan dari alat bukti yang sah sesuai dengan Hukum Acara yang berlaku di Indonesia.\n",
       "*   (3) Informasi Elektronik dan/atau Dokumen Elektronik dinyatakan sah apabila menggunakan Sistem Elektronik sesuai dengan ketentuan yang diatur dalam Undang-Undang ini.\n",
       "*   (4) Ketentuan mengenai Informasi Elektronik dan/atau Dokumen Elektronik sebagaimana dimaksud pada ayat (1) tidak berlaku untuk:\n",
       "    *   a. surat yang menurut Undang-Undang harus dibuat dalam bentuk tertulis; dan\n",
       "    *   b. surat beserta dokumennya yang menurut Undang-Undang harus dibuat dalam bentuk akta notaril atau akta yang dibuat oleh pejabat pembuat akta.\n",
       "\n",
       "**Pasal 5 (Sesudah Amandemen - UU 1 Tahun 2024):**\n",
       "\n",
       "*   (1) Informasi Elektronik dan/atau Dokumen Elektronik dan/atau hasil cetaknya merupakan alat bukti hukum yang sah.\n",
       "*   (2) Informasi Elektronik dan/atau Dokumen Elektronik dan/atau hasil cetaknya sebagaimana dimaksud pada ayat (1) merupakan perluasan dari alat bukti yang sah sesuai dengan Hukum Acara yang berlaku di Indonesia.\n",
       "*   (3) Informasi Elektronik dan/atau Dokumen Elektronik dinyatakan sah apabila menggunakan Sistem Elektronik sesuai dengan ketentuan yang diatur dalam Undang-Undang ini.\n",
       "*   (4) Ketentuan mengenai Informasi Elektronik dan/atau Dokumen Elektronik sebagaimana dimaksud pada ayat (1) tidak berlaku dalam hal diatur lain dalam Undang-Undang.\n",
       "\n",
       "**Perbedaan Utama (2 Contoh):**\n",
       "\n",
       "1.  **Pengecualian Penerapan:**\n",
       "    *   **Sebelum Amandemen:** Pasal 5 (sebelum) secara spesifik menyatakan bahwa ketentuan mengenai Informasi Elektronik dan Dokumen Elektronik *tidak berlaku* untuk surat yang harus dibuat dalam bentuk tertulis dan surat yang harus dibuat dalam bentuk akta notaril. Ini memberikan batasan yang jelas.\n",
       "    *   **Sesudah Amandemen:** Pasal 5 (sesudah) menyatakan bahwa ketentuan *tidak berlaku* dalam hal diatur lain dalam Undang-Undang. Ini menjadi lebih umum dan membuka kemungkinan adanya peraturan lain yang dapat mengatur penggunaan bukti elektronik dalam kasus-kasus tertentu.\n",
       "\n",
       "2.  **Ruang Lingkup Penerapan:**\n",
       "    *   **Sebelum Amandemen:**  Fokus pada batasan-batasan penggunaan bukti elektronik, terutama dalam konteks surat-surat tertentu.\n",
       "    *   **Sesudah Amandemen:** Lebih fleksibel, karena menyatakan bahwa ketentuan tidak berlaku jika ada peraturan lain yang lebih spesifik. Ini berarti penggunaan bukti elektronik dapat diatur lebih lanjut melalui undang-undang atau peraturan lain.\n",
       "\n",
       "Semoga penjelasan ini membantu!"
      ],
      "text/plain": [
       "<IPython.core.display.Markdown object>"
      ]
     },
     "metadata": {},
     "output_type": "display_data"
    },
    {
     "name": "stdout",
     "output_type": "stream",
     "text": [
      "Execution time: 131.9371018409729 seconds\n"
     ]
    }
   ],
   "source": [
    "start_time = time.time()\n",
    "response = chain.invoke(\n",
    "    \"Apa saja nomor pasal yang sudah tidak berlaku (effective) di UU Nomor 11 Tahun 2008?\\n\"\n",
    "    \"Lalu apa saja isi pasal amandemennya dan apa bedanya dengan isi pasal sebelum diamandemen?\\n\"\n",
    "    \"Berikan 2 contoh saja.\\n\"\n",
    "    \"Lalu jelaskan apa yang berbeda sebelum dan sesudah amandemen\"\n",
    ")\n",
    "\n",
    "# pprint.pprint(response)\n",
    "display.display(display.Markdown(response[\"result\"]))\n",
    "print(f\"Execution time: {time.time() - start_time} seconds\")"
   ]
  }
 ],
 "metadata": {
  "kernelspec": {
   "display_name": ".venv",
   "language": "python",
   "name": "python3"
  },
  "language_info": {
   "codemirror_mode": {
    "name": "ipython",
    "version": 3
   },
   "file_extension": ".py",
   "mimetype": "text/x-python",
   "name": "python",
   "nbconvert_exporter": "python",
   "pygments_lexer": "ipython3",
   "version": "3.11.4"
  }
 },
 "nbformat": 4,
 "nbformat_minor": 2
}
