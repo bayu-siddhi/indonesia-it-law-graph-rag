{
 "cells": [
  {
   "cell_type": "code",
   "execution_count": null,
   "metadata": {},
   "outputs": [],
   "source": [
    "import os\n",
    "import pathlib\n",
    "\n",
    "from selenium.webdriver import Firefox\n",
    "\n",
    "from src.prep import utils\n",
    "from src.prep import pdf_converter\n",
    "from src.prep import regulation_parser\n",
    "from src.prep.regulation_scraper import (\n",
    "    BPKScraper,\n",
    "    KomdigiScraper\n",
    ")"
   ]
  },
  {
   "cell_type": "markdown",
   "metadata": {},
   "source": [
    "### **Scrape Active Regulations**"
   ]
  },
  {
   "cell_type": "code",
   "execution_count": null,
   "metadata": {},
   "outputs": [
    {
     "name": "stderr",
     "output_type": "stream",
     "text": [
      "Scraping active regulations: 100%|██████████| 1/1 [00:04<00:00,  4.97s/it]\n"
     ]
    },
    {
     "name": "stdout",
     "output_type": "stream",
     "text": [
      "====================================================================================================\n",
      "URL                 : https://peraturan.bpk.go.id/Search?keywords=&tentang=&nomor=&jenis=8&tema=55\n",
      "Regulation type     : UU\n",
      "Total regulations   : 5 regulations\n",
      "Gross time          : 4.98 seconds\n",
      "Net time            : 3.965 seconds\n",
      "Average gross time  : 0.996 seconds\n",
      "Average net time    : 0.793 seconds\n",
      "====================================================================================================\n"
     ]
    },
    {
     "name": "stderr",
     "output_type": "stream",
     "text": [
      "Scraping active regulations: 100%|██████████| 4/4 [00:16<00:00,  4.23s/it]\n"
     ]
    },
    {
     "name": "stdout",
     "output_type": "stream",
     "text": [
      "====================================================================================================\n",
      "URL                 : https://peraturan.bpk.go.id/Search?keywords=&tentang=&nomor=&jenis=10&tema=55\n",
      "Regulation type     : PP\n",
      "Total regulations   : 17 regulations\n",
      "Gross time          : 16.941 seconds\n",
      "Net time            : 12.928 seconds\n",
      "Average gross time  : 0.997 seconds\n",
      "Average net time    : 0.76 seconds\n",
      "====================================================================================================\n"
     ]
    },
    {
     "name": "stderr",
     "output_type": "stream",
     "text": [
      "Scraping active regulations: 100%|██████████| 39/39 [02:51<00:00,  4.40s/it]\n"
     ]
    },
    {
     "name": "stdout",
     "output_type": "stream",
     "text": [
      "====================================================================================================\n",
      "URL                 : https://peraturan.bpk.go.id/Search?keywords=&tentang=&nomor=&entitas=603&tema=55\n",
      "Regulation type     : PERMENKOMINFO\n",
      "Total regulations   : 178 regulations\n",
      "Gross time          : 171.583 seconds\n",
      "Net time            : 132.437 seconds\n",
      "Average gross time  : 0.964 seconds\n",
      "Average net time    : 0.744 seconds\n",
      "====================================================================================================\n"
     ]
    }
   ],
   "source": [
    "# Change These Input Data\n",
    "input_data = [\n",
    "    {\n",
    "        \"regulation_type\": \"UU\",\n",
    "        \"url\": \"https://peraturan.bpk.go.id/Search?keywords=&tentang=&nomor=&jenis=8&tema=55\"\n",
    "    },\n",
    "    {\n",
    "        \"regulation_type\": \"PP\",\n",
    "        \"url\": \"https://peraturan.bpk.go.id/Search?keywords=&tentang=&nomor=&jenis=10&tema=55\"\n",
    "    },\n",
    "    {\n",
    "        \"regulation_type\": \"PERMENKOMINFO\",\n",
    "        \"url\": \"https://peraturan.bpk.go.id/Search?keywords=&tentang=&nomor=&entitas=603&tema=55\"\n",
    "    }\n",
    "]\n",
    "\n",
    "dir_path = os.path.join(\"data\", \"active\")\n",
    "os.makedirs(dir_path, exist_ok=True)\n",
    "\n",
    "web_driver = Firefox()\n",
    "bpk_scraper = BPKScraper(web_driver=web_driver)\n",
    "output_path = os.path.join(dir_path, \"active_regulation.xlsx\")\n",
    "\n",
    "for data in input_data:\n",
    "    # Scrape active regulation links\n",
    "    active_regulations = bpk_scraper.active_regulation(\n",
    "        url=data[\"url\"],\n",
    "        regulation_type=data[\"regulation_type\"],\n",
    "        verbose=True\n",
    "    )\n",
    "\n",
    "    # Save output to .XSLX file\n",
    "    utils.list_of_dict_to_excel(\n",
    "        data=active_regulations,\n",
    "        output_path=output_path,\n",
    "        sheet_name=data[\"regulation_type\"]\n",
    "    )\n",
    "\n",
    "web_driver.quit()"
   ]
  },
  {
   "cell_type": "markdown",
   "metadata": {},
   "source": [
    "### **Scrape Regulation Metadata**"
   ]
  },
  {
   "cell_type": "code",
   "execution_count": 2,
   "metadata": {},
   "outputs": [
    {
     "name": "stdout",
     "output_type": "stream",
     "text": [
      "Total regulations: 63\n"
     ]
    },
    {
     "data": {
      "text/plain": [
       "['https://peraturan.bpk.go.id/Details/45357/uu-no-36-tahun-1999',\n",
       " 'https://peraturan.bpk.go.id/Details/45370/uu-no-40-tahun-1999',\n",
       " 'https://peraturan.bpk.go.id/Details/37589/uu-no-11-tahun-2008',\n",
       " 'https://peraturan.bpk.go.id/Details/37582/uu-no-19-tahun-2016',\n",
       " 'https://peraturan.bpk.go.id/Details/229798/uu-no-27-tahun-2022',\n",
       " 'https://peraturan.bpk.go.id/Details/274494/uu-no-1-tahun-2024',\n",
       " 'https://peraturan.bpk.go.id/Details/53323/pp-no-52-tahun-2000',\n",
       " 'https://peraturan.bpk.go.id/Details/122030/pp-no-71-tahun-2019',\n",
       " 'https://peraturan.bpk.go.id/Details/126143/pp-no-80-tahun-2019',\n",
       " 'https://peraturan.bpk.go.id/Details/161970/pp-no-46-tahun-2021',\n",
       " 'https://peraturan.bpk.go.id/Details/159911/permenkominfo-no-11permkominfo42007-tahun-200',\n",
       " 'https://peraturan.bpk.go.id/Details/159930/permenkominfo-no-26permkominfo52007-tahun-200',\n",
       " 'https://peraturan.bpk.go.id/Details/159937/permenkominfo-no-38permkominfo92007-tahun-200',\n",
       " 'https://peraturan.bpk.go.id/Details/159035/permenkominfo-no-41permkominfo102009-tahun-20',\n",
       " 'https://peraturan.bpk.go.id/Details/159038/permenkominfo-no-42permkominfo102009-tahun-20',\n",
       " 'https://peraturan.bpk.go.id/Details/158049/permenkominfo-no-1permkominfo12010-tahun-2010',\n",
       " 'https://peraturan.bpk.go.id/Details/158237/permenkominfo-no-16permkominfo102010-tahun-20',\n",
       " 'https://peraturan.bpk.go.id/Details/158417/permenkominfo-no-29permkominfo122010-tahun-20',\n",
       " 'https://peraturan.bpk.go.id/Details/157623/permenkominfo-no-2permkominfo32011-tahun-2011',\n",
       " 'https://peraturan.bpk.go.id/Details/157635/permenkominfo-no-24permkominfo122011-tahun-20',\n",
       " 'https://peraturan.bpk.go.id/Details/161640/permenkominfo-no-41-tahun-2012',\n",
       " 'https://peraturan.bpk.go.id/Details/155397/permenkominfo-no-20-tahun-2013',\n",
       " 'https://peraturan.bpk.go.id/Details/155401/permenkominfo-no-23-tahun-2013',\n",
       " 'https://peraturan.bpk.go.id/Details/161671/permenkominfo-no-24-tahun-2013',\n",
       " 'https://peraturan.bpk.go.id/Details/161730/permenkominfo-no-14-tahun-2014',\n",
       " 'https://peraturan.bpk.go.id/Details/151479/permenkominfo-no-38-tahun-2014',\n",
       " 'https://peraturan.bpk.go.id/Details/150682/permenkominfo-no-7-tahun-2015',\n",
       " 'https://peraturan.bpk.go.id/Details/161772/permenkominfo-no-17-tahun-2015',\n",
       " 'https://peraturan.bpk.go.id/Details/151097/permenkominfo-no-26-tahun-2015',\n",
       " 'https://peraturan.bpk.go.id/Details/151143/permenkominfo-no-32-tahun-2015',\n",
       " 'https://peraturan.bpk.go.id/Details/151148/permenkominfo-no-35-tahun-2015',\n",
       " 'https://peraturan.bpk.go.id/Details/150525/permenkominfo-no-4-tahun-2016',\n",
       " 'https://peraturan.bpk.go.id/Details/150526/permenkominfo-no-5-tahun-2016',\n",
       " 'https://peraturan.bpk.go.id/Details/150531/permenkominfo-no-10-tahun-2016',\n",
       " 'https://peraturan.bpk.go.id/Details/150535/permenkominfo-no-13-tahun-2016',\n",
       " 'https://peraturan.bpk.go.id/Details/150536/permenkominfo-no-14-tahun-2016',\n",
       " 'https://peraturan.bpk.go.id/Details/150543/permenkominfo-no-20-tahun-2016',\n",
       " 'https://peraturan.bpk.go.id/Details/150097/permenkominfo-no-5-tahun-2017',\n",
       " 'https://peraturan.bpk.go.id/Details/150102/permenkominfo-no-6-tahun-2017',\n",
       " 'https://peraturan.bpk.go.id/Details/149083/permenkominfo-no-1-tahun-2018',\n",
       " 'https://peraturan.bpk.go.id/Details/149634/permenkominfo-no-3-tahun-2018',\n",
       " 'https://peraturan.bpk.go.id/Details/149653/permenkominfo-no-10-tahun-2018',\n",
       " 'https://peraturan.bpk.go.id/Details/149655/permenkominfo-no-11-tahun-2018',\n",
       " 'https://peraturan.bpk.go.id/Details/149726/permenkominfo-no-12-tahun-2018',\n",
       " 'https://peraturan.bpk.go.id/Details/149737/permenkominfo-no-16-tahun-2018',\n",
       " 'https://peraturan.bpk.go.id/Details/255619/permenkominfo-no-4-tahun-2019',\n",
       " 'https://peraturan.bpk.go.id/Details/255658/permenkominfo-no-5-tahun-2019',\n",
       " 'https://peraturan.bpk.go.id/Details/203113/permenkominfo-no-13-tahun-2019',\n",
       " 'https://peraturan.bpk.go.id/Details/169165/permenkominfo-no-1-tahun-2020',\n",
       " 'https://peraturan.bpk.go.id/Details/169167/permenkominfo-no-2-tahun-2020',\n",
       " 'https://peraturan.bpk.go.id/Details/203049/permenkominfo-no-5-tahun-2020',\n",
       " 'https://peraturan.bpk.go.id/Details/203112/permenkominfo-no-1-tahun-2021',\n",
       " 'https://peraturan.bpk.go.id/Details/203070/permenkominfo-no-5-tahun-2021',\n",
       " 'https://peraturan.bpk.go.id/Details/203116/permenkominfo-no-6-tahun-2021',\n",
       " 'https://peraturan.bpk.go.id/Details/203118/permenkominfo-no-7-tahun-2021',\n",
       " 'https://peraturan.bpk.go.id/Details/203121/permenkominfo-no-10-tahun-2021',\n",
       " 'https://peraturan.bpk.go.id/Details/203122/permenkominfo-no-11-tahun-2021',\n",
       " 'https://peraturan.bpk.go.id/Details/203124/permenkominfo-no-13-tahun-2021',\n",
       " 'https://peraturan.bpk.go.id/Details/203125/permenkominfo-no-14-tahun-2021',\n",
       " 'https://peraturan.bpk.go.id/Details/255601/permenkominfo-no-16-tahun-2022',\n",
       " 'https://peraturan.bpk.go.id/Details/282035/permenkominfo-no-3-tahun-2024',\n",
       " 'https://peraturan.bpk.go.id/Details/299331/permenkominfo-no-4-tahun-2024',\n",
       " 'https://peraturan.bpk.go.id/Details/305569/permenkominfo-no-6-tahun-2024']"
      ]
     },
     "metadata": {},
     "output_type": "display_data"
    }
   ],
   "source": [
    "# Change These Input\n",
    "file_path = os.path.join(\"data\", \"active\", \"selected_regulation.xlsx\")\n",
    "\n",
    "uu = utils.load_excel_selected_regulations(file_path=file_path, sheet_name=\"UU\", url_type=\"url_1\", url_only=True)\n",
    "pp = utils.load_excel_selected_regulations(file_path=file_path, sheet_name=\"PP\", url_type=\"url_1\", url_only=True)\n",
    "permenkominfo = utils.load_excel_selected_regulations(file_path=file_path, sheet_name=\"PERMENKOMINFO\", url_type=\"url_1\", url_only=True)\n",
    "\n",
    "selected_regulations = uu + pp + permenkominfo\n",
    "print(f\"Total regulations: {len(selected_regulations)}\")\n",
    "display(selected_regulations)"
   ]
  },
  {
   "cell_type": "code",
   "execution_count": null,
   "metadata": {},
   "outputs": [
    {
     "name": "stderr",
     "output_type": "stream",
     "text": [
      "Scraping regulation metadata: 100%|██████████| 63/63 [03:15<00:00,  3.11s/it]\n"
     ]
    },
    {
     "name": "stdout",
     "output_type": "stream",
     "text": [
      "====================================================================================================\n",
      "Total regulations   : 63 regulations\n",
      "Gross time          : 195.63 seconds\n",
      "Net time            : 69.498 seconds\n",
      "Average gross time  : 3.105 seconds\n",
      "Average net time    : 1.103 seconds\n",
      "====================================================================================================\n"
     ]
    }
   ],
   "source": [
    "output_path = os.path.join(\"data\", \"json\", \"regulation_data.json\")\n",
    "\n",
    "web_driver = Firefox()\n",
    "bpk_scraper = BPKScraper(web_driver=web_driver)\n",
    "\n",
    "regulation_metadata = bpk_scraper.regulation_metadata(\n",
    "    urls=selected_regulations,\n",
    "    verbose=True\n",
    ")\n",
    "\n",
    "utils.list_of_dict_to_json(\n",
    "    data=regulation_metadata,\n",
    "    output_path=output_path\n",
    ")\n",
    "\n",
    "web_driver.quit()"
   ]
  },
  {
   "cell_type": "code",
   "execution_count": 4,
   "metadata": {},
   "outputs": [
    {
     "name": "stderr",
     "output_type": "stream",
     "text": [
      "Modify regulation metadata: 63it [00:00, ?it/s]"
     ]
    },
    {
     "name": "stdout",
     "output_type": "stream",
     "text": [
      "Successfully modified JSON data to data\\json\\regulation_data_modified.json\n"
     ]
    },
    {
     "name": "stderr",
     "output_type": "stream",
     "text": [
      "\n"
     ]
    }
   ],
   "source": [
    "input_json_file = os.path.join(\"data\", \"json\", \"regulation_data.json\")\n",
    "utils.modify_status_json_regulation(input_json_file=input_json_file, verbose=True)"
   ]
  },
  {
   "cell_type": "markdown",
   "metadata": {},
   "source": [
    "### **Download Regulation PDF**"
   ]
  },
  {
   "cell_type": "code",
   "execution_count": null,
   "metadata": {},
   "outputs": [
    {
     "name": "stderr",
     "output_type": "stream",
     "text": [
      "Download files: 100%|██████████| 63/63 [05:20<00:00,  5.09s/it]\n",
      "Rename files: 100%|██████████| 63/63 [00:00<00:00, 3350.98it/s]\n"
     ]
    },
    {
     "name": "stdout",
     "output_type": "stream",
     "text": [
      "Successfully download PDF file to data\\pdf\n"
     ]
    }
   ],
   "source": [
    "input_json_file = os.path.join(\"data\", \"json\", \"regulation_data_modified.json\")\n",
    "json_data = utils.read_json(input_path=input_json_file)\n",
    "download_data = []\n",
    "\n",
    "for regulation in json_data:\n",
    "    download_data.append({\n",
    "        \"name\": regulation[\"download_name\"],\n",
    "        \"url\": regulation[\"download_link\"],\n",
    "    })\n",
    "\n",
    "download_full_dir_path = os.path.join(os.getcwd(), \"data\", \"pdf\")\n",
    "\n",
    "regulation_scraper.BPKScraper.download_regulation_pdf(\n",
    "    download_data=download_data,\n",
    "    download_full_dir_path=download_full_dir_path,\n",
    "    verbose=True\n",
    ")"
   ]
  },
  {
   "cell_type": "markdown",
   "metadata": {},
   "source": [
    "### **Scrape Regulation Content**"
   ]
  },
  {
   "cell_type": "code",
   "execution_count": null,
   "metadata": {},
   "outputs": [
    {
     "name": "stdout",
     "output_type": "stream",
     "text": [
      "Total regulations: 55\n"
     ]
    },
    {
     "data": {
      "text/plain": [
       "[{'name': 'UU_1999_036',\n",
       "  'url': 'https://jdih.komdigi.go.id/produk_hukum/view/id/564/t/undangundang+nomor+36+tahun+1999'},\n",
       " {'name': 'UU_2008_011',\n",
       "  'url': 'https://jdih.komdigi.go.id/produk_hukum/view/id/167/t/undangundang+nomor+11+tahun+2008'},\n",
       " {'name': 'UU_2016_019',\n",
       "  'url': 'https://jdih.komdigi.go.id/produk_hukum/view/id/555/t/undangundang+nomor+19+tahun+2016'},\n",
       " {'name': 'UU_2022_027',\n",
       "  'url': 'https://jdih.komdigi.go.id/produk_hukum/view/id/832/t/undangundang+nomor+27+tahun+2022'},\n",
       " {'name': 'UU_2024_001',\n",
       "  'url': 'https://jdih.komdigi.go.id/produk_hukum/view/id/884/t/undangundang+nomor+1+tahun+2024'},\n",
       " {'name': 'PP_2019_071',\n",
       "  'url': 'https://jdih.komdigi.go.id/produk_hukum/view/id/695/t/peraturan+pemerintah+nomor+71+tahun+2019'},\n",
       " {'name': 'PP_2021_046',\n",
       "  'url': 'https://jdih.komdigi.go.id/produk_hukum/view/id/762/t/peraturan+pemerintah+nomor+46+tahun+2021'},\n",
       " {'name': 'PERMENKOMINFO_2007_011',\n",
       "  'url': 'https://jdih.komdigi.go.id/produk_hukum/view/id/431/t/peraturan+menteri+komunikasi+dan+informatika+nomor+11permkominfo042007+tanggal+13+april+2007'},\n",
       " {'name': 'PERMENKOMINFO_2007_038',\n",
       "  'url': 'https://jdih.komdigi.go.id/produk_hukum/view/id/449/t/peraturan+menteri+komunikasi+dan+informatika+nomor+32permkominfo092007+tanggal+20+september+2007'},\n",
       " {'name': 'PERMENKOMINFO_2009_041',\n",
       "  'url': 'https://jdih.komdigi.go.id/produk_hukum/view/id/399/t/peraturan+menteri+komunikasi+dan+informatika+nomor+41permkominfo102009+tanggal+16+oktober+2009'},\n",
       " {'name': 'PERMENKOMINFO_2009_042',\n",
       "  'url': 'https://jdih.komdigi.go.id/produk_hukum/view/id/400/t/peraturan+menteri+komunikasi+dan+informatika+nomor+42permkominfo102009+tanggal+19+oktober+2009'},\n",
       " {'name': 'PERMENKOMINFO_2010_001',\n",
       "  'url': 'https://jdih.komdigi.go.id/produk_hukum/view/id/243/t/peraturan+menteri+komunikasi+dan+informatika+nomor+01permkominfo012010+tanggal+25+januari+2010'},\n",
       " {'name': 'PERMENKOMINFO_2010_016',\n",
       "  'url': 'https://jdih.komdigi.go.id/produk_hukum/view/id/246/t/peraturan+menteri+komunikasi+dan+informatika+nomor+16permkominfo102010+tanggal+20+oktober+2010'},\n",
       " {'name': 'PERMENKOMINFO_2010_029',\n",
       "  'url': 'https://jdih.komdigi.go.id/produk_hukum/view/id/271/t/peraturan+menteri+komunikasi+dan+informatika+nomor+29permkominfo122010+tanggal+30+desember+2010'},\n",
       " {'name': 'PERMENKOMINFO_2011_024',\n",
       "  'url': 'https://jdih.komdigi.go.id/produk_hukum/view/id/316/t/peraturan+menteri+komunikasi+dan+informatika+nomor+24permkominfo122011+tanggal+7+desember+2011'},\n",
       " {'name': 'PERMENKOMINFO_2012_041',\n",
       "  'url': 'https://jdih.komdigi.go.id/produk_hukum/view/id/64/t/peraturan+menteri+komunikasi+dan+informatika+nomor+41+tahun+2012'},\n",
       " {'name': 'PERMENKOMINFO_2013_020',\n",
       "  'url': 'https://jdih.komdigi.go.id/produk_hukum/view/id/87/t/peraturan+menteri+komunikasi+dan+informatika++nomor+20+tahun+2013+tanggal+25+juni+2013'},\n",
       " {'name': 'PERMENKOMINFO_2013_023',\n",
       "  'url': 'https://jdih.komdigi.go.id/produk_hukum/view/id/180/t/peraturan+menteri+komunikasi+dan+informatika+nomor+23+tahun+2013+tanggal+7+oktober+2013'},\n",
       " {'name': 'PERMENKOMINFO_2013_024',\n",
       "  'url': 'https://jdih.komdigi.go.id/produk_hukum/view/id/181/t/peraturan+menteri+komunikasi+dan+informatika+nomor+24+tahun+2013'},\n",
       " {'name': 'PERMENKOMINFO_2014_014',\n",
       "  'url': 'https://jdih.komdigi.go.id/produk_hukum/view/id/208/t/peraturan+menteri+komunikasi+dan+informatika+nomor+14+tahun+2014+tanggal+24+maret+2014'},\n",
       " {'name': 'PERMENKOMINFO_2014_038',\n",
       "  'url': 'https://jdih.komdigi.go.id/produk_hukum/view/id/237/t/peraturan+menteri+komunikasi+dan+informatika+nomor+38+tahun+2014'},\n",
       " {'name': 'PERMENKOMINFO_2015_007',\n",
       "  'url': 'https://jdih.komdigi.go.id/produk_hukum/view/id/302/t/peraturan+menteri+komunikasi+dan+informatika+nomor+7+tahun+2015'},\n",
       " {'name': 'PERMENKOMINFO_2015_017',\n",
       "  'url': 'https://jdih.komdigi.go.id/produk_hukum/view/id/340/t/peraturan+menteri+komunikasi+dan+informatika+nomor+17+tahun+2015+tanggal+27+april+2015'},\n",
       " {'name': 'PERMENKOMINFO_2015_026',\n",
       "  'url': 'https://jdih.komdigi.go.id/produk_hukum/view/id/475/t/peraturan+bersama+menkumham+dan+menteri+komunikasi+dan+informatika+nomor+14+tahun+2015+dan+nomor+26+thn+2015+tanggal+2+juli+2015'},\n",
       " {'name': 'PERMENKOMINFO_2015_032',\n",
       "  'url': 'https://jdih.komdigi.go.id/produk_hukum/view/id/502/t/peraturan+menteri+komunikasi+dan+informatika+nomor+32+tahun+2015+tanggal+2+desember+2015'},\n",
       " {'name': 'PERMENKOMINFO_2015_035',\n",
       "  'url': 'https://jdih.komdigi.go.id/produk_hukum/view/id/510/t/peraturan+menteri+komunikasi+dan+informatika+nomor+35+tahun+2015+tanggal+31+desember+2015'},\n",
       " {'name': 'PERMENKOMINFO_2016_004',\n",
       "  'url': 'https://jdih.komdigi.go.id/produk_hukum/view/id/532/t/peraturan+menteri+komunikasi+dan+informatika+nomor+4+tahun+2016+tanggal+11+april+2016'},\n",
       " {'name': 'PERMENKOMINFO_2016_005',\n",
       "  'url': 'https://jdih.komdigi.go.id/produk_hukum/view/id/533/t/peraturan+menteri+komunikasi+dan+informatika+nomor+5+tahun+2016+tanggal+11+april+2016'},\n",
       " {'name': 'PERMENKOMINFO_2016_010',\n",
       "  'url': 'https://jdih.komdigi.go.id/produk_hukum/view/id/539/t/peraturan+menteri+komunikasi+dan+informatika+nomor+10+tahun+2016+tanggal+15+juli+2016'},\n",
       " {'name': 'PERMENKOMINFO_2016_014',\n",
       "  'url': 'https://jdih.komdigi.go.id/produk_hukum/view/id/544/t/peraturan+menteri+komunikasi+dan+informatika++nomor+14+tahun+2016+tanggal+1++september+2016'},\n",
       " {'name': 'PERMENKOMINFO_2016_020',\n",
       "  'url': 'https://jdih.komdigi.go.id/produk_hukum/view/id/553/t/peraturan+menteri+komunikasi+dan+informatika+nomor+20+tahun+2016+tanggal+1+desember+2016'},\n",
       " {'name': 'PERMENKOMINFO_2017_005',\n",
       "  'url': 'https://jdih.komdigi.go.id/produk_hukum/view/id/563/t/peraturan+menteri+komunikasi+dan+informatika+nomor+5+tahun+2017+tanggal+24+januari+2017'},\n",
       " {'name': 'PERMENKOMINFO_2017_006',\n",
       "  'url': 'https://jdih.komdigi.go.id/produk_hukum/view/id/567/t/peraturan+menteri+komunikasi+dan+informatika+nomor+6+tahun+2017+tanggal+7+februari+2017'},\n",
       " {'name': 'PERMENKOMINFO_2018_001',\n",
       "  'url': 'https://jdih.komdigi.go.id/produk_hukum/view/id/604/t/peraturan+menteri+komunikasi+dan+informatika+nomor+1+tahun+2018+tanggal+12+april+2018'},\n",
       " {'name': 'PERMENKOMINFO_2018_003',\n",
       "  'url': 'https://jdih.komdigi.go.id/produk_hukum/view/id/607/t/peraturan+menteri+komunikasi+dan+informatika+nomor+3+tahun+2018+tanggal+5+juni+2018'},\n",
       " {'name': 'PERMENKOMINFO_2018_010',\n",
       "  'url': 'https://jdih.komdigi.go.id/produk_hukum/view/id/616/t/peraturan+menteri+komunikasi+dan+informatika+nomor+10+tahun+2018'},\n",
       " {'name': 'PERMENKOMINFO_2018_011',\n",
       "  'url': 'https://jdih.komdigi.go.id/index.php/produk_hukum/view/id/617/t/peraturan+menteri+komunikasi+dan+informatika+nomor+11+tahun+2018+tanggal+6+september+2018'},\n",
       " {'name': 'PERMENKOMINFO_2018_012',\n",
       "  'url': 'https://jdih.komdigi.go.id/produk_hukum/view/id/618/t/peraturan+menteri+komunikasi+dan+informatika+nomor+12+tahun+2018+tanggal+24+september+2018'},\n",
       " {'name': 'PERMENKOMINFO_2018_016',\n",
       "  'url': 'https://jdih.komdigi.go.id/produk_hukum/view/id/625/t/peraturan+menteri+komunikasi+dan+informatika+nomor+16+tahun+2018'},\n",
       " {'name': 'PERMENKOMINFO_2019_004',\n",
       "  'url': 'https://jdih.komdigi.go.id/produk_hukum/view/id/684/t/peraturan+menteri+komunikasi+dan+informatika+nomor+4+tahun+2019+tanggal+28+juni+2019'},\n",
       " {'name': 'PERMENKOMINFO_2019_005',\n",
       "  'url': 'https://jdih.komdigi.go.id/produk_hukum/view/id/688/t/peraturan+menteri+komunikasi+dan+informatika+nomor+5+tahun+2019+tanggal+31+juli+2019'},\n",
       " {'name': 'PERMENKOMINFO_2019_013',\n",
       "  'url': 'https://jdih.komdigi.go.id/produk_hukum/view/id/714/t/peraturan+menteri+komunikasi+dan+informatika+nomor+13+tahun+2019'},\n",
       " {'name': 'PERMENKOMINFO_2020_001',\n",
       "  'url': 'https://jdih.komdigi.go.id/produk_hukum/view/id/729/t/peraturan+menteri+komunikasi+dan+informatika+nomor+1+tahun+2020'},\n",
       " {'name': 'PERMENKOMINFO_2020_002',\n",
       "  'url': 'https://jdih.komdigi.go.id/produk_hukum/view/id/736/t/peraturan+menteri+komunikasi+dan+informatika+nomor+2+tahun+2020'},\n",
       " {'name': 'PERMENKOMINFO_2020_005',\n",
       "  'url': 'https://jdih.komdigi.go.id/produk_hukum/view/id/759/t/peraturan+menteri+komunikasi+dan+informatika+nomor+5+tahun+2020'},\n",
       " {'name': 'PERMENKOMINFO_2021_001',\n",
       "  'url': 'https://jdih.komdigi.go.id/produk_hukum/view/id/760/t/peraturan+menteri+komunikasi+dan+informatika+nomor+1+tahun+2021'},\n",
       " {'name': 'PERMENKOMINFO_2021_005',\n",
       "  'url': 'https://jdih.komdigi.go.id/produk_hukum/view/id/768/t/peraturan+menteri+komunikasi+dan+informatika+nomor+5+tahun+2021'},\n",
       " {'name': 'PERMENKOMINFO_2021_006',\n",
       "  'url': 'https://jdih.komdigi.go.id/index.php/produk_hukum/view/id/769/t/peraturan+menteri+komunikasi+dan+informatika+nomor+6+tahun+2021'},\n",
       " {'name': 'PERMENKOMINFO_2021_007',\n",
       "  'url': 'https://jdih.komdigi.go.id/produk_hukum/view/id/770/t/peraturan+menteri+komunikasi+dan+informatika+nomor+7+tahun+2021'},\n",
       " {'name': 'PERMENKOMINFO_2021_010',\n",
       "  'url': 'https://jdih.komdigi.go.id/produk_hukum/view/id/774/t/peraturan+menteri+komunikasi+dan+informatika+nomor+10+tahun+2021'},\n",
       " {'name': 'PERMENKOMINFO_2021_011',\n",
       "  'url': 'https://jdih.komdigi.go.id/produk_hukum/view/id/778/t/peraturan+menteri+komunikasi+dan+informatika+nomor+11+tahun+2021'},\n",
       " {'name': 'PERMENKOMINFO_2021_013',\n",
       "  'url': 'https://jdih.komdigi.go.id/produk_hukum/view/id/782/t/peraturan+menteri+komunikasi+dan+informatika+nomor+13+tahun+2021'},\n",
       " {'name': 'PERMENKOMINFO_2021_014',\n",
       "  'url': 'https://jdih.komdigi.go.id/produk_hukum/view/id/783/t/peraturan+menteri+komunikasi+dan+informatika+nomor+14+tahun+2021'},\n",
       " {'name': 'PERMENKOMINFO_2022_016',\n",
       "  'url': 'https://jdih.komdigi.go.id/produk_hukum/view/id/850/t/peraturan+menteri+komunikasi+dan+informatika+nomor+16+tahun+2022'},\n",
       " {'name': 'PERMENKOMINFO_2024_003',\n",
       "  'url': 'https://jdih.komdigi.go.id/produk_hukum/view/id/892/t/peraturan+menteri+komunikasi+dan+informatika+nomor+3+tahun+2024'}]"
      ]
     },
     "metadata": {},
     "output_type": "display_data"
    }
   ],
   "source": [
    "# Change These Input\n",
    "file_path = os.path.join(\"data\", \"active\", \"selected_regulation.xlsx\")\n",
    "\n",
    "uu = utils.load_excel_selected_regulations(file_path=file_path, sheet_name=\"UU\", url_type=\"url_2\", url_only=False)\n",
    "pp = utils.load_excel_selected_regulations(file_path=file_path, sheet_name=\"PP\", url_type=\"url_2\", url_only=False)\n",
    "permenkominfo = utils.load_excel_selected_regulations(file_path=file_path, sheet_name=\"PERMENKOMINFO\", url_type=\"url_2\", url_only=False)\n",
    "\n",
    "regulation_names_and_links = uu + pp + permenkominfo\n",
    "print(f\"Total regulations: {len(regulation_names_and_links)}\")\n",
    "display(regulation_names_and_links)"
   ]
  },
  {
   "cell_type": "code",
   "execution_count": null,
   "metadata": {},
   "outputs": [
    {
     "name": "stderr",
     "output_type": "stream",
     "text": [
      "Scraping regulation content:   0%|          | 0/55 [00:00<?, ?it/s]"
     ]
    },
    {
     "name": "stderr",
     "output_type": "stream",
     "text": [
      "Scraping regulation content: 100%|██████████| 55/55 [09:30<00:00, 10.36s/it]"
     ]
    },
    {
     "name": "stdout",
     "output_type": "stream",
     "text": [
      "====================================================================================================\n",
      "Output directory    : data\\markdown\\raw\\komdigi\n",
      "Total regulations   : 55 regulations\n",
      "Total success       : 55 regulations\n",
      "Total failed        : 0 regulations\n",
      "Gross time          : 570.067 seconds\n",
      "Net time            : 459.733 seconds\n",
      "Average gross time  : 10.365 seconds\n",
      "Average net time    : 8.359 seconds\n",
      "====================================================================================================\n"
     ]
    },
    {
     "name": "stderr",
     "output_type": "stream",
     "text": [
      "\n"
     ]
    }
   ],
   "source": [
    "output_dir = os.path.join(\"data\", \"markdown\", \"raw\", \"komdigi\")\n",
    "\n",
    "web_driver = Firefox()\n",
    "komdigi_scraper = KomdigiScraper(web_driver=web_driver)\n",
    "\n",
    "komdigi_scraper.regulation_product_content(\n",
    "    regulation_names_and_links=regulation_names_and_links,\n",
    "    output_dir=output_dir,\n",
    "    verbose=True\n",
    ")\n",
    "\n",
    "web_driver.quit()"
   ]
  },
  {
   "cell_type": "markdown",
   "metadata": {},
   "source": [
    "### **Convert PDF to TXT/MD**"
   ]
  },
  {
   "cell_type": "code",
   "execution_count": 4,
   "metadata": {},
   "outputs": [
    {
     "name": "stderr",
     "output_type": "stream",
     "text": [
      "INFO:docling.document_converter:Going to convert document batch...\n",
      "INFO:docling.utils.accelerator_utils:Accelerator device: 'cuda:0'\n",
      "Could not load the custom kernel for multi-scale deformable attention: DLL load failed while importing MultiScaleDeformableAttention: The specified module could not be found.\n",
      "Could not load the custom kernel for multi-scale deformable attention: DLL load failed while importing MultiScaleDeformableAttention: The specified module could not be found.\n",
      "Could not load the custom kernel for multi-scale deformable attention: DLL load failed while importing MultiScaleDeformableAttention: The specified module could not be found.\n",
      "Could not load the custom kernel for multi-scale deformable attention: DLL load failed while importing MultiScaleDeformableAttention: The specified module could not be found.\n",
      "Could not load the custom kernel for multi-scale deformable attention: DLL load failed while importing MultiScaleDeformableAttention: The specified module could not be found.\n",
      "Could not load the custom kernel for multi-scale deformable attention: DLL load failed while importing MultiScaleDeformableAttention: The specified module could not be found.\n",
      "INFO:docling.pipeline.base_pipeline:Processing document PERMENKOMINFO_2007_011.pdf\n",
      "INFO:docling.document_converter:Finished converting document PERMENKOMINFO_2007_011.pdf in 7.56 sec.\n",
      "INFO:docling.pipeline.base_pipeline:Processing document PERMENKOMINFO_2007_026.pdf\n",
      "INFO:docling.document_converter:Finished converting document PERMENKOMINFO_2007_026.pdf in 3.77 sec.\n",
      "INFO:docling.document_converter:Going to convert document batch...\n",
      "INFO:docling.pipeline.base_pipeline:Processing document PERMENKOMINFO_2007_038.pdf\n",
      "INFO:docling.document_converter:Finished converting document PERMENKOMINFO_2007_038.pdf in 1.14 sec.\n",
      "INFO:docling.pipeline.base_pipeline:Processing document PERMENKOMINFO_2009_041.pdf\n",
      "INFO:docling.document_converter:Finished converting document PERMENKOMINFO_2009_041.pdf in 3.94 sec.\n",
      "INFO:docling.document_converter:Going to convert document batch...\n",
      "INFO:docling.pipeline.base_pipeline:Processing document PERMENKOMINFO_2009_042.pdf\n",
      "INFO:docling.document_converter:Finished converting document PERMENKOMINFO_2009_042.pdf in 2.51 sec.\n",
      "INFO:docling.pipeline.base_pipeline:Processing document PERMENKOMINFO_2010_001.pdf\n",
      "INFO:docling.document_converter:Finished converting document PERMENKOMINFO_2010_001.pdf in 7.53 sec.\n",
      "INFO:docling.document_converter:Going to convert document batch...\n",
      "INFO:docling.pipeline.base_pipeline:Processing document PERMENKOMINFO_2010_016.pdf\n",
      "INFO:docling.document_converter:Finished converting document PERMENKOMINFO_2010_016.pdf in 1.95 sec.\n",
      "INFO:docling.pipeline.base_pipeline:Processing document PERMENKOMINFO_2010_029.pdf\n",
      "INFO:docling.document_converter:Finished converting document PERMENKOMINFO_2010_029.pdf in 2.16 sec.\n",
      "INFO:docling.document_converter:Going to convert document batch...\n",
      "INFO:docling.pipeline.base_pipeline:Processing document PERMENKOMINFO_2011_002.pdf\n",
      "INFO:docling.document_converter:Finished converting document PERMENKOMINFO_2011_002.pdf in 5.06 sec.\n",
      "INFO:docling.pipeline.base_pipeline:Processing document PERMENKOMINFO_2011_024.pdf\n",
      "INFO:docling.document_converter:Finished converting document PERMENKOMINFO_2011_024.pdf in 1.86 sec.\n",
      "INFO:docling.document_converter:Going to convert document batch...\n",
      "INFO:docling.pipeline.base_pipeline:Processing document PERMENKOMINFO_2012_041.pdf\n",
      "INFO:docling.document_converter:Finished converting document PERMENKOMINFO_2012_041.pdf in 4.17 sec.\n",
      "INFO:docling.pipeline.base_pipeline:Processing document PERMENKOMINFO_2013_020.pdf\n",
      "INFO:docling.document_converter:Finished converting document PERMENKOMINFO_2013_020.pdf in 2.05 sec.\n",
      "INFO:docling.document_converter:Going to convert document batch...\n",
      "INFO:docling.pipeline.base_pipeline:Processing document PERMENKOMINFO_2013_023.pdf\n",
      "INFO:docling.document_converter:Finished converting document PERMENKOMINFO_2013_023.pdf in 5.48 sec.\n",
      "INFO:docling.pipeline.base_pipeline:Processing document PERMENKOMINFO_2013_024.pdf\n",
      "INFO:docling.document_converter:Finished converting document PERMENKOMINFO_2013_024.pdf in 2.70 sec.\n",
      "INFO:docling.document_converter:Going to convert document batch...\n",
      "INFO:docling.pipeline.base_pipeline:Processing document PERMENKOMINFO_2014_014.pdf\n",
      "INFO:docling.document_converter:Finished converting document PERMENKOMINFO_2014_014.pdf in 3.16 sec.\n",
      "INFO:docling.pipeline.base_pipeline:Processing document PERMENKOMINFO_2014_038.pdf\n",
      "INFO:docling.document_converter:Finished converting document PERMENKOMINFO_2014_038.pdf in 13.06 sec.\n",
      "INFO:docling.document_converter:Going to convert document batch...\n",
      "INFO:docling.pipeline.base_pipeline:Processing document PERMENKOMINFO_2015_007.pdf\n",
      "INFO:docling.document_converter:Finished converting document PERMENKOMINFO_2015_007.pdf in 5.39 sec.\n",
      "INFO:docling.pipeline.base_pipeline:Processing document PERMENKOMINFO_2015_017.pdf\n",
      "INFO:docling.document_converter:Finished converting document PERMENKOMINFO_2015_017.pdf in 2.17 sec.\n",
      "INFO:docling.document_converter:Going to convert document batch...\n",
      "INFO:docling.pipeline.base_pipeline:Processing document PERMENKOMINFO_2015_026.pdf\n",
      "INFO:docling.document_converter:Finished converting document PERMENKOMINFO_2015_026.pdf in 4.53 sec.\n",
      "INFO:docling.pipeline.base_pipeline:Processing document PERMENKOMINFO_2015_032.pdf\n",
      "INFO:docling.document_converter:Finished converting document PERMENKOMINFO_2015_032.pdf in 4.08 sec.\n",
      "INFO:docling.document_converter:Going to convert document batch...\n",
      "INFO:docling.pipeline.base_pipeline:Processing document PERMENKOMINFO_2015_035.pdf\n",
      "INFO:docling.document_converter:Finished converting document PERMENKOMINFO_2015_035.pdf in 3.95 sec.\n",
      "INFO:docling.pipeline.base_pipeline:Processing document PERMENKOMINFO_2016_004.pdf\n",
      "INFO:docling.document_converter:Finished converting document PERMENKOMINFO_2016_004.pdf in 7.95 sec.\n",
      "INFO:docling.document_converter:Going to convert document batch...\n",
      "INFO:docling.pipeline.base_pipeline:Processing document PERMENKOMINFO_2016_005.pdf\n",
      "INFO:docling.document_converter:Finished converting document PERMENKOMINFO_2016_005.pdf in 1.91 sec.\n",
      "INFO:docling.pipeline.base_pipeline:Processing document PERMENKOMINFO_2016_010.pdf\n",
      "INFO:docling.document_converter:Finished converting document PERMENKOMINFO_2016_010.pdf in 3.81 sec.\n",
      "INFO:docling.document_converter:Going to convert document batch...\n",
      "INFO:docling.pipeline.base_pipeline:Processing document PERMENKOMINFO_2016_013.pdf\n",
      "INFO:docling.document_converter:Finished converting document PERMENKOMINFO_2016_013.pdf in 7.19 sec.\n",
      "INFO:docling.pipeline.base_pipeline:Processing document PERMENKOMINFO_2016_014.pdf\n",
      "INFO:docling.document_converter:Finished converting document PERMENKOMINFO_2016_014.pdf in 22.74 sec.\n",
      "INFO:docling.document_converter:Going to convert document batch...\n",
      "INFO:docling.pipeline.base_pipeline:Processing document PERMENKOMINFO_2016_020.pdf\n",
      "INFO:docling.document_converter:Finished converting document PERMENKOMINFO_2016_020.pdf in 6.39 sec.\n",
      "INFO:docling.pipeline.base_pipeline:Processing document PERMENKOMINFO_2017_005.pdf\n",
      "INFO:docling.document_converter:Finished converting document PERMENKOMINFO_2017_005.pdf in 2.25 sec.\n",
      "INFO:docling.document_converter:Going to convert document batch...\n",
      "INFO:docling.pipeline.base_pipeline:Processing document PERMENKOMINFO_2017_006.pdf\n",
      "INFO:docling.document_converter:Finished converting document PERMENKOMINFO_2017_006.pdf in 7.39 sec.\n",
      "INFO:docling.pipeline.base_pipeline:Processing document PERMENKOMINFO_2018_001.pdf\n",
      "INFO:docling.document_converter:Finished converting document PERMENKOMINFO_2018_001.pdf in 11.23 sec.\n",
      "INFO:docling.document_converter:Going to convert document batch...\n",
      "INFO:docling.pipeline.base_pipeline:Processing document PERMENKOMINFO_2018_003.pdf\n",
      "INFO:docling.document_converter:Finished converting document PERMENKOMINFO_2018_003.pdf in 7.70 sec.\n",
      "INFO:docling.pipeline.base_pipeline:Processing document PERMENKOMINFO_2018_010.pdf\n",
      "INFO:docling.document_converter:Finished converting document PERMENKOMINFO_2018_010.pdf in 3.66 sec.\n",
      "INFO:docling.document_converter:Going to convert document batch...\n",
      "INFO:docling.pipeline.base_pipeline:Processing document PERMENKOMINFO_2018_011.pdf\n",
      "INFO:docling.document_converter:Finished converting document PERMENKOMINFO_2018_011.pdf in 13.44 sec.\n",
      "INFO:docling.pipeline.base_pipeline:Processing document PERMENKOMINFO_2018_012.pdf\n",
      "INFO:docling.document_converter:Finished converting document PERMENKOMINFO_2018_012.pdf in 6.23 sec.\n",
      "INFO:docling.document_converter:Going to convert document batch...\n",
      "INFO:docling.pipeline.base_pipeline:Processing document PERMENKOMINFO_2018_016.pdf\n",
      "INFO:docling.document_converter:Finished converting document PERMENKOMINFO_2018_016.pdf in 13.02 sec.\n",
      "INFO:docling.pipeline.base_pipeline:Processing document PERMENKOMINFO_2019_004.pdf\n",
      "INFO:docling.document_converter:Finished converting document PERMENKOMINFO_2019_004.pdf in 20.38 sec.\n",
      "INFO:docling.document_converter:Going to convert document batch...\n",
      "INFO:docling.pipeline.base_pipeline:Processing document PERMENKOMINFO_2019_005.pdf\n",
      "INFO:docling.document_converter:Finished converting document PERMENKOMINFO_2019_005.pdf in 4.73 sec.\n",
      "INFO:docling.pipeline.base_pipeline:Processing document PERMENKOMINFO_2019_013.pdf\n",
      "INFO:docling.document_converter:Finished converting document PERMENKOMINFO_2019_013.pdf in 15.52 sec.\n",
      "INFO:docling.document_converter:Going to convert document batch...\n",
      "INFO:docling.pipeline.base_pipeline:Processing document PERMENKOMINFO_2020_001.pdf\n",
      "INFO:docling.document_converter:Finished converting document PERMENKOMINFO_2020_001.pdf in 4.48 sec.\n",
      "INFO:docling.pipeline.base_pipeline:Processing document PERMENKOMINFO_2020_002.pdf\n",
      "INFO:docling.document_converter:Finished converting document PERMENKOMINFO_2020_002.pdf in 1.20 sec.\n",
      "INFO:docling.document_converter:Going to convert document batch...\n",
      "INFO:docling.pipeline.base_pipeline:Processing document PERMENKOMINFO_2020_005.pdf\n",
      "INFO:docling.document_converter:Finished converting document PERMENKOMINFO_2020_005.pdf in 11.95 sec.\n",
      "INFO:docling.pipeline.base_pipeline:Processing document PERMENKOMINFO_2021_001.pdf\n",
      "INFO:docling.document_converter:Finished converting document PERMENKOMINFO_2021_001.pdf in 8.80 sec.\n",
      "INFO:docling.document_converter:Going to convert document batch...\n",
      "INFO:docling.pipeline.base_pipeline:Processing document PERMENKOMINFO_2021_005.pdf\n",
      "INFO:docling.document_converter:Finished converting document PERMENKOMINFO_2021_005.pdf in 258.03 sec.\n",
      "INFO:docling.pipeline.base_pipeline:Processing document PERMENKOMINFO_2021_006.pdf\n",
      "INFO:docling.document_converter:Finished converting document PERMENKOMINFO_2021_006.pdf in 43.69 sec.\n",
      "INFO:docling.document_converter:Going to convert document batch...\n",
      "INFO:docling.pipeline.base_pipeline:Processing document PERMENKOMINFO_2021_007.pdf\n",
      "INFO:docling.document_converter:Finished converting document PERMENKOMINFO_2021_007.pdf in 32.28 sec.\n",
      "INFO:docling.pipeline.base_pipeline:Processing document PERMENKOMINFO_2021_010.pdf\n",
      "INFO:docling.document_converter:Finished converting document PERMENKOMINFO_2021_010.pdf in 1.33 sec.\n",
      "INFO:docling.document_converter:Going to convert document batch...\n",
      "INFO:docling.pipeline.base_pipeline:Processing document PERMENKOMINFO_2021_011.pdf\n",
      "INFO:docling.document_converter:Finished converting document PERMENKOMINFO_2021_011.pdf in 12.70 sec.\n",
      "INFO:docling.pipeline.base_pipeline:Processing document PERMENKOMINFO_2021_013.pdf\n",
      "INFO:docling.document_converter:Finished converting document PERMENKOMINFO_2021_013.pdf in 42.78 sec.\n",
      "INFO:docling.document_converter:Going to convert document batch...\n",
      "INFO:docling.pipeline.base_pipeline:Processing document PERMENKOMINFO_2021_014.pdf\n",
      "INFO:docling.document_converter:Finished converting document PERMENKOMINFO_2021_014.pdf in 1.62 sec.\n",
      "INFO:docling.pipeline.base_pipeline:Processing document PERMENKOMINFO_2022_016.pdf\n",
      "INFO:docling.document_converter:Finished converting document PERMENKOMINFO_2022_016.pdf in 9.31 sec.\n",
      "INFO:docling.document_converter:Going to convert document batch...\n",
      "INFO:docling.pipeline.base_pipeline:Processing document PERMENKOMINFO_2024_003.pdf\n",
      "INFO:docling.document_converter:Finished converting document PERMENKOMINFO_2024_003.pdf in 10.38 sec.\n",
      "INFO:docling.pipeline.base_pipeline:Processing document PERMENKOMINFO_2024_004.pdf\n",
      "INFO:docling.document_converter:Finished converting document PERMENKOMINFO_2024_004.pdf in 18.61 sec.\n",
      "INFO:docling.document_converter:Going to convert document batch...\n",
      "INFO:docling.pipeline.base_pipeline:Processing document PERMENKOMINFO_2024_006.pdf\n",
      "INFO:docling.document_converter:Finished converting document PERMENKOMINFO_2024_006.pdf in 13.58 sec.\n",
      "INFO:docling.pipeline.base_pipeline:Processing document PP_2000_052.pdf\n",
      "INFO:docling.document_converter:Finished converting document PP_2000_052.pdf in 16.86 sec.\n",
      "INFO:docling.document_converter:Going to convert document batch...\n",
      "INFO:docling.pipeline.base_pipeline:Processing document PP_2019_071.pdf\n",
      "INFO:docling.document_converter:Finished converting document PP_2019_071.pdf in 45.39 sec.\n",
      "INFO:docling.pipeline.base_pipeline:Processing document PP_2019_080.pdf\n",
      "INFO:docling.document_converter:Finished converting document PP_2019_080.pdf in 36.91 sec.\n",
      "INFO:docling.document_converter:Going to convert document batch...\n",
      "INFO:docling.pipeline.base_pipeline:Processing document PP_2021_046.pdf\n",
      "INFO:docling.document_converter:Finished converting document PP_2021_046.pdf in 43.55 sec.\n",
      "INFO:docling.pipeline.base_pipeline:Processing document UU_1999_036.pdf\n",
      "INFO:docling.document_converter:Finished converting document UU_1999_036.pdf in 11.88 sec.\n",
      "INFO:docling.document_converter:Going to convert document batch...\n",
      "INFO:docling.pipeline.base_pipeline:Processing document UU_1999_040.pdf\n",
      "INFO:docling.document_converter:Finished converting document UU_1999_040.pdf in 4.36 sec.\n",
      "INFO:docling.pipeline.base_pipeline:Processing document UU_2008_011.pdf\n",
      "INFO:docling.document_converter:Finished converting document UU_2008_011.pdf in 12.00 sec.\n",
      "INFO:docling.document_converter:Going to convert document batch...\n",
      "INFO:docling.pipeline.base_pipeline:Processing document UU_2016_019.pdf\n",
      "INFO:docling.document_converter:Finished converting document UU_2016_019.pdf in 11.61 sec.\n",
      "INFO:docling.pipeline.base_pipeline:Processing document UU_2022_027.pdf\n",
      "INFO:docling.document_converter:Finished converting document UU_2022_027.pdf in 24.50 sec.\n",
      "INFO:docling.document_converter:Going to convert document batch...\n",
      "INFO:docling.pipeline.base_pipeline:Processing document UU_2024_001.pdf\n",
      "INFO:docling.document_converter:Finished converting document UU_2024_001.pdf in 19.19 sec.\n",
      "INFO:PDFConverter:Processed 63 docs, of which 0 failed and 0 were partially converted.\n",
      "INFO:PDFConverter:Document conversion complete in 940.82 seconds.\n"
     ]
    }
   ],
   "source": [
    "input_dir = pathlib.Path(\"data\").joinpath(\"pdf\")\n",
    "output_dir = pathlib.Path(\"data\").joinpath(\"markdown\", \"raw\", \"bpk\")\n",
    "\n",
    "pdf_converter_obj = pdf_converter.PDFConverter()\n",
    "\n",
    "pdf_converter_obj.pdf_to_txt(input_dir=input_dir, output_dir=output_dir)"
   ]
  },
  {
   "cell_type": "markdown",
   "metadata": {},
   "source": [
    "### **Parse Regulation Content**"
   ]
  },
  {
   "cell_type": "code",
   "execution_count": null,
   "metadata": {},
   "outputs": [
    {
     "name": "stderr",
     "output_type": "stream",
     "text": [
      "Parsing regulations content: 100%|██████████| 63/63 [00:00<00:00, 124.31it/s]\n"
     ]
    },
    {
     "name": "stdout",
     "output_type": "stream",
     "text": [
      "============================================================================\n",
      "Input directory     : data\\markdown\\clean\\all\n",
      "Input JSON          : data\\json\\regulation_data_modified.json\n",
      "Output JSON         : data\\json\\regulation_data_final.json\n",
      "Total regulations   : 63 regulations\n",
      "Total success       : 63 regulations\n",
      "Total failed        : 0 regulations\n",
      "Total articles      : 2423 articles\n",
      "Total time          : 0.505 seconds\n",
      "Average time/file   : 8.013 miliseconds\n",
      "============================================================================\n"
     ]
    }
   ],
   "source": [
    "input_dir = os.path.join(\"data\", \"markdown\", \"clean\", \"all\")\n",
    "json_input = os.path.join(\"data\", \"json\", \"regulation_data_modified.json\")\n",
    "json_output = os.path.join(\"data\", \"json\", \"regulation_data_final.json\")\n",
    "\n",
    "parser = regulation_parser.RegulationParser()\n",
    "regulation_data = parser.parse_regulations_content(\n",
    "    input_dir=input_dir,\n",
    "    json_input=json_input,\n",
    "    json_output=json_output,\n",
    "    verbose=True\n",
    ")"
   ]
  }
 ],
 "metadata": {
  "kernelspec": {
   "display_name": ".venv",
   "language": "python",
   "name": "python3"
  },
  "language_info": {
   "codemirror_mode": {
    "name": "ipython",
    "version": 3
   },
   "file_extension": ".py",
   "mimetype": "text/x-python",
   "name": "python",
   "nbconvert_exporter": "python",
   "pygments_lexer": "ipython3",
   "version": "3.11.4"
  }
 },
 "nbformat": 4,
 "nbformat_minor": 2
}
