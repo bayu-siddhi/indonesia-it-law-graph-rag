{
 "cells": [
  {
   "cell_type": "code",
   "execution_count": null,
   "metadata": {},
   "outputs": [
    {
     "data": {
      "text/plain": [
       "True"
      ]
     },
     "execution_count": 1,
     "metadata": {},
     "output_type": "execute_result"
    }
   ],
   "source": [
    "import os\n",
    "import uuid\n",
    "import dotenv\n",
    "from IPython import display\n",
    "\n",
    "from langchain import prompts\n",
    "from langchain_core import messages\n",
    "from langchain_core import runnables\n",
    "\n",
    "import langchain_neo4j\n",
    "import langchain_ollama\n",
    "import langchain_openai\n",
    "import langchain_google_genai\n",
    "\n",
    "from langchain_core.runnables import RunnablePassthrough\n",
    "from langchain_core.output_parsers import StrOutputParser\n",
    "from langchain_community.chains.graph_qa.arangodb import ArangoGraphQAChain\n",
    "\n",
    "import cypher_mod\n",
    "\n",
    "dotenv.load_dotenv(\".env\")"
   ]
  },
  {
   "cell_type": "code",
   "execution_count": null,
   "metadata": {},
   "outputs": [],
   "source": [
    "# Aku tambahkan perintah jika tidak tahu, maka tambahkan \"UTRD\" di awal kalimat\n",
    "\n",
    "CYPHER_QA_TEMPLATE = \"\"\"You are an assistant that helps to form nice and human understandable answers.\n",
    "The information part contains the provided information that you must use to construct an answer.\n",
    "The provided information is authoritative, you must never doubt it or try to use your internal knowledge to correct it.\n",
    "Make the answer sound as a response to the question. Do not mention that you based the result on the given information.\n",
    "\n",
    "Follow this instruction when generating answers.\n",
    "- Don't answer the user question if it not in legal/law scope, like science, math, social, ect.\n",
    "- If the provided information is empty, say \"Tidak dapat menemukan data yang sesuai dengan permintaan query\".\n",
    "\n",
    "Provided Information:\n",
    "{context}\n",
    "\n",
    "Question:\n",
    "{question}\n",
    "\n",
    "Helpful Answer:\"\"\"\n",
    "\n",
    "CYPHER_QA_PROMPT = prompts.PromptTemplate(\n",
    "    input_variables=[\"context\", \"question\"], template=CYPHER_QA_TEMPLATE\n",
    ")\n",
    "\n",
    "# Follow this example when generating answers.\n",
    "# If the provided information is empty, say that you don't know the answer and start with the text \"UTRD\".\n",
    "# GraphCypherQASchema(answer=\"Tidak dapat menemukan data berdasarkan permintaan query\", is_query_answered=False)"
   ]
  },
  {
   "cell_type": "code",
   "execution_count": 3,
   "metadata": {},
   "outputs": [],
   "source": [
    "# Aku tambahkan contoh kode cypher nya\n",
    "\n",
    "CYPHER_GENERATION_TEMPLATE = \"\"\"Task:Generate Cypher statement to query a graph database.\n",
    "Instructions:\n",
    "Use only the provided relationship types and properties in the schema.\n",
    "Do not use any other relationship types or properties that are not provided.\n",
    "Schema:\n",
    "{schema}\n",
    "Note: Do not include any explanations or apologies in your responses.\n",
    "Do not respond to any questions that might ask anything else than for you to construct a Cypher statement.\n",
    "Do not include any text except the generated Cypher statement.\n",
    "\n",
    "Following are some examples that you can use as a reference to create Cypher code according to user questions.\n",
    "\n",
    "User query   : Apa isi pasal 100 UU nomor 90 tahun 2020?\n",
    "Cypher query : MATCH (r:Regulation)-[:HAS_ARTICLE]->(a:Article)\n",
    "WHERE r.type = 'UU' AND r.number = 90 AND r.year = 2020 AND a.number = '100'\n",
    "RETURN a.text AS text\n",
    "\n",
    "User query   : Apa isi pasal selanjutnya dari pasal 100 undang-undang / UU nomor 90 tahun 2020?\n",
    "Cypher query : MATCH (r:Regulation)-[:HAS_ARTICLE]->(a:Article)-[:NEXT_ARTICLE]->(next_article)\n",
    "WHERE r.type = 'UU' AND r.number = 90 AND r.year = 2020 AND a.number = '100'\n",
    "RETURN next_article.text AS text\n",
    "\n",
    "Don't use `real_text` attribute! But use `text` attribute instead.\n",
    "\n",
    "Now, make a cypher code for the following user questions.\n",
    "\n",
    "The question is:\n",
    "{question}\"\"\"\n",
    "\n",
    "CYPHER_GENERATION_PROMPT = prompts.PromptTemplate(\n",
    "    input_variables=[\"schema\", \"question\"], template=CYPHER_GENERATION_TEMPLATE\n",
    ")"
   ]
  },
  {
   "cell_type": "code",
   "execution_count": 4,
   "metadata": {},
   "outputs": [],
   "source": [
    "graph = langchain_neo4j.Neo4jGraph(\n",
    "    url=os.environ[\"DATABASE_HOST\"],\n",
    "    username=os.environ[\"DATABASE_USERNAME\"],\n",
    "    password=os.environ[\"DATABASE_PASSWORD\"],\n",
    "    database=os.environ[\"DATABASE_SMALL\"],\n",
    "    enhanced_schema=True\n",
    ")\n",
    "\n",
    "llm = langchain_google_genai.ChatGoogleGenerativeAI(\n",
    "    model=\"gemini-2.0-flash\",\n",
    "    temperature=0.0,\n",
    "    api_key=os.environ[\"GOOGLE_API_KEY\"]\n",
    ")\n",
    "\n",
    "# qa_llm = langchain_google_genai.ChatGoogleGenerativeAI(\n",
    "#     model=\"gemini-2.0-flash\",\n",
    "#     temperature=0.0,\n",
    "#     api_key=os.environ[\"GOOGLE_API_KEY\"]\n",
    "# )\n",
    "\n",
    "# cypher_llm = langchain_ollama.ChatOllama(model=\"qwen2.5-coder:7b-instruct-q4_K_M\", temperature=0.0)\n",
    "# llm = langchain_ollama.ChatOllama(model=\"qwen2.5:7b-instruct-q4_K_M\", temperature=0.0)\n",
    "# llm = langchain_ollama.ChatOllama(model=\"llama3.2:3b-instruct-q4_K_M\", temperature=0.3)\n",
    "# llm = langchain_ollama.ChatOllama(model=\"llama3.1:8b-instruct-q4_0\", temperature=0.0)\n",
    "\n",
    "# Ubah-ubah nilai variabel ini\n",
    "return_direct = False\n",
    "\n",
    "def text2cypher(query: str) -> str:\n",
    "    \n",
    "    # Initialize the Neo4j Graph QA Chain\n",
    "    text2cypher_chain = cypher_mod.GraphCypherQAChainMod.from_llm(\n",
    "        llm=llm,\n",
    "        graph=graph,\n",
    "        qa_prompt=CYPHER_QA_PROMPT,\n",
    "        cypher_prompt=CYPHER_GENERATION_PROMPT,\n",
    "        # cypher_llm=cypher_llm,\n",
    "        # qa_llm=qa_llm,\n",
    "        exclude_types=[\"embedding\"],\n",
    "        include_types=[],\n",
    "        return_intermediate_steps=not return_direct,\n",
    "        return_direct=return_direct,\n",
    "        allow_dangerous_requests=True,\n",
    "        verbose=True\n",
    "    )\n",
    "\n",
    "    result = text2cypher_chain.invoke(query)\n",
    "\n",
    "    if not result[\"cypher\"][-1]:\n",
    "        print(\"cypher None\")\n",
    "        result[\"cypher\"][-1] = messages.AIMessage(\n",
    "            content=\"Tidak dapat membuat kode Cypher Neo4j berdasarkan permintaan query\"\n",
    "        )\n",
    "\n",
    "    if return_direct:\n",
    "        artifact = {\"is_context_fetched\": bool(result[\"result\"])}\n",
    "\n",
    "        if not result[\"result\"]:\n",
    "            print(\"return_direct=True, but result=[]\")\n",
    "            result[\"result\"] = [\"Tidak dapat menemukan data yang sesuai dengan permintaan query\"]\n",
    "\n",
    "        response = (\n",
    "            \"### **Hasil Pembuatan Kode Cypher:**\\n\"\n",
    "            f\"{result['cypher'][-1].content}\\n\\n\"\n",
    "            \"### **Hasil Eksekusi Kode Cypher ke Database:**\\n\"\n",
    "            f\"{result['result']}\"\n",
    "        )\n",
    "    \n",
    "    else:\n",
    "        artifact = {\"is_context_fetched\": bool(result[\"context\"])}\n",
    "\n",
    "        if not result[\"result\"] or (hasattr(result[\"result\"], \"content\") and result[\"result\"].content == \"\"):\n",
    "            print(\"return_direct=False, but result=''\")\n",
    "            result[\"result\"] = messages.AIMessage(\n",
    "                content=\"AAA Tidak dapat menemukan data yang sesuai dengan permintaan query\"\n",
    "            )\n",
    "\n",
    "        response = (\n",
    "            \"### **Hasil Pembuatan Kode Cypher:**\\n\"\n",
    "            f\"{result['cypher'][-1].content}\\n\\n\"\n",
    "            \"### **Hasil Eksekusi Kode Cypher ke Database:**\\n\"\n",
    "            f\"{result['result'].content}\"\n",
    "        )\n",
    "\n",
    "    # return result\n",
    "    return response, artifact"
   ]
  },
  {
   "cell_type": "code",
   "execution_count": 11,
   "metadata": {},
   "outputs": [
    {
     "name": "stdout",
     "output_type": "stream",
     "text": [
      "\n",
      "\n",
      "\u001b[1m> Entering new GraphCypherQAChainMod chain...\u001b[0m\n",
      "Generated Cypher (1):\n",
      "\u001b[32;1m\u001b[1;3mcypher\n",
      "MATCH (r:Regulation {type: 'UU', number: 11, year: 2008})-[:HAS_ARTICLE]->(a:Article {number: '28'})\n",
      "RETURN a.text\u001b[0m\n",
      "\n",
      "Return Direct:\n",
      "\u001b[32;1m\u001b[1;3mFalse\u001b[0m\n",
      "\n",
      "Full Context:\n",
      "\u001b[32;1m\u001b[1;3m[{'a.text': 'Undang-undang (UU) Nomor 11 Tahun 2008 tentang Informasi dan Transaksi Elektronik, BAB VII - PERBUATAN YANG DILARANG, Pasal 28:\\n(1) Setiap Orang dengan sengaja dan tanpa hak menyebarkan berita bohong dan menyesatkan yang mengakibatkan kerugian konsumen dalam Transaksi Elektronik.\\n(2) Setiap Orang dengan sengaja dan tanpa hak menyebarkan informasi yang ditujukan untuk menimbulkan rasa kebencian atau permusuhan individu dan/atau kelompok masyarakat tertentu berdasarkan atas suku, agama, ras, dan antargolongan (SARA).'}]\u001b[0m\n",
      "\n",
      "\n",
      "\u001b[1m> Finished chain.\u001b[0m\n"
     ]
    }
   ],
   "source": [
    "response = text2cypher(\"Apa isi pasal 28 UU No. 11 tahun 2008?\")\n",
    "# response = text2cypher(\"Apa isi teks pasal setelah pasal 28 UU No. 11 Tahun 2008?\")\n",
    "# response = text2cypher(\"Apa isi pasal 100 UU No 11 tahun 2008?\")\n",
    "# response = text2cypher(\"Kenapa ikan berenang di air?\")\n",
    "\n",
    "# Nomor 2 masih gagal, mungkin karena kurang contoh"
   ]
  },
  {
   "cell_type": "code",
   "execution_count": 12,
   "metadata": {},
   "outputs": [
    {
     "data": {
      "text/markdown": [
       "### **Hasil Pembuatan Kode Cypher:**\n",
       "```cypher\n",
       "MATCH (r:Regulation {type: 'UU', number: 11, year: 2008})-[:HAS_ARTICLE]->(a:Article {number: '28'})\n",
       "RETURN a.text\n",
       "```\n",
       "\n",
       "### **Hasil Eksekusi Kode Cypher ke Database:**\n",
       "Pasal 28 UU No. 11 Tahun 2008 mengatur tentang:\n",
       "\n",
       "(1) Setiap Orang dengan sengaja dan tanpa hak menyebarkan berita bohong dan menyesatkan yang mengakibatkan kerugian konsumen dalam Transaksi Elektronik.\n",
       "\n",
       "(2) Setiap Orang dengan sengaja dan tanpa hak menyebarkan informasi yang ditujukan untuk menimbulkan rasa kebencian atau permusuhan individu dan/atau kelompok masyarakat tertentu berdasarkan atas suku, agama, ras, dan antargolongan (SARA)."
      ],
      "text/plain": [
       "<IPython.core.display.Markdown object>"
      ]
     },
     "metadata": {},
     "output_type": "display_data"
    },
    {
     "data": {
      "text/plain": [
       "{'is_context_fetched': True}"
      ]
     },
     "metadata": {},
     "output_type": "display_data"
    }
   ],
   "source": [
    "# display.display(response)\n",
    "\n",
    "display.display(display.Markdown(response[0]))\n",
    "display.display(response[1])"
   ]
  },
  {
   "cell_type": "code",
   "execution_count": 7,
   "metadata": {},
   "outputs": [
    {
     "name": "stdout",
     "output_type": "stream",
     "text": [
      "False\n"
     ]
    }
   ],
   "source": [
    "cypher_result = []\n",
    "cypher_generation_attempt = 1\n",
    "max_cypher_generation_attempt = 3\n",
    "\n",
    "print(cypher_result is None and cypher_generation_attempt < max_cypher_generation_attempt + 1)"
   ]
  },
  {
   "cell_type": "code",
   "execution_count": 8,
   "metadata": {},
   "outputs": [
    {
     "name": "stdout",
     "output_type": "stream",
     "text": [
      "\n",
      "\n",
      "\u001b[1m> Entering new GraphCypherQAChainMod chain...\u001b[0m\n",
      "Generated Cypher (1):\n",
      "\u001b[32;1m\u001b[1;3mcypher\n",
      "MATCH (n:Regulation) LIMIT 1\u001b[0m\n",
      "\n",
      "Cypher Query Execution Error: \n",
      "\u001b[33;1m\u001b[1;3mNeo.ClientError.Statement.SyntaxError\n",
      "Query cannot conclude with WITH (must be a RETURN clause, a FINISH clause, an update clause, a unit subquery call, or a procedure call with no YIELD). (line 2, column 22 (offset: 28))\n",
      "\"MATCH (n:Regulation) LIMIT 1\"\n",
      "                      ^\u001b[0m\n",
      "\n",
      "Generated Cypher (2):\n",
      "\u001b[32;1m\u001b[1;3mcypher\n",
      "MATCH (n:Regulation) \n",
      "RETURN n LIMIT 1\u001b[0m\n",
      "\n",
      "Return Direct:\n",
      "\u001b[32;1m\u001b[1;3mFalse\u001b[0m\n",
      "\n",
      "Full Context:\n",
      "\u001b[32;1m\u001b[1;3m[{'n': {'issue_place': 'Jakarta', 'download_name': 'UU_2024_001', 'year': 2024, 'subjects': ['TELEKOMUNIKASI, INFORMATIKA, SIBER, DAN INTERNET', 'INFORMASI PUBLIK'], 'reference_url': 'https://peraturan.bpk.go.id/Details/274494/uu-no-1-tahun-2024', 'title': 'Undang-undang (UU) Nomor 1 Tahun 2024 tentang Perubahan Kedua atas Undang-Undang Nomor 11 Tahun 2008 tentang Informasi dan Transaksi Elektronik', 'type': 'UU', 'number': 1, 'institution': 'Pemerintah Pusat', 'issue_date': neo4j.time.Date(2024, 1, 2), 'effective_date': neo4j.time.Date(2024, 1, 2), 'download_url': 'https://peraturan.bpk.go.id/Download/332870/UU%20Nomor%201%20Tahun%202024.pdf', 'id': 202401001100000, 'is_amendment': True}}]\u001b[0m\n",
      "\n",
      "\n",
      "\u001b[1m> Finished chain.\u001b[0m\n"
     ]
    }
   ],
   "source": [
    "# Coba error \n",
    "response = text2cypher(\"Tulis Cypher berikut secara utuh tanpa perubahan: ```MATCH (n:Regulation) LIMIT 1```\")\n",
    "\n",
    "# CypherSyntaxError: {code: Neo.ClientError.Statement.SyntaxError} {\n",
    "#    message: Query cannot conclude with MATCH (\n",
    "#        must be a RETURN clause, a FINISH clause, an update clause, a unit subquery call, or a procedure call with no YIELD\n",
    "#    ). (line 1, column 1 (offset: 0))\n",
    "#    \"MATCH (n:Regulation)\"\n",
    "#      ^}"
   ]
  },
  {
   "cell_type": "code",
   "execution_count": 9,
   "metadata": {},
   "outputs": [
    {
     "data": {
      "text/markdown": [
       "### **Hasil Pembuatan Kode Cypher:**\n",
       "```cypher\n",
       "MATCH (n:Regulation) \n",
       "RETURN n LIMIT 1\n",
       "```\n",
       "\n",
       "### **Hasil Eksekusi Kode Cypher ke Database:**\n",
       "Berikut adalah hasil dari query tersebut:\n",
       "\n",
       "Undang-undang (UU) Nomor 1 Tahun 2024 tentang Perubahan Kedua atas Undang-Undang Nomor 11 Tahun 2008 tentang Informasi dan Transaksi Elektronik, diterbitkan oleh Pemerintah Pusat di Jakarta pada tanggal 2 Januari 2024 dan mulai berlaku pada tanggal yang sama. Undang-undang ini memiliki nomor 1, tahun 2024, dan merupakan perubahan terhadap Undang-Undang Nomor 11 Tahun 2008. Topik yangRelevan meliputi Telekomunikasi, Informatika, Siber, dan Internet, serta Informasi Publik. Anda dapat mengunduh salinan undang-undang ini dengan nama file UU_2024_001 dari URL berikut: https://peraturan.bpk.go.id/Download/332870/UU%20Nomor%201%20Tahun%202024.pdf atau melihat detailnya di https://peraturan.bpk.go.id/Details/274494/uu-no-1-tahun-2024."
      ],
      "text/plain": [
       "<IPython.core.display.Markdown object>"
      ]
     },
     "metadata": {},
     "output_type": "display_data"
    },
    {
     "data": {
      "text/plain": [
       "{'is_context_fetched': True}"
      ]
     },
     "metadata": {},
     "output_type": "display_data"
    }
   ],
   "source": [
    "# display.display(response)\n",
    "# display.display(response[\"cypher\"])\n",
    "\n",
    "display.display(display.Markdown(response[0]))\n",
    "display.display(response[1])"
   ]
  }
 ],
 "metadata": {
  "kernelspec": {
   "display_name": ".venv",
   "language": "python",
   "name": "python3"
  },
  "language_info": {
   "codemirror_mode": {
    "name": "ipython",
    "version": 3
   },
   "file_extension": ".py",
   "mimetype": "text/x-python",
   "name": "python",
   "nbconvert_exporter": "python",
   "pygments_lexer": "ipython3",
   "version": "3.11.4"
  }
 },
 "nbformat": 4,
 "nbformat_minor": 2
}
