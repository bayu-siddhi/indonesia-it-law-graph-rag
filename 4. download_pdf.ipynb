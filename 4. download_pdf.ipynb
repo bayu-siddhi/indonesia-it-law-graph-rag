{
 "cells": [
  {
   "cell_type": "code",
   "execution_count": null,
   "metadata": {},
   "outputs": [],
   "source": [
    "import os\n",
    "import re\n",
    "import json\n",
    "import time\n",
    "import urllib.parse\n",
    "import pandas as pd\n",
    "from tqdm import tqdm\n",
    "from selenium import webdriver\n",
    "from selenium.common.exceptions import TimeoutException"
   ]
  },
  {
   "cell_type": "code",
   "execution_count": null,
   "metadata": {},
   "outputs": [],
   "source": [
    "# READ JSON\n",
    "# https://stackoverflow.com/questions/20199126/reading-json-from-a-file\n",
    "DIR_PATH = 'data'\n",
    "FILENAME = 'regulation_data_modified.json'\n",
    "file_path = os.path.join(DIR_PATH, FILENAME)\n",
    "with open(file_path) as file:\n",
    "    json_data = json.load(file)\n",
    "\n",
    "display(len(json_data))\n",
    "display(json_data)"
   ]
  },
  {
   "cell_type": "code",
   "execution_count": null,
   "metadata": {},
   "outputs": [],
   "source": [
    "def download_all_pdf(data: list[dict], full_download_dir_path: str):\n",
    "    \n",
    "    relative_download_dir_path = os.path.relpath(full_download_dir_path, start=os.getcwd())\n",
    "    os.makedirs(relative_download_dir_path, exist_ok=True)\n",
    "\n",
    "    # https://stackoverflow.com/questions/60170311/how-to-switch-download-directory-using-selenium-firefox-python\n",
    "    firefox_options = webdriver.FirefoxOptions()\n",
    "    firefox_options.set_preference(\"browser.download.folderList\", 2)  # Gunakan folder custom (2)\n",
    "    firefox_options.set_preference(\"browser.download.dir\", full_download_dir_path)  # Tentukan folder tujuan\n",
    "    firefox_options.set_preference(\"browser.helperApps.neverAsk.saveToDisk\", \"application/pdf\")  # Hindari prompt\n",
    "    firefox_options.set_preference(\"pdfjs.disabled\", True)  # Nonaktifkan preview PDF di browser\n",
    "    # firefox_options.add_argument('-headless')\n",
    "\n",
    "    driver = webdriver.Firefox(firefox_options)\n",
    "    driver.set_page_load_timeout(5)\n",
    "\n",
    "    for row in tqdm(iterable=data, desc='Download files'):\n",
    "        try:\n",
    "            driver.get(row['download_link'])\n",
    "        except TimeoutException as _:\n",
    "            pass\n",
    "\n",
    "    time.sleep(10)\n",
    "\n",
    "    for row in tqdm(iterable=data, desc='Rename files'):\n",
    "        # https://stackoverflow.com/questions/300445/how-to-unquote-a-urlencoded-unicode-string-in-python\n",
    "        downloaded_file = re.search(r'\\d+\\/(.*\\.pdf)$', row['download_link'])[1]\n",
    "        downloaded_file = urllib.parse.unquote(downloaded_file)\n",
    "        downloaded_file = os.path.join(relative_download_dir_path, downloaded_file)\n",
    "        renamed_file = os.path.join(relative_download_dir_path, row['download_name'] + '.pdf')\n",
    "\n",
    "        if os.path.exists(downloaded_file):\n",
    "            os.rename(downloaded_file, renamed_file)\n",
    "        else:\n",
    "            print(f'File {downloaded_file} not found.')\n",
    "    \n",
    "    time.sleep(10)\n",
    "    \n",
    "    driver.quit()"
   ]
  },
  {
   "cell_type": "code",
   "execution_count": null,
   "metadata": {},
   "outputs": [],
   "source": [
    "# Folder tujuan untuk download\n",
    "full_download_dir_path = os.path.join(os.getcwd(), 'data', 'pdf')\n",
    "download_all_pdf(json_data, full_download_dir_path)"
   ]
  }
 ],
 "metadata": {
  "kernelspec": {
   "display_name": ".venv",
   "language": "python",
   "name": "python3"
  },
  "language_info": {
   "codemirror_mode": {
    "name": "ipython",
    "version": 3
   },
   "file_extension": ".py",
   "mimetype": "text/x-python",
   "name": "python",
   "nbconvert_exporter": "python",
   "pygments_lexer": "ipython3",
   "version": "3.11.4"
  }
 },
 "nbformat": 4,
 "nbformat_minor": 2
}
