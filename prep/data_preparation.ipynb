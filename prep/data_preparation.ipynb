{
 "cells": [
  {
   "cell_type": "code",
   "execution_count": null,
   "metadata": {},
   "outputs": [],
   "source": [
    "import os\n",
    "import sys\n",
    "\n",
    "\n",
    "sys.path.append(os.path.join(os.getcwd(), \"..\"))\n",
    "\n",
    "\n",
    "from pathlib import Path\n",
    "from selenium.webdriver import Firefox\n",
    "from src.prep import (\n",
    "    utils,\n",
    "    PDFConverter,\n",
    "    RegulationParser,\n",
    "    BPKScraper,\n",
    "    KomdigiScraper\n",
    ")"
   ]
  },
  {
   "cell_type": "markdown",
   "metadata": {},
   "source": [
    "### **Scrape Active Regulations**"
   ]
  },
  {
   "cell_type": "code",
   "execution_count": null,
   "metadata": {},
   "outputs": [],
   "source": [
    "# Change These Input Data\n",
    "input_data = [\n",
    "    {\n",
    "        \"regulation_type\": \"UU\",\n",
    "        \"url\": \"https://peraturan.bpk.go.id/Search?keywords=&tentang=&nomor=&jenis=8&tema=55\"\n",
    "    },\n",
    "    {\n",
    "        \"regulation_type\": \"PP\",\n",
    "        \"url\": \"https://peraturan.bpk.go.id/Search?keywords=&tentang=&nomor=&jenis=10&tema=55\"\n",
    "    },\n",
    "    {\n",
    "        \"regulation_type\": \"PERMENKOMINFO\",\n",
    "        \"url\": \"https://peraturan.bpk.go.id/Search?keywords=&tentang=&nomor=&jenis=106&tema=55\"\n",
    "    }\n",
    "]\n",
    "\n",
    "dir_path = os.path.join(\"..\", \"data\", \"active\")\n",
    "os.makedirs(dir_path, exist_ok=True)\n",
    "\n",
    "web_driver = Firefox()\n",
    "bpk_scraper = BPKScraper(web_driver=web_driver)\n",
    "output_path = os.path.join(dir_path, \"active_regulation.xlsx\")\n",
    "\n",
    "for data in input_data:\n",
    "    # Scrape active regulation links\n",
    "    active_regulations = bpk_scraper.active_regulation(\n",
    "        url=data[\"url\"],\n",
    "        regulation_type=data[\"regulation_type\"],\n",
    "        verbose=True\n",
    "    )\n",
    "\n",
    "    # Save output to .XSLX file\n",
    "    utils.list_of_dict_to_excel(\n",
    "        data=active_regulations,\n",
    "        output_path=output_path,\n",
    "        sheet_name=data[\"regulation_type\"]\n",
    "    )\n",
    "\n",
    "web_driver.quit()"
   ]
  },
  {
   "cell_type": "markdown",
   "metadata": {},
   "source": [
    "### **Scrape Regulation Metadata**"
   ]
  },
  {
   "cell_type": "code",
   "execution_count": null,
   "metadata": {},
   "outputs": [],
   "source": [
    "# Change These Input\n",
    "file_path = os.path.join(\"..\", \"data\", \"active\", \"selected_regulation.xlsx\")\n",
    "\n",
    "uu = utils.load_excel_selected_regulations(\n",
    "    file_path=file_path,\n",
    "    sheet_name=\"UU\",\n",
    "    url_type=\"url_1\",\n",
    "    url_only=True\n",
    ")\n",
    "pp = utils.load_excel_selected_regulations(\n",
    "    file_path=file_path,\n",
    "    sheet_name=\"PP\",\n",
    "    url_type=\"url_1\",\n",
    "    url_only=True\n",
    ")\n",
    "permenkominfo = utils.load_excel_selected_regulations(\n",
    "    file_path=file_path,\n",
    "    sheet_name=\"PERMENKOMINFO\",\n",
    "    url_type=\"url_1\",\n",
    "    url_only=True\n",
    ")\n",
    "\n",
    "selected_regulations = uu + pp + permenkominfo\n",
    "print(f\"Total regulations: {len(selected_regulations)}\")\n",
    "display(selected_regulations)"
   ]
  },
  {
   "cell_type": "code",
   "execution_count": null,
   "metadata": {},
   "outputs": [],
   "source": [
    "output_path = os.path.join(\"..\", \"data\", \"json\", \"regulation_data.json\")\n",
    "\n",
    "web_driver = Firefox()\n",
    "bpk_scraper = BPKScraper(web_driver=web_driver)\n",
    "\n",
    "regulation_metadata = bpk_scraper.regulation_metadata(\n",
    "    urls=selected_regulations,\n",
    "    verbose=True\n",
    ")\n",
    "\n",
    "utils.list_of_dict_to_json(\n",
    "    data=regulation_metadata,\n",
    "    output_path=output_path\n",
    ")\n",
    "\n",
    "web_driver.quit()"
   ]
  },
  {
   "cell_type": "code",
   "execution_count": null,
   "metadata": {},
   "outputs": [],
   "source": [
    "input_json_file = os.path.join(\"..\", \"data\", \"json\", \"regulation_data.json\")\n",
    "utils.modify_status_json_regulation(input_json_file=input_json_file, verbose=True)"
   ]
  },
  {
   "cell_type": "markdown",
   "metadata": {},
   "source": [
    "### **Download Regulation PDF**"
   ]
  },
  {
   "cell_type": "code",
   "execution_count": null,
   "metadata": {},
   "outputs": [],
   "source": [
    "input_json_file = os.path.join(\"..\", \"data\", \"json\", \"regulation_data_modified.json\")\n",
    "json_data = utils.read_json(input_path=input_json_file)\n",
    "download_data = []\n",
    "\n",
    "for regulation in json_data:\n",
    "    download_data.append({\n",
    "        \"name\": regulation[\"download_name\"],\n",
    "        \"url\": regulation[\"download_link\"],\n",
    "    })\n",
    "\n",
    "download_full_dir_path = os.path.join(os.getcwd(), \"..\", \"data\", \"pdf\")\n",
    "\n",
    "BPKScraper.download_regulation_pdf(\n",
    "    download_data=download_data,\n",
    "    download_full_dir_path=download_full_dir_path,\n",
    "    verbose=True\n",
    ")"
   ]
  },
  {
   "cell_type": "markdown",
   "metadata": {},
   "source": [
    "### **Scrape Regulation Content**"
   ]
  },
  {
   "cell_type": "code",
   "execution_count": null,
   "metadata": {},
   "outputs": [],
   "source": [
    "# Change These Input\n",
    "file_path = os.path.join(\"..\", \"data\", \"active\", \"selected_regulation.xlsx\")\n",
    "\n",
    "uu = utils.load_excel_selected_regulations(\n",
    "    file_path=file_path,\n",
    "    sheet_name=\"UU\",\n",
    "    url_type=\"url_2\",\n",
    "    url_only=False\n",
    ")\n",
    "pp = utils.load_excel_selected_regulations(\n",
    "    file_path=file_path,\n",
    "    sheet_name=\"PP\",\n",
    "    url_type=\"url_2\",\n",
    "    url_only=False\n",
    ")\n",
    "permenkominfo = utils.load_excel_selected_regulations(\n",
    "    file_path=file_path,\n",
    "    sheet_name=\"PERMENKOMINFO\",\n",
    "    url_type=\"url_2\",\n",
    "    url_only=False\n",
    ")\n",
    "\n",
    "regulation_names_and_links = uu + pp + permenkominfo\n",
    "print(f\"Total regulations: {len(regulation_names_and_links)}\")\n",
    "display(regulation_names_and_links)"
   ]
  },
  {
   "cell_type": "code",
   "execution_count": null,
   "metadata": {},
   "outputs": [],
   "source": [
    "output_dir = os.path.join(\"..\", \"data\", \"markdown\", \"raw\", \"komdigi\")\n",
    "\n",
    "web_driver = Firefox()\n",
    "komdigi_scraper = KomdigiScraper(web_driver=web_driver)\n",
    "\n",
    "komdigi_scraper.regulation_product_content(\n",
    "    regulation_names_and_links=regulation_names_and_links,\n",
    "    output_dir=output_dir,\n",
    "    verbose=True\n",
    ")\n",
    "\n",
    "web_driver.quit()"
   ]
  },
  {
   "cell_type": "markdown",
   "metadata": {},
   "source": [
    "### **Convert PDF to TXT/MD**"
   ]
  },
  {
   "cell_type": "code",
   "execution_count": null,
   "metadata": {},
   "outputs": [],
   "source": [
    "input_dir = Path(\"..\").joinpath(\"data\", \"pdf\")\n",
    "output_dir = Path(\"..\").joinpath(\"data\", \"markdown\", \"raw\", \"bpk\")\n",
    "\n",
    "pdf_converter = PDFConverter()\n",
    "pdf_converter.pdf_to_txt(\n",
    "    input_dir=input_dir,\n",
    "    output_dir=output_dir\n",
    ")"
   ]
  },
  {
   "cell_type": "markdown",
   "metadata": {},
   "source": [
    "### **Parse Regulation Content**"
   ]
  },
  {
   "cell_type": "code",
   "execution_count": null,
   "metadata": {},
   "outputs": [],
   "source": [
    "input_dir = os.path.join(\"..\", \"data\", \"markdown\", \"clean\", \"all\")\n",
    "json_input = os.path.join(\"..\", \"data\", \"json\", \"regulation_data_modified.json\")\n",
    "json_output = os.path.join(\"..\", \"data\", \"json\", \"regulation_data_final.json\")\n",
    "\n",
    "parser = RegulationParser()\n",
    "regulation_data = parser.parse_regulations_content(\n",
    "    input_dir=input_dir,\n",
    "    json_input=json_input,\n",
    "    json_output=json_output,\n",
    "    verbose=True\n",
    ")"
   ]
  }
 ],
 "metadata": {
  "kernelspec": {
   "display_name": ".venv",
   "language": "python",
   "name": "python3"
  },
  "language_info": {
   "codemirror_mode": {
    "name": "ipython",
    "version": 3
   },
   "file_extension": ".py",
   "mimetype": "text/x-python",
   "name": "python",
   "nbconvert_exporter": "python",
   "pygments_lexer": "ipython3"
  }
 },
 "nbformat": 4,
 "nbformat_minor": 2
}
