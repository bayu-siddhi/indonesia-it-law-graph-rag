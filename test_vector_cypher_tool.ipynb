{
 "cells": [
  {
   "cell_type": "code",
   "execution_count": null,
   "metadata": {},
   "outputs": [],
   "source": [
    "import os\n",
    "from pprint import pprint\n",
    "from dotenv import load_dotenv\n",
    "from neo4j import GraphDatabase\n",
    "from langchain_neo4j import Neo4jGraph\n",
    "from neo4j.exceptions import ConfigurationError\n",
    "from langchain_huggingface import HuggingFaceEmbeddings\n",
    "from src.grag import create_vector_cypher_retriever_tool\n",
    "\n",
    "load_dotenv(\".env\")"
   ]
  },
  {
   "cell_type": "code",
   "execution_count": null,
   "metadata": {},
   "outputs": [],
   "source": [
    "URI = os.environ[\"DATABASE_HOST\"]\n",
    "DATABASE = os.environ[\"DATABASE_SMALL\"]\n",
    "USERNAME = os.environ[\"DATABASE_USERNAME\"]\n",
    "PASSWORD = os.environ[\"DATABASE_PASSWORD\"]\n",
    "DATABASE = os.environ[\"DATABASE_SMALL\"]\n",
    "\n",
    "neo4j_config = {\n",
    "    \"DATABASE_NAME\": DATABASE,\n",
    "    \"ARTICLE_VECTOR_INDEX_NAME\": os.environ[\"ARTICLE_VECTOR_INDEX_NAME\"],\n",
    "    \"ARTICLE_FULLTEXT_INDEX_NAME\": os.environ[\"ARTICLE_FULLTEXT_INDEX_NAME\"],\n",
    "    \"DEFINITION_VECTOR_INDEX_NAME\": os.environ[\"DEFINITION_VECTOR_INDEX_NAME\"],\n",
    "    \"DEFINITION_FULLTEXT_INDEX_NAME\": os.environ[\"DEFINITION_FULLTEXT_INDEX_NAME\"],\n",
    "}\n",
    "\n",
    "# Ngga jadi pakai ini karena Text2Cypher mintannya harus pakai Neo4jGraph\n",
    "# neo4j_driver = GraphDatabase.driver(uri=URI, auth=(USERNAME, PASSWORD))\n",
    "\n",
    "neo4j_graph = Neo4jGraph(\n",
    "    url=URI,\n",
    "    username=USERNAME,\n",
    "    password=PASSWORD,\n",
    "    database=DATABASE,\n",
    "    enhanced_schema=True\n",
    ")\n",
    "\n",
    "neo4j_driver = neo4j_graph._driver  # Ambil driver nya kaya gini\n",
    "embedder_model = HuggingFaceEmbeddings(model_name=os.environ[\"EMBEDDING_MODEL\"])"
   ]
  },
  {
   "cell_type": "code",
   "execution_count": null,
   "metadata": {},
   "outputs": [],
   "source": [
    "vector_cypher_retriever = create_vector_cypher_retriever_tool(\n",
    "    embedder_model=embedder_model,\n",
    "    neo4j_driver=neo4j_driver,\n",
    "    neo4j_config=neo4j_config,\n",
    "    top_k_initial_article=5,\n",
    "    total_article_limit=10,\n",
    "    total_definition_limit=10\n",
    ")"
   ]
  },
  {
   "cell_type": "code",
   "execution_count": null,
   "metadata": {},
   "outputs": [],
   "source": [
    "query = \"Apa itu penyelenggara sistem elektronik?\""
   ]
  },
  {
   "cell_type": "code",
   "execution_count": null,
   "metadata": {},
   "outputs": [],
   "source": [
    "result = vector_cypher_retriever.invoke({\"query\": query})\n",
    "print(result)"
   ]
  },
  {
   "cell_type": "code",
   "execution_count": null,
   "metadata": {},
   "outputs": [],
   "source": [
    "# Agar hasilnya dalam ToolMessage, harus invoke menggunakan schema ToolCall\n",
    "# https://python.langchain.com/docs/how_to/tool_artifacts/#invoking-the-tool-with-toolcall\n",
    "\n",
    "result = vector_cypher_retriever.invoke(\n",
    "    {\n",
    "        \"name\": \"vector_cypher_retriever\",\n",
    "        \"args\": {\"query\": query},\n",
    "        \"id\": \"123\",  # required\n",
    "        \"type\": \"tool_call\",  # required\n",
    "    }\n",
    ")\n",
    "\n",
    "result.model_dump()"
   ]
  },
  {
   "cell_type": "code",
   "execution_count": null,
   "metadata": {},
   "outputs": [],
   "source": [
    "len(result.content)"
   ]
  },
  {
   "cell_type": "code",
   "execution_count": null,
   "metadata": {},
   "outputs": [],
   "source": [
    "from langchain_google_genai import ChatGoogleGenerativeAI\n",
    "from langgraph.checkpoint.memory import MemorySaver\n",
    "from langchain_core.messages import HumanMessage\n",
    "from langgraph.prebuilt import create_react_agent\n",
    "\n",
    "llm = ChatGoogleGenerativeAI(\n",
    "    model=\"gemini-2.0-flash\",\n",
    "    temperature=0.0,\n",
    "    api_key=os.environ[\"GOOGLE_API_KEY\"]\n",
    ")\n",
    "\n",
    "checkpointer = MemorySaver()\n",
    "config = {\"configurable\": {\"thread_id\": \"1\"}}\n",
    "\n",
    "react_agent = create_react_agent(model=llm, tools=[vector_cypher_retriever], checkpointer=checkpointer, version=\"v2\")\n",
    "print(react_agent.get_graph().draw_ascii())"
   ]
  },
  {
   "cell_type": "code",
   "execution_count": null,
   "metadata": {},
   "outputs": [],
   "source": [
    "query = \"Apa itu penyelenggara sistem elektronik?\"\n",
    "result = react_agent.invoke(\n",
    "    {\"messages\": HumanMessage(content=query + \" Wajib gunakan tool vector_cypher_retriever\")},\n",
    "    config=config\n",
    ")\n",
    "\n",
    "result[\"messages\"]"
   ]
  },
  {
   "cell_type": "code",
   "execution_count": null,
   "metadata": {},
   "outputs": [],
   "source": [
    "query = \"Bagaimana dengan definisi data pribadi?\"\n",
    "result = react_agent.invoke(\n",
    "    {\"messages\": HumanMessage(content=query)},\n",
    "    config=config\n",
    ")\n",
    "\n",
    "result[\"messages\"]"
   ]
  },
  {
   "cell_type": "code",
   "execution_count": null,
   "metadata": {},
   "outputs": [],
   "source": [
    "query = \"Tadi definisi penyelenggara sistem elektronik apa? Aku lupa\"\n",
    "result = react_agent.invoke(\n",
    "    {\"messages\": HumanMessage(content=query + \" Ngga perlu pakai tool call lagi ya\")},\n",
    "    config=config\n",
    ")\n",
    "\n",
    "result[\"messages\"]"
   ]
  },
  {
   "cell_type": "code",
   "execution_count": null,
   "metadata": {},
   "outputs": [],
   "source": [
    "query = \"Apa hubungan penyelenggara sistem elektronik dan data pribadi?\"\n",
    "result = react_agent.invoke(\n",
    "    {\"messages\": HumanMessage(content=query + \" Wajib gunakan tool vector_cypher_retriever\")},\n",
    "    config=config\n",
    ")\n",
    "\n",
    "result[\"messages\"]"
   ]
  },
  {
   "cell_type": "code",
   "execution_count": null,
   "metadata": {},
   "outputs": [],
   "source": [
    "result[\"messages\"][2].model_dump()"
   ]
  },
  {
   "cell_type": "code",
   "execution_count": null,
   "metadata": {},
   "outputs": [],
   "source": [
    "from langchain_core.messages import AIMessage\n",
    "\n",
    "ai_results = []\n",
    "\n",
    "for message in result[\"messages\"]:\n",
    "    if isinstance(message, HumanMessage):\n",
    "        query = message.content\n",
    "    if isinstance(message, AIMessage):\n",
    "        # ai_results.append(message)\n",
    "        if message.tool_calls:\n",
    "            ai_results.append({\n",
    "                \"type\": \"tool_call\",\n",
    "                \"id\": message.id,\n",
    "                \"query\": query,\n",
    "                \"usage\": message.usage_metadata\n",
    "            })\n",
    "        else:\n",
    "            ai_results.append({\n",
    "                \"type\": \"model_response\",\n",
    "                \"id\": message.id,\n",
    "                \"query\": query,\n",
    "                \"response\": message.content,\n",
    "                \"usage\": message.usage_metadata\n",
    "            })\n",
    "                \n",
    "\n",
    "for ai_result in ai_results:\n",
    "    pprint(ai_result)\n",
    "    print()"
   ]
  },
  {
   "cell_type": "code",
   "execution_count": null,
   "metadata": {},
   "outputs": [],
   "source": [
    "test = llm.invoke(\"Halo apa yang sedang kamu lakukan? Jawab singkat saja ya\")\n",
    "print(test.content)\n",
    "print(test.usage_metadata)"
   ]
  },
  {
   "cell_type": "code",
   "execution_count": null,
   "metadata": {},
   "outputs": [],
   "source": [
    "result['messages'][2].model_dump()['artifact']"
   ]
  },
  {
   "cell_type": "code",
   "execution_count": null,
   "metadata": {},
   "outputs": [],
   "source": [
    "test = llm.invoke(f\"Jelaskan data ini: {result['messages'][2].model_dump()['artifact']}\")\n",
    "print(test.content)\n",
    "print(test.usage_metadata)"
   ]
  }
 ],
 "metadata": {
  "kernelspec": {
   "display_name": "Python 3",
   "language": "python",
   "name": "python3"
  },
  "language_info": {
   "codemirror_mode": {
    "name": "ipython",
    "version": 3
   },
   "file_extension": ".py",
   "mimetype": "text/x-python",
   "name": "python",
   "nbconvert_exporter": "python",
   "pygments_lexer": "ipython3",
   "version": "3.11.4"
  }
 },
 "nbformat": 4,
 "nbformat_minor": 2
}
