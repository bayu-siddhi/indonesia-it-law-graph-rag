{
 "cells": [
  {
   "cell_type": "code",
   "execution_count": 8,
   "metadata": {},
   "outputs": [
    {
     "data": {
      "text/plain": [
       "True"
      ]
     },
     "execution_count": 8,
     "metadata": {},
     "output_type": "execute_result"
    }
   ],
   "source": [
    "import os\n",
    "from dotenv import load_dotenv\n",
    "from neo4j import GraphDatabase\n",
    "from langchain_neo4j import Neo4jGraph\n",
    "from neo4j.exceptions import ConfigurationError\n",
    "from langchain_huggingface import HuggingFaceEmbeddings\n",
    "from src.grag.retrievers.hybrid_cypher.hybrid_cypher import create_hybrid_cypher_retriever_tool\n",
    "\n",
    "load_dotenv(\".env\")"
   ]
  },
  {
   "cell_type": "code",
   "execution_count": null,
   "metadata": {},
   "outputs": [],
   "source": [
    "URI = os.environ[\"DATABASE_HOST\"]\n",
    "DATABASE = os.environ[\"DATABASE_SMALL\"]\n",
    "USERNAME = os.environ[\"DATABASE_USERNAME\"]\n",
    "PASSWORD = os.environ[\"DATABASE_PASSWORD\"]\n",
    "DATABASE = os.environ[\"DATABASE_SMALL\"]\n",
    "\n",
    "neo4j_config = {\n",
    "    \"DATABASE_NAME\": DATABASE,\n",
    "    \"ARTICLE_VECTOR_INDEX_NAME\": os.environ[\"ARTICLE_VECTOR_INDEX_NAME\"],\n",
    "    \"ARTICLE_FULLTEXT_INDEX_NAME\": os.environ[\"ARTICLE_FULLTEXT_INDEX_NAME\"],\n",
    "    \"DEFINITION_VECTOR_INDEX_NAME\": os.environ[\"DEFINITION_VECTOR_INDEX_NAME\"],\n",
    "    \"DEFINITION_FULLTEXT_INDEX_NAME\": os.environ[\"DEFINITION_FULLTEXT_INDEX_NAME\"],\n",
    "}\n",
    "\n",
    "# Ngga jadi pakai ini karena Text2Cypher mintannya harus pakai Neo4jGraph\n",
    "# neo4j_driver = GraphDatabase.driver(uri=URI, auth=(USERNAME, PASSWORD))\n",
    "\n",
    "neo4j_graph = Neo4jGraph(\n",
    "    url=URI,\n",
    "    username=USERNAME,\n",
    "    password=PASSWORD,\n",
    "    database=DATABASE,\n",
    "    enhanced_schema=True\n",
    ")\n",
    "neo4j_driver = neo4j_graph._driver  # Ambil driver nya kaya gini\n",
    "embedder_model = HuggingFaceEmbeddings(model_name=os.environ[\"EMBEDDING_MODEL\"])\n",
    "\n",
    "try:\n",
    "    neo4j_driver.verify_connectivity()\n",
    "except ConfigurationError:\n",
    "    raise ValueError(\n",
    "        \"Could not connect to Neo4j database. \"\n",
    "        \"Please ensure that the driver config is correct\"\n",
    "    )"
   ]
  },
  {
   "cell_type": "code",
   "execution_count": 10,
   "metadata": {},
   "outputs": [],
   "source": [
    "hybrid_cypher_retriever = create_hybrid_cypher_retriever_tool(\n",
    "    embedder_model=embedder_model,\n",
    "    neo4j_driver=neo4j_driver,\n",
    "    neo4j_config=neo4j_config,\n",
    "    top_k_initial_article=5,\n",
    "    total_article_limit=10,\n",
    "    total_definition_limit=5\n",
    ")"
   ]
  },
  {
   "cell_type": "code",
   "execution_count": 11,
   "metadata": {},
   "outputs": [],
   "source": [
    "query = \"Apa itu penyelenggara sistem elektronik?\""
   ]
  },
  {
   "cell_type": "code",
   "execution_count": 12,
   "metadata": {},
   "outputs": [
    {
     "name": "stdout",
     "output_type": "stream",
     "text": [
      "## **Daftar Pasal Peraturan Perundang-Undangan yang (Mungkin) Relevan untuk Menjawab Kueri:**\n",
      "--------------------------------------------------------------------------------\n",
      "\n",
      "Undang-undang (UU) Nomor 11 Tahun 2008 tentang Informasi dan Transaksi Elektronik, BAB VII - PERBUATAN YANG DILARANG, Pasal 30:\n",
      "(1) Setiap Orang dengan sengaja dan tanpa hak atau melawan hukum mengakses Komputer dan/atau Sistem Elektronik milik Orang lain dengan cara apa pun.\n",
      "(2) Setiap Orang dengan sengaja dan tanpa hak atau melawan hukum mengakses Komputer dan/atau Sistem Elektronik dengan cara apa pun dengan tujuan untuk memperoleh Informasi Elektronik dan/atau Dokumen Elektronik.\n",
      "(3) Setiap Orang dengan sengaja dan tanpa hak atau melawan hukum mengakses Komputer y^dan/atau Sistem Elektronik dengan cara apa pun dengan melanggar, menerobos, melampaui, atau menjebol sistem pengamanan.\n",
      "\n",
      "Peraturan Pemerintah (PP) Nomor 71 Tahun 2019 tentang Penyelenggaraan Sistem dan Transaksi Elektronik, BAB II - PENYELENGGARAAN SISTEM ELEKTRONIK, Bagian Keenam - Tata Kelola Sistem Elektronik, Pasal 12:\n",
      "Penyelenggara Sistem Elektronik harus menerapkan manajemen risiko terhadap kerusakan atau kerugian yang ditimbulkan.\n",
      "\n",
      "Peraturan Pemerintah (PP) Nomor 71 Tahun 2019 tentang Penyelenggaraan Sistem dan Transaksi Elektronik, BAB II - PENYELENGGARAAN SISTEM ELEKTRONIK, Bagian Ketujuh - Pengamanan Penyelenggaraan Sistem Elektronik, Pasal 23:\n",
      "Penyelenggara Sistem Elektronik wajib melakukan pengamanan terhadap komponen Sistem Elektronik.\n",
      "\n",
      "Peraturan Pemerintah (PP) Nomor 71 Tahun 2019 tentang Penyelenggaraan Sistem dan Transaksi Elektronik, BAB II - PENYELENGGARAAN SISTEM ELEKTRONIK, Bagian Kedelapan - Uji Kelaikan Sistem Elektronik, Pasal 34:\n",
      "(1) Penyelenggara Sistem Elektronik wajib melakukan Uji Kelaikan Sistem Elektronik.\n",
      "(2) Kewajiban sebagaimana dimaksud pada ayat (1) dapat dilaksanakan terhadap seluruh komponen atau sebagian komponen dalam Sistem Elektronik sesuai dengan karakteristik kebutuhan pelindungan dan sifat strategis penyelenggaraan Sistem Elektronik.\n",
      "\n",
      "Peraturan Pemerintah (PP) Nomor 71 Tahun 2019 tentang Penyelenggaraan Sistem dan Transaksi Elektronik, BAB II - PENYELENGGARAAN SISTEM ELEKTRONIK, Bagian Ketujuh - Pengamanan Penyelenggaraan Sistem Elektronik, Pasal 28:\n",
      "(1) Penyelenggara Sistem Elektronik wajib melakukan edukasi kepada Pengguna Sistem Elektronik.\n",
      "(2) Edukasi sebagaimana dimaksud pada ayat (1) paling sedikit mengenai hak, kewajiban, dan tanggung jawab seluruh pihak terkait, serta prosedur pengajuan komplain.\n",
      "\n",
      "Undang-undang (UU) Nomor 11 Tahun 2008 tentang Informasi dan Transaksi Elektronik, BAB VII - PERBUATAN YANG DILARANG, Pasal 37:\n",
      "Setiap Orang dengan sengaja melakukan perbuatan yang dilarang sebagaimana dimaksud dalam Pasal 27 sampai dengan Pasal 36 di luar wilayah Indonesia terhadap Sistem Elektronik yang berada di wilayah yurisdiksi Indonesia.\n",
      "\n",
      "Undang-undang (UU) Nomor 11 Tahun 2008 tentang Informasi dan Transaksi Elektronik, BAB XI - KETENTUAN PIDANA, Pasal 52:\n",
      "(1) Dalam hal tindak pidana sebagaimana dimaksud dalam Pasal 27 ayat (1) menyangkut kesusilaan atau eksploitasi seksual terhadap anak dikenakan pemberatan sepertiga dari pidana pokok.\n",
      "(2) Dalam hal perbuatan sebagaimana dimaksud dalam Pasal 30 sampai dengan Pasal 37 ditujukan terhadap Komputer dan/atau Sistem Elektronik serta Informasi Elektronik dan/atau Dokumen Elektronik milik Pemerintah dan/atau yang digunakan untuk layanan publik dipidana dengan pidana pokok ditambah sepertiga.\n",
      "(3) Dalam hal perbuatan sebagaimana dimaksud dalam Pasal 30 sampai dengan Pasal 37 ditujukan terhadap Komputer dan/atau Sistem Elektronik serta Informasi Elektronik dan/atau Dokumen Elektronik milik Pemerintah dan/atau badan strategis termasuk dan tidak terbatas pada lembaga pertahanan, bank sentral, perbankan, keuangan, lembaga internasional, otoritas penerbangan diancam dengan pidana maksimal ancaman pidana pokok masing-masing pasal ditambah dua pertiga.\n",
      "(4) Dalam hal tindak pidana sebagaimana dimaksud dalam Pasal 27 sampai dengan Pasal 37 dilakukan oleh korporasi dipidana dengan pidana pokok ditambah dua pertiga.\n",
      "\n",
      "Undang-undang (UU) Nomor 1 Tahun 2024 tentang Perubahan Kedua atas Undang-Undang Nomor 11 Tahun 2008 tentang Informasi dan Transaksi Elektronik, BAB VII - PERBUATAN YANG DILARANG, Pasal 36:\n",
      "Setiap Orang dengan sengaja dan tanpa hak melakukan perbuatan sebagaimana dimaksud dalam Pasal 30 sampai dengan Pasal 34 yang mengakibatkan kerugian materiel bagi Orang lain.\n",
      "\n",
      "Undang-undang (UU) Nomor 11 Tahun 2008 tentang Informasi dan Transaksi Elektronik, BAB VII - PERBUATAN YANG DILARANG, Pasal 36:\n",
      "Setiap Orang dengan sengaja dan tanpa hak atau melawan hukum melakukan perbuatan sebagaimana dimaksud dalam Pasal 27 sampai dengan Pasal 34 yang mengakibatkan kerugian bagi Orang lain.\n",
      "\n",
      "Undang-undang (UU) Nomor 11 Tahun 2008 tentang Informasi dan Transaksi Elektronik, BAB VII - PERBUATAN YANG DILARANG, Pasal 34:\n",
      "(1) Setiap Orang dengan sengaja dan tanpa hak atau melawan hukum memproduksi, menjual, mengadakan untuk digunakan, mengimpor, mendistribusikan, menyediakan, atau memiliki:\n",
      "\ta. perangkat keras atau perangkat lunak Komputer yang dirancang atau secara khusus dikembangkan untuk memfasilitasi perbuatan sebagaimana dimaksud dalam Pasal 27 sampai dengan Pasal 33;\n",
      "\tb. sandi lewat Komputer, Kode Akses, atau hal yang sejenis dengan itu yang ditujukan agar Sistem Elektronik menjadi dapat diakses dengan tujuan memfasilitasi perbuatan sebagaimana dimaksud dalam Pasal 27 sampai dengan Pasal 33.\n",
      "(2) Tindakan sebagaimana dimaksud pada ayat (1) bukan tindak pidana jika ditujukan untuk melakukan kegiatan penelitian, pengujian Sistem Elektronik, untuk perlindungan Sistem Elektronik itu sendiri secara sah dan tidak melawan hukum.\n",
      "\n",
      "\n",
      "## **Daftar Definisi Konsep Menurut Peraturan Perundang-Undangan yang (Mungkin) Relevan untuk Menjawab Kueri:**\n",
      "--------------------------------------------------------------------------------\n",
      "\n",
      "- Peraturan Menteri Komunikasi dan Informatika Nomor 4 Tahun 2016 tentang Sistem Manajemen Pengamanan Informasi, Definisi Penyelenggaraan Sistem Elektronik:\n",
      "Penyelenggaraan Sistem Elektronik adalah pemanfaatan Sistem Elektronik oleh penyelenggara negara, Orang, Badan Usaha, dan/atau masyarakat.\n",
      "\n",
      "- Undang-undang (UU) Nomor 11 Tahun 2008 tentang Informasi dan Transaksi Elektronik, Definisi Penyelenggaraan Sistem Elektronik:\n",
      "Penyelenggaraan Sistem Elektronik adalah pemanfaatan Sistem Elektronik oleh penyelenggara negara, Orang, Badan Usaha, dan/atau masyarakat.\n",
      "\n",
      "- Undang-undang (UU) Nomor 19 Tahun 2016 tentang Perubahan Atas Undang-Undang Nomor 11 Tahun 2008 Tentang Informasi Dan Transaksi Elektronik, Definisi Penyelenggaraan Sistem Elektronik:\n",
      "Penyelenggaraan Sistem Elektronik adalah pemanfaatan Sistem Elektronik oleh penyelenggara negara, Orang, Badan Usaha, dan/atau masyarakat.\n",
      "\n",
      "- Peraturan Pemerintah (PP) Nomor 71 Tahun 2019 tentang Penyelenggaraan Sistem dan Transaksi Elektronik, Definisi Penyelenggara Sistem Elektronik Lingkup Privat:\n",
      "Penyelenggara Sistem Elektronik Lingkup Privat adalah penyelenggaraan Sistem Elektronik oleh Orang, Badan Usaha, dan masyarakat.\n",
      "\n",
      "- Peraturan Pemerintah (PP) Nomor 71 Tahun 2019 tentang Penyelenggaraan Sistem dan Transaksi Elektronik, Definisi Penyelenggara Sistem Elektronik Lingkup Publik:\n",
      "Penyelenggara Sistem Elektronik Lingkup Publik adalah penyelenggaraan Sistem Elektronik oleh Instansi Penyelenggara Negara atau institusi yang ditunjuk oleh Instansi Penyelenggara Negara.\n"
     ]
    }
   ],
   "source": [
    "result = hybrid_cypher_retriever.invoke({\"query\": query})\n",
    "print(result)"
   ]
  },
  {
   "cell_type": "code",
   "execution_count": 13,
   "metadata": {},
   "outputs": [
    {
     "data": {
      "text/plain": [
       "{'content': '## **Daftar Pasal Peraturan Perundang-Undangan yang (Mungkin) Relevan untuk Menjawab Kueri:**\\n--------------------------------------------------------------------------------\\n\\nUndang-undang (UU) Nomor 11 Tahun 2008 tentang Informasi dan Transaksi Elektronik, BAB VII - PERBUATAN YANG DILARANG, Pasal 30:\\n(1) Setiap Orang dengan sengaja dan tanpa hak atau melawan hukum mengakses Komputer dan/atau Sistem Elektronik milik Orang lain dengan cara apa pun.\\n(2) Setiap Orang dengan sengaja dan tanpa hak atau melawan hukum mengakses Komputer dan/atau Sistem Elektronik dengan cara apa pun dengan tujuan untuk memperoleh Informasi Elektronik dan/atau Dokumen Elektronik.\\n(3) Setiap Orang dengan sengaja dan tanpa hak atau melawan hukum mengakses Komputer y^dan/atau Sistem Elektronik dengan cara apa pun dengan melanggar, menerobos, melampaui, atau menjebol sistem pengamanan.\\n\\nPeraturan Pemerintah (PP) Nomor 71 Tahun 2019 tentang Penyelenggaraan Sistem dan Transaksi Elektronik, BAB II - PENYELENGGARAAN SISTEM ELEKTRONIK, Bagian Keenam - Tata Kelola Sistem Elektronik, Pasal 12:\\nPenyelenggara Sistem Elektronik harus menerapkan manajemen risiko terhadap kerusakan atau kerugian yang ditimbulkan.\\n\\nPeraturan Pemerintah (PP) Nomor 71 Tahun 2019 tentang Penyelenggaraan Sistem dan Transaksi Elektronik, BAB II - PENYELENGGARAAN SISTEM ELEKTRONIK, Bagian Ketujuh - Pengamanan Penyelenggaraan Sistem Elektronik, Pasal 23:\\nPenyelenggara Sistem Elektronik wajib melakukan pengamanan terhadap komponen Sistem Elektronik.\\n\\nPeraturan Pemerintah (PP) Nomor 71 Tahun 2019 tentang Penyelenggaraan Sistem dan Transaksi Elektronik, BAB II - PENYELENGGARAAN SISTEM ELEKTRONIK, Bagian Kedelapan - Uji Kelaikan Sistem Elektronik, Pasal 34:\\n(1) Penyelenggara Sistem Elektronik wajib melakukan Uji Kelaikan Sistem Elektronik.\\n(2) Kewajiban sebagaimana dimaksud pada ayat (1) dapat dilaksanakan terhadap seluruh komponen atau sebagian komponen dalam Sistem Elektronik sesuai dengan karakteristik kebutuhan pelindungan dan sifat strategis penyelenggaraan Sistem Elektronik.\\n\\nPeraturan Pemerintah (PP) Nomor 71 Tahun 2019 tentang Penyelenggaraan Sistem dan Transaksi Elektronik, BAB II - PENYELENGGARAAN SISTEM ELEKTRONIK, Bagian Ketujuh - Pengamanan Penyelenggaraan Sistem Elektronik, Pasal 28:\\n(1) Penyelenggara Sistem Elektronik wajib melakukan edukasi kepada Pengguna Sistem Elektronik.\\n(2) Edukasi sebagaimana dimaksud pada ayat (1) paling sedikit mengenai hak, kewajiban, dan tanggung jawab seluruh pihak terkait, serta prosedur pengajuan komplain.\\n\\nUndang-undang (UU) Nomor 11 Tahun 2008 tentang Informasi dan Transaksi Elektronik, BAB VII - PERBUATAN YANG DILARANG, Pasal 37:\\nSetiap Orang dengan sengaja melakukan perbuatan yang dilarang sebagaimana dimaksud dalam Pasal 27 sampai dengan Pasal 36 di luar wilayah Indonesia terhadap Sistem Elektronik yang berada di wilayah yurisdiksi Indonesia.\\n\\nUndang-undang (UU) Nomor 11 Tahun 2008 tentang Informasi dan Transaksi Elektronik, BAB XI - KETENTUAN PIDANA, Pasal 52:\\n(1) Dalam hal tindak pidana sebagaimana dimaksud dalam Pasal 27 ayat (1) menyangkut kesusilaan atau eksploitasi seksual terhadap anak dikenakan pemberatan sepertiga dari pidana pokok.\\n(2) Dalam hal perbuatan sebagaimana dimaksud dalam Pasal 30 sampai dengan Pasal 37 ditujukan terhadap Komputer dan/atau Sistem Elektronik serta Informasi Elektronik dan/atau Dokumen Elektronik milik Pemerintah dan/atau yang digunakan untuk layanan publik dipidana dengan pidana pokok ditambah sepertiga.\\n(3) Dalam hal perbuatan sebagaimana dimaksud dalam Pasal 30 sampai dengan Pasal 37 ditujukan terhadap Komputer dan/atau Sistem Elektronik serta Informasi Elektronik dan/atau Dokumen Elektronik milik Pemerintah dan/atau badan strategis termasuk dan tidak terbatas pada lembaga pertahanan, bank sentral, perbankan, keuangan, lembaga internasional, otoritas penerbangan diancam dengan pidana maksimal ancaman pidana pokok masing-masing pasal ditambah dua pertiga.\\n(4) Dalam hal tindak pidana sebagaimana dimaksud dalam Pasal 27 sampai dengan Pasal 37 dilakukan oleh korporasi dipidana dengan pidana pokok ditambah dua pertiga.\\n\\nUndang-undang (UU) Nomor 1 Tahun 2024 tentang Perubahan Kedua atas Undang-Undang Nomor 11 Tahun 2008 tentang Informasi dan Transaksi Elektronik, BAB VII - PERBUATAN YANG DILARANG, Pasal 36:\\nSetiap Orang dengan sengaja dan tanpa hak melakukan perbuatan sebagaimana dimaksud dalam Pasal 30 sampai dengan Pasal 34 yang mengakibatkan kerugian materiel bagi Orang lain.\\n\\nUndang-undang (UU) Nomor 11 Tahun 2008 tentang Informasi dan Transaksi Elektronik, BAB VII - PERBUATAN YANG DILARANG, Pasal 36:\\nSetiap Orang dengan sengaja dan tanpa hak atau melawan hukum melakukan perbuatan sebagaimana dimaksud dalam Pasal 27 sampai dengan Pasal 34 yang mengakibatkan kerugian bagi Orang lain.\\n\\nUndang-undang (UU) Nomor 11 Tahun 2008 tentang Informasi dan Transaksi Elektronik, BAB VII - PERBUATAN YANG DILARANG, Pasal 34:\\n(1) Setiap Orang dengan sengaja dan tanpa hak atau melawan hukum memproduksi, menjual, mengadakan untuk digunakan, mengimpor, mendistribusikan, menyediakan, atau memiliki:\\n\\ta. perangkat keras atau perangkat lunak Komputer yang dirancang atau secara khusus dikembangkan untuk memfasilitasi perbuatan sebagaimana dimaksud dalam Pasal 27 sampai dengan Pasal 33;\\n\\tb. sandi lewat Komputer, Kode Akses, atau hal yang sejenis dengan itu yang ditujukan agar Sistem Elektronik menjadi dapat diakses dengan tujuan memfasilitasi perbuatan sebagaimana dimaksud dalam Pasal 27 sampai dengan Pasal 33.\\n(2) Tindakan sebagaimana dimaksud pada ayat (1) bukan tindak pidana jika ditujukan untuk melakukan kegiatan penelitian, pengujian Sistem Elektronik, untuk perlindungan Sistem Elektronik itu sendiri secara sah dan tidak melawan hukum.\\n\\n\\n## **Daftar Definisi Konsep Menurut Peraturan Perundang-Undangan yang (Mungkin) Relevan untuk Menjawab Kueri:**\\n--------------------------------------------------------------------------------\\n\\n- Peraturan Menteri Komunikasi dan Informatika Nomor 4 Tahun 2016 tentang Sistem Manajemen Pengamanan Informasi, Definisi Penyelenggaraan Sistem Elektronik:\\nPenyelenggaraan Sistem Elektronik adalah pemanfaatan Sistem Elektronik oleh penyelenggara negara, Orang, Badan Usaha, dan/atau masyarakat.\\n\\n- Undang-undang (UU) Nomor 11 Tahun 2008 tentang Informasi dan Transaksi Elektronik, Definisi Penyelenggaraan Sistem Elektronik:\\nPenyelenggaraan Sistem Elektronik adalah pemanfaatan Sistem Elektronik oleh penyelenggara negara, Orang, Badan Usaha, dan/atau masyarakat.\\n\\n- Undang-undang (UU) Nomor 19 Tahun 2016 tentang Perubahan Atas Undang-Undang Nomor 11 Tahun 2008 Tentang Informasi Dan Transaksi Elektronik, Definisi Penyelenggaraan Sistem Elektronik:\\nPenyelenggaraan Sistem Elektronik adalah pemanfaatan Sistem Elektronik oleh penyelenggara negara, Orang, Badan Usaha, dan/atau masyarakat.\\n\\n- Peraturan Pemerintah (PP) Nomor 71 Tahun 2019 tentang Penyelenggaraan Sistem dan Transaksi Elektronik, Definisi Penyelenggara Sistem Elektronik Lingkup Privat:\\nPenyelenggara Sistem Elektronik Lingkup Privat adalah penyelenggaraan Sistem Elektronik oleh Orang, Badan Usaha, dan masyarakat.\\n\\n- Peraturan Pemerintah (PP) Nomor 71 Tahun 2019 tentang Penyelenggaraan Sistem dan Transaksi Elektronik, Definisi Penyelenggara Sistem Elektronik Lingkup Publik:\\nPenyelenggara Sistem Elektronik Lingkup Publik adalah penyelenggaraan Sistem Elektronik oleh Instansi Penyelenggara Negara atau institusi yang ditunjuk oleh Instansi Penyelenggara Negara.',\n",
       " 'additional_kwargs': {},\n",
       " 'response_metadata': {},\n",
       " 'type': 'tool',\n",
       " 'name': 'hybrid_cypher_retriever',\n",
       " 'id': None,\n",
       " 'tool_call_id': '123',\n",
       " 'artifact': {'run_time': 0.06501650810241699,\n",
       "  'is_context_fetched': True,\n",
       "  'node_ids': [200801011503000,\n",
       "   201902071501200,\n",
       "   201902071502300,\n",
       "   201902071503400,\n",
       "   201902071502800,\n",
       "   200801011503700,\n",
       "   200801011505200,\n",
       "   202401001503600,\n",
       "   200801011503600,\n",
       "   200801011503400,\n",
       "   201603004400300,\n",
       "   200801011400600,\n",
       "   201601019400600,\n",
       "   201902071400600,\n",
       "   201902071400500]},\n",
       " 'status': 'success'}"
      ]
     },
     "execution_count": 13,
     "metadata": {},
     "output_type": "execute_result"
    }
   ],
   "source": [
    "# Agar hasilnya dalam ToolMessage, harus invoke menggunakan schema ToolCall\n",
    "# https://python.langchain.com/docs/how_to/tool_artifacts/#invoking-the-tool-with-toolcall\n",
    "\n",
    "result = hybrid_cypher_retriever.invoke(\n",
    "    {\n",
    "        \"name\": \"hybrid_cypher_retriever\",\n",
    "        \"args\": {\"query\": query},\n",
    "        \"id\": \"123\",  # required\n",
    "        \"type\": \"tool_call\",  # required\n",
    "    }\n",
    ")\n",
    "\n",
    "result.model_dump()"
   ]
  },
  {
   "cell_type": "code",
   "execution_count": 14,
   "metadata": {},
   "outputs": [
    {
     "data": {
      "text/plain": [
       "7470"
      ]
     },
     "execution_count": 14,
     "metadata": {},
     "output_type": "execute_result"
    }
   ],
   "source": [
    "len(result.content)"
   ]
  }
 ],
 "metadata": {
  "kernelspec": {
   "display_name": ".venv",
   "language": "python",
   "name": "python3"
  },
  "language_info": {
   "codemirror_mode": {
    "name": "ipython",
    "version": 3
   },
   "file_extension": ".py",
   "mimetype": "text/x-python",
   "name": "python",
   "nbconvert_exporter": "python",
   "pygments_lexer": "ipython3",
   "version": "3.11.4"
  }
 },
 "nbformat": 4,
 "nbformat_minor": 2
}
