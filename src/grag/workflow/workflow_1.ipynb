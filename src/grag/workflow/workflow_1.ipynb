{
 "cells": [
  {
   "cell_type": "code",
   "execution_count": 1,
   "metadata": {},
   "outputs": [],
   "source": [
    "from typing_extensions import Annotated\n",
    "from typing_extensions import TypedDict\n",
    "\n",
    "from langgraph.graph import START\n",
    "from langgraph.graph import END\n",
    "from langgraph.graph import StateGraph\n",
    "from langgraph.graph import MessagesState\n",
    "from langgraph.graph.message import add_messages\n",
    "\n",
    "from langchain_core.messages import AIMessage\n",
    "from langchain_core.messages import AnyMessage\n",
    "from langchain_core.messages import HumanMessage\n",
    "\n",
    "\n",
    "class State(TypedDict):\n",
    "    messages: Annotated[list[AnyMessage], add_messages]\n",
    "    extra_field: int\n",
    "\n",
    "\n",
    "def node(state: State):\n",
    "    new_message = AIMessage(\"Hello!\")\n",
    "    new_extra_field = state.get(\"extra_field\", 0) + 1\n",
    "    return {\"messages\": [new_message], \"extra_field\": new_extra_field}\n",
    "    # return new_message\n",
    "    # Jika return seperti ini (tanpa dictionary dengan salah satu key di State)\n",
    "    # Maka hasilnya dianggap tidak valid, dan tidak akan dihiraukan\n",
    "\n",
    "\n",
    "graph_builder = StateGraph(State)\n",
    "graph_builder.add_node(node)\n",
    "graph_builder.add_edge(START, \"node\")\n",
    "graph_builder.add_edge(\"node\", END)\n",
    "graph = graph_builder.compile()"
   ]
  },
  {
   "cell_type": "code",
   "execution_count": 2,
   "metadata": {},
   "outputs": [
    {
     "data": {
      "image/png": "[encoded data removed]",
      "text/plain": [
       "<IPython.core.display.Image object>"
      ]
     },
     "metadata": {},
     "output_type": "display_data"
    }
   ],
   "source": [
    "from IPython.display import Image, display\n",
    "\n",
    "# Visualize your graph\n",
    "display(Image(graph.get_graph().draw_mermaid_png()))"
   ]
  },
  {
   "cell_type": "code",
   "execution_count": 3,
   "metadata": {},
   "outputs": [
    {
     "data": {
      "text/plain": [
       "{'messages': [HumanMessage(content='Hi', additional_kwargs={}, response_metadata={}, id='51dd26c0-c669-4bc1-b37a-6959c65a1416'),\n",
       "  AIMessage(content='Hello!', additional_kwargs={}, response_metadata={}, id='2313bcef-928a-416d-8697-34ffcb26a1cc')],\n",
       " 'extra_field': 1}"
      ]
     },
     "metadata": {},
     "output_type": "display_data"
    },
    {
     "name": "stdout",
     "output_type": "stream",
     "text": [
      "================================\u001b[1m Human Message \u001b[0m=================================\n",
      "\n",
      "Hi\n",
      "==================================\u001b[1m Ai Message \u001b[0m==================================\n",
      "\n",
      "Hello!\n"
     ]
    }
   ],
   "source": [
    "result = graph.invoke({\"messages\": [HumanMessage(\"Hi\")]})\n",
    "display(result)\n",
    "\n",
    "for message in result[\"messages\"]:\n",
    "    message.pretty_print()"
   ]
  },
  {
   "cell_type": "code",
   "execution_count": 4,
   "metadata": {},
   "outputs": [
    {
     "data": {
      "text/plain": [
       "{'messages': [HumanMessage(content='Hi', additional_kwargs={}, response_metadata={}, id='e3cb2b13-f513-4ceb-b576-88025bf00db4'),\n",
       "  AIMessage(content='Hello!', additional_kwargs={}, response_metadata={}, id='23f10af2-b33c-4c46-a2dc-2f269d3b37de')],\n",
       " 'extra_field': 1}"
      ]
     },
     "metadata": {},
     "output_type": "display_data"
    }
   ],
   "source": [
    "# Source: https://langchain-ai.github.io/langgraph/tutorials/introduction/#part-3-adding-memory-to-the-chatbot\n",
    "from langgraph.checkpoint.memory import MemorySaver\n",
    "\n",
    "memory = MemorySaver()\n",
    "\n",
    "graph_builder = StateGraph(State)\n",
    "graph_builder.add_node(node)\n",
    "graph_builder.add_edge(START, \"node\")\n",
    "graph_builder.add_edge(\"node\", END)\n",
    "graph = graph_builder.compile(checkpointer=memory)\n",
    "\n",
    "config = {\"configurable\": {\"thread_id\": \"1\"}}\n",
    "\n",
    "result = graph.invoke({\"messages\": [HumanMessage(\"Hi\")]}, config=config)\n",
    "display(result)"
   ]
  },
  {
   "cell_type": "code",
   "execution_count": 5,
   "metadata": {},
   "outputs": [
    {
     "name": "stdout",
     "output_type": "stream",
     "text": [
      "================================\u001b[1m Human Message \u001b[0m=================================\n",
      "\n",
      "Hi\n",
      "==================================\u001b[1m Ai Message \u001b[0m==================================\n",
      "\n",
      "Hello!\n"
     ]
    }
   ],
   "source": [
    "for message in result[\"messages\"]:\n",
    "    message.pretty_print()"
   ]
  },
  {
   "cell_type": "code",
   "execution_count": 6,
   "metadata": {},
   "outputs": [
    {
     "name": "stdout",
     "output_type": "stream",
     "text": [
      "{'extra_field': 3,\n",
      " 'messages': [HumanMessage(content='Hi', additional_kwargs={}, response_metadata={}, id='e3cb2b13-f513-4ceb-b576-88025bf00db4'),\n",
      "              AIMessage(content='Hello!', additional_kwargs={}, response_metadata={}, id='23f10af2-b33c-4c46-a2dc-2f269d3b37de'),\n",
      "              HumanMessage(content='Hi', additional_kwargs={}, response_metadata={}, id='c88de420-ee88-44f0-ac96-23fe7f5923f2'),\n",
      "              AIMessage(content='Hello!', additional_kwargs={}, response_metadata={}, id='1bebd222-e670-442c-b84c-3aae094bec46'),\n",
      "              HumanMessage(content='Hi', additional_kwargs={}, response_metadata={}, id='240528c1-1b80-45c6-8446-8b0902a3f666'),\n",
      "              AIMessage(content='Hello!', additional_kwargs={}, response_metadata={}, id='cf55e417-9dfb-4b2b-9033-6e0959bac9e4')]}\n"
     ]
    }
   ],
   "source": [
    "# Print \"ALL\" state from memory with thread_id=1\n",
    "# Source: https://langchain-ai.github.io/langgraph/tutorials/introduction/#part-3-adding-memory-to-the-chatbot\n",
    "from pprint import pprint\n",
    "\n",
    "result = graph.invoke({\"messages\": [HumanMessage(\"Hi\")]}, config=config)  # 2nd invoke\n",
    "result = graph.invoke({\"messages\": [HumanMessage(\"Hi\")]}, config=config)  # 3rd invoke\n",
    "\n",
    "pprint(graph.get_state(config)[0])"
   ]
  }
 ],
 "metadata": {
  "kernelspec": {
   "display_name": ".venv",
   "language": "python",
   "name": "python3"
  },
  "language_info": {
   "codemirror_mode": {
    "name": "ipython",
    "version": 3
   },
   "file_extension": ".py",
   "mimetype": "text/x-python",
   "name": "python",
   "nbconvert_exporter": "python",
   "pygments_lexer": "ipython3",
   "version": "3.11.4"
  }
 },
 "nbformat": 4,
 "nbformat_minor": 2
}
