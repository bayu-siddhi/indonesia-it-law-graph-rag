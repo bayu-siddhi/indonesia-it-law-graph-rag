{
 "cells": [
  {
   "cell_type": "code",
   "execution_count": 1,
   "metadata": {},
   "outputs": [
    {
     "data": {
      "text/plain": [
       "True"
      ]
     },
     "execution_count": 1,
     "metadata": {},
     "output_type": "execute_result"
    }
   ],
   "source": [
    "import os\n",
    "from pprint import pprint\n",
    "from dotenv import load_dotenv\n",
    "from langchain_neo4j import Neo4jGraph\n",
    "from langchain_google_genai import ChatGoogleGenerativeAI\n",
    "from langchain_google_genai import GoogleGenerativeAIEmbeddings\n",
    "from src.grag import create_text2cypher_retriever_tool\n",
    "\n",
    "load_dotenv(\".env\")"
   ]
  },
  {
   "cell_type": "code",
   "execution_count": 2,
   "metadata": {},
   "outputs": [],
   "source": [
    "URI = os.environ[\"DATABASE_HOST\"]\n",
    "DATABASE = os.environ[\"DATABASE_SMALL\"]\n",
    "USERNAME = os.environ[\"DATABASE_USERNAME\"]\n",
    "PASSWORD = os.environ[\"DATABASE_PASSWORD\"]\n",
    "\n",
    "neo4j_graph = Neo4jGraph(\n",
    "    url=URI,\n",
    "    username=USERNAME,\n",
    "    password=PASSWORD,\n",
    "    database=DATABASE,\n",
    "    enhanced_schema=True\n",
    ")\n",
    "\n",
    "embedder_model = GoogleGenerativeAIEmbeddings(\n",
    "    model=\"models/embedding-001\",\n",
    "    google_api_key=os.environ[\"GOOGLE_API_KEY\"]\n",
    ")\n",
    "\n",
    "llm = ChatGoogleGenerativeAI(\n",
    "    model=\"gemini-2.0-flash\",\n",
    "    temperature=0.0,\n",
    "    api_key=os.environ[\"GOOGLE_API_KEY\"]\n",
    ")"
   ]
  },
  {
   "cell_type": "code",
   "execution_count": 3,
   "metadata": {},
   "outputs": [],
   "source": [
    "text2cypher_retriever = create_text2cypher_retriever_tool(\n",
    "    neo4j_graph=neo4j_graph,\n",
    "    cypher_llm=llm,\n",
    "    qa_llm=llm,\n",
    "    embedder_model=embedder_model,\n",
    "    skip_qa_llm=False,\n",
    "    verbose=True\n",
    ")"
   ]
  },
  {
   "cell_type": "code",
   "execution_count": 4,
   "metadata": {},
   "outputs": [],
   "source": [
    "query =\"Apa isi pasal 28 UU No. 11 tahun 2008?\"\n",
    "# query =\"Apa isi teks pasal setelah pasal 28 UU No. 11 Tahun 2008?\"\n",
    "# query =\"Apa isi pasal 100 UU No 11 tahun 2008?\"\n",
    "# query = \"Kenapa ikan berenang di air?\""
   ]
  },
  {
   "cell_type": "code",
   "execution_count": 5,
   "metadata": {},
   "outputs": [
    {
     "name": "stdout",
     "output_type": "stream",
     "text": [
      "\n",
      "\n",
      "\u001b[1m> Entering new GraphCypherQAChainMod chain...\u001b[0m\n",
      "Generated Cypher (1):\n",
      "\u001b[32;1m\u001b[1;3mcypher\n",
      "MATCH (r:Regulation)-[:HAS_ARTICLE]->(a:Article)\n",
      "WHERE r.type = 'UU' AND r.number = 11 AND r.year = 2008 AND a.number = '28'\n",
      "RETURN a.text AS text\u001b[0m\n",
      "\n",
      "Skip QA LLM:\n",
      "\u001b[32;1m\u001b[1;3mFalse\u001b[0m\n",
      "\n",
      "Full Context:\n",
      "\u001b[32;1m\u001b[1;3m[{'text': 'Undang-undang (UU) Nomor 11 Tahun 2008 tentang Informasi dan Transaksi Elektronik, BAB VII - PERBUATAN YANG DILARANG, Pasal 28:\\n(1) Setiap Orang dengan sengaja dan tanpa hak menyebarkan berita bohong dan menyesatkan yang mengakibatkan kerugian konsumen dalam Transaksi Elektronik.\\n(2) Setiap Orang dengan sengaja dan tanpa hak menyebarkan informasi yang ditujukan untuk menimbulkan rasa kebencian atau permusuhan individu dan/atau kelompok masyarakat tertentu berdasarkan atas suku, agama, ras, dan antargolongan (SARA).'}]\u001b[0m\n",
      "\n",
      "\n",
      "\u001b[1m> Finished chain.\u001b[0m\n",
      "### **Hasil Pembuatan Kode Cypher:**\n",
      "```cypher\n",
      "MATCH (r:Regulation)-[:HAS_ARTICLE]->(a:Article)\n",
      "WHERE r.type = 'UU' AND r.number = 11 AND r.year = 2008 AND a.number = '28'\n",
      "RETURN a.text AS text\n",
      "```\n",
      "\n",
      "### **Hasil Eksekusi Kode Cypher ke Database:**\n",
      "Pasal 28 UU No. 11 Tahun 2008 berisi tentang:\n",
      "\n",
      "(1) Setiap Orang dengan sengaja dan tanpa hak menyebarkan berita bohong dan menyesatkan yang mengakibatkan kerugian konsumen dalam Transaksi Elektronik.\n",
      "\n",
      "(2) Setiap Orang dengan sengaja dan tanpa hak menyebarkan informasi yang ditujukan untuk menimbulkan rasa kebencian atau permusuhan individu dan/atau kelompok masyarakat tertentu berdasarkan atas suku, agama, ras, dan antargolongan (SARA).\n"
     ]
    }
   ],
   "source": [
    "result = text2cypher_retriever.invoke({\"query\": query})\n",
    "print(result)"
   ]
  },
  {
   "cell_type": "code",
   "execution_count": 7,
   "metadata": {},
   "outputs": [
    {
     "data": {
      "text/plain": [
       "{'content': \"### **Hasil Pembuatan Kode Cypher:**\\n```cypher\\nMATCH (r:Regulation)-[:HAS_ARTICLE]->(a:Article)\\nWHERE r.type = 'UU' AND r.number = 11 AND r.year = 2008 AND a.number = '28'\\nRETURN a.text AS text\\n```\\n\\n### **Hasil Eksekusi Kode Cypher ke Database:**\\nPasal 28 UU No. 11 Tahun 2008 berisi tentang larangan perbuatan sebagai berikut:\\n\\n(1) Setiap Orang dengan sengaja dan tanpa hak menyebarkan berita bohong dan menyesatkan yang mengakibatkan kerugian konsumen dalam Transaksi Elektronik.\\n(2) Setiap Orang dengan sengaja dan tanpa hak menyebarkan informasi yang ditujukan untuk menimbulkan rasa kebencian atau permusuhan individu dan/atau kelompok masyarakat tertentu berdasarkan atas suku, agama, ras, dan antargolongan (SARA).\",\n",
       " 'additional_kwargs': {},\n",
       " 'response_metadata': {},\n",
       " 'type': 'tool',\n",
       " 'name': 'text2cypher',\n",
       " 'id': None,\n",
       " 'tool_call_id': '123',\n",
       " 'artifact': {'is_context_fetched': True,\n",
       "  'cypher_gen_usage_metadata': {'input_tokens': 2805,\n",
       "   'output_tokens': 65,\n",
       "   'total_tokens': 2870},\n",
       "  'qa_usage_metadata': {'input_tokens': 290,\n",
       "   'output_tokens': 103,\n",
       "   'total_tokens': 393},\n",
       "  'run_time': 2.366537094116211},\n",
       " 'status': 'success'}"
      ]
     },
     "execution_count": 7,
     "metadata": {},
     "output_type": "execute_result"
    }
   ],
   "source": [
    "# Agar hasilnya dalam ToolMessage, harus invoke menggunakan schema ToolCall\n",
    "# https://python.langchain.com/docs/how_to/tool_artifacts/#invoking-the-tool-with-toolcall\n",
    "\n",
    "query =\"Apa isi pasal 28 UU No. 11 tahun 2008?\"\n",
    "# query =\"Apa isi teks pasal setelah (NEXT_ARTICLE) pasal 28 UU No. 11 Tahun 2008?\"\n",
    "# query =\"Apa isi pasal 100 UU No 11 tahun 2008?\"\n",
    "# query = \"Kenapa ikan berenang di air?\"\n",
    "\n",
    "text2cypher_retriever = create_text2cypher_retriever_tool(\n",
    "    neo4j_graph=neo4j_graph,\n",
    "    cypher_llm=llm,\n",
    "    qa_llm=llm,\n",
    "    embedder_model=embedder_model,\n",
    "    skip_qa_llm=False,\n",
    "    verbose=False\n",
    ")\n",
    "\n",
    "result = text2cypher_retriever.invoke(\n",
    "    {\n",
    "        \"name\": \"text2cypher_retriever\",\n",
    "        \"args\": {\"query\": query},\n",
    "        \"id\": \"123\",  # required\n",
    "        \"type\": \"tool_call\",  # required\n",
    "    }\n",
    ")\n",
    "\n",
    "result.model_dump()"
   ]
  },
  {
   "cell_type": "code",
   "execution_count": 8,
   "metadata": {},
   "outputs": [
    {
     "name": "stdout",
     "output_type": "stream",
     "text": [
      "        +-----------+         \n",
      "        | __start__ |         \n",
      "        +-----------+         \n",
      "              *               \n",
      "              *               \n",
      "              *               \n",
      "          +-------+           \n",
      "          | agent |           \n",
      "          +-------+           \n",
      "         *         .          \n",
      "       **           ..        \n",
      "      *               .       \n",
      "+-------+         +---------+ \n",
      "| tools |         | __end__ | \n",
      "+-------+         +---------+ \n"
     ]
    }
   ],
   "source": [
    "from langchain_google_genai import ChatGoogleGenerativeAI\n",
    "from langgraph.checkpoint.memory import MemorySaver\n",
    "from langchain_core.messages import HumanMessage\n",
    "from langgraph.prebuilt import create_react_agent\n",
    "\n",
    "\n",
    "text2cypher_retriever = create_text2cypher_retriever_tool(\n",
    "    neo4j_graph=neo4j_graph,\n",
    "    cypher_llm=llm,\n",
    "    qa_llm=llm,\n",
    "    embedder_model=embedder_model,\n",
    "    skip_qa_llm=False,\n",
    "    verbose=False\n",
    ")\n",
    "\n",
    "llm = ChatGoogleGenerativeAI(\n",
    "    model=\"gemini-2.0-flash\",\n",
    "    temperature=0.0,\n",
    "    api_key=os.environ[\"GOOGLE_API_KEY\"]\n",
    ")\n",
    "\n",
    "checkpointer = MemorySaver()\n",
    "config = {\"configurable\": {\"thread_id\": \"1\"}}\n",
    "\n",
    "react_agent = create_react_agent(model=llm, tools=[text2cypher_retriever], checkpointer=checkpointer, version=\"v2\")\n",
    "print(react_agent.get_graph().draw_ascii())"
   ]
  },
  {
   "cell_type": "code",
   "execution_count": 9,
   "metadata": {},
   "outputs": [
    {
     "data": {
      "text/plain": [
       "[HumanMessage(content='Apa isi pasal 28 UU No. 11 tahun 2008? Wajib gunakan tool text2cypher', additional_kwargs={}, response_metadata={}, id='e2f6d50f-0d2a-4399-8edc-96ee31bcf3e0'),\n",
       " AIMessage(content='', additional_kwargs={'function_call': {'name': 'text2cypher', 'arguments': '{\"query\": \"Apa isi pasal 28 UU No. 11 tahun 2008?\"}'}}, response_metadata={'prompt_feedback': {'block_reason': 0, 'safety_ratings': []}, 'finish_reason': 'STOP', 'safety_ratings': []}, id='run-87ce3640-33c7-4402-8f86-f92fbf086ced-0', tool_calls=[{'name': 'text2cypher', 'args': {'query': 'Apa isi pasal 28 UU No. 11 tahun 2008?'}, 'id': '10d811da-e550-46ae-ac0c-2f49304cca9d', 'type': 'tool_call'}], usage_metadata={'input_tokens': 55, 'output_tokens': 24, 'total_tokens': 79, 'input_token_details': {'cache_read': 0}}),\n",
       " ToolMessage(content=\"### **Hasil Pembuatan Kode Cypher:**\\n```cypher\\nMATCH (r:Regulation)-[:HAS_ARTICLE]->(a:Article)\\nWHERE r.type = 'UU' AND r.number = 11 AND r.year = 2008 AND a.number = '28'\\nRETURN a.text AS text\\n```\\n\\n### **Hasil Eksekusi Kode Cypher ke Database:**\\nPasal 28 UU No. 11 Tahun 2008 berisi tentang:\\n\\n(1) Setiap Orang dengan sengaja dan tanpa hak menyebarkan berita bohong dan menyesatkan yang mengakibatkan kerugian konsumen dalam Transaksi Elektronik.\\n\\n(2) Setiap Orang dengan sengaja dan tanpa hak menyebarkan informasi yang ditujukan untuk menimbulkan rasa kebencian atau permusuhan individu dan/atau kelompok masyarakat tertentu berdasarkan atas suku, agama, ras, dan antargolongan (SARA).\", name='text2cypher', id='a9c927e1-7cbd-45da-b6fb-4093ef809948', tool_call_id='10d811da-e550-46ae-ac0c-2f49304cca9d', artifact={'is_context_fetched': True, 'cypher_gen_usage_metadata': {'input_tokens': 2805, 'output_tokens': 65, 'total_tokens': 2870}, 'qa_usage_metadata': {'input_tokens': 290, 'output_tokens': 98, 'total_tokens': 388}, 'run_time': 2.4130427837371826}),\n",
       " AIMessage(content='Pasal 28 UU No. 11 Tahun 2008 berisi tentang:\\n\\n(1) Setiap Orang dengan sengaja dan tanpa hak menyebarkan berita bohong dan menyesatkan yang mengakibatkan kerugian konsumen dalam Transaksi Elektronik.\\n\\n(2) Setiap Orang dengan sengaja dan tanpa hak menyebarkan informasi yang ditujukan untuk menimbulkan rasa kebencian atau permusuhan individu dan/atau kelompok masyarakat tertentu berdasarkan atas suku, agama, ras, dan antargolongan (SARA).', additional_kwargs={}, response_metadata={'prompt_feedback': {'block_reason': 0, 'safety_ratings': []}, 'finish_reason': 'STOP', 'safety_ratings': []}, id='run-9ae9dba8-d028-473a-a5bb-500faa495b5b-0', usage_metadata={'input_tokens': 270, 'output_tokens': 97, 'total_tokens': 367, 'input_token_details': {'cache_read': 0}})]"
      ]
     },
     "execution_count": 9,
     "metadata": {},
     "output_type": "execute_result"
    }
   ],
   "source": [
    "query =\"Apa isi pasal 28 UU No. 11 tahun 2008?\"\n",
    "result = react_agent.invoke(\n",
    "    {\"messages\": HumanMessage(content=query + \" Wajib gunakan tool text2cypher\")},\n",
    "    config=config\n",
    ")\n",
    "\n",
    "result[\"messages\"]"
   ]
  },
  {
   "cell_type": "code",
   "execution_count": 10,
   "metadata": {},
   "outputs": [
    {
     "data": {
      "text/plain": [
       "[HumanMessage(content='Apa isi pasal 28 UU No. 11 tahun 2008? Wajib gunakan tool text2cypher', additional_kwargs={}, response_metadata={}, id='e2f6d50f-0d2a-4399-8edc-96ee31bcf3e0'),\n",
       " AIMessage(content='', additional_kwargs={'function_call': {'name': 'text2cypher', 'arguments': '{\"query\": \"Apa isi pasal 28 UU No. 11 tahun 2008?\"}'}}, response_metadata={'prompt_feedback': {'block_reason': 0, 'safety_ratings': []}, 'finish_reason': 'STOP', 'safety_ratings': []}, id='run-87ce3640-33c7-4402-8f86-f92fbf086ced-0', tool_calls=[{'name': 'text2cypher', 'args': {'query': 'Apa isi pasal 28 UU No. 11 tahun 2008?'}, 'id': '10d811da-e550-46ae-ac0c-2f49304cca9d', 'type': 'tool_call'}], usage_metadata={'input_tokens': 55, 'output_tokens': 24, 'total_tokens': 79, 'input_token_details': {'cache_read': 0}}),\n",
       " ToolMessage(content=\"### **Hasil Pembuatan Kode Cypher:**\\n```cypher\\nMATCH (r:Regulation)-[:HAS_ARTICLE]->(a:Article)\\nWHERE r.type = 'UU' AND r.number = 11 AND r.year = 2008 AND a.number = '28'\\nRETURN a.text AS text\\n```\\n\\n### **Hasil Eksekusi Kode Cypher ke Database:**\\nPasal 28 UU No. 11 Tahun 2008 berisi tentang:\\n\\n(1) Setiap Orang dengan sengaja dan tanpa hak menyebarkan berita bohong dan menyesatkan yang mengakibatkan kerugian konsumen dalam Transaksi Elektronik.\\n\\n(2) Setiap Orang dengan sengaja dan tanpa hak menyebarkan informasi yang ditujukan untuk menimbulkan rasa kebencian atau permusuhan individu dan/atau kelompok masyarakat tertentu berdasarkan atas suku, agama, ras, dan antargolongan (SARA).\", name='text2cypher', id='a9c927e1-7cbd-45da-b6fb-4093ef809948', tool_call_id='10d811da-e550-46ae-ac0c-2f49304cca9d', artifact={'is_context_fetched': True, 'cypher_gen_usage_metadata': {'input_tokens': 2805, 'output_tokens': 65, 'total_tokens': 2870}, 'qa_usage_metadata': {'input_tokens': 290, 'output_tokens': 98, 'total_tokens': 388}, 'run_time': 2.4130427837371826}),\n",
       " AIMessage(content='Pasal 28 UU No. 11 Tahun 2008 berisi tentang:\\n\\n(1) Setiap Orang dengan sengaja dan tanpa hak menyebarkan berita bohong dan menyesatkan yang mengakibatkan kerugian konsumen dalam Transaksi Elektronik.\\n\\n(2) Setiap Orang dengan sengaja dan tanpa hak menyebarkan informasi yang ditujukan untuk menimbulkan rasa kebencian atau permusuhan individu dan/atau kelompok masyarakat tertentu berdasarkan atas suku, agama, ras, dan antargolongan (SARA).', additional_kwargs={}, response_metadata={'prompt_feedback': {'block_reason': 0, 'safety_ratings': []}, 'finish_reason': 'STOP', 'safety_ratings': []}, id='run-9ae9dba8-d028-473a-a5bb-500faa495b5b-0', usage_metadata={'input_tokens': 270, 'output_tokens': 97, 'total_tokens': 367, 'input_token_details': {'cache_read': 0}}),\n",
       " HumanMessage(content='Bagaimana dengan isi teks pasal setelah pasal 28 UU No. 11 Tahun 2008?', additional_kwargs={}, response_metadata={}, id='32a24058-e6f8-4763-9a01-a02a44ff2809'),\n",
       " AIMessage(content='', additional_kwargs={'function_call': {'name': 'text2cypher', 'arguments': '{\"query\": \"Apa isi pasal setelah pasal 28 UU No. 11 tahun 2008?\"}'}}, response_metadata={'prompt_feedback': {'block_reason': 0, 'safety_ratings': []}, 'finish_reason': 'STOP', 'safety_ratings': []}, id='run-30a9fdf6-a294-45e9-b4e3-7c65b3cff566-0', tool_calls=[{'name': 'text2cypher', 'args': {'query': 'Apa isi pasal setelah pasal 28 UU No. 11 tahun 2008?'}, 'id': '216fc538-4bd9-4b8d-b0ad-ddf88b8b7e44', 'type': 'tool_call'}], usage_metadata={'input_tokens': 390, 'output_tokens': 26, 'total_tokens': 416, 'input_token_details': {'cache_read': 0}}),\n",
       " ToolMessage(content='### **Hasil Pembuatan Kode Cypher:**\\n```cypher\\nMATCH (r:Regulation)-[:HAS_ARTICLE]->(a:Article)-[:NEXT_ARTICLE]->(next_article)\\nWHERE r.type = \\'UU\\' AND r.number = 11 AND r.year = 2008 AND a.number = \\'28\\'\\nRETURN next_article.text AS text\\n```\\n\\n### **Hasil Eksekusi Kode Cypher ke Database:**\\nPasal setelah Pasal 28 UU No. 11 Tahun 2008 adalah Pasal 29, yang berbunyi:\\n\\n\"Setiap Orang dengan sengaja dan tanpa hak mengirimkan Informasi Elektronik dan/atau Dokumen Elektronik yang berisi ancaman kekerasan atau menakut-nakuti yang ditujukan secara pribadi.\"', name='text2cypher', id='a5886b4d-8ae6-449e-b56f-80354a6cc973', tool_call_id='216fc538-4bd9-4b8d-b0ad-ddf88b8b7e44', artifact={'is_context_fetched': True, 'cypher_gen_usage_metadata': {'input_tokens': 2807, 'output_tokens': 77, 'total_tokens': 2884}, 'qa_usage_metadata': {'input_tokens': 248, 'output_tokens': 65, 'total_tokens': 313}, 'run_time': 2.248041868209839}),\n",
       " AIMessage(content='Pasal setelah Pasal 28 UU No. 11 Tahun 2008 adalah Pasal 29, yang berbunyi:\\n\\n\"Setiap Orang dengan sengaja dan tanpa hak mengirimkan Informasi Elektronik dan/atau Dokumen Elektronik yang berisi ancaman kekerasan atau menakut-nakuti yang ditujukan secara pribadi.\"', additional_kwargs={}, response_metadata={'prompt_feedback': {'block_reason': 0, 'safety_ratings': []}, 'finish_reason': 'STOP', 'safety_ratings': []}, id='run-b69b31f7-96dd-4f32-8f81-f0603f1fd7ab-0', usage_metadata={'input_tokens': 586, 'output_tokens': 64, 'total_tokens': 650, 'input_token_details': {'cache_read': 0}})]"
      ]
     },
     "execution_count": 10,
     "metadata": {},
     "output_type": "execute_result"
    }
   ],
   "source": [
    "query =\"Bagaimana dengan isi teks pasal setelah pasal 28 UU No. 11 Tahun 2008?\"\n",
    "result = react_agent.invoke(\n",
    "    {\"messages\": HumanMessage(content=query)},\n",
    "    config=config\n",
    ")\n",
    "\n",
    "result[\"messages\"]"
   ]
  },
  {
   "cell_type": "code",
   "execution_count": 11,
   "metadata": {},
   "outputs": [
    {
     "data": {
      "text/plain": [
       "[HumanMessage(content='Apa isi pasal 28 UU No. 11 tahun 2008? Wajib gunakan tool text2cypher', additional_kwargs={}, response_metadata={}, id='e2f6d50f-0d2a-4399-8edc-96ee31bcf3e0'),\n",
       " AIMessage(content='', additional_kwargs={'function_call': {'name': 'text2cypher', 'arguments': '{\"query\": \"Apa isi pasal 28 UU No. 11 tahun 2008?\"}'}}, response_metadata={'prompt_feedback': {'block_reason': 0, 'safety_ratings': []}, 'finish_reason': 'STOP', 'safety_ratings': []}, id='run-87ce3640-33c7-4402-8f86-f92fbf086ced-0', tool_calls=[{'name': 'text2cypher', 'args': {'query': 'Apa isi pasal 28 UU No. 11 tahun 2008?'}, 'id': '10d811da-e550-46ae-ac0c-2f49304cca9d', 'type': 'tool_call'}], usage_metadata={'input_tokens': 55, 'output_tokens': 24, 'total_tokens': 79, 'input_token_details': {'cache_read': 0}}),\n",
       " ToolMessage(content=\"### **Hasil Pembuatan Kode Cypher:**\\n```cypher\\nMATCH (r:Regulation)-[:HAS_ARTICLE]->(a:Article)\\nWHERE r.type = 'UU' AND r.number = 11 AND r.year = 2008 AND a.number = '28'\\nRETURN a.text AS text\\n```\\n\\n### **Hasil Eksekusi Kode Cypher ke Database:**\\nPasal 28 UU No. 11 Tahun 2008 berisi tentang:\\n\\n(1) Setiap Orang dengan sengaja dan tanpa hak menyebarkan berita bohong dan menyesatkan yang mengakibatkan kerugian konsumen dalam Transaksi Elektronik.\\n\\n(2) Setiap Orang dengan sengaja dan tanpa hak menyebarkan informasi yang ditujukan untuk menimbulkan rasa kebencian atau permusuhan individu dan/atau kelompok masyarakat tertentu berdasarkan atas suku, agama, ras, dan antargolongan (SARA).\", name='text2cypher', id='a9c927e1-7cbd-45da-b6fb-4093ef809948', tool_call_id='10d811da-e550-46ae-ac0c-2f49304cca9d', artifact={'is_context_fetched': True, 'cypher_gen_usage_metadata': {'input_tokens': 2805, 'output_tokens': 65, 'total_tokens': 2870}, 'qa_usage_metadata': {'input_tokens': 290, 'output_tokens': 98, 'total_tokens': 388}, 'run_time': 2.4130427837371826}),\n",
       " AIMessage(content='Pasal 28 UU No. 11 Tahun 2008 berisi tentang:\\n\\n(1) Setiap Orang dengan sengaja dan tanpa hak menyebarkan berita bohong dan menyesatkan yang mengakibatkan kerugian konsumen dalam Transaksi Elektronik.\\n\\n(2) Setiap Orang dengan sengaja dan tanpa hak menyebarkan informasi yang ditujukan untuk menimbulkan rasa kebencian atau permusuhan individu dan/atau kelompok masyarakat tertentu berdasarkan atas suku, agama, ras, dan antargolongan (SARA).', additional_kwargs={}, response_metadata={'prompt_feedback': {'block_reason': 0, 'safety_ratings': []}, 'finish_reason': 'STOP', 'safety_ratings': []}, id='run-9ae9dba8-d028-473a-a5bb-500faa495b5b-0', usage_metadata={'input_tokens': 270, 'output_tokens': 97, 'total_tokens': 367, 'input_token_details': {'cache_read': 0}}),\n",
       " HumanMessage(content='Bagaimana dengan isi teks pasal setelah pasal 28 UU No. 11 Tahun 2008?', additional_kwargs={}, response_metadata={}, id='32a24058-e6f8-4763-9a01-a02a44ff2809'),\n",
       " AIMessage(content='', additional_kwargs={'function_call': {'name': 'text2cypher', 'arguments': '{\"query\": \"Apa isi pasal setelah pasal 28 UU No. 11 tahun 2008?\"}'}}, response_metadata={'prompt_feedback': {'block_reason': 0, 'safety_ratings': []}, 'finish_reason': 'STOP', 'safety_ratings': []}, id='run-30a9fdf6-a294-45e9-b4e3-7c65b3cff566-0', tool_calls=[{'name': 'text2cypher', 'args': {'query': 'Apa isi pasal setelah pasal 28 UU No. 11 tahun 2008?'}, 'id': '216fc538-4bd9-4b8d-b0ad-ddf88b8b7e44', 'type': 'tool_call'}], usage_metadata={'input_tokens': 390, 'output_tokens': 26, 'total_tokens': 416, 'input_token_details': {'cache_read': 0}}),\n",
       " ToolMessage(content='### **Hasil Pembuatan Kode Cypher:**\\n```cypher\\nMATCH (r:Regulation)-[:HAS_ARTICLE]->(a:Article)-[:NEXT_ARTICLE]->(next_article)\\nWHERE r.type = \\'UU\\' AND r.number = 11 AND r.year = 2008 AND a.number = \\'28\\'\\nRETURN next_article.text AS text\\n```\\n\\n### **Hasil Eksekusi Kode Cypher ke Database:**\\nPasal setelah Pasal 28 UU No. 11 Tahun 2008 adalah Pasal 29, yang berbunyi:\\n\\n\"Setiap Orang dengan sengaja dan tanpa hak mengirimkan Informasi Elektronik dan/atau Dokumen Elektronik yang berisi ancaman kekerasan atau menakut-nakuti yang ditujukan secara pribadi.\"', name='text2cypher', id='a5886b4d-8ae6-449e-b56f-80354a6cc973', tool_call_id='216fc538-4bd9-4b8d-b0ad-ddf88b8b7e44', artifact={'is_context_fetched': True, 'cypher_gen_usage_metadata': {'input_tokens': 2807, 'output_tokens': 77, 'total_tokens': 2884}, 'qa_usage_metadata': {'input_tokens': 248, 'output_tokens': 65, 'total_tokens': 313}, 'run_time': 2.248041868209839}),\n",
       " AIMessage(content='Pasal setelah Pasal 28 UU No. 11 Tahun 2008 adalah Pasal 29, yang berbunyi:\\n\\n\"Setiap Orang dengan sengaja dan tanpa hak mengirimkan Informasi Elektronik dan/atau Dokumen Elektronik yang berisi ancaman kekerasan atau menakut-nakuti yang ditujukan secara pribadi.\"', additional_kwargs={}, response_metadata={'prompt_feedback': {'block_reason': 0, 'safety_ratings': []}, 'finish_reason': 'STOP', 'safety_ratings': []}, id='run-b69b31f7-96dd-4f32-8f81-f0603f1fd7ab-0', usage_metadata={'input_tokens': 586, 'output_tokens': 64, 'total_tokens': 650, 'input_token_details': {'cache_read': 0}}),\n",
       " HumanMessage(content='Tadi isi pasal 28 apa? Aku lupa Ngga perlu pakai tool call lagi ya', additional_kwargs={}, response_metadata={}, id='a4a759ee-5c28-4592-a6d1-a44fbec2a52a'),\n",
       " AIMessage(content='Pasal 28 UU No. 11 Tahun 2008 berisi tentang:\\n\\n(1) Setiap Orang dengan sengaja dan tanpa hak menyebarkan berita bohong dan menyesatkan yang mengakibatkan kerugian konsumen dalam Transaksi Elektronik.\\n\\n(2) Setiap Orang dengan sengaja dan tanpa hak menyebarkan informasi yang ditujukan untuk menimbulkan rasa kebencian atau permusuhan individu dan/atau kelompok masyarakat tertentu berdasarkan atas suku, agama, ras, dan antargolongan (SARA).', additional_kwargs={}, response_metadata={'prompt_feedback': {'block_reason': 0, 'safety_ratings': []}, 'finish_reason': 'STOP', 'safety_ratings': []}, id='run-d609ac71-b07c-4724-b20c-9aa6e2c2f277-0', usage_metadata={'input_tokens': 669, 'output_tokens': 98, 'total_tokens': 767, 'input_token_details': {'cache_read': 0}})]"
      ]
     },
     "execution_count": 11,
     "metadata": {},
     "output_type": "execute_result"
    }
   ],
   "source": [
    "query = \"Tadi isi pasal 28 apa? Aku lupa\"\n",
    "result = react_agent.invoke(\n",
    "    {\"messages\": HumanMessage(content=query + \" Ngga perlu pakai tool call lagi ya\")},\n",
    "    config=config\n",
    ")\n",
    "\n",
    "result[\"messages\"]"
   ]
  },
  {
   "cell_type": "code",
   "execution_count": 12,
   "metadata": {},
   "outputs": [
    {
     "data": {
      "text/plain": [
       "[HumanMessage(content='Apa isi pasal 28 UU No. 11 tahun 2008? Wajib gunakan tool text2cypher', additional_kwargs={}, response_metadata={}, id='e2f6d50f-0d2a-4399-8edc-96ee31bcf3e0'),\n",
       " AIMessage(content='', additional_kwargs={'function_call': {'name': 'text2cypher', 'arguments': '{\"query\": \"Apa isi pasal 28 UU No. 11 tahun 2008?\"}'}}, response_metadata={'prompt_feedback': {'block_reason': 0, 'safety_ratings': []}, 'finish_reason': 'STOP', 'safety_ratings': []}, id='run-87ce3640-33c7-4402-8f86-f92fbf086ced-0', tool_calls=[{'name': 'text2cypher', 'args': {'query': 'Apa isi pasal 28 UU No. 11 tahun 2008?'}, 'id': '10d811da-e550-46ae-ac0c-2f49304cca9d', 'type': 'tool_call'}], usage_metadata={'input_tokens': 55, 'output_tokens': 24, 'total_tokens': 79, 'input_token_details': {'cache_read': 0}}),\n",
       " ToolMessage(content=\"### **Hasil Pembuatan Kode Cypher:**\\n```cypher\\nMATCH (r:Regulation)-[:HAS_ARTICLE]->(a:Article)\\nWHERE r.type = 'UU' AND r.number = 11 AND r.year = 2008 AND a.number = '28'\\nRETURN a.text AS text\\n```\\n\\n### **Hasil Eksekusi Kode Cypher ke Database:**\\nPasal 28 UU No. 11 Tahun 2008 berisi tentang:\\n\\n(1) Setiap Orang dengan sengaja dan tanpa hak menyebarkan berita bohong dan menyesatkan yang mengakibatkan kerugian konsumen dalam Transaksi Elektronik.\\n\\n(2) Setiap Orang dengan sengaja dan tanpa hak menyebarkan informasi yang ditujukan untuk menimbulkan rasa kebencian atau permusuhan individu dan/atau kelompok masyarakat tertentu berdasarkan atas suku, agama, ras, dan antargolongan (SARA).\", name='text2cypher', id='a9c927e1-7cbd-45da-b6fb-4093ef809948', tool_call_id='10d811da-e550-46ae-ac0c-2f49304cca9d', artifact={'is_context_fetched': True, 'cypher_gen_usage_metadata': {'input_tokens': 2805, 'output_tokens': 65, 'total_tokens': 2870}, 'qa_usage_metadata': {'input_tokens': 290, 'output_tokens': 98, 'total_tokens': 388}, 'run_time': 2.4130427837371826}),\n",
       " AIMessage(content='Pasal 28 UU No. 11 Tahun 2008 berisi tentang:\\n\\n(1) Setiap Orang dengan sengaja dan tanpa hak menyebarkan berita bohong dan menyesatkan yang mengakibatkan kerugian konsumen dalam Transaksi Elektronik.\\n\\n(2) Setiap Orang dengan sengaja dan tanpa hak menyebarkan informasi yang ditujukan untuk menimbulkan rasa kebencian atau permusuhan individu dan/atau kelompok masyarakat tertentu berdasarkan atas suku, agama, ras, dan antargolongan (SARA).', additional_kwargs={}, response_metadata={'prompt_feedback': {'block_reason': 0, 'safety_ratings': []}, 'finish_reason': 'STOP', 'safety_ratings': []}, id='run-9ae9dba8-d028-473a-a5bb-500faa495b5b-0', usage_metadata={'input_tokens': 270, 'output_tokens': 97, 'total_tokens': 367, 'input_token_details': {'cache_read': 0}}),\n",
       " HumanMessage(content='Bagaimana dengan isi teks pasal setelah pasal 28 UU No. 11 Tahun 2008?', additional_kwargs={}, response_metadata={}, id='32a24058-e6f8-4763-9a01-a02a44ff2809'),\n",
       " AIMessage(content='', additional_kwargs={'function_call': {'name': 'text2cypher', 'arguments': '{\"query\": \"Apa isi pasal setelah pasal 28 UU No. 11 tahun 2008?\"}'}}, response_metadata={'prompt_feedback': {'block_reason': 0, 'safety_ratings': []}, 'finish_reason': 'STOP', 'safety_ratings': []}, id='run-30a9fdf6-a294-45e9-b4e3-7c65b3cff566-0', tool_calls=[{'name': 'text2cypher', 'args': {'query': 'Apa isi pasal setelah pasal 28 UU No. 11 tahun 2008?'}, 'id': '216fc538-4bd9-4b8d-b0ad-ddf88b8b7e44', 'type': 'tool_call'}], usage_metadata={'input_tokens': 390, 'output_tokens': 26, 'total_tokens': 416, 'input_token_details': {'cache_read': 0}}),\n",
       " ToolMessage(content='### **Hasil Pembuatan Kode Cypher:**\\n```cypher\\nMATCH (r:Regulation)-[:HAS_ARTICLE]->(a:Article)-[:NEXT_ARTICLE]->(next_article)\\nWHERE r.type = \\'UU\\' AND r.number = 11 AND r.year = 2008 AND a.number = \\'28\\'\\nRETURN next_article.text AS text\\n```\\n\\n### **Hasil Eksekusi Kode Cypher ke Database:**\\nPasal setelah Pasal 28 UU No. 11 Tahun 2008 adalah Pasal 29, yang berbunyi:\\n\\n\"Setiap Orang dengan sengaja dan tanpa hak mengirimkan Informasi Elektronik dan/atau Dokumen Elektronik yang berisi ancaman kekerasan atau menakut-nakuti yang ditujukan secara pribadi.\"', name='text2cypher', id='a5886b4d-8ae6-449e-b56f-80354a6cc973', tool_call_id='216fc538-4bd9-4b8d-b0ad-ddf88b8b7e44', artifact={'is_context_fetched': True, 'cypher_gen_usage_metadata': {'input_tokens': 2807, 'output_tokens': 77, 'total_tokens': 2884}, 'qa_usage_metadata': {'input_tokens': 248, 'output_tokens': 65, 'total_tokens': 313}, 'run_time': 2.248041868209839}),\n",
       " AIMessage(content='Pasal setelah Pasal 28 UU No. 11 Tahun 2008 adalah Pasal 29, yang berbunyi:\\n\\n\"Setiap Orang dengan sengaja dan tanpa hak mengirimkan Informasi Elektronik dan/atau Dokumen Elektronik yang berisi ancaman kekerasan atau menakut-nakuti yang ditujukan secara pribadi.\"', additional_kwargs={}, response_metadata={'prompt_feedback': {'block_reason': 0, 'safety_ratings': []}, 'finish_reason': 'STOP', 'safety_ratings': []}, id='run-b69b31f7-96dd-4f32-8f81-f0603f1fd7ab-0', usage_metadata={'input_tokens': 586, 'output_tokens': 64, 'total_tokens': 650, 'input_token_details': {'cache_read': 0}}),\n",
       " HumanMessage(content='Tadi isi pasal 28 apa? Aku lupa Ngga perlu pakai tool call lagi ya', additional_kwargs={}, response_metadata={}, id='a4a759ee-5c28-4592-a6d1-a44fbec2a52a'),\n",
       " AIMessage(content='Pasal 28 UU No. 11 Tahun 2008 berisi tentang:\\n\\n(1) Setiap Orang dengan sengaja dan tanpa hak menyebarkan berita bohong dan menyesatkan yang mengakibatkan kerugian konsumen dalam Transaksi Elektronik.\\n\\n(2) Setiap Orang dengan sengaja dan tanpa hak menyebarkan informasi yang ditujukan untuk menimbulkan rasa kebencian atau permusuhan individu dan/atau kelompok masyarakat tertentu berdasarkan atas suku, agama, ras, dan antargolongan (SARA).', additional_kwargs={}, response_metadata={'prompt_feedback': {'block_reason': 0, 'safety_ratings': []}, 'finish_reason': 'STOP', 'safety_ratings': []}, id='run-d609ac71-b07c-4724-b20c-9aa6e2c2f277-0', usage_metadata={'input_tokens': 669, 'output_tokens': 98, 'total_tokens': 767, 'input_token_details': {'cache_read': 0}}),\n",
       " HumanMessage(content='Kalau isi pasal 100 apa ya?', additional_kwargs={}, response_metadata={}, id='028a334e-fef2-4af9-8010-a376c3ad2dbe'),\n",
       " AIMessage(content='', additional_kwargs={'function_call': {'name': 'text2cypher', 'arguments': '{\"query\": \"Apa isi pasal 100 UU No. 11 tahun 2008?\"}'}}, response_metadata={'prompt_feedback': {'block_reason': 0, 'safety_ratings': []}, 'finish_reason': 'STOP', 'safety_ratings': []}, id='run-9752ba3c-16a9-41b8-8e19-aa6926b7fde2-0', tool_calls=[{'name': 'text2cypher', 'args': {'query': 'Apa isi pasal 100 UU No. 11 tahun 2008?'}, 'id': 'af5f9669-64ac-41fb-a822-b0a7735da229', 'type': 'tool_call'}], usage_metadata={'input_tokens': 776, 'output_tokens': 25, 'total_tokens': 801, 'input_token_details': {'cache_read': 0}}),\n",
       " ToolMessage(content=\"### **Hasil Pembuatan Kode Cypher:**\\n```cypher\\nMATCH (r:Regulation)-[:HAS_ARTICLE]->(a:Article)\\nWHERE r.type = 'UU' AND r.number = 11 AND r.year = 2008 AND a.number = '100'\\nRETURN a.text AS text\\n```\\n\\n### **Hasil Eksekusi Kode Cypher ke Database:**\\nTidak dapat menemukan data yang sesuai dengan permintaan query\", name='text2cypher', id='3ec0925d-1caf-4b06-b5dd-a3350caac374', tool_call_id='af5f9669-64ac-41fb-a822-b0a7735da229', artifact={'is_context_fetched': False, 'cypher_gen_usage_metadata': {'input_tokens': 2807, 'output_tokens': 66, 'total_tokens': 2873}, 'qa_usage_metadata': {'input_tokens': 0, 'output_tokens': 0, 'total_tokens': 0}, 'run_time': 1.2900028228759766}),\n",
       " AIMessage(content='Pasal 100 dalam UU No. 11 Tahun 2008 tidak ditemukan.', additional_kwargs={}, response_metadata={'prompt_feedback': {'block_reason': 0, 'safety_ratings': []}, 'finish_reason': 'STOP', 'safety_ratings': []}, id='run-5088c3b6-f1a0-4b61-9624-658a8eb13ed8-0', usage_metadata={'input_tokens': 905, 'output_tokens': 22, 'total_tokens': 927, 'input_token_details': {'cache_read': 0}})]"
      ]
     },
     "execution_count": 12,
     "metadata": {},
     "output_type": "execute_result"
    }
   ],
   "source": [
    "query =\"Kalau isi pasal 100 apa ya?\"\n",
    "result = react_agent.invoke(\n",
    "    {\"messages\": HumanMessage(content=query)},\n",
    "    config=config\n",
    ")\n",
    "\n",
    "result[\"messages\"]"
   ]
  },
  {
   "cell_type": "code",
   "execution_count": 13,
   "metadata": {},
   "outputs": [
    {
     "data": {
      "text/plain": [
       "[HumanMessage(content='Apa isi pasal 28 UU No. 11 tahun 2008? Wajib gunakan tool text2cypher', additional_kwargs={}, response_metadata={}, id='e2f6d50f-0d2a-4399-8edc-96ee31bcf3e0'),\n",
       " AIMessage(content='', additional_kwargs={'function_call': {'name': 'text2cypher', 'arguments': '{\"query\": \"Apa isi pasal 28 UU No. 11 tahun 2008?\"}'}}, response_metadata={'prompt_feedback': {'block_reason': 0, 'safety_ratings': []}, 'finish_reason': 'STOP', 'safety_ratings': []}, id='run-87ce3640-33c7-4402-8f86-f92fbf086ced-0', tool_calls=[{'name': 'text2cypher', 'args': {'query': 'Apa isi pasal 28 UU No. 11 tahun 2008?'}, 'id': '10d811da-e550-46ae-ac0c-2f49304cca9d', 'type': 'tool_call'}], usage_metadata={'input_tokens': 55, 'output_tokens': 24, 'total_tokens': 79, 'input_token_details': {'cache_read': 0}}),\n",
       " ToolMessage(content=\"### **Hasil Pembuatan Kode Cypher:**\\n```cypher\\nMATCH (r:Regulation)-[:HAS_ARTICLE]->(a:Article)\\nWHERE r.type = 'UU' AND r.number = 11 AND r.year = 2008 AND a.number = '28'\\nRETURN a.text AS text\\n```\\n\\n### **Hasil Eksekusi Kode Cypher ke Database:**\\nPasal 28 UU No. 11 Tahun 2008 berisi tentang:\\n\\n(1) Setiap Orang dengan sengaja dan tanpa hak menyebarkan berita bohong dan menyesatkan yang mengakibatkan kerugian konsumen dalam Transaksi Elektronik.\\n\\n(2) Setiap Orang dengan sengaja dan tanpa hak menyebarkan informasi yang ditujukan untuk menimbulkan rasa kebencian atau permusuhan individu dan/atau kelompok masyarakat tertentu berdasarkan atas suku, agama, ras, dan antargolongan (SARA).\", name='text2cypher', id='a9c927e1-7cbd-45da-b6fb-4093ef809948', tool_call_id='10d811da-e550-46ae-ac0c-2f49304cca9d', artifact={'is_context_fetched': True, 'cypher_gen_usage_metadata': {'input_tokens': 2805, 'output_tokens': 65, 'total_tokens': 2870}, 'qa_usage_metadata': {'input_tokens': 290, 'output_tokens': 98, 'total_tokens': 388}, 'run_time': 2.4130427837371826}),\n",
       " AIMessage(content='Pasal 28 UU No. 11 Tahun 2008 berisi tentang:\\n\\n(1) Setiap Orang dengan sengaja dan tanpa hak menyebarkan berita bohong dan menyesatkan yang mengakibatkan kerugian konsumen dalam Transaksi Elektronik.\\n\\n(2) Setiap Orang dengan sengaja dan tanpa hak menyebarkan informasi yang ditujukan untuk menimbulkan rasa kebencian atau permusuhan individu dan/atau kelompok masyarakat tertentu berdasarkan atas suku, agama, ras, dan antargolongan (SARA).', additional_kwargs={}, response_metadata={'prompt_feedback': {'block_reason': 0, 'safety_ratings': []}, 'finish_reason': 'STOP', 'safety_ratings': []}, id='run-9ae9dba8-d028-473a-a5bb-500faa495b5b-0', usage_metadata={'input_tokens': 270, 'output_tokens': 97, 'total_tokens': 367, 'input_token_details': {'cache_read': 0}}),\n",
       " HumanMessage(content='Bagaimana dengan isi teks pasal setelah pasal 28 UU No. 11 Tahun 2008?', additional_kwargs={}, response_metadata={}, id='32a24058-e6f8-4763-9a01-a02a44ff2809'),\n",
       " AIMessage(content='', additional_kwargs={'function_call': {'name': 'text2cypher', 'arguments': '{\"query\": \"Apa isi pasal setelah pasal 28 UU No. 11 tahun 2008?\"}'}}, response_metadata={'prompt_feedback': {'block_reason': 0, 'safety_ratings': []}, 'finish_reason': 'STOP', 'safety_ratings': []}, id='run-30a9fdf6-a294-45e9-b4e3-7c65b3cff566-0', tool_calls=[{'name': 'text2cypher', 'args': {'query': 'Apa isi pasal setelah pasal 28 UU No. 11 tahun 2008?'}, 'id': '216fc538-4bd9-4b8d-b0ad-ddf88b8b7e44', 'type': 'tool_call'}], usage_metadata={'input_tokens': 390, 'output_tokens': 26, 'total_tokens': 416, 'input_token_details': {'cache_read': 0}}),\n",
       " ToolMessage(content='### **Hasil Pembuatan Kode Cypher:**\\n```cypher\\nMATCH (r:Regulation)-[:HAS_ARTICLE]->(a:Article)-[:NEXT_ARTICLE]->(next_article)\\nWHERE r.type = \\'UU\\' AND r.number = 11 AND r.year = 2008 AND a.number = \\'28\\'\\nRETURN next_article.text AS text\\n```\\n\\n### **Hasil Eksekusi Kode Cypher ke Database:**\\nPasal setelah Pasal 28 UU No. 11 Tahun 2008 adalah Pasal 29, yang berbunyi:\\n\\n\"Setiap Orang dengan sengaja dan tanpa hak mengirimkan Informasi Elektronik dan/atau Dokumen Elektronik yang berisi ancaman kekerasan atau menakut-nakuti yang ditujukan secara pribadi.\"', name='text2cypher', id='a5886b4d-8ae6-449e-b56f-80354a6cc973', tool_call_id='216fc538-4bd9-4b8d-b0ad-ddf88b8b7e44', artifact={'is_context_fetched': True, 'cypher_gen_usage_metadata': {'input_tokens': 2807, 'output_tokens': 77, 'total_tokens': 2884}, 'qa_usage_metadata': {'input_tokens': 248, 'output_tokens': 65, 'total_tokens': 313}, 'run_time': 2.248041868209839}),\n",
       " AIMessage(content='Pasal setelah Pasal 28 UU No. 11 Tahun 2008 adalah Pasal 29, yang berbunyi:\\n\\n\"Setiap Orang dengan sengaja dan tanpa hak mengirimkan Informasi Elektronik dan/atau Dokumen Elektronik yang berisi ancaman kekerasan atau menakut-nakuti yang ditujukan secara pribadi.\"', additional_kwargs={}, response_metadata={'prompt_feedback': {'block_reason': 0, 'safety_ratings': []}, 'finish_reason': 'STOP', 'safety_ratings': []}, id='run-b69b31f7-96dd-4f32-8f81-f0603f1fd7ab-0', usage_metadata={'input_tokens': 586, 'output_tokens': 64, 'total_tokens': 650, 'input_token_details': {'cache_read': 0}}),\n",
       " HumanMessage(content='Tadi isi pasal 28 apa? Aku lupa Ngga perlu pakai tool call lagi ya', additional_kwargs={}, response_metadata={}, id='a4a759ee-5c28-4592-a6d1-a44fbec2a52a'),\n",
       " AIMessage(content='Pasal 28 UU No. 11 Tahun 2008 berisi tentang:\\n\\n(1) Setiap Orang dengan sengaja dan tanpa hak menyebarkan berita bohong dan menyesatkan yang mengakibatkan kerugian konsumen dalam Transaksi Elektronik.\\n\\n(2) Setiap Orang dengan sengaja dan tanpa hak menyebarkan informasi yang ditujukan untuk menimbulkan rasa kebencian atau permusuhan individu dan/atau kelompok masyarakat tertentu berdasarkan atas suku, agama, ras, dan antargolongan (SARA).', additional_kwargs={}, response_metadata={'prompt_feedback': {'block_reason': 0, 'safety_ratings': []}, 'finish_reason': 'STOP', 'safety_ratings': []}, id='run-d609ac71-b07c-4724-b20c-9aa6e2c2f277-0', usage_metadata={'input_tokens': 669, 'output_tokens': 98, 'total_tokens': 767, 'input_token_details': {'cache_read': 0}}),\n",
       " HumanMessage(content='Kalau isi pasal 100 apa ya?', additional_kwargs={}, response_metadata={}, id='028a334e-fef2-4af9-8010-a376c3ad2dbe'),\n",
       " AIMessage(content='', additional_kwargs={'function_call': {'name': 'text2cypher', 'arguments': '{\"query\": \"Apa isi pasal 100 UU No. 11 tahun 2008?\"}'}}, response_metadata={'prompt_feedback': {'block_reason': 0, 'safety_ratings': []}, 'finish_reason': 'STOP', 'safety_ratings': []}, id='run-9752ba3c-16a9-41b8-8e19-aa6926b7fde2-0', tool_calls=[{'name': 'text2cypher', 'args': {'query': 'Apa isi pasal 100 UU No. 11 tahun 2008?'}, 'id': 'af5f9669-64ac-41fb-a822-b0a7735da229', 'type': 'tool_call'}], usage_metadata={'input_tokens': 776, 'output_tokens': 25, 'total_tokens': 801, 'input_token_details': {'cache_read': 0}}),\n",
       " ToolMessage(content=\"### **Hasil Pembuatan Kode Cypher:**\\n```cypher\\nMATCH (r:Regulation)-[:HAS_ARTICLE]->(a:Article)\\nWHERE r.type = 'UU' AND r.number = 11 AND r.year = 2008 AND a.number = '100'\\nRETURN a.text AS text\\n```\\n\\n### **Hasil Eksekusi Kode Cypher ke Database:**\\nTidak dapat menemukan data yang sesuai dengan permintaan query\", name='text2cypher', id='3ec0925d-1caf-4b06-b5dd-a3350caac374', tool_call_id='af5f9669-64ac-41fb-a822-b0a7735da229', artifact={'is_context_fetched': False, 'cypher_gen_usage_metadata': {'input_tokens': 2807, 'output_tokens': 66, 'total_tokens': 2873}, 'qa_usage_metadata': {'input_tokens': 0, 'output_tokens': 0, 'total_tokens': 0}, 'run_time': 1.2900028228759766}),\n",
       " AIMessage(content='Pasal 100 dalam UU No. 11 Tahun 2008 tidak ditemukan.', additional_kwargs={}, response_metadata={'prompt_feedback': {'block_reason': 0, 'safety_ratings': []}, 'finish_reason': 'STOP', 'safety_ratings': []}, id='run-5088c3b6-f1a0-4b61-9624-658a8eb13ed8-0', usage_metadata={'input_tokens': 905, 'output_tokens': 22, 'total_tokens': 927, 'input_token_details': {'cache_read': 0}}),\n",
       " HumanMessage(content='Memangnya berapa total jumlah pasal di dalam UU no 11 tahun 2008?', additional_kwargs={}, response_metadata={}, id='c44718a7-78b0-4cfd-a2b9-235830ca3afb'),\n",
       " AIMessage(content='', additional_kwargs={'function_call': {'name': 'text2cypher', 'arguments': '{\"query\": \"Berapa total jumlah pasal di dalam UU no 11 tahun 2008?\"}'}}, response_metadata={'prompt_feedback': {'block_reason': 0, 'safety_ratings': []}, 'finish_reason': 'STOP', 'safety_ratings': []}, id='run-36d9eed8-62da-4024-9eab-17b8f7b78dcd-0', tool_calls=[{'name': 'text2cypher', 'args': {'query': 'Berapa total jumlah pasal di dalam UU no 11 tahun 2008?'}, 'id': '929c289f-7f30-43ae-b1aa-6b037fd30230', 'type': 'tool_call'}], usage_metadata={'input_tokens': 947, 'output_tokens': 24, 'total_tokens': 971, 'input_token_details': {'cache_read': 0}}),\n",
       " ToolMessage(content=\"### **Hasil Pembuatan Kode Cypher:**\\n```cypher\\nMATCH (r:Regulation)-[:HAS_ARTICLE]->(a:Article)\\nWHERE r.type = 'UU' AND r.number = 11 AND r.year = 2008\\nRETURN count(a) AS total_articles\\n```\\n\\n### **Hasil Eksekusi Kode Cypher ke Database:**\\nUU No. 11 Tahun 2008 memiliki total 54 pasal.\", name='text2cypher', id='4d883828-1060-4cb0-808c-69165ff34b0c', tool_call_id='929c289f-7f30-43ae-b1aa-6b037fd30230', artifact={'is_context_fetched': True, 'cypher_gen_usage_metadata': {'input_tokens': 2805, 'output_tokens': 59, 'total_tokens': 2864}, 'qa_usage_metadata': {'input_tokens': 177, 'output_tokens': 20, 'total_tokens': 197}, 'run_time': 2.2092528343200684}),\n",
       " AIMessage(content='UU No. 11 Tahun 2008 memiliki total 54 pasal.', additional_kwargs={}, response_metadata={'prompt_feedback': {'block_reason': 0, 'safety_ratings': []}, 'finish_reason': 'STOP', 'safety_ratings': []}, id='run-d44d5dbb-bebf-42ef-be4c-53721d3905a0-0', usage_metadata={'input_tokens': 1078, 'output_tokens': 20, 'total_tokens': 1098, 'input_token_details': {'cache_read': 0}})]"
      ]
     },
     "execution_count": 13,
     "metadata": {},
     "output_type": "execute_result"
    }
   ],
   "source": [
    "query =\"Memangnya berapa total jumlah pasal di dalam UU no 11 tahun 2008?\"\n",
    "result = react_agent.invoke(\n",
    "    {\"messages\": HumanMessage(content=query)},\n",
    "    config=config\n",
    ")\n",
    "\n",
    "result[\"messages\"]\n"
   ]
  },
  {
   "cell_type": "code",
   "execution_count": 14,
   "metadata": {},
   "outputs": [
    {
     "data": {
      "text/plain": [
       "[HumanMessage(content='Apa isi pasal 28 UU No. 11 tahun 2008? Wajib gunakan tool text2cypher', additional_kwargs={}, response_metadata={}, id='e2f6d50f-0d2a-4399-8edc-96ee31bcf3e0'),\n",
       " AIMessage(content='', additional_kwargs={'function_call': {'name': 'text2cypher', 'arguments': '{\"query\": \"Apa isi pasal 28 UU No. 11 tahun 2008?\"}'}}, response_metadata={'prompt_feedback': {'block_reason': 0, 'safety_ratings': []}, 'finish_reason': 'STOP', 'safety_ratings': []}, id='run-87ce3640-33c7-4402-8f86-f92fbf086ced-0', tool_calls=[{'name': 'text2cypher', 'args': {'query': 'Apa isi pasal 28 UU No. 11 tahun 2008?'}, 'id': '10d811da-e550-46ae-ac0c-2f49304cca9d', 'type': 'tool_call'}], usage_metadata={'input_tokens': 55, 'output_tokens': 24, 'total_tokens': 79, 'input_token_details': {'cache_read': 0}}),\n",
       " ToolMessage(content=\"### **Hasil Pembuatan Kode Cypher:**\\n```cypher\\nMATCH (r:Regulation)-[:HAS_ARTICLE]->(a:Article)\\nWHERE r.type = 'UU' AND r.number = 11 AND r.year = 2008 AND a.number = '28'\\nRETURN a.text AS text\\n```\\n\\n### **Hasil Eksekusi Kode Cypher ke Database:**\\nPasal 28 UU No. 11 Tahun 2008 berisi tentang:\\n\\n(1) Setiap Orang dengan sengaja dan tanpa hak menyebarkan berita bohong dan menyesatkan yang mengakibatkan kerugian konsumen dalam Transaksi Elektronik.\\n\\n(2) Setiap Orang dengan sengaja dan tanpa hak menyebarkan informasi yang ditujukan untuk menimbulkan rasa kebencian atau permusuhan individu dan/atau kelompok masyarakat tertentu berdasarkan atas suku, agama, ras, dan antargolongan (SARA).\", name='text2cypher', id='a9c927e1-7cbd-45da-b6fb-4093ef809948', tool_call_id='10d811da-e550-46ae-ac0c-2f49304cca9d', artifact={'is_context_fetched': True, 'cypher_gen_usage_metadata': {'input_tokens': 2805, 'output_tokens': 65, 'total_tokens': 2870}, 'qa_usage_metadata': {'input_tokens': 290, 'output_tokens': 98, 'total_tokens': 388}, 'run_time': 2.4130427837371826}),\n",
       " AIMessage(content='Pasal 28 UU No. 11 Tahun 2008 berisi tentang:\\n\\n(1) Setiap Orang dengan sengaja dan tanpa hak menyebarkan berita bohong dan menyesatkan yang mengakibatkan kerugian konsumen dalam Transaksi Elektronik.\\n\\n(2) Setiap Orang dengan sengaja dan tanpa hak menyebarkan informasi yang ditujukan untuk menimbulkan rasa kebencian atau permusuhan individu dan/atau kelompok masyarakat tertentu berdasarkan atas suku, agama, ras, dan antargolongan (SARA).', additional_kwargs={}, response_metadata={'prompt_feedback': {'block_reason': 0, 'safety_ratings': []}, 'finish_reason': 'STOP', 'safety_ratings': []}, id='run-9ae9dba8-d028-473a-a5bb-500faa495b5b-0', usage_metadata={'input_tokens': 270, 'output_tokens': 97, 'total_tokens': 367, 'input_token_details': {'cache_read': 0}}),\n",
       " HumanMessage(content='Bagaimana dengan isi teks pasal setelah pasal 28 UU No. 11 Tahun 2008?', additional_kwargs={}, response_metadata={}, id='32a24058-e6f8-4763-9a01-a02a44ff2809'),\n",
       " AIMessage(content='', additional_kwargs={'function_call': {'name': 'text2cypher', 'arguments': '{\"query\": \"Apa isi pasal setelah pasal 28 UU No. 11 tahun 2008?\"}'}}, response_metadata={'prompt_feedback': {'block_reason': 0, 'safety_ratings': []}, 'finish_reason': 'STOP', 'safety_ratings': []}, id='run-30a9fdf6-a294-45e9-b4e3-7c65b3cff566-0', tool_calls=[{'name': 'text2cypher', 'args': {'query': 'Apa isi pasal setelah pasal 28 UU No. 11 tahun 2008?'}, 'id': '216fc538-4bd9-4b8d-b0ad-ddf88b8b7e44', 'type': 'tool_call'}], usage_metadata={'input_tokens': 390, 'output_tokens': 26, 'total_tokens': 416, 'input_token_details': {'cache_read': 0}}),\n",
       " ToolMessage(content='### **Hasil Pembuatan Kode Cypher:**\\n```cypher\\nMATCH (r:Regulation)-[:HAS_ARTICLE]->(a:Article)-[:NEXT_ARTICLE]->(next_article)\\nWHERE r.type = \\'UU\\' AND r.number = 11 AND r.year = 2008 AND a.number = \\'28\\'\\nRETURN next_article.text AS text\\n```\\n\\n### **Hasil Eksekusi Kode Cypher ke Database:**\\nPasal setelah Pasal 28 UU No. 11 Tahun 2008 adalah Pasal 29, yang berbunyi:\\n\\n\"Setiap Orang dengan sengaja dan tanpa hak mengirimkan Informasi Elektronik dan/atau Dokumen Elektronik yang berisi ancaman kekerasan atau menakut-nakuti yang ditujukan secara pribadi.\"', name='text2cypher', id='a5886b4d-8ae6-449e-b56f-80354a6cc973', tool_call_id='216fc538-4bd9-4b8d-b0ad-ddf88b8b7e44', artifact={'is_context_fetched': True, 'cypher_gen_usage_metadata': {'input_tokens': 2807, 'output_tokens': 77, 'total_tokens': 2884}, 'qa_usage_metadata': {'input_tokens': 248, 'output_tokens': 65, 'total_tokens': 313}, 'run_time': 2.248041868209839}),\n",
       " AIMessage(content='Pasal setelah Pasal 28 UU No. 11 Tahun 2008 adalah Pasal 29, yang berbunyi:\\n\\n\"Setiap Orang dengan sengaja dan tanpa hak mengirimkan Informasi Elektronik dan/atau Dokumen Elektronik yang berisi ancaman kekerasan atau menakut-nakuti yang ditujukan secara pribadi.\"', additional_kwargs={}, response_metadata={'prompt_feedback': {'block_reason': 0, 'safety_ratings': []}, 'finish_reason': 'STOP', 'safety_ratings': []}, id='run-b69b31f7-96dd-4f32-8f81-f0603f1fd7ab-0', usage_metadata={'input_tokens': 586, 'output_tokens': 64, 'total_tokens': 650, 'input_token_details': {'cache_read': 0}}),\n",
       " HumanMessage(content='Tadi isi pasal 28 apa? Aku lupa Ngga perlu pakai tool call lagi ya', additional_kwargs={}, response_metadata={}, id='a4a759ee-5c28-4592-a6d1-a44fbec2a52a'),\n",
       " AIMessage(content='Pasal 28 UU No. 11 Tahun 2008 berisi tentang:\\n\\n(1) Setiap Orang dengan sengaja dan tanpa hak menyebarkan berita bohong dan menyesatkan yang mengakibatkan kerugian konsumen dalam Transaksi Elektronik.\\n\\n(2) Setiap Orang dengan sengaja dan tanpa hak menyebarkan informasi yang ditujukan untuk menimbulkan rasa kebencian atau permusuhan individu dan/atau kelompok masyarakat tertentu berdasarkan atas suku, agama, ras, dan antargolongan (SARA).', additional_kwargs={}, response_metadata={'prompt_feedback': {'block_reason': 0, 'safety_ratings': []}, 'finish_reason': 'STOP', 'safety_ratings': []}, id='run-d609ac71-b07c-4724-b20c-9aa6e2c2f277-0', usage_metadata={'input_tokens': 669, 'output_tokens': 98, 'total_tokens': 767, 'input_token_details': {'cache_read': 0}}),\n",
       " HumanMessage(content='Kalau isi pasal 100 apa ya?', additional_kwargs={}, response_metadata={}, id='028a334e-fef2-4af9-8010-a376c3ad2dbe'),\n",
       " AIMessage(content='', additional_kwargs={'function_call': {'name': 'text2cypher', 'arguments': '{\"query\": \"Apa isi pasal 100 UU No. 11 tahun 2008?\"}'}}, response_metadata={'prompt_feedback': {'block_reason': 0, 'safety_ratings': []}, 'finish_reason': 'STOP', 'safety_ratings': []}, id='run-9752ba3c-16a9-41b8-8e19-aa6926b7fde2-0', tool_calls=[{'name': 'text2cypher', 'args': {'query': 'Apa isi pasal 100 UU No. 11 tahun 2008?'}, 'id': 'af5f9669-64ac-41fb-a822-b0a7735da229', 'type': 'tool_call'}], usage_metadata={'input_tokens': 776, 'output_tokens': 25, 'total_tokens': 801, 'input_token_details': {'cache_read': 0}}),\n",
       " ToolMessage(content=\"### **Hasil Pembuatan Kode Cypher:**\\n```cypher\\nMATCH (r:Regulation)-[:HAS_ARTICLE]->(a:Article)\\nWHERE r.type = 'UU' AND r.number = 11 AND r.year = 2008 AND a.number = '100'\\nRETURN a.text AS text\\n```\\n\\n### **Hasil Eksekusi Kode Cypher ke Database:**\\nTidak dapat menemukan data yang sesuai dengan permintaan query\", name='text2cypher', id='3ec0925d-1caf-4b06-b5dd-a3350caac374', tool_call_id='af5f9669-64ac-41fb-a822-b0a7735da229', artifact={'is_context_fetched': False, 'cypher_gen_usage_metadata': {'input_tokens': 2807, 'output_tokens': 66, 'total_tokens': 2873}, 'qa_usage_metadata': {'input_tokens': 0, 'output_tokens': 0, 'total_tokens': 0}, 'run_time': 1.2900028228759766}),\n",
       " AIMessage(content='Pasal 100 dalam UU No. 11 Tahun 2008 tidak ditemukan.', additional_kwargs={}, response_metadata={'prompt_feedback': {'block_reason': 0, 'safety_ratings': []}, 'finish_reason': 'STOP', 'safety_ratings': []}, id='run-5088c3b6-f1a0-4b61-9624-658a8eb13ed8-0', usage_metadata={'input_tokens': 905, 'output_tokens': 22, 'total_tokens': 927, 'input_token_details': {'cache_read': 0}}),\n",
       " HumanMessage(content='Memangnya berapa total jumlah pasal di dalam UU no 11 tahun 2008?', additional_kwargs={}, response_metadata={}, id='c44718a7-78b0-4cfd-a2b9-235830ca3afb'),\n",
       " AIMessage(content='', additional_kwargs={'function_call': {'name': 'text2cypher', 'arguments': '{\"query\": \"Berapa total jumlah pasal di dalam UU no 11 tahun 2008?\"}'}}, response_metadata={'prompt_feedback': {'block_reason': 0, 'safety_ratings': []}, 'finish_reason': 'STOP', 'safety_ratings': []}, id='run-36d9eed8-62da-4024-9eab-17b8f7b78dcd-0', tool_calls=[{'name': 'text2cypher', 'args': {'query': 'Berapa total jumlah pasal di dalam UU no 11 tahun 2008?'}, 'id': '929c289f-7f30-43ae-b1aa-6b037fd30230', 'type': 'tool_call'}], usage_metadata={'input_tokens': 947, 'output_tokens': 24, 'total_tokens': 971, 'input_token_details': {'cache_read': 0}}),\n",
       " ToolMessage(content=\"### **Hasil Pembuatan Kode Cypher:**\\n```cypher\\nMATCH (r:Regulation)-[:HAS_ARTICLE]->(a:Article)\\nWHERE r.type = 'UU' AND r.number = 11 AND r.year = 2008\\nRETURN count(a) AS total_articles\\n```\\n\\n### **Hasil Eksekusi Kode Cypher ke Database:**\\nUU No. 11 Tahun 2008 memiliki total 54 pasal.\", name='text2cypher', id='4d883828-1060-4cb0-808c-69165ff34b0c', tool_call_id='929c289f-7f30-43ae-b1aa-6b037fd30230', artifact={'is_context_fetched': True, 'cypher_gen_usage_metadata': {'input_tokens': 2805, 'output_tokens': 59, 'total_tokens': 2864}, 'qa_usage_metadata': {'input_tokens': 177, 'output_tokens': 20, 'total_tokens': 197}, 'run_time': 2.2092528343200684}),\n",
       " AIMessage(content='UU No. 11 Tahun 2008 memiliki total 54 pasal.', additional_kwargs={}, response_metadata={'prompt_feedback': {'block_reason': 0, 'safety_ratings': []}, 'finish_reason': 'STOP', 'safety_ratings': []}, id='run-d44d5dbb-bebf-42ef-be4c-53721d3905a0-0', usage_metadata={'input_tokens': 1078, 'output_tokens': 20, 'total_tokens': 1098, 'input_token_details': {'cache_read': 0}}),\n",
       " HumanMessage(content='Ohh begitu, memangnya kenapa ikan berenang di air?', additional_kwargs={}, response_metadata={}, id='e5291410-ebbe-4d76-a611-d89e81e4ab24'),\n",
       " AIMessage(content='Pertanyaan itu di luar konteks Undang-Undang No. 11 Tahun 2008 dan di luar kemampuan tools yang tersedia.', additional_kwargs={}, response_metadata={'prompt_feedback': {'block_reason': 0, 'safety_ratings': []}, 'finish_reason': 'STOP', 'safety_ratings': []}, id='run-928461af-b6a7-4077-8c74-5a48e46af98b-0', usage_metadata={'input_tokens': 1109, 'output_tokens': 30, 'total_tokens': 1139, 'input_token_details': {'cache_read': 0}})]"
      ]
     },
     "execution_count": 14,
     "metadata": {},
     "output_type": "execute_result"
    }
   ],
   "source": [
    "query = \"Ohh begitu, memangnya kenapa ikan berenang di air?\"\n",
    "result = react_agent.invoke(\n",
    "    {\"messages\": HumanMessage(content=query)},\n",
    "    config=config\n",
    ")\n",
    "\n",
    "result[\"messages\"]"
   ]
  },
  {
   "cell_type": "code",
   "execution_count": 15,
   "metadata": {},
   "outputs": [
    {
     "name": "stdout",
     "output_type": "stream",
     "text": [
      "{'additional_kwargs': {},\n",
      " 'content': 'Pasal 28 UU No. 11 Tahun 2008 berisi tentang:\\n'\n",
      "            '\\n'\n",
      "            '(1) Setiap Orang dengan sengaja dan tanpa hak menyebarkan berita '\n",
      "            'bohong dan menyesatkan yang mengakibatkan kerugian konsumen dalam '\n",
      "            'Transaksi Elektronik.\\n'\n",
      "            '\\n'\n",
      "            '(2) Setiap Orang dengan sengaja dan tanpa hak menyebarkan '\n",
      "            'informasi yang ditujukan untuk menimbulkan rasa kebencian atau '\n",
      "            'permusuhan individu dan/atau kelompok masyarakat tertentu '\n",
      "            'berdasarkan atas suku, agama, ras, dan antargolongan (SARA).',\n",
      " 'example': False,\n",
      " 'id': 'run-9ae9dba8-d028-473a-a5bb-500faa495b5b-0',\n",
      " 'invalid_tool_calls': [],\n",
      " 'name': None,\n",
      " 'response_metadata': {'finish_reason': 'STOP',\n",
      "                       'prompt_feedback': {'block_reason': 0,\n",
      "                                           'safety_ratings': []},\n",
      "                       'safety_ratings': []},\n",
      " 'tool_calls': [],\n",
      " 'type': 'ai',\n",
      " 'usage_metadata': {'input_token_details': {'cache_read': 0},\n",
      "                    'input_tokens': 270,\n",
      "                    'output_tokens': 97,\n",
      "                    'total_tokens': 367}}\n"
     ]
    }
   ],
   "source": [
    "pprint(result[\"messages\"][3].model_dump())"
   ]
  },
  {
   "cell_type": "code",
   "execution_count": 16,
   "metadata": {},
   "outputs": [
    {
     "name": "stdout",
     "output_type": "stream",
     "text": [
      "{'query': 'Apa isi pasal 28 UU No. 11 tahun 2008? Wajib gunakan tool '\n",
      "          'text2cypher',\n",
      " 'type': 'tool_call',\n",
      " 'usage': {'input_token_details': {'cache_read': 0},\n",
      "           'input_tokens': 55,\n",
      "           'output_tokens': 24,\n",
      "           'total_tokens': 79}}\n",
      "\n",
      "{'query': 'Apa isi pasal 28 UU No. 11 tahun 2008? Wajib gunakan tool '\n",
      "          'text2cypher',\n",
      " 'response': 'Pasal 28 UU No. 11 Tahun 2008 berisi tentang:\\n'\n",
      "             '\\n'\n",
      "             '(1) Setiap Orang dengan sengaja dan tanpa hak menyebarkan berita '\n",
      "             'bohong dan menyesatkan yang mengakibatkan kerugian konsumen '\n",
      "             'dalam Transaksi Elektronik.\\n'\n",
      "             '\\n'\n",
      "             '(2) Setiap Orang dengan sengaja dan tanpa hak menyebarkan '\n",
      "             'informasi yang ditujukan untuk menimbulkan rasa kebencian atau '\n",
      "             'permusuhan individu dan/atau kelompok masyarakat tertentu '\n",
      "             'berdasarkan atas suku, agama, ras, dan antargolongan (SARA).',\n",
      " 'type': 'model_response',\n",
      " 'usage': {'input_token_details': {'cache_read': 0},\n",
      "           'input_tokens': 270,\n",
      "           'output_tokens': 97,\n",
      "           'total_tokens': 367}}\n",
      "\n",
      "{'query': 'Bagaimana dengan isi teks pasal setelah pasal 28 UU No. 11 Tahun '\n",
      "          '2008?',\n",
      " 'type': 'tool_call',\n",
      " 'usage': {'input_token_details': {'cache_read': 0},\n",
      "           'input_tokens': 390,\n",
      "           'output_tokens': 26,\n",
      "           'total_tokens': 416}}\n",
      "\n",
      "{'query': 'Bagaimana dengan isi teks pasal setelah pasal 28 UU No. 11 Tahun '\n",
      "          '2008?',\n",
      " 'response': 'Pasal setelah Pasal 28 UU No. 11 Tahun 2008 adalah Pasal 29, '\n",
      "             'yang berbunyi:\\n'\n",
      "             '\\n'\n",
      "             '\"Setiap Orang dengan sengaja dan tanpa hak mengirimkan Informasi '\n",
      "             'Elektronik dan/atau Dokumen Elektronik yang berisi ancaman '\n",
      "             'kekerasan atau menakut-nakuti yang ditujukan secara pribadi.\"',\n",
      " 'type': 'model_response',\n",
      " 'usage': {'input_token_details': {'cache_read': 0},\n",
      "           'input_tokens': 586,\n",
      "           'output_tokens': 64,\n",
      "           'total_tokens': 650}}\n",
      "\n",
      "{'query': 'Tadi isi pasal 28 apa? Aku lupa Ngga perlu pakai tool call lagi ya',\n",
      " 'response': 'Pasal 28 UU No. 11 Tahun 2008 berisi tentang:\\n'\n",
      "             '\\n'\n",
      "             '(1) Setiap Orang dengan sengaja dan tanpa hak menyebarkan berita '\n",
      "             'bohong dan menyesatkan yang mengakibatkan kerugian konsumen '\n",
      "             'dalam Transaksi Elektronik.\\n'\n",
      "             '\\n'\n",
      "             '(2) Setiap Orang dengan sengaja dan tanpa hak menyebarkan '\n",
      "             'informasi yang ditujukan untuk menimbulkan rasa kebencian atau '\n",
      "             'permusuhan individu dan/atau kelompok masyarakat tertentu '\n",
      "             'berdasarkan atas suku, agama, ras, dan antargolongan (SARA).',\n",
      " 'type': 'model_response',\n",
      " 'usage': {'input_token_details': {'cache_read': 0},\n",
      "           'input_tokens': 669,\n",
      "           'output_tokens': 98,\n",
      "           'total_tokens': 767}}\n",
      "\n",
      "{'query': 'Kalau isi pasal 100 apa ya?',\n",
      " 'type': 'tool_call',\n",
      " 'usage': {'input_token_details': {'cache_read': 0},\n",
      "           'input_tokens': 776,\n",
      "           'output_tokens': 25,\n",
      "           'total_tokens': 801}}\n",
      "\n",
      "{'query': 'Kalau isi pasal 100 apa ya?',\n",
      " 'response': 'Pasal 100 dalam UU No. 11 Tahun 2008 tidak ditemukan.',\n",
      " 'type': 'model_response',\n",
      " 'usage': {'input_token_details': {'cache_read': 0},\n",
      "           'input_tokens': 905,\n",
      "           'output_tokens': 22,\n",
      "           'total_tokens': 927}}\n",
      "\n",
      "{'query': 'Memangnya berapa total jumlah pasal di dalam UU no 11 tahun 2008?',\n",
      " 'type': 'tool_call',\n",
      " 'usage': {'input_token_details': {'cache_read': 0},\n",
      "           'input_tokens': 947,\n",
      "           'output_tokens': 24,\n",
      "           'total_tokens': 971}}\n",
      "\n",
      "{'query': 'Memangnya berapa total jumlah pasal di dalam UU no 11 tahun 2008?',\n",
      " 'response': 'UU No. 11 Tahun 2008 memiliki total 54 pasal.',\n",
      " 'type': 'model_response',\n",
      " 'usage': {'input_token_details': {'cache_read': 0},\n",
      "           'input_tokens': 1078,\n",
      "           'output_tokens': 20,\n",
      "           'total_tokens': 1098}}\n",
      "\n",
      "{'query': 'Ohh begitu, memangnya kenapa ikan berenang di air?',\n",
      " 'response': 'Pertanyaan itu di luar konteks Undang-Undang No. 11 Tahun 2008 '\n",
      "             'dan di luar kemampuan tools yang tersedia.',\n",
      " 'type': 'model_response',\n",
      " 'usage': {'input_token_details': {'cache_read': 0},\n",
      "           'input_tokens': 1109,\n",
      "           'output_tokens': 30,\n",
      "           'total_tokens': 1139}}\n",
      "\n"
     ]
    }
   ],
   "source": [
    "from langchain_core.messages import AIMessage\n",
    "\n",
    "ai_results = []\n",
    "\n",
    "for message in result[\"messages\"]:\n",
    "    if isinstance(message, HumanMessage):\n",
    "        query = message.content\n",
    "    if isinstance(message, AIMessage):\n",
    "        # ai_results.append(message)\n",
    "        if message.tool_calls:\n",
    "            ai_results.append({\n",
    "                \"type\": \"tool_call\",\n",
    "                \"query\": query,\n",
    "                \"usage\": message.usage_metadata\n",
    "            })\n",
    "        else:\n",
    "            ai_results.append({\n",
    "                \"type\": \"model_response\",\n",
    "                \"query\": query,\n",
    "                \"response\": message.content,\n",
    "                \"usage\": message.usage_metadata\n",
    "            })\n",
    "                \n",
    "\n",
    "for ai_result in ai_results:\n",
    "    pprint(ai_result)\n",
    "    print()"
   ]
  },
  {
   "cell_type": "code",
   "execution_count": 17,
   "metadata": {},
   "outputs": [
    {
     "data": {
      "text/plain": [
       "{'is_context_fetched': True,\n",
       " 'cypher_gen_usage_metadata': {'input_tokens': 2805,\n",
       "  'output_tokens': 65,\n",
       "  'total_tokens': 2870},\n",
       " 'qa_usage_metadata': {'input_tokens': 290,\n",
       "  'output_tokens': 98,\n",
       "  'total_tokens': 388},\n",
       " 'run_time': 2.4130427837371826}"
      ]
     },
     "execution_count": 17,
     "metadata": {},
     "output_type": "execute_result"
    }
   ],
   "source": [
    "result['messages'][2].model_dump()['artifact']"
   ]
  },
  {
   "cell_type": "code",
   "execution_count": 18,
   "metadata": {},
   "outputs": [
    {
     "name": "stdout",
     "output_type": "stream",
     "text": [
      "{'query': 'Apa isi pasal 28 UU No. 11 tahun 2008? Wajib gunakan tool '\n",
      "          'text2cypher',\n",
      " 'type': 'text2cypher',\n",
      " 'usage': {'cypher_gen_usage_metadata': {'input_tokens': 2805,\n",
      "                                         'output_tokens': 65,\n",
      "                                         'total_tokens': 2870},\n",
      "           'is_context_fetched': True,\n",
      "           'qa_usage_metadata': {'input_tokens': 290,\n",
      "                                 'output_tokens': 98,\n",
      "                                 'total_tokens': 388},\n",
      "           'run_time': 2.4130427837371826}}\n",
      "\n",
      "{'query': 'Bagaimana dengan isi teks pasal setelah pasal 28 UU No. 11 Tahun '\n",
      "          '2008?',\n",
      " 'type': 'text2cypher',\n",
      " 'usage': {'cypher_gen_usage_metadata': {'input_tokens': 2807,\n",
      "                                         'output_tokens': 77,\n",
      "                                         'total_tokens': 2884},\n",
      "           'is_context_fetched': True,\n",
      "           'qa_usage_metadata': {'input_tokens': 248,\n",
      "                                 'output_tokens': 65,\n",
      "                                 'total_tokens': 313},\n",
      "           'run_time': 2.248041868209839}}\n",
      "\n",
      "{'query': 'Kalau isi pasal 100 apa ya?',\n",
      " 'type': 'text2cypher',\n",
      " 'usage': {'cypher_gen_usage_metadata': {'input_tokens': 2807,\n",
      "                                         'output_tokens': 66,\n",
      "                                         'total_tokens': 2873},\n",
      "           'is_context_fetched': False,\n",
      "           'qa_usage_metadata': {'input_tokens': 0,\n",
      "                                 'output_tokens': 0,\n",
      "                                 'total_tokens': 0},\n",
      "           'run_time': 1.2900028228759766}}\n",
      "\n",
      "{'query': 'Memangnya berapa total jumlah pasal di dalam UU no 11 tahun 2008?',\n",
      " 'type': 'text2cypher',\n",
      " 'usage': {'cypher_gen_usage_metadata': {'input_tokens': 2805,\n",
      "                                         'output_tokens': 59,\n",
      "                                         'total_tokens': 2864},\n",
      "           'is_context_fetched': True,\n",
      "           'qa_usage_metadata': {'input_tokens': 177,\n",
      "                                 'output_tokens': 20,\n",
      "                                 'total_tokens': 197},\n",
      "           'run_time': 2.2092528343200684}}\n",
      "\n"
     ]
    }
   ],
   "source": [
    "from langchain_core.messages import AIMessage\n",
    "from langchain_core.messages import ToolMessage\n",
    "\n",
    "tool_results = []\n",
    "\n",
    "for message in result[\"messages\"]:\n",
    "    if isinstance(message, HumanMessage):\n",
    "        query = message.content\n",
    "    if isinstance(message, ToolMessage):\n",
    "        tool_results.append({\n",
    "            \"type\": \"text2cypher\",\n",
    "            \"query\": query,\n",
    "            \"usage\": message.artifact\n",
    "        })\n",
    "                \n",
    "\n",
    "for tool_result in tool_results:\n",
    "    pprint(tool_result)\n",
    "    print()"
   ]
  }
 ],
 "metadata": {
  "kernelspec": {
   "display_name": ".venv",
   "language": "python",
   "name": "python3"
  },
  "language_info": {
   "codemirror_mode": {
    "name": "ipython",
    "version": 3
   },
   "file_extension": ".py",
   "mimetype": "text/x-python",
   "name": "python",
   "nbconvert_exporter": "python",
   "pygments_lexer": "ipython3",
   "version": "3.11.4"
  }
 },
 "nbformat": 4,
 "nbformat_minor": 2
}
