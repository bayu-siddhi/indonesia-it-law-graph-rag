{
 "cells": [
  {
   "cell_type": "code",
   "execution_count": null,
   "id": "6cce48bd",
   "metadata": {},
   "outputs": [],
   "source": [
    "import os\n",
    "\n",
    "from pprint import pprint\n",
    "from dotenv import load_dotenv\n",
    "from neo4j import GraphDatabase\n",
    "from langchain_neo4j import Neo4jGraph\n",
    "from langchain_huggingface import HuggingFaceEmbeddings\n",
    "from langchain_google_genai import ChatGoogleGenerativeAI\n",
    "from src.grag import create_vector_cypher_retriever_tool\n",
    "from src.grag import create_text2cypher_retriever_tool\n",
    "from src.grag import Text2CypherFallback\n",
    "from src.grag import create_workflow\n",
    "from src.grag import create_agent\n",
    "\n",
    "load_dotenv(\".env\")"
   ]
  },
  {
   "cell_type": "code",
   "execution_count": null,
   "id": "16b9319b",
   "metadata": {},
   "outputs": [],
   "source": [
    "URI = os.environ[\"DATABASE_HOST\"]\n",
    "DATABASE = os.environ[\"DATABASE_SMALL\"]\n",
    "USERNAME = os.environ[\"DATABASE_USERNAME\"]\n",
    "PASSWORD = os.environ[\"DATABASE_PASSWORD\"]\n",
    "DATABASE = os.environ[\"DATABASE_SMALL\"]\n",
    "\n",
    "neo4j_config = {\n",
    "    \"DATABASE_NAME\": DATABASE,\n",
    "    \"ARTICLE_VECTOR_INDEX_NAME\": os.environ[\"ARTICLE_VECTOR_INDEX_NAME\"],\n",
    "    \"ARTICLE_FULLTEXT_INDEX_NAME\": os.environ[\"ARTICLE_FULLTEXT_INDEX_NAME\"],\n",
    "    \"DEFINITION_VECTOR_INDEX_NAME\": os.environ[\"DEFINITION_VECTOR_INDEX_NAME\"],\n",
    "    \"DEFINITION_FULLTEXT_INDEX_NAME\": os.environ[\"DEFINITION_FULLTEXT_INDEX_NAME\"],\n",
    "}\n",
    "\n",
    "# Ngga jadi pakai ini karena Text2Cypher mintannya harus pakai Neo4jGraph\n",
    "# neo4j_driver = GraphDatabase.driver(uri=URI, auth=(USERNAME, PASSWORD))\n",
    "\n",
    "neo4j_graph = Neo4jGraph(\n",
    "    url=URI,\n",
    "    username=USERNAME,\n",
    "    password=PASSWORD,\n",
    "    database=DATABASE,\n",
    "    enhanced_schema=True\n",
    ")\n",
    "\n",
    "neo4j_driver = neo4j_graph._driver  # Ambil driver nya kaya gini\n",
    "\n",
    "embedder_model = HuggingFaceEmbeddings(model_name=os.environ[\"EMBEDDING_MODEL\"])\n",
    "\n",
    "llm = ChatGoogleGenerativeAI(\n",
    "    model=\"gemini-2.0-flash\",\n",
    "    temperature=0.0,\n",
    "    api_key=os.environ[\"GOOGLE_API_KEY\"]\n",
    ")"
   ]
  },
  {
   "cell_type": "code",
   "execution_count": null,
   "id": "fa603ce0",
   "metadata": {},
   "outputs": [],
   "source": [
    "vector_cypher_retriever = create_vector_cypher_retriever_tool(\n",
    "    embedder_model=embedder_model,\n",
    "    neo4j_driver=neo4j_driver,\n",
    "    neo4j_config=neo4j_config,\n",
    "    top_k_initial_article=5,\n",
    "    total_article_limit=10,\n",
    "    total_definition_limit=10\n",
    ")\n",
    "\n",
    "text2cypher_retriever = create_text2cypher_retriever_tool(\n",
    "    neo4j_graph=neo4j_graph,\n",
    "    embedder_model=embedder_model,\n",
    "    cypher_llm=llm,\n",
    "    qa_llm=llm,\n",
    "    skip_qa_llm=True,\n",
    "    verbose=False\n",
    ")"
   ]
  },
  {
   "cell_type": "code",
   "execution_count": null,
   "id": "12e9f405",
   "metadata": {},
   "outputs": [],
   "source": [
    "# Harus memastikan hanya memanggil 1 tool dalam sebuah pemanggilan\n",
    "\n",
    "SYSTEM_PROMPT = \"\"\"You are an intelligent assistant that can query a legal graph database (Neo4j) using `text2cypher_retriever` or `vector_cypher_retriever`. Your goal is to accurately `Answer` user queries by utilizing some tools to fetch relevant information.\n",
    "\n",
    "### Instructions:\n",
    "1. **Understand the User Query**\n",
    "   - Carefully analyze the user's question and determine the best approach to retrieve the required information.\n",
    "\n",
    "2. **Use Available Tools**\n",
    "   - If the user asks **general questions** that can't be writed in Neo4j Cypher, use `vector_cypher_retriever`.\n",
    "   - If the user asks for **regulation structure, relationships, or anything that can be represented as Neo4j Cypher**, use `text2cypher_retriever`.\n",
    "   - Make sure to only call 1 tool in a call\n",
    "\n",
    "3. **Maintain Accuracy and Completeness**\n",
    "   - Your default language is English, but you should `Answer` the user query in the same language as the query.\n",
    "   - Always provide precise and concise `Answer` based on the retrieved data.\n",
    "   - If the retrieved data contains legal articles with subsections, structure them in a markdown list format.\n",
    "   - Ensure that your final `Answer` is well-formatted in Markdown.\n",
    "\n",
    "5. **Handle Errors Gracefully**\n",
    "   - If you dont have the `Answer`, inform the user that no relevant information was found, instead of making assumptions.\n",
    "   - If the query is ambiguous, ask for clarification before proceeding.\n",
    "\"\"\""
   ]
  },
  {
   "cell_type": "code",
   "execution_count": null,
   "id": "1adcefc3",
   "metadata": {},
   "outputs": [],
   "source": [
    "from IPython.display import display, Image\n",
    "from langgraph.checkpoint.memory import MemorySaver\n",
    "\n",
    "config_1 = {\"configurable\": {\"thread_id\": \"1\"}}\n",
    "config_2 = {\"configurable\": {\"thread_id\": \"2\"}}\n",
    "checkpointer = MemorySaver()\n",
    "\n",
    "workflow = create_workflow(\n",
    "    llm, [text2cypher_retriever, vector_cypher_retriever],\n",
    "    prompt=SYSTEM_PROMPT,\n",
    "    checkpointer=checkpointer,\n",
    "    fallback_tool_calling_cls=Text2CypherFallback\n",
    ")\n",
    "\n",
    "# display(Image(workflow.get_graph().draw_mermaid_png()))\n",
    "# print(workflow.get_graph().draw_mermaid())\n",
    "print(workflow.get_graph().draw_ascii())"
   ]
  },
  {
   "cell_type": "code",
   "execution_count": null,
   "id": "4dc7942c",
   "metadata": {},
   "outputs": [],
   "source": [
    "# Test fallback tool calling\n",
    "\n",
    "query = \"Apa isi dari pasal 100 UU no 11 tahun 2008 apa ya?\"\n",
    "response = workflow.invoke({\"messages\": query}, config_1)\n",
    "display(response[\"messages\"])\n",
    "print(response[\"messages\"][-1].content)"
   ]
  },
  {
   "cell_type": "code",
   "execution_count": null,
   "id": "836bc8b0",
   "metadata": {},
   "outputs": [],
   "source": [
    "query = \"Kalau pasal 28?\"\n",
    "response = workflow.invoke({\"messages\": query}, config_1)\n",
    "display(response[\"messages\"])\n",
    "print(response[\"messages\"][-1].content)"
   ]
  },
  {
   "cell_type": "code",
   "execution_count": null,
   "id": "a470149c",
   "metadata": {},
   "outputs": [],
   "source": [
    "query = (\n",
    "    # Dia masih salah karena hanya mengambil relasi RELATED_TO\n",
    "    \"Di antara semua pasal di database mu, pasal apa yang paling banyak hubungan (semua jenis hubungan)? \"\n",
    "    \"Kemudian sebutkan nama semua pasal yang berelasi dengannya\"\n",
    ")\n",
    "response = workflow.invoke({\"messages\": query}, config_1)\n",
    "display(response[\"messages\"])\n",
    "print(response[\"messages\"][-1].content)"
   ]
  },
  {
   "cell_type": "code",
   "execution_count": null,
   "id": "0fbde77e",
   "metadata": {},
   "outputs": [],
   "source": [
    "query = \"Apa pengertian dari penyelenggara sistem elektronik menurut peraturan?\"\n",
    "response = workflow.invoke({\"messages\": query}, config_1)\n",
    "display(response[\"messages\"])\n",
    "print(response[\"messages\"][-1].content)"
   ]
  },
  {
   "cell_type": "code",
   "execution_count": null,
   "id": "81659f41",
   "metadata": {},
   "outputs": [],
   "source": [
    "# Ngga dapet datanya :)\n",
    "# Kemungkinan karena definisi nya cuma keambil 5,\n",
    "# dan yang bahas khusus Sistem Elektronik malah ngga keambil\n",
    "# Ternyata kayanya emang benerang ngga ada definisinya\n",
    "query = \"Dari definisinya penyelenggara sistem elektronik tadi ada disebut sistem elektronik, memangnya itu apa?\"\n",
    "response = workflow.invoke({\"messages\": query}, config_1)\n",
    "display(response[\"messages\"])\n",
    "print(response[\"messages\"][-1].content)"
   ]
  },
  {
   "cell_type": "code",
   "execution_count": null,
   "id": "0aee0ca3",
   "metadata": {},
   "outputs": [],
   "source": [
    "query = \"Oke karena ngga dapat datanya, coba jelaskan menurutmu saja apa definisi sistem elektronik? tanpa melihat database\"\n",
    "response = workflow.invoke({\"messages\": query}, config_1)\n",
    "display(response[\"messages\"])\n",
    "print(response[\"messages\"][-1].content)"
   ]
  }
 ],
 "metadata": {
  "kernelspec": {
   "display_name": ".venv",
   "language": "python",
   "name": "python3"
  },
  "language_info": {
   "codemirror_mode": {
    "name": "ipython",
    "version": 3
   },
   "file_extension": ".py",
   "mimetype": "text/x-python",
   "name": "python",
   "nbconvert_exporter": "python",
   "pygments_lexer": "ipython3",
   "version": "3.11.4"
  }
 },
 "nbformat": 4,
 "nbformat_minor": 5
}
