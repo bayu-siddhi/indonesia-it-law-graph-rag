{
 "cells": [
  {
   "cell_type": "code",
   "execution_count": null,
   "metadata": {},
   "outputs": [],
   "source": [
    "import os\n",
    "import sys\n",
    "from dotenv import load_dotenv\n",
    "\n",
    "load_dotenv()\n",
    "sys.path.append(os.path.join(os.getcwd(), \"..\"))\n",
    "\n",
    "from src.prep import RegulationGraphBuilder"
   ]
  },
  {
   "cell_type": "code",
   "execution_count": null,
   "metadata": {},
   "outputs": [],
   "source": [
    "json_input = os.path.join(\"..\", \"data\", \"json\", \"regulation_data_final.json\")\n",
    "    \n",
    "graph_builder_1 = RegulationGraphBuilder(\n",
    "    uri=os.environ[\"NEO4J_HOST\"],\n",
    "    auth=(os.environ[\"NEO4J_USERNAME\"], os.environ[\"NEO4J_PASSWORD\"]),\n",
    "    database=\"db-small\",\n",
    "    embedding_model=\"all-MiniLM-L6-v2\"\n",
    ")\n",
    "\n",
    "graph_builder_1.detach_delete_all()\n",
    "\n",
    "summary = graph_builder_1.build_graph(\n",
    "    json_input=json_input,\n",
    "    batch_size=64,\n",
    "    verbose=True\n",
    ")"
   ]
  },
  {
   "cell_type": "code",
   "execution_count": null,
   "metadata": {},
   "outputs": [],
   "source": [
    "# graph_builder_1.visualize_graph(\"db_small.html\")"
   ]
  },
  {
   "cell_type": "code",
   "execution_count": null,
   "metadata": {},
   "outputs": [],
   "source": [
    "json_input = os.path.join(\"..\", \"data\", \"json\", \"regulation_data_final.json\")\n",
    "    \n",
    "graph_builder_2 = RegulationGraphBuilder(\n",
    "    uri=os.environ[\"NEO4J_HOST\"],\n",
    "    auth=(os.environ[\"NEO4J_USERNAME\"], os.environ[\"NEO4J_PASSWORD\"]),\n",
    "    database=\"db-large\",\n",
    "    embedding_model=\"intfloat/multilingual-e5-large\"\n",
    ")\n",
    "\n",
    "graph_builder_2.detach_delete_all()\n",
    "\n",
    "summary = graph_builder_2.build_graph(\n",
    "    json_input=json_input,\n",
    "    batch_size=64,\n",
    "    verbose=True\n",
    ")"
   ]
  },
  {
   "cell_type": "code",
   "execution_count": null,
   "metadata": {},
   "outputs": [],
   "source": [
    "# graph_builder_1.visualize_graph(\"db_large.html\")"
   ]
  },
  {
   "cell_type": "code",
   "execution_count": null,
   "metadata": {},
   "outputs": [],
   "source": [
    "json_input = os.path.join(\"..\", \"data\", \"json\", \"regulation_data_final.json\")\n",
    "    \n",
    "graph_builder_3 = RegulationGraphBuilder(\n",
    "    uri=os.environ[\"NEO4J_HOST\"],\n",
    "    auth=(os.environ[\"NEO4J_USERNAME\"], os.environ[\"NEO4J_PASSWORD\"]),\n",
    "    database=\"db-domain-specific\",\n",
    "    embedding_model=\"archi-ai/Indo-LegalBERT\"\n",
    ")\n",
    "\n",
    "graph_builder_3.detach_delete_all()\n",
    "\n",
    "summary = graph_builder_3.build_graph(\n",
    "    json_input=json_input,\n",
    "    batch_size=64,\n",
    "    verbose=True\n",
    ")"
   ]
  },
  {
   "cell_type": "code",
   "execution_count": null,
   "metadata": {},
   "outputs": [],
   "source": [
    "# graph_builder_1.visualize_graph(\"db_domain_specific.html\")"
   ]
  }
 ],
 "metadata": {
  "kernelspec": {
   "display_name": ".venv",
   "language": "python",
   "name": "python3"
  },
  "language_info": {
   "codemirror_mode": {
    "name": "ipython",
    "version": 3
   },
   "file_extension": ".py",
   "mimetype": "text/x-python",
   "name": "python",
   "nbconvert_exporter": "python",
   "pygments_lexer": "ipython3",
   "version": "3.11.4"
  }
 },
 "nbformat": 4,
 "nbformat_minor": 2
}
