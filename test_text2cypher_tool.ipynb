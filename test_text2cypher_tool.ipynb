{
 "cells": [
  {
   "cell_type": "code",
   "execution_count": 1,
   "metadata": {},
   "outputs": [
    {
     "data": {
      "text/plain": [
       "True"
      ]
     },
     "execution_count": 1,
     "metadata": {},
     "output_type": "execute_result"
    }
   ],
   "source": [
    "import os\n",
    "from pprint import pprint\n",
    "from dotenv import load_dotenv\n",
    "from langchain_neo4j import Neo4jGraph\n",
    "from langchain_google_genai import ChatGoogleGenerativeAI\n",
    "from src.grag.retrievers.text2cypher.text2cypher import create_text2cypher_retriever_tool\n",
    "\n",
    "load_dotenv(\".env\")"
   ]
  },
  {
   "cell_type": "code",
   "execution_count": 2,
   "metadata": {},
   "outputs": [],
   "source": [
    "URI = os.environ[\"DATABASE_HOST\"]\n",
    "DATABASE = os.environ[\"DATABASE_SMALL\"]\n",
    "USERNAME = os.environ[\"DATABASE_USERNAME\"]\n",
    "PASSWORD = os.environ[\"DATABASE_PASSWORD\"]\n",
    "\n",
    "neo4j_graph = Neo4jGraph(\n",
    "    url=URI,\n",
    "    username=USERNAME,\n",
    "    password=PASSWORD,\n",
    "    database=DATABASE,\n",
    "    enhanced_schema=True\n",
    ")\n",
    "\n",
    "llm = ChatGoogleGenerativeAI(\n",
    "    model=\"gemini-2.0-flash\",\n",
    "    temperature=0.0,\n",
    "    api_key=os.environ[\"GOOGLE_API_KEY\"]\n",
    ")"
   ]
  },
  {
   "cell_type": "code",
   "execution_count": 3,
   "metadata": {},
   "outputs": [],
   "source": [
    "text2cypher_retriever = create_text2cypher_retriever_tool(\n",
    "    cypher_llm=llm,\n",
    "    qa_llm=llm,\n",
    "    neo4j_graph=neo4j_graph,\n",
    "    is_skip_qa_llm=False,\n",
    "    verbose=True\n",
    ")"
   ]
  },
  {
   "cell_type": "code",
   "execution_count": 4,
   "metadata": {},
   "outputs": [],
   "source": [
    "query =\"Apa isi pasal 28 UU No. 11 tahun 2008?\"\n",
    "# query =\"Apa isi teks pasal setelah pasal 28 UU No. 11 Tahun 2008?\"\n",
    "# query =\"Apa isi pasal 100 UU No 11 tahun 2008?\"\n",
    "# query = \"Kenapa ikan berenang di air?\""
   ]
  },
  {
   "cell_type": "code",
   "execution_count": 5,
   "metadata": {},
   "outputs": [
    {
     "name": "stdout",
     "output_type": "stream",
     "text": [
      "\n",
      "\n",
      "\u001b[1m> Entering new GraphCypherQAChainMod chain...\u001b[0m\n",
      "Generated Cypher (1):\n",
      "\u001b[32;1m\u001b[1;3mcypher\n",
      "MATCH (r:Regulation)-[:HAS_ARTICLE]->(a:Article)\n",
      "WHERE r.type = 'UU' AND r.number = 11 AND r.year = 2008 AND a.number = '28'\n",
      "RETURN a.text AS text\u001b[0m\n",
      "\n",
      "Skip QA LLM:\n",
      "\u001b[32;1m\u001b[1;3mFalse\u001b[0m\n",
      "\n",
      "Full Context:\n",
      "\u001b[32;1m\u001b[1;3m[{'text': 'Undang-undang (UU) Nomor 11 Tahun 2008 tentang Informasi dan Transaksi Elektronik, BAB VII - PERBUATAN YANG DILARANG, Pasal 28:\\n(1) Setiap Orang dengan sengaja dan tanpa hak menyebarkan berita bohong dan menyesatkan yang mengakibatkan kerugian konsumen dalam Transaksi Elektronik.\\n(2) Setiap Orang dengan sengaja dan tanpa hak menyebarkan informasi yang ditujukan untuk menimbulkan rasa kebencian atau permusuhan individu dan/atau kelompok masyarakat tertentu berdasarkan atas suku, agama, ras, dan antargolongan (SARA).'}]\u001b[0m\n",
      "\n",
      "\n",
      "\u001b[1m> Finished chain.\u001b[0m\n",
      "### **Hasil Pembuatan Kode Cypher:**\n",
      "```cypher\n",
      "MATCH (r:Regulation)-[:HAS_ARTICLE]->(a:Article)\n",
      "WHERE r.type = 'UU' AND r.number = 11 AND r.year = 2008 AND a.number = '28'\n",
      "RETURN a.text AS text\n",
      "```\n",
      "\n",
      "### **Hasil Eksekusi Kode Cypher ke Database:**\n",
      "Pasal 28 UU No. 11 Tahun 2008 berisi tentang larangan perbuatan sebagai berikut:\n",
      "\n",
      "(1) Setiap Orang dengan sengaja dan tanpa hak menyebarkan berita bohong dan menyesatkan yang mengakibatkan kerugian konsumen dalam Transaksi Elektronik.\n",
      "(2) Setiap Orang dengan sengaja dan tanpa hak menyebarkan informasi yang ditujukan untuk menimbulkan rasa kebencian atau permusuhan individu dan/atau kelompok masyarakat tertentu berdasarkan atas suku, agama, ras, dan antargolongan (SARA).\n"
     ]
    }
   ],
   "source": [
    "result = text2cypher_retriever.invoke({\"query\": query})\n",
    "print(result)"
   ]
  },
  {
   "cell_type": "code",
   "execution_count": 6,
   "metadata": {},
   "outputs": [
    {
     "data": {
      "text/plain": [
       "{'content': \"### **Hasil Pembuatan Kode Cypher:**\\n```cypher\\nMATCH (r:Regulation)-[:HAS_ARTICLE]->(a:Article)\\nWHERE r.type = 'UU' AND r.number = 11 AND r.year = 2008 AND a.number = '28'\\nRETURN a.text AS text\\n```\\n\\n### **Hasil Eksekusi Kode Cypher ke Database:**\\nPasal 28 UU No. 11 Tahun 2008 berisi tentang larangan perbuatan sebagai berikut:\\n\\n(1) Setiap Orang dengan sengaja dan tanpa hak menyebarkan berita bohong dan menyesatkan yang mengakibatkan kerugian konsumen dalam Transaksi Elektronik.\\n(2) Setiap Orang dengan sengaja dan tanpa hak menyebarkan informasi yang ditujukan untuk menimbulkan rasa kebencian atau permusuhan individu dan/atau kelompok masyarakat tertentu berdasarkan atas suku, agama, ras, dan antargolongan (SARA).\",\n",
       " 'additional_kwargs': {},\n",
       " 'response_metadata': {},\n",
       " 'type': 'tool',\n",
       " 'name': 'text2cypher',\n",
       " 'id': None,\n",
       " 'tool_call_id': '123',\n",
       " 'artifact': {'is_context_fetched': True,\n",
       "  'cypher_gen_usage_metadata': {'input_tokens': 2488,\n",
       "   'output_tokens': 65,\n",
       "   'total_tokens': 2553},\n",
       "  'qa_usage_metadata': {'input_tokens': 290,\n",
       "   'output_tokens': 103,\n",
       "   'total_tokens': 393},\n",
       "  'run_time': 2.1993842124938965},\n",
       " 'status': 'success'}"
      ]
     },
     "execution_count": 6,
     "metadata": {},
     "output_type": "execute_result"
    }
   ],
   "source": [
    "# Agar hasilnya dalam ToolMessage, harus invoke menggunakan schema ToolCall\n",
    "# https://python.langchain.com/docs/how_to/tool_artifacts/#invoking-the-tool-with-toolcall\n",
    "\n",
    "query =\"Apa isi pasal 28 UU No. 11 tahun 2008?\"\n",
    "# query =\"Apa isi teks pasal setelah (NEXT_ARTICLE) pasal 28 UU No. 11 Tahun 2008?\"\n",
    "# query =\"Apa isi pasal 100 UU No 11 tahun 2008?\"\n",
    "# query = \"Kenapa ikan berenang di air?\"\n",
    "\n",
    "text2cypher_retriever = create_text2cypher_retriever_tool(\n",
    "    cypher_llm=llm,\n",
    "    qa_llm=llm,\n",
    "    neo4j_graph=neo4j_graph,\n",
    "    is_skip_qa_llm=False,\n",
    "    verbose=False\n",
    ")\n",
    "\n",
    "result = text2cypher_retriever.invoke(\n",
    "    {\n",
    "        \"name\": \"text2cypher_retriever\",\n",
    "        \"args\": {\"query\": query},\n",
    "        \"id\": \"123\",  # required\n",
    "        \"type\": \"tool_call\",  # required\n",
    "    }\n",
    ")\n",
    "\n",
    "result.model_dump()"
   ]
  },
  {
   "cell_type": "code",
   "execution_count": 7,
   "metadata": {},
   "outputs": [
    {
     "name": "stdout",
     "output_type": "stream",
     "text": [
      "        +-----------+         \n",
      "        | __start__ |         \n",
      "        +-----------+         \n",
      "              *               \n",
      "              *               \n",
      "              *               \n",
      "          +-------+           \n",
      "          | agent |           \n",
      "          +-------+           \n",
      "         .         .          \n",
      "       ..           ..        \n",
      "      .               .       \n",
      "+-------+         +---------+ \n",
      "| tools |         | __end__ | \n",
      "+-------+         +---------+ \n"
     ]
    }
   ],
   "source": [
    "from langchain_google_genai import ChatGoogleGenerativeAI\n",
    "from langgraph.checkpoint.memory import MemorySaver\n",
    "from langchain_core.messages import HumanMessage\n",
    "from langgraph.prebuilt import create_react_agent\n",
    "\n",
    "\n",
    "text2cypher_retriever = create_text2cypher_retriever_tool(\n",
    "    cypher_llm=llm,\n",
    "    qa_llm=llm,\n",
    "    neo4j_graph=neo4j_graph,\n",
    "    is_skip_qa_llm=False,\n",
    "    verbose=False\n",
    ")\n",
    "\n",
    "llm = ChatGoogleGenerativeAI(\n",
    "    model=\"gemini-2.0-flash\",\n",
    "    temperature=0.0,\n",
    "    api_key=os.environ[\"GOOGLE_API_KEY\"]\n",
    ")\n",
    "\n",
    "checkpointer = MemorySaver()\n",
    "config = {\"configurable\": {\"thread_id\": \"1\"}}\n",
    "\n",
    "react_agent = create_react_agent(model=llm, tools=[text2cypher_retriever], checkpointer=checkpointer, version=\"v2\")\n",
    "print(react_agent.get_graph().draw_ascii())"
   ]
  },
  {
   "cell_type": "code",
   "execution_count": 8,
   "metadata": {},
   "outputs": [
    {
     "data": {
      "text/plain": [
       "[HumanMessage(content='Apa isi pasal 28 UU No. 11 tahun 2008? Wajib gunakan tool text2cypher', additional_kwargs={}, response_metadata={}, id='dca0fa9a-adae-4e3f-b7dc-b10d4ad91993'),\n",
       " AIMessage(content='', additional_kwargs={'function_call': {'name': 'text2cypher', 'arguments': '{\"query\": \"Apa isi pasal 28 UU No. 11 tahun 2008?\"}'}}, response_metadata={'prompt_feedback': {'block_reason': 0, 'safety_ratings': []}, 'finish_reason': 'STOP', 'safety_ratings': []}, id='run-4b1a51e3-0fe6-4617-8bb7-0c989849beb1-0', tool_calls=[{'name': 'text2cypher', 'args': {'query': 'Apa isi pasal 28 UU No. 11 tahun 2008?'}, 'id': '047e37dc-75a9-47de-95a9-0568c4fefeed', 'type': 'tool_call'}], usage_metadata={'input_tokens': 55, 'output_tokens': 24, 'total_tokens': 79, 'input_token_details': {'cache_read': 0}}),\n",
       " ToolMessage(content=\"### **Hasil Pembuatan Kode Cypher:**\\n```cypher\\nMATCH (r:Regulation)-[:HAS_ARTICLE]->(a:Article)\\nWHERE r.type = 'UU' AND r.number = 11 AND r.year = 2008 AND a.number = '28'\\nRETURN a.text AS text\\n```\\n\\n### **Hasil Eksekusi Kode Cypher ke Database:**\\nPasal 28 UU No. 11 Tahun 2008 berisi tentang larangan perbuatan sebagai berikut:\\n\\n(1) Setiap Orang dengan sengaja dan tanpa hak menyebarkan berita bohong dan menyesatkan yang mengakibatkan kerugian konsumen dalam Transaksi Elektronik.\\n(2) Setiap Orang dengan sengaja dan tanpa hak menyebarkan informasi yang ditujukan untuk menimbulkan rasa kebencian atau permusuhan individu dan/atau kelompok masyarakat tertentu berdasarkan atas suku, agama, ras, dan antargolongan (SARA).\", name='text2cypher', id='285c0668-927a-4183-899d-3cad40d884fe', tool_call_id='047e37dc-75a9-47de-95a9-0568c4fefeed', artifact={'is_context_fetched': True, 'cypher_gen_usage_metadata': {'input_tokens': 2488, 'output_tokens': 65, 'total_tokens': 2553}, 'qa_usage_metadata': {'input_tokens': 290, 'output_tokens': 103, 'total_tokens': 393}, 'run_time': 2.0279884338378906}),\n",
       " AIMessage(content='Pasal 28 UU No. 11 Tahun 2008 berisi tentang larangan perbuatan sebagai berikut:\\n\\n(1) Setiap Orang dengan sengaja dan tanpa hak menyebarkan berita bohong dan menyesatkan yang mengakibatkan kerugian konsumen dalam Transaksi Elektronik.\\n(2) Setiap Orang dengan sengaja dan tanpa hak menyebarkan informasi yang ditujukan untuk menimbulkan rasa kebencian atau permusuhan individu dan/atau kelompok masyarakat tertentu berdasarkan atas suku, agama, ras, dan antargolongan (SARA).', additional_kwargs={}, response_metadata={'prompt_feedback': {'block_reason': 0, 'safety_ratings': []}, 'finish_reason': 'STOP', 'safety_ratings': []}, id='run-6ed82c99-b132-4bc2-822f-bd3fdaa10577-0', usage_metadata={'input_tokens': 275, 'output_tokens': 102, 'total_tokens': 377, 'input_token_details': {'cache_read': 0}})]"
      ]
     },
     "execution_count": 8,
     "metadata": {},
     "output_type": "execute_result"
    }
   ],
   "source": [
    "query =\"Apa isi pasal 28 UU No. 11 tahun 2008?\"\n",
    "result = react_agent.invoke(\n",
    "    {\"messages\": HumanMessage(content=query + \" Wajib gunakan tool text2cypher\")},\n",
    "    config=config\n",
    ")\n",
    "\n",
    "result[\"messages\"]"
   ]
  },
  {
   "cell_type": "code",
   "execution_count": 9,
   "metadata": {},
   "outputs": [
    {
     "data": {
      "text/plain": [
       "[HumanMessage(content='Apa isi pasal 28 UU No. 11 tahun 2008? Wajib gunakan tool text2cypher', additional_kwargs={}, response_metadata={}, id='dca0fa9a-adae-4e3f-b7dc-b10d4ad91993'),\n",
       " AIMessage(content='', additional_kwargs={'function_call': {'name': 'text2cypher', 'arguments': '{\"query\": \"Apa isi pasal 28 UU No. 11 tahun 2008?\"}'}}, response_metadata={'prompt_feedback': {'block_reason': 0, 'safety_ratings': []}, 'finish_reason': 'STOP', 'safety_ratings': []}, id='run-4b1a51e3-0fe6-4617-8bb7-0c989849beb1-0', tool_calls=[{'name': 'text2cypher', 'args': {'query': 'Apa isi pasal 28 UU No. 11 tahun 2008?'}, 'id': '047e37dc-75a9-47de-95a9-0568c4fefeed', 'type': 'tool_call'}], usage_metadata={'input_tokens': 55, 'output_tokens': 24, 'total_tokens': 79, 'input_token_details': {'cache_read': 0}}),\n",
       " ToolMessage(content=\"### **Hasil Pembuatan Kode Cypher:**\\n```cypher\\nMATCH (r:Regulation)-[:HAS_ARTICLE]->(a:Article)\\nWHERE r.type = 'UU' AND r.number = 11 AND r.year = 2008 AND a.number = '28'\\nRETURN a.text AS text\\n```\\n\\n### **Hasil Eksekusi Kode Cypher ke Database:**\\nPasal 28 UU No. 11 Tahun 2008 berisi tentang larangan perbuatan sebagai berikut:\\n\\n(1) Setiap Orang dengan sengaja dan tanpa hak menyebarkan berita bohong dan menyesatkan yang mengakibatkan kerugian konsumen dalam Transaksi Elektronik.\\n(2) Setiap Orang dengan sengaja dan tanpa hak menyebarkan informasi yang ditujukan untuk menimbulkan rasa kebencian atau permusuhan individu dan/atau kelompok masyarakat tertentu berdasarkan atas suku, agama, ras, dan antargolongan (SARA).\", name='text2cypher', id='285c0668-927a-4183-899d-3cad40d884fe', tool_call_id='047e37dc-75a9-47de-95a9-0568c4fefeed', artifact={'is_context_fetched': True, 'cypher_gen_usage_metadata': {'input_tokens': 2488, 'output_tokens': 65, 'total_tokens': 2553}, 'qa_usage_metadata': {'input_tokens': 290, 'output_tokens': 103, 'total_tokens': 393}, 'run_time': 2.0279884338378906}),\n",
       " AIMessage(content='Pasal 28 UU No. 11 Tahun 2008 berisi tentang larangan perbuatan sebagai berikut:\\n\\n(1) Setiap Orang dengan sengaja dan tanpa hak menyebarkan berita bohong dan menyesatkan yang mengakibatkan kerugian konsumen dalam Transaksi Elektronik.\\n(2) Setiap Orang dengan sengaja dan tanpa hak menyebarkan informasi yang ditujukan untuk menimbulkan rasa kebencian atau permusuhan individu dan/atau kelompok masyarakat tertentu berdasarkan atas suku, agama, ras, dan antargolongan (SARA).', additional_kwargs={}, response_metadata={'prompt_feedback': {'block_reason': 0, 'safety_ratings': []}, 'finish_reason': 'STOP', 'safety_ratings': []}, id='run-6ed82c99-b132-4bc2-822f-bd3fdaa10577-0', usage_metadata={'input_tokens': 275, 'output_tokens': 102, 'total_tokens': 377, 'input_token_details': {'cache_read': 0}}),\n",
       " HumanMessage(content='Bagaimana dengan isi teks pasal setelah (next) pasal 28 UU No. 11 Tahun 2008?', additional_kwargs={}, response_metadata={}, id='83e1ea27-8ccd-4c44-a242-be61c6a23c27'),\n",
       " AIMessage(content='', additional_kwargs={'function_call': {'name': 'text2cypher', 'arguments': '{\"query\": \"Apa isi pasal setelah pasal 28 UU No. 11 tahun 2008?\"}'}}, response_metadata={'prompt_feedback': {'block_reason': 0, 'safety_ratings': []}, 'finish_reason': 'STOP', 'safety_ratings': []}, id='run-f9d18932-7e63-4132-9912-a2ac7e4acf35-0', tool_calls=[{'name': 'text2cypher', 'args': {'query': 'Apa isi pasal setelah pasal 28 UU No. 11 tahun 2008?'}, 'id': '3da28ade-ede5-4fd3-941c-1bc4af3c6cd1', 'type': 'tool_call'}], usage_metadata={'input_tokens': 403, 'output_tokens': 26, 'total_tokens': 429, 'input_token_details': {'cache_read': 0}}),\n",
       " ToolMessage(content='### **Hasil Pembuatan Kode Cypher:**\\n```cypher\\nMATCH (r:Regulation)-[:HAS_ARTICLE]->(a:Article)\\nWHERE r.type = \\'UU\\' AND r.number = 11 AND r.year = 2008 AND a.number = \\'28\\'\\nMATCH (a)-[:NEXT_ARTICLE]->(next_article)\\nRETURN next_article.text AS text\\n```\\n\\n### **Hasil Eksekusi Kode Cypher ke Database:**\\nPasal setelah Pasal 28 UU No. 11 Tahun 2008 adalah Pasal 29, yang berbunyi:\\n\\n\"Setiap Orang dengan sengaja dan tanpa hak mengirimkan Informasi Elektronik dan/atau Dokumen Elektronik yang berisi ancaman kekerasan atau menakut-nakuti yang ditujukan secara pribadi.\"', name='text2cypher', id='717f9902-4999-47a5-b4ad-06be7339d213', tool_call_id='3da28ade-ede5-4fd3-941c-1bc4af3c6cd1', artifact={'is_context_fetched': True, 'cypher_gen_usage_metadata': {'input_tokens': 2490, 'output_tokens': 82, 'total_tokens': 2572}, 'qa_usage_metadata': {'input_tokens': 248, 'output_tokens': 65, 'total_tokens': 313}, 'run_time': 2.2995479106903076}),\n",
       " AIMessage(content='Pasal setelah Pasal 28 UU No. 11 Tahun 2008 adalah Pasal 29, yang berbunyi:\\n\\n\"Setiap Orang dengan sengaja dan tanpa hak mengirimkan Informasi Elektronik dan/atau Dokumen Elektronik yang berisi ancaman kekerasan atau menakut-nakuti yang ditujukan secara pribadi.\"', additional_kwargs={}, response_metadata={'prompt_feedback': {'block_reason': 0, 'safety_ratings': []}, 'finish_reason': 'STOP', 'safety_ratings': []}, id='run-c552ff2d-b955-4102-a3b4-25b94f63ffe0-0', usage_metadata={'input_tokens': 604, 'output_tokens': 64, 'total_tokens': 668, 'input_token_details': {'cache_read': 0}})]"
      ]
     },
     "execution_count": 9,
     "metadata": {},
     "output_type": "execute_result"
    }
   ],
   "source": [
    "query =\"Bagaimana dengan isi teks pasal setelah (next) pasal 28 UU No. 11 Tahun 2008?\"\n",
    "result = react_agent.invoke(\n",
    "    {\"messages\": HumanMessage(content=query)},\n",
    "    config=config\n",
    ")\n",
    "\n",
    "result[\"messages\"]"
   ]
  },
  {
   "cell_type": "code",
   "execution_count": 10,
   "metadata": {},
   "outputs": [
    {
     "data": {
      "text/plain": [
       "[HumanMessage(content='Apa isi pasal 28 UU No. 11 tahun 2008? Wajib gunakan tool text2cypher', additional_kwargs={}, response_metadata={}, id='dca0fa9a-adae-4e3f-b7dc-b10d4ad91993'),\n",
       " AIMessage(content='', additional_kwargs={'function_call': {'name': 'text2cypher', 'arguments': '{\"query\": \"Apa isi pasal 28 UU No. 11 tahun 2008?\"}'}}, response_metadata={'prompt_feedback': {'block_reason': 0, 'safety_ratings': []}, 'finish_reason': 'STOP', 'safety_ratings': []}, id='run-4b1a51e3-0fe6-4617-8bb7-0c989849beb1-0', tool_calls=[{'name': 'text2cypher', 'args': {'query': 'Apa isi pasal 28 UU No. 11 tahun 2008?'}, 'id': '047e37dc-75a9-47de-95a9-0568c4fefeed', 'type': 'tool_call'}], usage_metadata={'input_tokens': 55, 'output_tokens': 24, 'total_tokens': 79, 'input_token_details': {'cache_read': 0}}),\n",
       " ToolMessage(content=\"### **Hasil Pembuatan Kode Cypher:**\\n```cypher\\nMATCH (r:Regulation)-[:HAS_ARTICLE]->(a:Article)\\nWHERE r.type = 'UU' AND r.number = 11 AND r.year = 2008 AND a.number = '28'\\nRETURN a.text AS text\\n```\\n\\n### **Hasil Eksekusi Kode Cypher ke Database:**\\nPasal 28 UU No. 11 Tahun 2008 berisi tentang larangan perbuatan sebagai berikut:\\n\\n(1) Setiap Orang dengan sengaja dan tanpa hak menyebarkan berita bohong dan menyesatkan yang mengakibatkan kerugian konsumen dalam Transaksi Elektronik.\\n(2) Setiap Orang dengan sengaja dan tanpa hak menyebarkan informasi yang ditujukan untuk menimbulkan rasa kebencian atau permusuhan individu dan/atau kelompok masyarakat tertentu berdasarkan atas suku, agama, ras, dan antargolongan (SARA).\", name='text2cypher', id='285c0668-927a-4183-899d-3cad40d884fe', tool_call_id='047e37dc-75a9-47de-95a9-0568c4fefeed', artifact={'is_context_fetched': True, 'cypher_gen_usage_metadata': {'input_tokens': 2488, 'output_tokens': 65, 'total_tokens': 2553}, 'qa_usage_metadata': {'input_tokens': 290, 'output_tokens': 103, 'total_tokens': 393}, 'run_time': 2.0279884338378906}),\n",
       " AIMessage(content='Pasal 28 UU No. 11 Tahun 2008 berisi tentang larangan perbuatan sebagai berikut:\\n\\n(1) Setiap Orang dengan sengaja dan tanpa hak menyebarkan berita bohong dan menyesatkan yang mengakibatkan kerugian konsumen dalam Transaksi Elektronik.\\n(2) Setiap Orang dengan sengaja dan tanpa hak menyebarkan informasi yang ditujukan untuk menimbulkan rasa kebencian atau permusuhan individu dan/atau kelompok masyarakat tertentu berdasarkan atas suku, agama, ras, dan antargolongan (SARA).', additional_kwargs={}, response_metadata={'prompt_feedback': {'block_reason': 0, 'safety_ratings': []}, 'finish_reason': 'STOP', 'safety_ratings': []}, id='run-6ed82c99-b132-4bc2-822f-bd3fdaa10577-0', usage_metadata={'input_tokens': 275, 'output_tokens': 102, 'total_tokens': 377, 'input_token_details': {'cache_read': 0}}),\n",
       " HumanMessage(content='Bagaimana dengan isi teks pasal setelah (next) pasal 28 UU No. 11 Tahun 2008?', additional_kwargs={}, response_metadata={}, id='83e1ea27-8ccd-4c44-a242-be61c6a23c27'),\n",
       " AIMessage(content='', additional_kwargs={'function_call': {'name': 'text2cypher', 'arguments': '{\"query\": \"Apa isi pasal setelah pasal 28 UU No. 11 tahun 2008?\"}'}}, response_metadata={'prompt_feedback': {'block_reason': 0, 'safety_ratings': []}, 'finish_reason': 'STOP', 'safety_ratings': []}, id='run-f9d18932-7e63-4132-9912-a2ac7e4acf35-0', tool_calls=[{'name': 'text2cypher', 'args': {'query': 'Apa isi pasal setelah pasal 28 UU No. 11 tahun 2008?'}, 'id': '3da28ade-ede5-4fd3-941c-1bc4af3c6cd1', 'type': 'tool_call'}], usage_metadata={'input_tokens': 403, 'output_tokens': 26, 'total_tokens': 429, 'input_token_details': {'cache_read': 0}}),\n",
       " ToolMessage(content='### **Hasil Pembuatan Kode Cypher:**\\n```cypher\\nMATCH (r:Regulation)-[:HAS_ARTICLE]->(a:Article)\\nWHERE r.type = \\'UU\\' AND r.number = 11 AND r.year = 2008 AND a.number = \\'28\\'\\nMATCH (a)-[:NEXT_ARTICLE]->(next_article)\\nRETURN next_article.text AS text\\n```\\n\\n### **Hasil Eksekusi Kode Cypher ke Database:**\\nPasal setelah Pasal 28 UU No. 11 Tahun 2008 adalah Pasal 29, yang berbunyi:\\n\\n\"Setiap Orang dengan sengaja dan tanpa hak mengirimkan Informasi Elektronik dan/atau Dokumen Elektronik yang berisi ancaman kekerasan atau menakut-nakuti yang ditujukan secara pribadi.\"', name='text2cypher', id='717f9902-4999-47a5-b4ad-06be7339d213', tool_call_id='3da28ade-ede5-4fd3-941c-1bc4af3c6cd1', artifact={'is_context_fetched': True, 'cypher_gen_usage_metadata': {'input_tokens': 2490, 'output_tokens': 82, 'total_tokens': 2572}, 'qa_usage_metadata': {'input_tokens': 248, 'output_tokens': 65, 'total_tokens': 313}, 'run_time': 2.2995479106903076}),\n",
       " AIMessage(content='Pasal setelah Pasal 28 UU No. 11 Tahun 2008 adalah Pasal 29, yang berbunyi:\\n\\n\"Setiap Orang dengan sengaja dan tanpa hak mengirimkan Informasi Elektronik dan/atau Dokumen Elektronik yang berisi ancaman kekerasan atau menakut-nakuti yang ditujukan secara pribadi.\"', additional_kwargs={}, response_metadata={'prompt_feedback': {'block_reason': 0, 'safety_ratings': []}, 'finish_reason': 'STOP', 'safety_ratings': []}, id='run-c552ff2d-b955-4102-a3b4-25b94f63ffe0-0', usage_metadata={'input_tokens': 604, 'output_tokens': 64, 'total_tokens': 668, 'input_token_details': {'cache_read': 0}}),\n",
       " HumanMessage(content='Tadi isi pasal 28 apa? Aku lupa Ngga perlu pakai tool call lagi ya', additional_kwargs={}, response_metadata={}, id='b342f941-7420-4d6a-b0d6-686f9f645375'),\n",
       " AIMessage(content='Pasal 28 UU No. 11 Tahun 2008 berisi tentang larangan perbuatan sebagai berikut:\\n\\n(1) Setiap Orang dengan sengaja dan tanpa hak menyebarkan berita bohong dan menyesatkan yang mengakibatkan kerugian konsumen dalam Transaksi Elektronik.\\n(2) Setiap Orang dengan sengaja dan tanpa hak menyebarkan informasi yang ditujukan untuk menimbulkan rasa kebencian atau permusuhan individu dan/atau kelompok masyarakat tertentu berdasarkan atas suku, agama, ras, dan antargolongan (SARA).', additional_kwargs={}, response_metadata={'prompt_feedback': {'block_reason': 0, 'safety_ratings': []}, 'finish_reason': 'STOP', 'safety_ratings': []}, id='run-34f392ba-cb99-43c1-a441-53a206203edd-0', usage_metadata={'input_tokens': 687, 'output_tokens': 103, 'total_tokens': 790, 'input_token_details': {'cache_read': 0}})]"
      ]
     },
     "execution_count": 10,
     "metadata": {},
     "output_type": "execute_result"
    }
   ],
   "source": [
    "query = \"Tadi isi pasal 28 apa? Aku lupa\"\n",
    "result = react_agent.invoke(\n",
    "    {\"messages\": HumanMessage(content=query + \" Ngga perlu pakai tool call lagi ya\")},\n",
    "    config=config\n",
    ")\n",
    "\n",
    "result[\"messages\"]"
   ]
  },
  {
   "cell_type": "code",
   "execution_count": 11,
   "metadata": {},
   "outputs": [
    {
     "data": {
      "text/plain": [
       "[HumanMessage(content='Apa isi pasal 28 UU No. 11 tahun 2008? Wajib gunakan tool text2cypher', additional_kwargs={}, response_metadata={}, id='dca0fa9a-adae-4e3f-b7dc-b10d4ad91993'),\n",
       " AIMessage(content='', additional_kwargs={'function_call': {'name': 'text2cypher', 'arguments': '{\"query\": \"Apa isi pasal 28 UU No. 11 tahun 2008?\"}'}}, response_metadata={'prompt_feedback': {'block_reason': 0, 'safety_ratings': []}, 'finish_reason': 'STOP', 'safety_ratings': []}, id='run-4b1a51e3-0fe6-4617-8bb7-0c989849beb1-0', tool_calls=[{'name': 'text2cypher', 'args': {'query': 'Apa isi pasal 28 UU No. 11 tahun 2008?'}, 'id': '047e37dc-75a9-47de-95a9-0568c4fefeed', 'type': 'tool_call'}], usage_metadata={'input_tokens': 55, 'output_tokens': 24, 'total_tokens': 79, 'input_token_details': {'cache_read': 0}}),\n",
       " ToolMessage(content=\"### **Hasil Pembuatan Kode Cypher:**\\n```cypher\\nMATCH (r:Regulation)-[:HAS_ARTICLE]->(a:Article)\\nWHERE r.type = 'UU' AND r.number = 11 AND r.year = 2008 AND a.number = '28'\\nRETURN a.text AS text\\n```\\n\\n### **Hasil Eksekusi Kode Cypher ke Database:**\\nPasal 28 UU No. 11 Tahun 2008 berisi tentang larangan perbuatan sebagai berikut:\\n\\n(1) Setiap Orang dengan sengaja dan tanpa hak menyebarkan berita bohong dan menyesatkan yang mengakibatkan kerugian konsumen dalam Transaksi Elektronik.\\n(2) Setiap Orang dengan sengaja dan tanpa hak menyebarkan informasi yang ditujukan untuk menimbulkan rasa kebencian atau permusuhan individu dan/atau kelompok masyarakat tertentu berdasarkan atas suku, agama, ras, dan antargolongan (SARA).\", name='text2cypher', id='285c0668-927a-4183-899d-3cad40d884fe', tool_call_id='047e37dc-75a9-47de-95a9-0568c4fefeed', artifact={'is_context_fetched': True, 'cypher_gen_usage_metadata': {'input_tokens': 2488, 'output_tokens': 65, 'total_tokens': 2553}, 'qa_usage_metadata': {'input_tokens': 290, 'output_tokens': 103, 'total_tokens': 393}, 'run_time': 2.0279884338378906}),\n",
       " AIMessage(content='Pasal 28 UU No. 11 Tahun 2008 berisi tentang larangan perbuatan sebagai berikut:\\n\\n(1) Setiap Orang dengan sengaja dan tanpa hak menyebarkan berita bohong dan menyesatkan yang mengakibatkan kerugian konsumen dalam Transaksi Elektronik.\\n(2) Setiap Orang dengan sengaja dan tanpa hak menyebarkan informasi yang ditujukan untuk menimbulkan rasa kebencian atau permusuhan individu dan/atau kelompok masyarakat tertentu berdasarkan atas suku, agama, ras, dan antargolongan (SARA).', additional_kwargs={}, response_metadata={'prompt_feedback': {'block_reason': 0, 'safety_ratings': []}, 'finish_reason': 'STOP', 'safety_ratings': []}, id='run-6ed82c99-b132-4bc2-822f-bd3fdaa10577-0', usage_metadata={'input_tokens': 275, 'output_tokens': 102, 'total_tokens': 377, 'input_token_details': {'cache_read': 0}}),\n",
       " HumanMessage(content='Bagaimana dengan isi teks pasal setelah (next) pasal 28 UU No. 11 Tahun 2008?', additional_kwargs={}, response_metadata={}, id='83e1ea27-8ccd-4c44-a242-be61c6a23c27'),\n",
       " AIMessage(content='', additional_kwargs={'function_call': {'name': 'text2cypher', 'arguments': '{\"query\": \"Apa isi pasal setelah pasal 28 UU No. 11 tahun 2008?\"}'}}, response_metadata={'prompt_feedback': {'block_reason': 0, 'safety_ratings': []}, 'finish_reason': 'STOP', 'safety_ratings': []}, id='run-f9d18932-7e63-4132-9912-a2ac7e4acf35-0', tool_calls=[{'name': 'text2cypher', 'args': {'query': 'Apa isi pasal setelah pasal 28 UU No. 11 tahun 2008?'}, 'id': '3da28ade-ede5-4fd3-941c-1bc4af3c6cd1', 'type': 'tool_call'}], usage_metadata={'input_tokens': 403, 'output_tokens': 26, 'total_tokens': 429, 'input_token_details': {'cache_read': 0}}),\n",
       " ToolMessage(content='### **Hasil Pembuatan Kode Cypher:**\\n```cypher\\nMATCH (r:Regulation)-[:HAS_ARTICLE]->(a:Article)\\nWHERE r.type = \\'UU\\' AND r.number = 11 AND r.year = 2008 AND a.number = \\'28\\'\\nMATCH (a)-[:NEXT_ARTICLE]->(next_article)\\nRETURN next_article.text AS text\\n```\\n\\n### **Hasil Eksekusi Kode Cypher ke Database:**\\nPasal setelah Pasal 28 UU No. 11 Tahun 2008 adalah Pasal 29, yang berbunyi:\\n\\n\"Setiap Orang dengan sengaja dan tanpa hak mengirimkan Informasi Elektronik dan/atau Dokumen Elektronik yang berisi ancaman kekerasan atau menakut-nakuti yang ditujukan secara pribadi.\"', name='text2cypher', id='717f9902-4999-47a5-b4ad-06be7339d213', tool_call_id='3da28ade-ede5-4fd3-941c-1bc4af3c6cd1', artifact={'is_context_fetched': True, 'cypher_gen_usage_metadata': {'input_tokens': 2490, 'output_tokens': 82, 'total_tokens': 2572}, 'qa_usage_metadata': {'input_tokens': 248, 'output_tokens': 65, 'total_tokens': 313}, 'run_time': 2.2995479106903076}),\n",
       " AIMessage(content='Pasal setelah Pasal 28 UU No. 11 Tahun 2008 adalah Pasal 29, yang berbunyi:\\n\\n\"Setiap Orang dengan sengaja dan tanpa hak mengirimkan Informasi Elektronik dan/atau Dokumen Elektronik yang berisi ancaman kekerasan atau menakut-nakuti yang ditujukan secara pribadi.\"', additional_kwargs={}, response_metadata={'prompt_feedback': {'block_reason': 0, 'safety_ratings': []}, 'finish_reason': 'STOP', 'safety_ratings': []}, id='run-c552ff2d-b955-4102-a3b4-25b94f63ffe0-0', usage_metadata={'input_tokens': 604, 'output_tokens': 64, 'total_tokens': 668, 'input_token_details': {'cache_read': 0}}),\n",
       " HumanMessage(content='Tadi isi pasal 28 apa? Aku lupa Ngga perlu pakai tool call lagi ya', additional_kwargs={}, response_metadata={}, id='b342f941-7420-4d6a-b0d6-686f9f645375'),\n",
       " AIMessage(content='Pasal 28 UU No. 11 Tahun 2008 berisi tentang larangan perbuatan sebagai berikut:\\n\\n(1) Setiap Orang dengan sengaja dan tanpa hak menyebarkan berita bohong dan menyesatkan yang mengakibatkan kerugian konsumen dalam Transaksi Elektronik.\\n(2) Setiap Orang dengan sengaja dan tanpa hak menyebarkan informasi yang ditujukan untuk menimbulkan rasa kebencian atau permusuhan individu dan/atau kelompok masyarakat tertentu berdasarkan atas suku, agama, ras, dan antargolongan (SARA).', additional_kwargs={}, response_metadata={'prompt_feedback': {'block_reason': 0, 'safety_ratings': []}, 'finish_reason': 'STOP', 'safety_ratings': []}, id='run-34f392ba-cb99-43c1-a441-53a206203edd-0', usage_metadata={'input_tokens': 687, 'output_tokens': 103, 'total_tokens': 790, 'input_token_details': {'cache_read': 0}}),\n",
       " HumanMessage(content='Kalau isi pasal 100 apa ya?', additional_kwargs={}, response_metadata={}, id='a435e1f8-512d-4790-a4c0-849e35ff91de'),\n",
       " AIMessage(content='', additional_kwargs={'function_call': {'name': 'text2cypher', 'arguments': '{\"query\": \"Apa isi pasal 100 UU No. 11 tahun 2008?\"}'}}, response_metadata={'prompt_feedback': {'block_reason': 0, 'safety_ratings': []}, 'finish_reason': 'STOP', 'safety_ratings': []}, id='run-fed0c76c-9253-4334-bfb3-b648aee92546-0', tool_calls=[{'name': 'text2cypher', 'args': {'query': 'Apa isi pasal 100 UU No. 11 tahun 2008?'}, 'id': '5a9b558a-2ac9-4a46-a435-480dda2db6f5', 'type': 'tool_call'}], usage_metadata={'input_tokens': 799, 'output_tokens': 25, 'total_tokens': 824, 'input_token_details': {'cache_read': 0}}),\n",
       " ToolMessage(content=\"### **Hasil Pembuatan Kode Cypher:**\\n```cypher\\nMATCH (r:Regulation)-[:HAS_ARTICLE]->(a:Article)\\nWHERE r.type = 'UU' AND r.number = 11 AND r.year = 2008 AND a.number = '100'\\nRETURN a.text AS text\\n```\\n\\n### **Hasil Eksekusi Kode Cypher ke Database:**\\nTidak dapat menemukan data yang sesuai dengan permintaan query\", name='text2cypher', id='36ddc17d-9263-45df-b25c-6ab056ebf553', tool_call_id='5a9b558a-2ac9-4a46-a435-480dda2db6f5', artifact={'is_context_fetched': False, 'cypher_gen_usage_metadata': {'input_tokens': 2489, 'output_tokens': 66, 'total_tokens': 2555}, 'qa_usage_metadata': {'input_tokens': 0, 'output_tokens': 0, 'total_tokens': 0}, 'run_time': 0.7809514999389648}),\n",
       " AIMessage(content='Maaf, saya tidak dapat menemukan data yang sesuai dengan permintaan query untuk pasal 100 UU No. 11 tahun 2008.', additional_kwargs={}, response_metadata={'prompt_feedback': {'block_reason': 0, 'safety_ratings': []}, 'finish_reason': 'STOP', 'safety_ratings': []}, id='run-dd3458e9-c3f5-4871-a259-28392c5cd18c-0', usage_metadata={'input_tokens': 928, 'output_tokens': 32, 'total_tokens': 960, 'input_token_details': {'cache_read': 0}})]"
      ]
     },
     "execution_count": 11,
     "metadata": {},
     "output_type": "execute_result"
    }
   ],
   "source": [
    "query =\"Kalau isi pasal 100 apa ya?\"\n",
    "result = react_agent.invoke(\n",
    "    {\"messages\": HumanMessage(content=query)},\n",
    "    config=config\n",
    ")\n",
    "\n",
    "result[\"messages\"]"
   ]
  },
  {
   "cell_type": "code",
   "execution_count": 12,
   "metadata": {},
   "outputs": [
    {
     "data": {
      "text/plain": [
       "[HumanMessage(content='Apa isi pasal 28 UU No. 11 tahun 2008? Wajib gunakan tool text2cypher', additional_kwargs={}, response_metadata={}, id='dca0fa9a-adae-4e3f-b7dc-b10d4ad91993'),\n",
       " AIMessage(content='', additional_kwargs={'function_call': {'name': 'text2cypher', 'arguments': '{\"query\": \"Apa isi pasal 28 UU No. 11 tahun 2008?\"}'}}, response_metadata={'prompt_feedback': {'block_reason': 0, 'safety_ratings': []}, 'finish_reason': 'STOP', 'safety_ratings': []}, id='run-4b1a51e3-0fe6-4617-8bb7-0c989849beb1-0', tool_calls=[{'name': 'text2cypher', 'args': {'query': 'Apa isi pasal 28 UU No. 11 tahun 2008?'}, 'id': '047e37dc-75a9-47de-95a9-0568c4fefeed', 'type': 'tool_call'}], usage_metadata={'input_tokens': 55, 'output_tokens': 24, 'total_tokens': 79, 'input_token_details': {'cache_read': 0}}),\n",
       " ToolMessage(content=\"### **Hasil Pembuatan Kode Cypher:**\\n```cypher\\nMATCH (r:Regulation)-[:HAS_ARTICLE]->(a:Article)\\nWHERE r.type = 'UU' AND r.number = 11 AND r.year = 2008 AND a.number = '28'\\nRETURN a.text AS text\\n```\\n\\n### **Hasil Eksekusi Kode Cypher ke Database:**\\nPasal 28 UU No. 11 Tahun 2008 berisi tentang larangan perbuatan sebagai berikut:\\n\\n(1) Setiap Orang dengan sengaja dan tanpa hak menyebarkan berita bohong dan menyesatkan yang mengakibatkan kerugian konsumen dalam Transaksi Elektronik.\\n(2) Setiap Orang dengan sengaja dan tanpa hak menyebarkan informasi yang ditujukan untuk menimbulkan rasa kebencian atau permusuhan individu dan/atau kelompok masyarakat tertentu berdasarkan atas suku, agama, ras, dan antargolongan (SARA).\", name='text2cypher', id='285c0668-927a-4183-899d-3cad40d884fe', tool_call_id='047e37dc-75a9-47de-95a9-0568c4fefeed', artifact={'is_context_fetched': True, 'cypher_gen_usage_metadata': {'input_tokens': 2488, 'output_tokens': 65, 'total_tokens': 2553}, 'qa_usage_metadata': {'input_tokens': 290, 'output_tokens': 103, 'total_tokens': 393}, 'run_time': 2.0279884338378906}),\n",
       " AIMessage(content='Pasal 28 UU No. 11 Tahun 2008 berisi tentang larangan perbuatan sebagai berikut:\\n\\n(1) Setiap Orang dengan sengaja dan tanpa hak menyebarkan berita bohong dan menyesatkan yang mengakibatkan kerugian konsumen dalam Transaksi Elektronik.\\n(2) Setiap Orang dengan sengaja dan tanpa hak menyebarkan informasi yang ditujukan untuk menimbulkan rasa kebencian atau permusuhan individu dan/atau kelompok masyarakat tertentu berdasarkan atas suku, agama, ras, dan antargolongan (SARA).', additional_kwargs={}, response_metadata={'prompt_feedback': {'block_reason': 0, 'safety_ratings': []}, 'finish_reason': 'STOP', 'safety_ratings': []}, id='run-6ed82c99-b132-4bc2-822f-bd3fdaa10577-0', usage_metadata={'input_tokens': 275, 'output_tokens': 102, 'total_tokens': 377, 'input_token_details': {'cache_read': 0}}),\n",
       " HumanMessage(content='Bagaimana dengan isi teks pasal setelah (next) pasal 28 UU No. 11 Tahun 2008?', additional_kwargs={}, response_metadata={}, id='83e1ea27-8ccd-4c44-a242-be61c6a23c27'),\n",
       " AIMessage(content='', additional_kwargs={'function_call': {'name': 'text2cypher', 'arguments': '{\"query\": \"Apa isi pasal setelah pasal 28 UU No. 11 tahun 2008?\"}'}}, response_metadata={'prompt_feedback': {'block_reason': 0, 'safety_ratings': []}, 'finish_reason': 'STOP', 'safety_ratings': []}, id='run-f9d18932-7e63-4132-9912-a2ac7e4acf35-0', tool_calls=[{'name': 'text2cypher', 'args': {'query': 'Apa isi pasal setelah pasal 28 UU No. 11 tahun 2008?'}, 'id': '3da28ade-ede5-4fd3-941c-1bc4af3c6cd1', 'type': 'tool_call'}], usage_metadata={'input_tokens': 403, 'output_tokens': 26, 'total_tokens': 429, 'input_token_details': {'cache_read': 0}}),\n",
       " ToolMessage(content='### **Hasil Pembuatan Kode Cypher:**\\n```cypher\\nMATCH (r:Regulation)-[:HAS_ARTICLE]->(a:Article)\\nWHERE r.type = \\'UU\\' AND r.number = 11 AND r.year = 2008 AND a.number = \\'28\\'\\nMATCH (a)-[:NEXT_ARTICLE]->(next_article)\\nRETURN next_article.text AS text\\n```\\n\\n### **Hasil Eksekusi Kode Cypher ke Database:**\\nPasal setelah Pasal 28 UU No. 11 Tahun 2008 adalah Pasal 29, yang berbunyi:\\n\\n\"Setiap Orang dengan sengaja dan tanpa hak mengirimkan Informasi Elektronik dan/atau Dokumen Elektronik yang berisi ancaman kekerasan atau menakut-nakuti yang ditujukan secara pribadi.\"', name='text2cypher', id='717f9902-4999-47a5-b4ad-06be7339d213', tool_call_id='3da28ade-ede5-4fd3-941c-1bc4af3c6cd1', artifact={'is_context_fetched': True, 'cypher_gen_usage_metadata': {'input_tokens': 2490, 'output_tokens': 82, 'total_tokens': 2572}, 'qa_usage_metadata': {'input_tokens': 248, 'output_tokens': 65, 'total_tokens': 313}, 'run_time': 2.2995479106903076}),\n",
       " AIMessage(content='Pasal setelah Pasal 28 UU No. 11 Tahun 2008 adalah Pasal 29, yang berbunyi:\\n\\n\"Setiap Orang dengan sengaja dan tanpa hak mengirimkan Informasi Elektronik dan/atau Dokumen Elektronik yang berisi ancaman kekerasan atau menakut-nakuti yang ditujukan secara pribadi.\"', additional_kwargs={}, response_metadata={'prompt_feedback': {'block_reason': 0, 'safety_ratings': []}, 'finish_reason': 'STOP', 'safety_ratings': []}, id='run-c552ff2d-b955-4102-a3b4-25b94f63ffe0-0', usage_metadata={'input_tokens': 604, 'output_tokens': 64, 'total_tokens': 668, 'input_token_details': {'cache_read': 0}}),\n",
       " HumanMessage(content='Tadi isi pasal 28 apa? Aku lupa Ngga perlu pakai tool call lagi ya', additional_kwargs={}, response_metadata={}, id='b342f941-7420-4d6a-b0d6-686f9f645375'),\n",
       " AIMessage(content='Pasal 28 UU No. 11 Tahun 2008 berisi tentang larangan perbuatan sebagai berikut:\\n\\n(1) Setiap Orang dengan sengaja dan tanpa hak menyebarkan berita bohong dan menyesatkan yang mengakibatkan kerugian konsumen dalam Transaksi Elektronik.\\n(2) Setiap Orang dengan sengaja dan tanpa hak menyebarkan informasi yang ditujukan untuk menimbulkan rasa kebencian atau permusuhan individu dan/atau kelompok masyarakat tertentu berdasarkan atas suku, agama, ras, dan antargolongan (SARA).', additional_kwargs={}, response_metadata={'prompt_feedback': {'block_reason': 0, 'safety_ratings': []}, 'finish_reason': 'STOP', 'safety_ratings': []}, id='run-34f392ba-cb99-43c1-a441-53a206203edd-0', usage_metadata={'input_tokens': 687, 'output_tokens': 103, 'total_tokens': 790, 'input_token_details': {'cache_read': 0}}),\n",
       " HumanMessage(content='Kalau isi pasal 100 apa ya?', additional_kwargs={}, response_metadata={}, id='a435e1f8-512d-4790-a4c0-849e35ff91de'),\n",
       " AIMessage(content='', additional_kwargs={'function_call': {'name': 'text2cypher', 'arguments': '{\"query\": \"Apa isi pasal 100 UU No. 11 tahun 2008?\"}'}}, response_metadata={'prompt_feedback': {'block_reason': 0, 'safety_ratings': []}, 'finish_reason': 'STOP', 'safety_ratings': []}, id='run-fed0c76c-9253-4334-bfb3-b648aee92546-0', tool_calls=[{'name': 'text2cypher', 'args': {'query': 'Apa isi pasal 100 UU No. 11 tahun 2008?'}, 'id': '5a9b558a-2ac9-4a46-a435-480dda2db6f5', 'type': 'tool_call'}], usage_metadata={'input_tokens': 799, 'output_tokens': 25, 'total_tokens': 824, 'input_token_details': {'cache_read': 0}}),\n",
       " ToolMessage(content=\"### **Hasil Pembuatan Kode Cypher:**\\n```cypher\\nMATCH (r:Regulation)-[:HAS_ARTICLE]->(a:Article)\\nWHERE r.type = 'UU' AND r.number = 11 AND r.year = 2008 AND a.number = '100'\\nRETURN a.text AS text\\n```\\n\\n### **Hasil Eksekusi Kode Cypher ke Database:**\\nTidak dapat menemukan data yang sesuai dengan permintaan query\", name='text2cypher', id='36ddc17d-9263-45df-b25c-6ab056ebf553', tool_call_id='5a9b558a-2ac9-4a46-a435-480dda2db6f5', artifact={'is_context_fetched': False, 'cypher_gen_usage_metadata': {'input_tokens': 2489, 'output_tokens': 66, 'total_tokens': 2555}, 'qa_usage_metadata': {'input_tokens': 0, 'output_tokens': 0, 'total_tokens': 0}, 'run_time': 0.7809514999389648}),\n",
       " AIMessage(content='Maaf, saya tidak dapat menemukan data yang sesuai dengan permintaan query untuk pasal 100 UU No. 11 tahun 2008.', additional_kwargs={}, response_metadata={'prompt_feedback': {'block_reason': 0, 'safety_ratings': []}, 'finish_reason': 'STOP', 'safety_ratings': []}, id='run-dd3458e9-c3f5-4871-a259-28392c5cd18c-0', usage_metadata={'input_tokens': 928, 'output_tokens': 32, 'total_tokens': 960, 'input_token_details': {'cache_read': 0}}),\n",
       " HumanMessage(content='Memangnya berapa total jumlah pasal di dalam UU no 11 tahun 2008?', additional_kwargs={}, response_metadata={}, id='7f7ae85c-d09f-4151-a574-0ad8244605ed'),\n",
       " AIMessage(content='', additional_kwargs={'function_call': {'name': 'text2cypher', 'arguments': '{\"query\": \"Berapa total jumlah pasal di dalam UU no 11 tahun 2008?\"}'}}, response_metadata={'prompt_feedback': {'block_reason': 0, 'safety_ratings': []}, 'finish_reason': 'STOP', 'safety_ratings': []}, id='run-49c74346-12aa-40ac-a9c3-c734048bb77c-0', tool_calls=[{'name': 'text2cypher', 'args': {'query': 'Berapa total jumlah pasal di dalam UU no 11 tahun 2008?'}, 'id': '33834de5-c1a9-44ee-8026-ec901e21ecd5', 'type': 'tool_call'}], usage_metadata={'input_tokens': 980, 'output_tokens': 24, 'total_tokens': 1004, 'input_token_details': {'cache_read': 0}}),\n",
       " ToolMessage(content=\"### **Hasil Pembuatan Kode Cypher:**\\n```cypher\\nMATCH (r:Regulation)-[:HAS_ARTICLE]->(a:Article)\\nWHERE r.type = 'UU' AND r.number = 11 AND r.year = 2008\\nRETURN count(a) AS total_pasal\\n```\\n\\n### **Hasil Eksekusi Kode Cypher ke Database:**\\nUU No. 11 Tahun 2008 memiliki total 54 pasal.\", name='text2cypher', id='ba085c8f-69a5-4018-8739-588ec6d4ce23', tool_call_id='33834de5-c1a9-44ee-8026-ec901e21ecd5', artifact={'is_context_fetched': True, 'cypher_gen_usage_metadata': {'input_tokens': 2488, 'output_tokens': 60, 'total_tokens': 2548}, 'qa_usage_metadata': {'input_tokens': 178, 'output_tokens': 20, 'total_tokens': 198}, 'run_time': 1.4635090827941895}),\n",
       " AIMessage(content='UU No. 11 Tahun 2008 memiliki total 54 pasal.', additional_kwargs={}, response_metadata={'prompt_feedback': {'block_reason': 0, 'safety_ratings': []}, 'finish_reason': 'STOP', 'safety_ratings': []}, id='run-ab3664a9-e34c-4f94-ad6c-32efe09e5d59-0', usage_metadata={'input_tokens': 1112, 'output_tokens': 20, 'total_tokens': 1132, 'input_token_details': {'cache_read': 0}})]"
      ]
     },
     "execution_count": 12,
     "metadata": {},
     "output_type": "execute_result"
    }
   ],
   "source": [
    "query =\"Memangnya berapa total jumlah pasal di dalam UU no 11 tahun 2008?\"\n",
    "result = react_agent.invoke(\n",
    "    {\"messages\": HumanMessage(content=query)},\n",
    "    config=config\n",
    ")\n",
    "\n",
    "result[\"messages\"]\n"
   ]
  },
  {
   "cell_type": "code",
   "execution_count": 13,
   "metadata": {},
   "outputs": [
    {
     "data": {
      "text/plain": [
       "[HumanMessage(content='Apa isi pasal 28 UU No. 11 tahun 2008? Wajib gunakan tool text2cypher', additional_kwargs={}, response_metadata={}, id='dca0fa9a-adae-4e3f-b7dc-b10d4ad91993'),\n",
       " AIMessage(content='', additional_kwargs={'function_call': {'name': 'text2cypher', 'arguments': '{\"query\": \"Apa isi pasal 28 UU No. 11 tahun 2008?\"}'}}, response_metadata={'prompt_feedback': {'block_reason': 0, 'safety_ratings': []}, 'finish_reason': 'STOP', 'safety_ratings': []}, id='run-4b1a51e3-0fe6-4617-8bb7-0c989849beb1-0', tool_calls=[{'name': 'text2cypher', 'args': {'query': 'Apa isi pasal 28 UU No. 11 tahun 2008?'}, 'id': '047e37dc-75a9-47de-95a9-0568c4fefeed', 'type': 'tool_call'}], usage_metadata={'input_tokens': 55, 'output_tokens': 24, 'total_tokens': 79, 'input_token_details': {'cache_read': 0}}),\n",
       " ToolMessage(content=\"### **Hasil Pembuatan Kode Cypher:**\\n```cypher\\nMATCH (r:Regulation)-[:HAS_ARTICLE]->(a:Article)\\nWHERE r.type = 'UU' AND r.number = 11 AND r.year = 2008 AND a.number = '28'\\nRETURN a.text AS text\\n```\\n\\n### **Hasil Eksekusi Kode Cypher ke Database:**\\nPasal 28 UU No. 11 Tahun 2008 berisi tentang larangan perbuatan sebagai berikut:\\n\\n(1) Setiap Orang dengan sengaja dan tanpa hak menyebarkan berita bohong dan menyesatkan yang mengakibatkan kerugian konsumen dalam Transaksi Elektronik.\\n(2) Setiap Orang dengan sengaja dan tanpa hak menyebarkan informasi yang ditujukan untuk menimbulkan rasa kebencian atau permusuhan individu dan/atau kelompok masyarakat tertentu berdasarkan atas suku, agama, ras, dan antargolongan (SARA).\", name='text2cypher', id='285c0668-927a-4183-899d-3cad40d884fe', tool_call_id='047e37dc-75a9-47de-95a9-0568c4fefeed', artifact={'is_context_fetched': True, 'cypher_gen_usage_metadata': {'input_tokens': 2488, 'output_tokens': 65, 'total_tokens': 2553}, 'qa_usage_metadata': {'input_tokens': 290, 'output_tokens': 103, 'total_tokens': 393}, 'run_time': 2.0279884338378906}),\n",
       " AIMessage(content='Pasal 28 UU No. 11 Tahun 2008 berisi tentang larangan perbuatan sebagai berikut:\\n\\n(1) Setiap Orang dengan sengaja dan tanpa hak menyebarkan berita bohong dan menyesatkan yang mengakibatkan kerugian konsumen dalam Transaksi Elektronik.\\n(2) Setiap Orang dengan sengaja dan tanpa hak menyebarkan informasi yang ditujukan untuk menimbulkan rasa kebencian atau permusuhan individu dan/atau kelompok masyarakat tertentu berdasarkan atas suku, agama, ras, dan antargolongan (SARA).', additional_kwargs={}, response_metadata={'prompt_feedback': {'block_reason': 0, 'safety_ratings': []}, 'finish_reason': 'STOP', 'safety_ratings': []}, id='run-6ed82c99-b132-4bc2-822f-bd3fdaa10577-0', usage_metadata={'input_tokens': 275, 'output_tokens': 102, 'total_tokens': 377, 'input_token_details': {'cache_read': 0}}),\n",
       " HumanMessage(content='Bagaimana dengan isi teks pasal setelah (next) pasal 28 UU No. 11 Tahun 2008?', additional_kwargs={}, response_metadata={}, id='83e1ea27-8ccd-4c44-a242-be61c6a23c27'),\n",
       " AIMessage(content='', additional_kwargs={'function_call': {'name': 'text2cypher', 'arguments': '{\"query\": \"Apa isi pasal setelah pasal 28 UU No. 11 tahun 2008?\"}'}}, response_metadata={'prompt_feedback': {'block_reason': 0, 'safety_ratings': []}, 'finish_reason': 'STOP', 'safety_ratings': []}, id='run-f9d18932-7e63-4132-9912-a2ac7e4acf35-0', tool_calls=[{'name': 'text2cypher', 'args': {'query': 'Apa isi pasal setelah pasal 28 UU No. 11 tahun 2008?'}, 'id': '3da28ade-ede5-4fd3-941c-1bc4af3c6cd1', 'type': 'tool_call'}], usage_metadata={'input_tokens': 403, 'output_tokens': 26, 'total_tokens': 429, 'input_token_details': {'cache_read': 0}}),\n",
       " ToolMessage(content='### **Hasil Pembuatan Kode Cypher:**\\n```cypher\\nMATCH (r:Regulation)-[:HAS_ARTICLE]->(a:Article)\\nWHERE r.type = \\'UU\\' AND r.number = 11 AND r.year = 2008 AND a.number = \\'28\\'\\nMATCH (a)-[:NEXT_ARTICLE]->(next_article)\\nRETURN next_article.text AS text\\n```\\n\\n### **Hasil Eksekusi Kode Cypher ke Database:**\\nPasal setelah Pasal 28 UU No. 11 Tahun 2008 adalah Pasal 29, yang berbunyi:\\n\\n\"Setiap Orang dengan sengaja dan tanpa hak mengirimkan Informasi Elektronik dan/atau Dokumen Elektronik yang berisi ancaman kekerasan atau menakut-nakuti yang ditujukan secara pribadi.\"', name='text2cypher', id='717f9902-4999-47a5-b4ad-06be7339d213', tool_call_id='3da28ade-ede5-4fd3-941c-1bc4af3c6cd1', artifact={'is_context_fetched': True, 'cypher_gen_usage_metadata': {'input_tokens': 2490, 'output_tokens': 82, 'total_tokens': 2572}, 'qa_usage_metadata': {'input_tokens': 248, 'output_tokens': 65, 'total_tokens': 313}, 'run_time': 2.2995479106903076}),\n",
       " AIMessage(content='Pasal setelah Pasal 28 UU No. 11 Tahun 2008 adalah Pasal 29, yang berbunyi:\\n\\n\"Setiap Orang dengan sengaja dan tanpa hak mengirimkan Informasi Elektronik dan/atau Dokumen Elektronik yang berisi ancaman kekerasan atau menakut-nakuti yang ditujukan secara pribadi.\"', additional_kwargs={}, response_metadata={'prompt_feedback': {'block_reason': 0, 'safety_ratings': []}, 'finish_reason': 'STOP', 'safety_ratings': []}, id='run-c552ff2d-b955-4102-a3b4-25b94f63ffe0-0', usage_metadata={'input_tokens': 604, 'output_tokens': 64, 'total_tokens': 668, 'input_token_details': {'cache_read': 0}}),\n",
       " HumanMessage(content='Tadi isi pasal 28 apa? Aku lupa Ngga perlu pakai tool call lagi ya', additional_kwargs={}, response_metadata={}, id='b342f941-7420-4d6a-b0d6-686f9f645375'),\n",
       " AIMessage(content='Pasal 28 UU No. 11 Tahun 2008 berisi tentang larangan perbuatan sebagai berikut:\\n\\n(1) Setiap Orang dengan sengaja dan tanpa hak menyebarkan berita bohong dan menyesatkan yang mengakibatkan kerugian konsumen dalam Transaksi Elektronik.\\n(2) Setiap Orang dengan sengaja dan tanpa hak menyebarkan informasi yang ditujukan untuk menimbulkan rasa kebencian atau permusuhan individu dan/atau kelompok masyarakat tertentu berdasarkan atas suku, agama, ras, dan antargolongan (SARA).', additional_kwargs={}, response_metadata={'prompt_feedback': {'block_reason': 0, 'safety_ratings': []}, 'finish_reason': 'STOP', 'safety_ratings': []}, id='run-34f392ba-cb99-43c1-a441-53a206203edd-0', usage_metadata={'input_tokens': 687, 'output_tokens': 103, 'total_tokens': 790, 'input_token_details': {'cache_read': 0}}),\n",
       " HumanMessage(content='Kalau isi pasal 100 apa ya?', additional_kwargs={}, response_metadata={}, id='a435e1f8-512d-4790-a4c0-849e35ff91de'),\n",
       " AIMessage(content='', additional_kwargs={'function_call': {'name': 'text2cypher', 'arguments': '{\"query\": \"Apa isi pasal 100 UU No. 11 tahun 2008?\"}'}}, response_metadata={'prompt_feedback': {'block_reason': 0, 'safety_ratings': []}, 'finish_reason': 'STOP', 'safety_ratings': []}, id='run-fed0c76c-9253-4334-bfb3-b648aee92546-0', tool_calls=[{'name': 'text2cypher', 'args': {'query': 'Apa isi pasal 100 UU No. 11 tahun 2008?'}, 'id': '5a9b558a-2ac9-4a46-a435-480dda2db6f5', 'type': 'tool_call'}], usage_metadata={'input_tokens': 799, 'output_tokens': 25, 'total_tokens': 824, 'input_token_details': {'cache_read': 0}}),\n",
       " ToolMessage(content=\"### **Hasil Pembuatan Kode Cypher:**\\n```cypher\\nMATCH (r:Regulation)-[:HAS_ARTICLE]->(a:Article)\\nWHERE r.type = 'UU' AND r.number = 11 AND r.year = 2008 AND a.number = '100'\\nRETURN a.text AS text\\n```\\n\\n### **Hasil Eksekusi Kode Cypher ke Database:**\\nTidak dapat menemukan data yang sesuai dengan permintaan query\", name='text2cypher', id='36ddc17d-9263-45df-b25c-6ab056ebf553', tool_call_id='5a9b558a-2ac9-4a46-a435-480dda2db6f5', artifact={'is_context_fetched': False, 'cypher_gen_usage_metadata': {'input_tokens': 2489, 'output_tokens': 66, 'total_tokens': 2555}, 'qa_usage_metadata': {'input_tokens': 0, 'output_tokens': 0, 'total_tokens': 0}, 'run_time': 0.7809514999389648}),\n",
       " AIMessage(content='Maaf, saya tidak dapat menemukan data yang sesuai dengan permintaan query untuk pasal 100 UU No. 11 tahun 2008.', additional_kwargs={}, response_metadata={'prompt_feedback': {'block_reason': 0, 'safety_ratings': []}, 'finish_reason': 'STOP', 'safety_ratings': []}, id='run-dd3458e9-c3f5-4871-a259-28392c5cd18c-0', usage_metadata={'input_tokens': 928, 'output_tokens': 32, 'total_tokens': 960, 'input_token_details': {'cache_read': 0}}),\n",
       " HumanMessage(content='Memangnya berapa total jumlah pasal di dalam UU no 11 tahun 2008?', additional_kwargs={}, response_metadata={}, id='7f7ae85c-d09f-4151-a574-0ad8244605ed'),\n",
       " AIMessage(content='', additional_kwargs={'function_call': {'name': 'text2cypher', 'arguments': '{\"query\": \"Berapa total jumlah pasal di dalam UU no 11 tahun 2008?\"}'}}, response_metadata={'prompt_feedback': {'block_reason': 0, 'safety_ratings': []}, 'finish_reason': 'STOP', 'safety_ratings': []}, id='run-49c74346-12aa-40ac-a9c3-c734048bb77c-0', tool_calls=[{'name': 'text2cypher', 'args': {'query': 'Berapa total jumlah pasal di dalam UU no 11 tahun 2008?'}, 'id': '33834de5-c1a9-44ee-8026-ec901e21ecd5', 'type': 'tool_call'}], usage_metadata={'input_tokens': 980, 'output_tokens': 24, 'total_tokens': 1004, 'input_token_details': {'cache_read': 0}}),\n",
       " ToolMessage(content=\"### **Hasil Pembuatan Kode Cypher:**\\n```cypher\\nMATCH (r:Regulation)-[:HAS_ARTICLE]->(a:Article)\\nWHERE r.type = 'UU' AND r.number = 11 AND r.year = 2008\\nRETURN count(a) AS total_pasal\\n```\\n\\n### **Hasil Eksekusi Kode Cypher ke Database:**\\nUU No. 11 Tahun 2008 memiliki total 54 pasal.\", name='text2cypher', id='ba085c8f-69a5-4018-8739-588ec6d4ce23', tool_call_id='33834de5-c1a9-44ee-8026-ec901e21ecd5', artifact={'is_context_fetched': True, 'cypher_gen_usage_metadata': {'input_tokens': 2488, 'output_tokens': 60, 'total_tokens': 2548}, 'qa_usage_metadata': {'input_tokens': 178, 'output_tokens': 20, 'total_tokens': 198}, 'run_time': 1.4635090827941895}),\n",
       " AIMessage(content='UU No. 11 Tahun 2008 memiliki total 54 pasal.', additional_kwargs={}, response_metadata={'prompt_feedback': {'block_reason': 0, 'safety_ratings': []}, 'finish_reason': 'STOP', 'safety_ratings': []}, id='run-ab3664a9-e34c-4f94-ad6c-32efe09e5d59-0', usage_metadata={'input_tokens': 1112, 'output_tokens': 20, 'total_tokens': 1132, 'input_token_details': {'cache_read': 0}}),\n",
       " HumanMessage(content='Ohh begitu, memangnya kenapa ikan berenang di air?', additional_kwargs={}, response_metadata={}, id='7cd1809e-4c2b-4d87-afdb-ab00cc0346c6'),\n",
       " AIMessage(content='Pertanyaan itu di luar konteks Undang-Undang No. 11 Tahun 2008 dan kemampuan saya untuk menjawab pertanyaan di luar konteks tersebut.', additional_kwargs={}, response_metadata={'prompt_feedback': {'block_reason': 0, 'safety_ratings': []}, 'finish_reason': 'STOP', 'safety_ratings': []}, id='run-25f0a469-8930-4fe7-9146-073091097fef-0', usage_metadata={'input_tokens': 1143, 'output_tokens': 34, 'total_tokens': 1177, 'input_token_details': {'cache_read': 0}})]"
      ]
     },
     "execution_count": 13,
     "metadata": {},
     "output_type": "execute_result"
    }
   ],
   "source": [
    "query = \"Ohh begitu, memangnya kenapa ikan berenang di air?\"\n",
    "result = react_agent.invoke(\n",
    "    {\"messages\": HumanMessage(content=query)},\n",
    "    config=config\n",
    ")\n",
    "\n",
    "result[\"messages\"]"
   ]
  },
  {
   "cell_type": "code",
   "execution_count": 14,
   "metadata": {},
   "outputs": [
    {
     "name": "stdout",
     "output_type": "stream",
     "text": [
      "{'additional_kwargs': {},\n",
      " 'content': 'Pasal 28 UU No. 11 Tahun 2008 berisi tentang larangan perbuatan '\n",
      "            'sebagai berikut:\\n'\n",
      "            '\\n'\n",
      "            '(1) Setiap Orang dengan sengaja dan tanpa hak menyebarkan berita '\n",
      "            'bohong dan menyesatkan yang mengakibatkan kerugian konsumen dalam '\n",
      "            'Transaksi Elektronik.\\n'\n",
      "            '(2) Setiap Orang dengan sengaja dan tanpa hak menyebarkan '\n",
      "            'informasi yang ditujukan untuk menimbulkan rasa kebencian atau '\n",
      "            'permusuhan individu dan/atau kelompok masyarakat tertentu '\n",
      "            'berdasarkan atas suku, agama, ras, dan antargolongan (SARA).',\n",
      " 'example': False,\n",
      " 'id': 'run-6ed82c99-b132-4bc2-822f-bd3fdaa10577-0',\n",
      " 'invalid_tool_calls': [],\n",
      " 'name': None,\n",
      " 'response_metadata': {'finish_reason': 'STOP',\n",
      "                       'prompt_feedback': {'block_reason': 0,\n",
      "                                           'safety_ratings': []},\n",
      "                       'safety_ratings': []},\n",
      " 'tool_calls': [],\n",
      " 'type': 'ai',\n",
      " 'usage_metadata': {'input_token_details': {'cache_read': 0},\n",
      "                    'input_tokens': 275,\n",
      "                    'output_tokens': 102,\n",
      "                    'total_tokens': 377}}\n"
     ]
    }
   ],
   "source": [
    "pprint(result[\"messages\"][3].model_dump())"
   ]
  },
  {
   "cell_type": "code",
   "execution_count": 15,
   "metadata": {},
   "outputs": [
    {
     "name": "stdout",
     "output_type": "stream",
     "text": [
      "{'query': 'Apa isi pasal 28 UU No. 11 tahun 2008? Wajib gunakan tool '\n",
      "          'text2cypher',\n",
      " 'type': 'tool_call',\n",
      " 'usage': {'input_token_details': {'cache_read': 0},\n",
      "           'input_tokens': 55,\n",
      "           'output_tokens': 24,\n",
      "           'total_tokens': 79}}\n",
      "\n",
      "{'query': 'Apa isi pasal 28 UU No. 11 tahun 2008? Wajib gunakan tool '\n",
      "          'text2cypher',\n",
      " 'response': 'Pasal 28 UU No. 11 Tahun 2008 berisi tentang larangan perbuatan '\n",
      "             'sebagai berikut:\\n'\n",
      "             '\\n'\n",
      "             '(1) Setiap Orang dengan sengaja dan tanpa hak menyebarkan berita '\n",
      "             'bohong dan menyesatkan yang mengakibatkan kerugian konsumen '\n",
      "             'dalam Transaksi Elektronik.\\n'\n",
      "             '(2) Setiap Orang dengan sengaja dan tanpa hak menyebarkan '\n",
      "             'informasi yang ditujukan untuk menimbulkan rasa kebencian atau '\n",
      "             'permusuhan individu dan/atau kelompok masyarakat tertentu '\n",
      "             'berdasarkan atas suku, agama, ras, dan antargolongan (SARA).',\n",
      " 'type': 'model_response',\n",
      " 'usage': {'input_token_details': {'cache_read': 0},\n",
      "           'input_tokens': 275,\n",
      "           'output_tokens': 102,\n",
      "           'total_tokens': 377}}\n",
      "\n",
      "{'query': 'Bagaimana dengan isi teks pasal setelah (next) pasal 28 UU No. 11 '\n",
      "          'Tahun 2008?',\n",
      " 'type': 'tool_call',\n",
      " 'usage': {'input_token_details': {'cache_read': 0},\n",
      "           'input_tokens': 403,\n",
      "           'output_tokens': 26,\n",
      "           'total_tokens': 429}}\n",
      "\n",
      "{'query': 'Bagaimana dengan isi teks pasal setelah (next) pasal 28 UU No. 11 '\n",
      "          'Tahun 2008?',\n",
      " 'response': 'Pasal setelah Pasal 28 UU No. 11 Tahun 2008 adalah Pasal 29, '\n",
      "             'yang berbunyi:\\n'\n",
      "             '\\n'\n",
      "             '\"Setiap Orang dengan sengaja dan tanpa hak mengirimkan Informasi '\n",
      "             'Elektronik dan/atau Dokumen Elektronik yang berisi ancaman '\n",
      "             'kekerasan atau menakut-nakuti yang ditujukan secara pribadi.\"',\n",
      " 'type': 'model_response',\n",
      " 'usage': {'input_token_details': {'cache_read': 0},\n",
      "           'input_tokens': 604,\n",
      "           'output_tokens': 64,\n",
      "           'total_tokens': 668}}\n",
      "\n",
      "{'query': 'Tadi isi pasal 28 apa? Aku lupa Ngga perlu pakai tool call lagi ya',\n",
      " 'response': 'Pasal 28 UU No. 11 Tahun 2008 berisi tentang larangan perbuatan '\n",
      "             'sebagai berikut:\\n'\n",
      "             '\\n'\n",
      "             '(1) Setiap Orang dengan sengaja dan tanpa hak menyebarkan berita '\n",
      "             'bohong dan menyesatkan yang mengakibatkan kerugian konsumen '\n",
      "             'dalam Transaksi Elektronik.\\n'\n",
      "             '(2) Setiap Orang dengan sengaja dan tanpa hak menyebarkan '\n",
      "             'informasi yang ditujukan untuk menimbulkan rasa kebencian atau '\n",
      "             'permusuhan individu dan/atau kelompok masyarakat tertentu '\n",
      "             'berdasarkan atas suku, agama, ras, dan antargolongan (SARA).',\n",
      " 'type': 'model_response',\n",
      " 'usage': {'input_token_details': {'cache_read': 0},\n",
      "           'input_tokens': 687,\n",
      "           'output_tokens': 103,\n",
      "           'total_tokens': 790}}\n",
      "\n",
      "{'query': 'Kalau isi pasal 100 apa ya?',\n",
      " 'type': 'tool_call',\n",
      " 'usage': {'input_token_details': {'cache_read': 0},\n",
      "           'input_tokens': 799,\n",
      "           'output_tokens': 25,\n",
      "           'total_tokens': 824}}\n",
      "\n",
      "{'query': 'Kalau isi pasal 100 apa ya?',\n",
      " 'response': 'Maaf, saya tidak dapat menemukan data yang sesuai dengan '\n",
      "             'permintaan query untuk pasal 100 UU No. 11 tahun 2008.',\n",
      " 'type': 'model_response',\n",
      " 'usage': {'input_token_details': {'cache_read': 0},\n",
      "           'input_tokens': 928,\n",
      "           'output_tokens': 32,\n",
      "           'total_tokens': 960}}\n",
      "\n",
      "{'query': 'Memangnya berapa total jumlah pasal di dalam UU no 11 tahun 2008?',\n",
      " 'type': 'tool_call',\n",
      " 'usage': {'input_token_details': {'cache_read': 0},\n",
      "           'input_tokens': 980,\n",
      "           'output_tokens': 24,\n",
      "           'total_tokens': 1004}}\n",
      "\n",
      "{'query': 'Memangnya berapa total jumlah pasal di dalam UU no 11 tahun 2008?',\n",
      " 'response': 'UU No. 11 Tahun 2008 memiliki total 54 pasal.',\n",
      " 'type': 'model_response',\n",
      " 'usage': {'input_token_details': {'cache_read': 0},\n",
      "           'input_tokens': 1112,\n",
      "           'output_tokens': 20,\n",
      "           'total_tokens': 1132}}\n",
      "\n",
      "{'query': 'Ohh begitu, memangnya kenapa ikan berenang di air?',\n",
      " 'response': 'Pertanyaan itu di luar konteks Undang-Undang No. 11 Tahun 2008 '\n",
      "             'dan kemampuan saya untuk menjawab pertanyaan di luar konteks '\n",
      "             'tersebut.',\n",
      " 'type': 'model_response',\n",
      " 'usage': {'input_token_details': {'cache_read': 0},\n",
      "           'input_tokens': 1143,\n",
      "           'output_tokens': 34,\n",
      "           'total_tokens': 1177}}\n",
      "\n"
     ]
    }
   ],
   "source": [
    "from langchain_core.messages import AIMessage\n",
    "\n",
    "ai_results = []\n",
    "\n",
    "for message in result[\"messages\"]:\n",
    "    if isinstance(message, HumanMessage):\n",
    "        query = message.content\n",
    "    if isinstance(message, AIMessage):\n",
    "        # ai_results.append(message)\n",
    "        if message.tool_calls:\n",
    "            ai_results.append({\n",
    "                \"type\": \"tool_call\",\n",
    "                \"query\": query,\n",
    "                \"usage\": message.usage_metadata\n",
    "            })\n",
    "        else:\n",
    "            ai_results.append({\n",
    "                \"type\": \"model_response\",\n",
    "                \"query\": query,\n",
    "                \"response\": message.content,\n",
    "                \"usage\": message.usage_metadata\n",
    "            })\n",
    "                \n",
    "\n",
    "for ai_result in ai_results:\n",
    "    pprint(ai_result)\n",
    "    print()"
   ]
  },
  {
   "cell_type": "code",
   "execution_count": 16,
   "metadata": {},
   "outputs": [
    {
     "data": {
      "text/plain": [
       "{'is_context_fetched': True,\n",
       " 'cypher_gen_usage_metadata': {'input_tokens': 2488,\n",
       "  'output_tokens': 65,\n",
       "  'total_tokens': 2553},\n",
       " 'qa_usage_metadata': {'input_tokens': 290,\n",
       "  'output_tokens': 103,\n",
       "  'total_tokens': 393},\n",
       " 'run_time': 2.0279884338378906}"
      ]
     },
     "execution_count": 16,
     "metadata": {},
     "output_type": "execute_result"
    }
   ],
   "source": [
    "result['messages'][2].model_dump()['artifact']"
   ]
  },
  {
   "cell_type": "code",
   "execution_count": 17,
   "metadata": {},
   "outputs": [
    {
     "name": "stdout",
     "output_type": "stream",
     "text": [
      "{'query': 'Apa isi pasal 28 UU No. 11 tahun 2008? Wajib gunakan tool '\n",
      "          'text2cypher',\n",
      " 'type': 'text2cypher',\n",
      " 'usage': {'cypher_gen_usage_metadata': {'input_tokens': 2488,\n",
      "                                         'output_tokens': 65,\n",
      "                                         'total_tokens': 2553},\n",
      "           'is_context_fetched': True,\n",
      "           'qa_usage_metadata': {'input_tokens': 290,\n",
      "                                 'output_tokens': 103,\n",
      "                                 'total_tokens': 393},\n",
      "           'run_time': 2.0279884338378906}}\n",
      "\n",
      "{'query': 'Bagaimana dengan isi teks pasal setelah (next) pasal 28 UU No. 11 '\n",
      "          'Tahun 2008?',\n",
      " 'type': 'text2cypher',\n",
      " 'usage': {'cypher_gen_usage_metadata': {'input_tokens': 2490,\n",
      "                                         'output_tokens': 82,\n",
      "                                         'total_tokens': 2572},\n",
      "           'is_context_fetched': True,\n",
      "           'qa_usage_metadata': {'input_tokens': 248,\n",
      "                                 'output_tokens': 65,\n",
      "                                 'total_tokens': 313},\n",
      "           'run_time': 2.2995479106903076}}\n",
      "\n",
      "{'query': 'Kalau isi pasal 100 apa ya?',\n",
      " 'type': 'text2cypher',\n",
      " 'usage': {'cypher_gen_usage_metadata': {'input_tokens': 2489,\n",
      "                                         'output_tokens': 66,\n",
      "                                         'total_tokens': 2555},\n",
      "           'is_context_fetched': False,\n",
      "           'qa_usage_metadata': {'input_tokens': 0,\n",
      "                                 'output_tokens': 0,\n",
      "                                 'total_tokens': 0},\n",
      "           'run_time': 0.7809514999389648}}\n",
      "\n",
      "{'query': 'Memangnya berapa total jumlah pasal di dalam UU no 11 tahun 2008?',\n",
      " 'type': 'text2cypher',\n",
      " 'usage': {'cypher_gen_usage_metadata': {'input_tokens': 2488,\n",
      "                                         'output_tokens': 60,\n",
      "                                         'total_tokens': 2548},\n",
      "           'is_context_fetched': True,\n",
      "           'qa_usage_metadata': {'input_tokens': 178,\n",
      "                                 'output_tokens': 20,\n",
      "                                 'total_tokens': 198},\n",
      "           'run_time': 1.4635090827941895}}\n",
      "\n"
     ]
    }
   ],
   "source": [
    "from langchain_core.messages import AIMessage\n",
    "from langchain_core.messages import ToolMessage\n",
    "\n",
    "tool_results = []\n",
    "\n",
    "for message in result[\"messages\"]:\n",
    "    if isinstance(message, HumanMessage):\n",
    "        query = message.content\n",
    "    if isinstance(message, ToolMessage):\n",
    "        tool_results.append({\n",
    "            \"type\": \"text2cypher\",\n",
    "            \"query\": query,\n",
    "            \"usage\": message.artifact\n",
    "        })\n",
    "                \n",
    "\n",
    "for tool_result in tool_results:\n",
    "    pprint(tool_result)\n",
    "    print()"
   ]
  }
 ],
 "metadata": {
  "kernelspec": {
   "display_name": ".venv",
   "language": "python",
   "name": "python3"
  },
  "language_info": {
   "codemirror_mode": {
    "name": "ipython",
    "version": 3
   },
   "file_extension": ".py",
   "mimetype": "text/x-python",
   "name": "python",
   "nbconvert_exporter": "python",
   "pygments_lexer": "ipython3",
   "version": "3.11.4"
  }
 },
 "nbformat": 4,
 "nbformat_minor": 2
}
