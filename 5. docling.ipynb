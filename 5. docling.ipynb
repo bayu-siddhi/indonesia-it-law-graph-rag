{
 "cells": [
  {
   "cell_type": "code",
   "execution_count": null,
   "metadata": {},
   "outputs": [],
   "source": [
    "import time\n",
    "import logging\n",
    "from pathlib import Path\n",
    "from typing import Iterable\n",
    "\n",
    "from docling.document_converter import PdfFormatOption\n",
    "from docling.document_converter import DocumentConverter\n",
    "\n",
    "from docling.datamodel.settings import settings\n",
    "from docling.datamodel.base_models import InputFormat\n",
    "from docling.datamodel.document import ConversionResult\n",
    "from docling.datamodel.base_models import ConversionStatus\n",
    "from docling.datamodel.pipeline_options import PdfPipelineOptions"
   ]
  },
  {
   "cell_type": "code",
   "execution_count": null,
   "metadata": {},
   "outputs": [],
   "source": [
    "_log = logging.getLogger(__name__)"
   ]
  },
  {
   "cell_type": "code",
   "execution_count": null,
   "metadata": {},
   "outputs": [],
   "source": [
    "def export_documents(conv_results: Iterable[ConversionResult], output_dir: Path):\n",
    "    \n",
    "    output_dir.mkdir(parents=True, exist_ok=True)\n",
    "\n",
    "    success_count = 0\n",
    "    failure_count = 0\n",
    "    partial_success_count = 0\n",
    "\n",
    "    for conv_res in conv_results:\n",
    "        if conv_res.status == ConversionStatus.SUCCESS:\n",
    "            success_count += 1\n",
    "            doc_filename = conv_res.input.file.stem\n",
    "\n",
    "            # Export Docling document format to markdown:\n",
    "            with (output_dir / f\"{doc_filename}.md\").open(\"w\", encoding=\"utf-8\") as fp:\n",
    "                fp.write(conv_res.document.export_to_markdown())\n",
    "\n",
    "            # Export Docling document format to text:\n",
    "            with (output_dir / f\"{doc_filename}.txt\").open(\"w\", encoding=\"utf-8\") as fp:\n",
    "                fp.write(conv_res.document.export_to_markdown(strict_text=True))\n",
    "\n",
    "        elif conv_res.status == ConversionStatus.PARTIAL_SUCCESS:\n",
    "            _log.info(\n",
    "                f\"Document {conv_res.input.file} was partially converted with the following errors:\"\n",
    "            )\n",
    "            for item in conv_res.errors:\n",
    "                _log.info(f\"\\t{item.error_message}\")\n",
    "            partial_success_count += 1\n",
    "        else:\n",
    "            _log.info(f\"Document {conv_res.input.file} failed to convert.\")\n",
    "            failure_count += 1\n",
    "\n",
    "    _log.info(\n",
    "        f\"Processed {success_count + partial_success_count + failure_count} docs, \"\n",
    "        f\"of which {failure_count} failed \"\n",
    "        f\"and {partial_success_count} were partially converted.\"\n",
    "    )\n",
    "    return success_count, partial_success_count, failure_count"
   ]
  },
  {
   "cell_type": "code",
   "execution_count": null,
   "metadata": {},
   "outputs": [],
   "source": [
    "def main():\n",
    "    logging.basicConfig(level=logging.INFO)\n",
    "\n",
    "    # https://realpython.com/get-all-files-in-directory-python/\n",
    "    DIRECTORY = Path('./data/pdf')\n",
    "    input_doc_paths = list(DIRECTORY.glob(\"*.pdf\"))\n",
    "\n",
    "    # input_doc_paths = [\n",
    "    #     Path(\"./data/source/UU_NO_11_2008.PDF\"),\n",
    "    #     Path(\"./data/source/UU_NO_19_2016.pdf\"),\n",
    "    #     Path(\"./data/source/UU_NO_1_2024.pdf\")\n",
    "    #     Path(\"./data/source/PP_NO_71_2019.pdf\")\n",
    "    # ]\n",
    "\n",
    "    # Turn on inline debug visualizations:\n",
    "    settings.debug.visualize_layout = False\n",
    "    settings.debug.visualize_ocr = False\n",
    "    settings.debug.visualize_tables = False\n",
    "    settings.debug.visualize_cells = False\n",
    "\n",
    "    # Converter Settings\n",
    "    pipeline_options = PdfPipelineOptions()\n",
    "    pipeline_options.do_ocr = False\n",
    "    pipeline_options.do_table_structure = False\n",
    "    \n",
    "    doc_converter = DocumentConverter(\n",
    "        format_options={\n",
    "            InputFormat.PDF: PdfFormatOption(pipeline_options=pipeline_options)\n",
    "        }\n",
    "    )\n",
    "\n",
    "    start_time = time.time()\n",
    "\n",
    "    conv_results = doc_converter.convert_all(\n",
    "        input_doc_paths,\n",
    "        raises_on_error=False,  # to let conversion run through all and examine results at the end\n",
    "    )\n",
    "    success_count, partial_success_count, failure_count = export_documents(\n",
    "        conv_results, output_dir=Path(\"./data/markdown/raw/bpk\")\n",
    "    )\n",
    "\n",
    "    end_time = time.time() - start_time\n",
    "\n",
    "    _log.info(f\"Document conversion complete in {end_time:.2f} seconds.\")\n",
    "\n",
    "    if failure_count > 0:\n",
    "        raise RuntimeError(\n",
    "            f\"The example failed converting {failure_count} on {len(input_doc_paths)}.\"\n",
    "        )"
   ]
  },
  {
   "cell_type": "code",
   "execution_count": null,
   "metadata": {},
   "outputs": [],
   "source": [
    "if __name__ == \"__main__\":\n",
    "    main()"
   ]
  }
 ],
 "metadata": {
  "kernelspec": {
   "display_name": ".venv",
   "language": "python",
   "name": "python3"
  },
  "language_info": {
   "codemirror_mode": {
    "name": "ipython",
    "version": 3
   },
   "file_extension": ".py",
   "mimetype": "text/x-python",
   "name": "python",
   "nbconvert_exporter": "python",
   "pygments_lexer": "ipython3",
   "version": "3.11.4"
  }
 },
 "nbformat": 4,
 "nbformat_minor": 2
}
